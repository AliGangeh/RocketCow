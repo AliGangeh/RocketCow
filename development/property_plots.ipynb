{
 "cells": [
  {
   "cell_type": "code",
   "execution_count": 2,
   "id": "ae7a41fb",
   "metadata": {},
   "outputs": [],
   "source": [
    "import cantera as ct\n",
    "import numpy as np\n",
    "import plotly.express as px\n",
    "import pandas as pd\n",
    "from collections import defaultdict\n"
   ]
  },
  {
   "cell_type": "code",
   "execution_count": 34,
   "id": "5776c9a0",
   "metadata": {},
   "outputs": [
    {
     "data": {
      "text/plain": [
       "{100000.00000000001,\n",
       " 100000.00000000003,\n",
       " 200000.00000000003,\n",
       " 200000.00000000006,\n",
       " 200000.0000000001,\n",
       " 299999.99999999994,\n",
       " 300000.00000000006,\n",
       " 300000.0000000001}"
      ]
     },
     "execution_count": 34,
     "metadata": {},
     "output_type": "execute_result"
    }
   ],
   "source": [
    "# chem plot generation\n",
    "def data_collect(name, params, val_arr_1, val_arr_2):\n",
    "    '''\n",
    "    Parameters\n",
    "    --------------------------------------------------\n",
    "    name : string \n",
    "    params : string\n",
    "        choose from the following 'TP','TV','HP','SP','SV', and 'UV'\n",
    "    val_arr_1 : list\n",
    "        list of values for first property in params\n",
    "    val_arr_2 : list\n",
    "        list of values for second property in params\n",
    "    \n",
    "    Returns\n",
    "    --------------------------------------------------\n",
    "    properties : Dataframe\n",
    "        data frame of properties formated like so\n",
    "        T\n",
    "    '''\n",
    "    reactants_all   = {S.name: S for S in ct.Species.list_from_file('../chem_prop/reactants.yaml')}\n",
    "    gaseous_all     = {S.name: S for S in ct.Species.list_from_file('../chem_prop/gaseous_products.yaml')}\n",
    "    condensed_all   = {S.name: S for S in ct.Species.list_from_file('../chem_prop/condensed_products.yaml')}\n",
    "\n",
    "    if name in reactants_all:\n",
    "        sol = ct.Solution(thermo='ideal-gas', species=[reactants_all[name]])\n",
    "    elif name in gaseous_all:\n",
    "        sol = ct.Solution(thermo='ideal-gas', species=[gaseous_all[name]])\n",
    "    elif name in condensed_all:\n",
    "        sol = ct.Solution(thermo='ideal-gas', species=[condensed_all[name]])\n",
    "    else: \n",
    "        raise ValueError(f\"{name} does not exist in the thermal database.\")  \n",
    "\n",
    "    properties_dict = {k:[] for k in ['T (K)', 'P (Pa)', 'v (m^3/kg)', 'rho (kg/m^3)', 'h (J/kg)', 'u (J/kg)', 'g (J/kg)', \n",
    "                                        's (J/(kg*K))', 'Cp (J/(kg*K))', 'Cv (J/(kg*K))', 'speed of sound (m/s)', 'viscosity (Pa/s)', \n",
    "                                        'Thermal Conductivity (W/(m*K))']}\n",
    "    for i in val_arr_1:\n",
    "        for j in val_arr_2:\n",
    "            setattr(sol, params, (i, j))\n",
    "            sol.equilibrate(params)\n",
    "            properties_dict['T (K)'].append(sol.T)\n",
    "            properties_dict['P (Pa)'].append(sol.P)\n",
    "            properties_dict['v (m^3/kg)'].append(1/sol.density)\n",
    "            properties_dict['rho (kg/m^3)'].append(sol.density)\n",
    "            properties_dict['h (J/kg)'].append(sol.enthalpy_mass)\n",
    "            properties_dict['u (J/kg)'].append(sol.int_energy_mass)\n",
    "            properties_dict['g (J/kg)'].append(sol.gibbs_mass)\n",
    "            properties_dict['s (J/(kg*K))'].append(sol.entropy_mass)\n",
    "            properties_dict['Cp (J/(kg*K))'].append(sol.cp_mass)\n",
    "            properties_dict['Cv (J/(kg*K))'].append(sol.cv_mass)\n",
    "            properties_dict['speed of sound (m/s)'].append(sol.sound_speed)\n",
    "            if sol.transport_model != 'none':\n",
    "                properties_dict['viscosity (Pa/s)'].append(sol.viscosity)\n",
    "                properties_dict['Thermal Conductivity (W/(m*K))'].append(sol.thermal_conductivity)\n",
    "            else:\n",
    "                properties_dict['viscosity (Pa/s)'].append(np.nan)\n",
    "                properties_dict['Thermal Conductivity (W/(m*K))'].append(np.nan)\n",
    "\n",
    "    properties = pd.DataFrame(properties_dict)\n",
    "    return properties\n",
    "\n",
    "\n",
    "properties = data_collect('Air(g)', 'TP', [300, 400 , 500],  [1e5, 2e5, 3e5])\n",
    "# properties.pivot(index= 'T (K)', columns='P (Pa)', values='rho (kg/m^3)')\n",
    "set(properties['P (Pa)'])"
   ]
  },
  {
   "cell_type": "code",
   "execution_count": null,
   "id": "2bd48a8d",
   "metadata": {},
   "outputs": [],
   "source": [
    "# gaseous_all_list    = [S for S in ct.Species.list_from_file('chem_prop/gaseous_products.yaml')]\n",
    "# condensed_all_list   = {S for S in ct.Species.list_from_file('chem_prop/condensed_products.yaml')}\n",
    "\n",
    "# for filename, species_list in [['condensed_element_map', condensed_all_list], ['gaseous_element_map', gaseous_all_list]]:\n",
    "#     element_species_map = defaultdict(list)\n",
    "#     for species in species_list:\n",
    "#         composition = species.composition\n",
    "#         for element in composition:\n",
    "#             element_species_map[element].append(species.name)\n",
    "#     filepath = 'chem_prop/' + filename + '.yaml'\n",
    "#     with open(filepath, 'w') as file:\n",
    "#         yaml.dump(element_species_map, file, default_flow_style=False)\n",
    "\n"
   ]
  },
  {
   "cell_type": "code",
   "execution_count": null,
   "id": "58959bff",
   "metadata": {},
   "outputs": [],
   "source": [
    "# gaseous_all_list    = [S for S in ct.Species.list_from_file('chem_prop/gaseous_products.yaml')]\n",
    "# condensed_all_list   = {S for S in ct.Species.list_from_file('chem_prop/condensed_products.yaml')}\n",
    "\n",
    "# for filename, species_list in [['condensed_element_map', condensed_all_list], ['gaseous_element_map', gaseous_all_list]]:\n",
    "#     element_species_map = defaultdict(list)\n",
    "#     for species in species_list:\n",
    "#         composition = species.composition\n",
    "#         for element in composition:\n",
    "#             element_species_map[element].append(species.name)\n",
    "#     filepath = 'chem_prop/' + filename + '.yaml'\n",
    "#     with open(filepath, 'w') as file:\n",
    "#         yaml.dump(element_species_map, file, default_flow_style=False)\n",
    "\n"
   ]
  },
  {
   "cell_type": "code",
   "execution_count": 24,
   "id": "6cab3408",
   "metadata": {},
   "outputs": [
    {
     "data": {
      "text/plain": [
       "defaultdict(list, {'hello': []})"
      ]
     },
     "execution_count": 24,
     "metadata": {},
     "output_type": "execute_result"
    }
   ],
   "source": [
    "hi = defaultdict(list)\n",
    "lol = {'hello': [1,2,3], 'bye': [1,2,5]}\n",
    "hi['hello']\n",
    "hi"
   ]
  }
 ],
 "metadata": {
  "kernelspec": {
   "display_name": ".venv",
   "language": "python",
   "name": "python3"
  },
  "language_info": {
   "codemirror_mode": {
    "name": "ipython",
    "version": 3
   },
   "file_extension": ".py",
   "mimetype": "text/x-python",
   "name": "python",
   "nbconvert_exporter": "python",
   "pygments_lexer": "ipython3",
   "version": "3.9.0"
  }
 },
 "nbformat": 4,
 "nbformat_minor": 5
}
