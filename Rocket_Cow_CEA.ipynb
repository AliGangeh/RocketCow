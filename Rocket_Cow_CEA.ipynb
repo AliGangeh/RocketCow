{
 "cells": [
  {
   "cell_type": "markdown",
   "metadata": {},
   "source": [
    "# Introduction\n",
    "## Purpose\n",
    "The purpose of this code is as follows:\n",
    "- Find equilibrium canditions via cantera\n",
    "- Calculate Specific heat (without condensed species)\n",
    "- Calculate thermo derivatives (for above calculations)\n",
    "\n",
    "## Next Steps\n",
    "- Calculate CEA rocket output properties: Isp, C*, etc.\n",
    "- Calculate thermal conductivity, viscocity\n",
    "- Calculate Bartz heat transfer coefficient\n",
    "\n",
    "## Relevant Expressions & Variables\n",
    "### Matrices\n",
    "$a_{ij}$ is the stoichiometric coefficients matrix. Defined as the number of kilogram-moles of element $i$ per kilogram-mole species $j$ \n",
    "\n",
    "### Thermodynamic Properties\n",
    "#### Specific Heat\n",
    "Specific heat can be said to have a frozen and Equilibrium component. If $C_p = dH/dT$ where $H = nh$ where $n$ is moles and $h$ is molar enthalpy. Often $n$ is unchanging but if we have a reacting mixture then we get: $C_p = n\\frac{dh}{dT} + \\frac{dn}{dT}h$ \n",
    "This the first term is said to be the frozen specific heat as the $n$ is constant, while the second term is the reacting specific heat. As shown bellow\n",
    "$$\\begin{align}\n",
    "c_{p,e}=c_{p,f} + c_{p,r}= \\sum_{j=1}^{NS}n_jC_{p,j}^o+\\sum_{j=1}^{NG} n_j\\frac{H_j^o}{T}\\left(\\frac{\\partial\\ln n_j}{\\partial \\ln T}\\right)_P+\\sum_{j=NG+1}^{NS} \\frac{H_j^o}{T}\\left(\\frac{\\partial n_j}{\\partial \\ln T}\\right)_P\n",
    "\\end{align}$$\n",
    "\n",
    "$$\\begin{align}\n",
    "c_v \\equiv c_p + \\frac{\\frac{PV}{T}\\left(\\frac{\\partial \\ln V}{\\partial \\ln T}\\right)_p^2}{\\left(\\frac{\\partial \\ln V}{\\partial \\ln P}\\right)_T}\\tag{2.70}\n",
    "\\end{align}$$\n",
    "\n",
    "#### Specific heat ratio\n",
    "$$\\begin{align}\n",
    "\\gamma \\equiv \\frac{c_p}{c_v}\\tag{2.72}\n",
    "\\end{align}$$\n",
    "\n",
    "$$\\begin{align}\n",
    "\\gamma_s = \\frac{\\gamma}{\\left(\\frac{\\partial \\ln V}{\\partial \\ln P}\\right)_T}\\tag{2.73}\n",
    "\\end{align}$$\n",
    "\n",
    "$$\\begin{align}\n",
    "a= \\sqrt{nRT\\gamma_s} \\tag{2.74}\n",
    "\\end{align}$$\n",
    "\n",
    "### Thermodyanamic Derivatives\n",
    "#### Derivatives with Respect to Temperature\n",
    "$$\\begin{align}\n",
    "\\sum_{i=1}^\\ell \\sum_{j=1}^{NG} a_{kj} a_{ij} n_j \\left( \\frac{\\partial \\pi_i}{\\partial \\ln T} \\right)_P \n",
    "&+ \\sum_{j=NG+1}^{NS} a_{ij} \\left( \\frac{\\partial n_j}{\\partial \\ln T} \\right)_P \\notag\n",
    "\\\\ &+ \\sum_{j=1}^{NG} a_{kj} n_j \\left( \\frac{\\partial \\ln n}{\\partial \\ln T} \\right)_P \n",
    "= -\\sum_{j=1}^{NG} a_{kj} n_j \\frac{H_j^o}{RT} \\qquad k = 1, \\ldots, \\ell\n",
    "\\end{align}$$\n",
    "\n",
    "$$\\begin{align}\n",
    "\\sum_{i=1}^\\ell a_{ij} \\left( \\frac{\\partial \\pi_i}{\\partial \\ln T} \\right)_P =-\\frac{H_j^o}{RT}\\qquad j=NG+1,\\ldots,NS\\tag{2}\n",
    "\\end{align}$$\n",
    "\n",
    "$$\\begin{align}\n",
    "\\sum_{i=1}^\\ell \\sum_{j=1}^{NG} a_{ij} n_j \\left( \\frac{\\partial \\pi_i}{\\partial \\ln T} \\right)_P\n",
    "=-\\sum_{j=1}^{NG}\\frac{n_jH_j^o}{RT}\\tag{3}\n",
    "\\end{align}$$\n",
    "\n",
    "#### Derivatives with Respect to Pressure\n",
    "$$\\begin{align}\n",
    "\\sum_{i=1}^\\ell \\sum_{j=1}^{NG} a_{kj} a_{ij} n_j \\left( \\frac{\\partial \\pi_i}{\\partial \\ln P} \\right)_T\n",
    "&+ \\sum_{j=NG+1}^{NS} a_{ij} \\left( \\frac{\\partial n_j}{\\partial \\ln P} \\right)_T \\notag\n",
    "\\\\ &+ \\sum_{j=1}^{NG} a_{kj} n_j \\left( \\frac{\\partial \\ln n}{\\partial \\ln P} \\right)_T\n",
    "= -\\sum_{j=1}^{NG} a_{kj} n_j  \\quad k = 1, \\ldots, \\ell\\tag{4}\n",
    "\\end{align}$$\n",
    "\n",
    "$$\\begin{align}\n",
    "\\sum_{i=1}^\\ell a_{ij} \\left( \\frac{\\partial  \\pi_i}{\\partial \\ln P} \\right)_T \n",
    "=0\\qquad j=NG+1,\\ldots,NS\\tag{5}\n",
    "\\end{align}$$\n",
    "\n",
    "$$\\begin{align}\n",
    "\\sum_{i=1}^\\ell \\sum_{j=1}^{NG} a_{ij} n_j \\left( \\frac{\\partial \\pi_i}{\\partial \\ln T} \\right)_P\n",
    "=\\sum_{j=1}^{NG}n_j\\tag{6}\n",
    "\\end{align}$$\n",
    "\n",
    "#### Derivatives of volume\n",
    "$$\\begin{align}\n",
    "\\left( \\frac{\\partial  V}{\\partial \\ln T} \\right)_P = 1 + \\left( \\frac{\\partial  \\ln n}{\\partial \\ln T} \\right)_P\\tag{2.50}\n",
    "\\end{align}$$\n",
    "\n",
    "$$\\begin{align}\n",
    "\\left( \\frac{\\partial  V}{\\partial \\ln P} \\right)_T = -1 + \\left( \\frac{\\partial  \\ln n}{\\partial \\ln P} \\right)_T\\tag{2.51}\n",
    "\\end{align}$$\n",
    "\n",
    "### Engine conditions\n",
    "Initial estimate at throat pressure is given as\n",
    "$$\\begin{align}\n",
    "\\frac{P_{inf}}{P_t}=\\left(\\frac{\\gamma_s+1}{2}\\right)^{\\gamma_s/(\\gamma_s-1)}\\tag{6.15}\n",
    "\\end{align}$$\n",
    "\n",
    "### Characteristic velocity\n",
    "from Sutton\n",
    "$$\\begin{align}\n",
    "c^*=\\frac{\\sqrt{\\gamma \\frac{\\bar R}{M}T}}{\\gamma \\sqrt{\\left(\\frac2{K+1}\\right)^{\\frac{\\gamma+1}{\\gamma-1}}}}\\tag{3-32}\n",
    "\\end{align}$$\n",
    "From which we can derive \n",
    "$$\\begin{align}\n",
    "c^*=\\sqrt{\\frac{RT}{\\gamma M}}\\left(\\frac{2}{\\gamma+1}\\right)^{-\\frac{\\gamma+1}{2(\\gamma-1)}}\n",
    "\\end{align}$$\n",
    "\n",
    "### lagrangian multiplier \n",
    "$$\\pi_i=-\\gamma_i/RT$$ \n",
    "where $\\gamma_i$ are the lagrangian multipliers such that that $\\mu_j+\\sum_{i=1}^\\ell \\lambda_ia_{ij}=0$\n",
    "\n",
    "### Isentropic flow equation\n",
    "$$\\begin{align}\n",
    "P_t = \\frac{P_0}{\\frac{\\gamma+1}{2}^{\\frac{\\gamma}{\\gamma-1}}} \\tag{6.15}\n",
    "\\end{align}$$\n",
    "\n",
    "https://www.grc.nasa.gov/www/k-12/airplane/isentrop.html\n",
    "\n",
    "### sub/supersonic nozzle conditions\n",
    "$$\\begin{align}\n",
    "\\ln \\frac{P_c}{P_e}=\\frac{\\ln\\left(\\frac{P_c}{P_t}\\right)}{\\frac{A_e}{A_t}+10.587\\left(\\ln\\frac{A_e}{A_t}\\right)^3+9.454\\ln\\frac{A_e}{A_t}}\\qquad 1.0001 < \\frac{A_e}{A_t} < 1.09\\tag{6.20}\n",
    "\\end{align}$$"
   ]
  },
  {
   "cell_type": "code",
   "execution_count": null,
   "metadata": {},
   "outputs": [],
   "source": [
    "import cantera as ct\n",
    "import numpy as np\n",
    "import scipy as sp\n",
    "import pandas as pd\n",
    "from pint import UnitRegistry\n",
    "import plotly.express as px\n",
    "import pypropep as ppp\n",
    "import yaml\n",
    "# from yaml.representer import SafeRepresenter\n",
    "\n",
    "ureg = UnitRegistry()\n",
    "Q = ureg.Quantity"
   ]
  },
  {
   "cell_type": "code",
   "execution_count": 37,
   "metadata": {},
   "outputs": [
    {
     "name": "stdout",
     "output_type": "stream",
     "text": [
      "{}\n",
      "{'C': <Species C>, 'O2': <Species O2>}\n",
      "\n",
      "       temperature   0.001 K\n",
      "          pressure   0.00069224 Pa\n",
      "           density   0.001 kg/m^3\n",
      "  mean mol. weight   12.011 kg/kmol\n",
      "   phase of matter   gas\n",
      "\n",
      "                          1 kg             1 kmol     \n",
      "                     ---------------   ---------------\n",
      "          enthalpy       -3.9045e+08       -4.6897e+09  J\n",
      "   internal energy       -3.9045e+08       -4.6897e+09  J\n",
      "           entropy        -2.248e+11       -2.7001e+12  J/K\n",
      "    Gibbs function       -1.6564e+08       -1.9896e+09  J\n",
      " heat capacity c_p        4.4961e+11        5.4003e+12  J/K\n",
      " heat capacity c_v        4.4961e+11        5.4003e+12  J/K\n",
      "\n",
      "                      mass frac. Y      mole frac. X     chem. pot. / RT\n",
      "                     ---------------   ---------------   ---------------\n",
      "                 C                 1                 1       -2.3929e+08\n",
      "     [   +1 minor]                 0                 0  \n",
      "\n"
     ]
    }
   ],
   "source": [
    "propellant_array = [['oxidizer', 'Air(g)', None], ['fuel', 'RP-1(L)', 300]]\n",
    "combustion_products = ['MgO', 'O2', 'C']\n",
    "\n",
    "reactants_all   = {S.name: S for S in ct.Species.list_from_file('chem_prop/reactants.yaml')}\n",
    "gaseous_all     = {S.name: S for S in ct.Species.list_from_file('chem_prop/gaseous_products.yaml')}\n",
    "condensed_all   = {S.name: S for S in ct.Species.list_from_file('chem_prop/condensed_products.yaml')}\n",
    "selfpropellant = {}\n",
    "propellant_elements = []\n",
    "\n",
    "\n",
    "# initialize propellants\n",
    "for type, name, temp in propellant_array:\n",
    "    if name in reactants_all:\n",
    "        if temp is None:\n",
    "            if reactants_all[name].thermo.input_data['model'] == 'constant-cp':\n",
    "                temp = reactants_all[name].thermo.input_data['T0']\n",
    "            else:\n",
    "                temp= 298.15\n",
    "        selfpropellant[type] = ct.Solution(thermo='ideal-gas', species=[reactants_all[name]])\n",
    "    \n",
    "    elif name in gaseous_all:\n",
    "        if temp is None:\n",
    "            temp = 298.15\n",
    "        selfpropellant[type] = ct.Solution(thermo='ideal-gas', species=[condensed_all[name]])\n",
    "    \n",
    "    elif name in condensed_all:\n",
    "        if temp is None:\n",
    "            temp = 298.15\n",
    "        selfpropellant[type] = ct.Solution(thermo='ideal-gas', species=[condensed_all[name]])\n",
    "\n",
    "    else:\n",
    "        raise ValueError(f\"{name} does not exist in the thermal database.\")    \n",
    "    \n",
    "    propellant_elements.extend(selfpropellant[type].element_names)\n",
    "\n",
    "# ensures propellant elements are unique\n",
    "propellant_elements = list(set(propellant_elements))\n",
    "\n",
    "if combustion_products == None: \n",
    "    condensed_species = {k: v for k, v in condensed_all.items() if set(v.composition.keys()).issubset(propellant_elements)}\n",
    "    gaseous_species = {k: v for k, v in gaseous_all.items() if set(v.composition.keys()).issubset(propellant_elements)}\n",
    "else: \n",
    "    # checks if designated combustion products exist in the thermal database. if it does then filters the data\n",
    "    if set(combustion_products).issubset(set(condensed_all.keys()) | set(gaseous_all.keys())):\n",
    "        condensed_species = {k: v for k, v in condensed_all.items() if k in combustion_products and set(v.composition.keys()).issubset(propellant_elements)}\n",
    "        gaseous_species = {k: v for k, v in gaseous_all.items() if k in combustion_products and set(v.composition.keys()).issubset(propellant_elements)}\n",
    "    else:\n",
    "        invalid_species = set(combustion_products) - (set(condensed_all.keys()) | set(gaseous_all.keys()))\n",
    "        raise ValueError(f\"the following species {invalid_species} do not exist in the thermal database.\")   \n",
    "\n",
    "if condensed_species:\n",
    "    condensate = ct.Solution(thermo='ideal-gas', species=list(condensed_species.keys()))\n",
    "else: \n",
    "    condensate = None\n",
    "if gaseous_species\n",
    "    gas =  ct.Solution(thermo='ideal-gas', species=list(gaseous_species.values()))\n",
    "else: \n",
    "    raise ValueError(\"No valid gas phase combustion products of given propellants. Consider changing propllants or inputted combustion products\")\n",
    "\n",
    "\n",
    "# condensate = ct.Solution(thermo='ideal-gas', species=list(condensed_species.keys()))\n",
    "print(condensed_species)\n",
    "print(gaseous_species)\n",
    "gas()"
   ]
  },
  {
   "cell_type": "code",
   "execution_count": 69,
   "metadata": {},
   "outputs": [],
   "source": [
    "class EngineState:\n",
    "    '''\n",
    "    This class will define the properties of an rocket engine at the chamber, throat and exit \n",
    "    given the propellant, and conditions that engine is in.\n",
    "\n",
    "    Parameters\n",
    "    --------------------------------------------------\n",
    "    oxidizer : string\n",
    "        A string of a species name which is used to define a cantera solution representing the oxidizer.\n",
    "        Define based off the list of phase names from the propellants.yaml file TODO: kill propellants.yaml and create a list users can choose from \n",
    "    fuel : string\n",
    "        Similar to oxidizer, this is a string of a species name which is used to define a cantera solution representing the fuel.\n",
    "        Define based off the list of phase names from the propellants.yaml file TODO: kill propellants.yaml and create a list users can choose from \n",
    "    of_ratio : float\n",
    "        the mass ratio of oxidizer to fuel defined as mass_oxidizer / mass_fuel.\n",
    "    pressure : float\n",
    "        The pressure of the combustion chamber in units of Pascals (Pa).\n",
    "    exit_value : float\n",
    "        The exit conditions of the engine. Depending on what 'exit parameter' is\n",
    "        defined to be the exit condition can be defined in the following ways:\n",
    "            'pressure' (default): Exit pressure of the gases in Pa should be greater than 0 but lower than chamber pressure\n",
    "            'area ratio': Defined as area_exit / area_throat should be value greater than 1 TODO: add functionality\n",
    "    exit_parameter : string\n",
    "        A string which determines how you are defining the exit condition of your engine. Can either be set to 'pressure' (default)\n",
    "        or 'area ratio'. \n",
    "    temp_oxidizer : float\n",
    "        A positive float value defining the temperature of the oxidizer in Kelvin (K). If the oxidizer is liquid the temperature \n",
    "        is assumed to be saturated temperatures at standard pressure, and gaseous oxidizer will be set to a room tempearture of 295.15K. TODO: add functionality\n",
    "    temp_fuel : float\n",
    "        Similar to above. positive float value defining the temperature of the fuel in Kelvin (K). If the fuel is liquid the temperature \n",
    "        is assumed to be saturated temperatures at standard pressure, and gaseous oxidizer will be set to a room tempearture of 295.15K. TODO: add functionality\n",
    "\n",
    "    TODO board: \n",
    "    --------------------------------------------------\n",
    "        TODO: apply efficiency.\n",
    "        TODO: apply flow seperation\n",
    "        TODO: improve chemical database\n",
    "        TODO: allow fluid temp setting\n",
    "        TODO: condensed species capabilities\n",
    "        TODO: Improve convergence *especially for locations along the length of the chamber*\n",
    "        TODO: Ambient pressure\n",
    "        TODO: Ambient pressure Array\n",
    "        TODO: add Pint https://pint.readthedocs.io/en/stable/advanced/wrapping.html#wrapping\n",
    "        TODO: add FAC capabilities\n",
    "        TODO: add frozen\n",
    "\n",
    "    Attributes:\n",
    "    --------------------------------------------------\n",
    "    Properties : Pandas Dataframe\n",
    "    \n",
    "    Methods\n",
    "    --------------------------------------------------\n",
    "\n",
    "    A class for the state of a rocket engine. Given the propellants and conditions of a rocket engine this \n",
    "    class will define the properties of an engine at\n",
    "    '''\n",
    "\n",
    "    def __init__(self, oxidizer, fuel, of_ratio, pressure, exit_value, size_value=None, size_parameter =\"thrust\", temp_oxidizer=None, temp_fuel=None, combustion_products=None, exit_parameter=\"pressure\"):\n",
    "        '''\n",
    "        Initializes instance of class. See class description for details. \n",
    "        '''\n",
    "        #TODO: Update File handling, to support more propellants, enable user defining products, if undefined searching for propellants ourself                \n",
    "\n",
    "        # initializes propellants\n",
    "        self.of_ratio = of_ratio\n",
    "        \n",
    "        self.oxidizer, self.fuel, self.gas, self.condensdate = self.__chemistry_initializer(oxidizer, fuel, temp_oxidizer=temp_oxidizer,\n",
    "                                                                            temp_fuel=temp_fuel, combustion_products=combustion_products)\n",
    "\n",
    "        self.__chamber_properties(self.gas, self.condensdate)\n",
    "        self.__throat_properties(self.gas, self.condensdate)\n",
    "        self.__exit_properties(self.gas, self.condensdate, exit_value, exit_parameter=exit_parameter)\n",
    "\n",
    "        if  size_value != None:\n",
    "            self.size_engine(size_value, size_parameter=size_parameter)\n",
    "\n",
    "        # self.engine_state_dict = {'chamber' : self.chamber, 'throat' : self.throat, 'exit' : self.exit }\n",
    "        self.engine_state = pd.DataFrame([self.chamber, self.throat, self.exit], index=[\"chamber\", \"throat\", \"exit\"])\n",
    "\n",
    "    def __call__(self):\n",
    "        return self.engine_state\n",
    "    \n",
    "    def __str__(self):\n",
    "        return self.engine_state.to_string()\n",
    "\n",
    "    def __chemistry_initializer(self, oxidizer, fuel, temp_oxidizer=None, temp_fuel=None, combustion_products=None):\n",
    "        '''\n",
    "        This is an internal method not meant for use outside the class.\n",
    "        given the propellant names, OF ratio, pressure, and optionally the temperature this method handles finding said propellant and\n",
    "        creating cantera solution objects.\n",
    "        Subsequently this method defines 2 cantera solutions for the products. One for gaseous the other for condensed species\n",
    "        \n",
    "        Parameters\n",
    "        --------------------------------------------------\n",
    "        propellant_array : list of lists\n",
    "            propellant_array is defined as [['oxidizer', oxidizer_name, temp_oxidizer],['fuel', fuel_name, temp_fuel]]\n",
    "        '''\n",
    "\n",
    "        propellant_array = [['oxidizer', oxidizer, temp_oxidizer],['fuel', fuel, temp_fuel]]\n",
    "        reactants_all   = {S.name: S for S in ct.Species.list_from_file('chem_prop/reactants.yaml')}\n",
    "        gaseous_all     = {S.name: S for S in ct.Species.list_from_file('chem_prop/gaseous_products.yaml')}\n",
    "        condensed_all   = {S.name: S for S in ct.Species.list_from_file('chem_prop/condensed_products.yaml')}\n",
    "        propellant = {}\n",
    "        propellant_elements = []\n",
    "\n",
    "\n",
    "        # initialize propellants\n",
    "        for type, name, temp in propellant_array:\n",
    "            if name in reactants_all:\n",
    "                if temp is None:\n",
    "                    if reactants_all[name].thermo.input_data['model'] == 'constant-cp':\n",
    "                        temp = reactants_all[name].thermo.input_data['T0']\n",
    "                    else:\n",
    "                        temp= 298.15\n",
    "                propellant[type] = ct.Solution(thermo='ideal-gas', species=[reactants_all[name]])\n",
    "            \n",
    "            elif name in gaseous_all:\n",
    "                if temp is None:\n",
    "                    temp = 298.15\n",
    "                propellant[type] = ct.Solution(thermo='ideal-gas', species=[condensed_all[name]])\n",
    "            \n",
    "            elif name in condensed_all:\n",
    "                if temp is None:\n",
    "                    temp = 298.15\n",
    "                propellant[type] = ct.Solution(thermo='ideal-gas', species=[condensed_all[name]])\n",
    "\n",
    "            else:\n",
    "                raise ValueError(f\"{name} does not exist in the thermal database.\")    \n",
    "            \n",
    "            propellant_elements.extend(propellant[type].element_names)\n",
    "\n",
    "        # ensures propellant elements are unique\n",
    "        propellant_elements = list(set(propellant_elements))\n",
    "\n",
    "        if combustion_products == None: \n",
    "            condensed_species = {k: v for k, v in condensed_all.items() if set(v.composition.keys()).issubset(propellant_elements)}\n",
    "            gaseous_species = {k: v for k, v in gaseous_all.items() if set(v.composition.keys()).issubset(propellant_elements)}\n",
    "        else: \n",
    "            # checks if designated combustion products exist in the thermal database. if it does then filters the data\n",
    "            if set(combustion_products).issubset(set(condensed_all.keys()) | set(gaseous_all.keys())):\n",
    "                condensed_species = {k: v for k, v in condensed_all.items() if k in combustion_products and set(v.composition.keys()).issubset(propellant_elements)}\n",
    "                gaseous_species = {k: v for k, v in gaseous_all.items() if k in combustion_products and set(v.composition.keys()).issubset(propellant_elements)}\n",
    "            else:\n",
    "                invalid_species = set(combustion_products) - (set(condensed_all.keys()) | set(gaseous_all.keys()))\n",
    "                raise ValueError(f\"the following species {invalid_species} do not exist in the thermal database.\")   \n",
    "        \n",
    "        if condensed_species:\n",
    "            condensate = ct.Solution(thermo='ideal-gas', species=list(condensed_species.values()))\n",
    "        else: \n",
    "            condensate = None\n",
    "        if gaseous_species:\n",
    "            gas =  ct.Solution(thermo='ideal-gas', species=list(gaseous_species.values()))\n",
    "        else: \n",
    "            raise ValueError(\"No valid gas phase combustion products of given propellants. Consider changing propllants or inputted combustion products\")        \n",
    "        \n",
    "        return propellant['oxidizer'], propellant['fuel'], condensate, gas\n",
    "        \n",
    "    def __get_thermo_derivatives(self, gas, condensate):\n",
    "        '''\n",
    "        This is an internal method not meant for use outside the class.\n",
    "        given a mixture of gases & condensed species this method will find thermodynamic derivatives.\n",
    "        These derivatives can then be used to calculate thermodynamic properties, or create interpolation/extrapolation of engine properties \n",
    "\n",
    "        The theory used for these calculations can be found in section 2.5 and 2.6 of RP-1311.\n",
    "        The equations used are 2.50, 2.51, 2.56, 2.57, 2.58, 2.64, 2.65, 2.66 \n",
    "\n",
    "        TODO: add condensed species to implementation\n",
    "        TODO: explore interpolation of engine properties using derivatives\n",
    "        \n",
    "        Parameters\n",
    "        --------------------------------------------------\n",
    "        mixture : Cantera Mixture\n",
    "            A solution or mixture of primarily gases (ideal gas assumptions will hold up to several percent condensed species by mass)\n",
    "        \n",
    "        Returns\n",
    "        --------------------------------------------------\n",
    "        Derivatives : dictionary:\n",
    "            A dictionary consisting of the derivatives this function calculates. The keys and descritions of said dictionaries are as follows\n",
    "        \n",
    "            dpi_dlnT_P : list\n",
    "                A list of the derivative of pi with respect to ln(T) at constant pressure for each element, where pi is -lambda/RT, \n",
    "                and lambda is the langrangian multiplier\n",
    "            dlnn_dlnT_P : float\n",
    "                The derivative of ln(n) with respect to ln(T) at constant pressure. Where n is the number of moles of gas\n",
    "            dpi_dlnP_T : list\n",
    "                A list of the derivative of pi with respect to ln(P) at constant temperature for each element.\n",
    "            dlnn_dlnP_T : float\n",
    "                The derivative of ln(n) with respect to ln(P) at constant tempearture.\n",
    "            dlnV_dlnT_P : float\n",
    "                The derivative of ln(V) with respect to ln(T) at constant pressure.\n",
    "            dlnV_dlnP_T : float\n",
    "                The derivative of ln(V) with respect to ln(P) at constant tempearture.\n",
    "        '''\n",
    "        \n",
    "        # Initializes a_ij\n",
    "        a_ij = np.zeros((gas.n_elements, gas.n_species))\n",
    "        for i, element in enumerate(gas.element_names): \n",
    "            for j, species in enumerate(gas.species_names):\n",
    "                a_ij[i,j] = gas.n_atoms(species, element)\n",
    "\n",
    "        # Defines the number of moles of each species in the micture\n",
    "        moles = gas.X * (1/ gas.mean_molecular_weight)\n",
    "\n",
    "        # Initializing Solution Matrices table 2.3 and 2.4 in RP-1311\n",
    "        num_variables = 2 * gas.n_elements + 2\n",
    "        coeff_matrix = np.zeros((num_variables, num_variables))\n",
    "        right_hand_side = np.zeros(num_variables)\n",
    "\n",
    "        # Coefficients for equation 2.56 TODO: add terms for condensed species\n",
    "        for k in range(gas.n_elements):\n",
    "            for i in range(gas.n_elements):\n",
    "                coeff_matrix[k,i] = np.sum(a_ij[k,:] * a_ij[i,:] * moles)\n",
    "            coeff_matrix[k, gas.n_elements] = np.sum(a_ij[k,:] * moles)\n",
    "            right_hand_side[k] = -np.sum(a_ij[k,:] * moles * gas.standard_enthalpies_RT)\n",
    "\n",
    "        # TODO add equation 2.57 (it is for condensed species)\n",
    "\n",
    "        # Coefficients for equation 2.58 \n",
    "        for i in range(gas.n_elements):\n",
    "            coeff_matrix[gas.n_elements, i] = np.sum(a_ij[i, :] * moles)\n",
    "        right_hand_side[gas.n_elements] = -np.sum(moles * gas.standard_enthalpies_RT)\n",
    "\n",
    "        # Coefficients for equation 2.64 TODO: add terms for condensed species\n",
    "        for k in range(gas.n_elements):\n",
    "            for i in range(gas.n_elements):\n",
    "                coeff_matrix[gas.n_elements+1+k,gas.n_elements+1+i] = np.sum(a_ij[k,:] * a_ij[i,:] * moles)\n",
    "            coeff_matrix[gas.n_elements+1+k, 2*gas.n_elements+1] = np.sum(a_ij[k,:] * moles)\n",
    "        right_hand_side[gas.n_elements+1+k] = np.sum(a_ij[k,:] * moles)\n",
    "\n",
    "        # TODO add equation 2.65 (it is for condensed species)\n",
    "        \n",
    "\n",
    "        # Coefficeints for equation 2.66\n",
    "        for i in range(gas.n_elements):\n",
    "            coeff_matrix[2*gas.n_elements+1, gas.n_elements+1+i] = np.sum(a_ij[i, :] * moles)\n",
    "        right_hand_side[2*gas.n_elements+1] = np.sum(moles)\n",
    "\n",
    "        # Solve for the derivatives define them based off table 2.3, 2.4 and equation 2.50 and 2.51 \n",
    "        derivs = np.linalg.solve(coeff_matrix, right_hand_side)\n",
    "        derivatives = { \"dpi_dlnT_P\"    : derivs[0 : gas.n_elements], \n",
    "                        \"dlnn_dlnT_P\"   : derivs[gas.n_elements], \n",
    "                        \"dpi_dlnP_T\"    : derivs[gas.n_elements + 1: 2 * gas.n_elements + 1],\n",
    "                        \"dlnn_dlnP_T\"   : derivs[2 * gas.n_elements + 1], \n",
    "                        \"dlnV_dlnT_P\"   : 1 + derivs[gas.n_elements], \n",
    "                        \"dlnV_dlnP_T\"   : -1 + derivs[2 * gas.n_elements + 1]}\n",
    "\n",
    "        return derivatives\n",
    "\n",
    "    def __get_thermo_properties(self, gas, condensate, dpi_dlnT_P, dlnn_dlnT_P, dlnV_dlnT_P, dlnV_dlnP_T):\n",
    "        '''\n",
    "        This is an internal method not meant for use outside the class.\n",
    "        given a mixture of gases & condensed species, as well as certain thermdynamic derivatives of said mixture, this function will find \n",
    "        the thermodynamic properties of the mixture\n",
    "\n",
    "        The theory used for these calculations can be found in section 2.5 and 2.6 of RP-1311.\n",
    "\n",
    "        TODO: add condensed species to implementation\n",
    "        TODO: add capability to solve for thermal conductivity, viscocity, and prandtl number  \n",
    "\n",
    "        Parameters\n",
    "        --------------------------------------------------\n",
    "        mixture : Cantera Mixture\n",
    "            A solution or mixture of primarily gases (ideal gas assumptions will hold up to several percent condensed species by mass)\n",
    "        dpi_dlnT_P : list\n",
    "            A list of the derivative of pi with respect to ln(T) at constant pressure for each element, where pi is -lambda/RT, \n",
    "            and lambda is the langrangian multiplier\n",
    "        dlnn_dlnT_P : float\n",
    "            The derivative of ln(n) with respect to ln(T) at constant pressure. Where n is the number of moles of gas.\n",
    "        dlnV_dlnT_P : float\n",
    "            The derivative of ln(V) with respect to ln(T) at constant pressure.\n",
    "        dlnV_dlnP_T : float\n",
    "            The derivative of ln(V) with respect to ln(P) at constant tempearture.\n",
    "            \n",
    "        Returns\n",
    "        --------------------------------------------------\n",
    "        properties : dictionaries\n",
    "            A dictionary consisting of the properties this function calculates. The keys and descritions of said dictionaries are as follows\n",
    "\n",
    "            Pressure : float\n",
    "            Temperature : float\n",
    "            density : float\n",
    "            specific_volume : float\n",
    "            enthalpy : float\n",
    "            internal_energy : float\n",
    "            gibbs : float\n",
    "            entropy : float\n",
    "            molar_mass : float\n",
    "            c_p : float\n",
    "                the specific heat at constant pressure\n",
    "            c_v : float\n",
    "                the specific heat at constant volume\n",
    "            gamma : float\n",
    "                the specific heat ratio\n",
    "            gamma_s : float\n",
    "                defined as derivative ln(P) with respect to ln(rho) at constant entropy per equation 2.71 in RP-1311\n",
    "            speed_sound : float\n",
    "                the speed of sound in the mixture\n",
    "        '''\n",
    "\n",
    "        # Defines the number of moles of each species in the micture\n",
    "        moles = gas.X * (1/ gas.mean_molecular_weight)\n",
    "\n",
    "        # Initializes a_ij\n",
    "        a_ij = np.zeros((gas.n_elements, gas.n_species))\n",
    "        for i, element in enumerate(gas.element_names): \n",
    "            for j, species in enumerate(gas.species_names):\n",
    "                a_ij[i,j] = gas.n_atoms(species, element)\n",
    "\n",
    "        # Finds specific heat at constant pressure based on equation 2.59 TODO: add terms for condensed species\n",
    "        c_p =  ct.gas_constant * (\n",
    "            np.sum([dpi_dlnT_P[i] * np.sum(a_ij[i,:] * moles * gas.standard_enthalpies_RT) for i in range(gas.n_elements)]) +\n",
    "            np.sum(moles * gas.standard_enthalpies_RT) * dlnn_dlnT_P +\n",
    "            np.sum(moles * gas.standard_cp_R) +\n",
    "            np.sum(moles * gas.standard_enthalpies_RT**2)\n",
    "        )\n",
    "\n",
    "        # Finds specifc heat at constant volume, based on equation 2.70, specific heat ratio, The isentropic exponent based on equation 2.73, \n",
    "        # and speed of sound based on equation 2.74\n",
    "        c_v = c_p + gas.P * gas.v / gas.T * dlnV_dlnT_P**2 / dlnV_dlnP_T\n",
    "        gamma = c_p / c_v\n",
    "        gamma_s = -gamma/dlnV_dlnP_T\n",
    "        speed_sound = np.sqrt(ct.gas_constant * gas.T * gamma_s/gas.mean_molecular_weight)\n",
    "\n",
    "        properties = {  \"pressure\"          : gas.P,\n",
    "                        \"temperature\"       : gas.T,\n",
    "                        \"density\"           : gas.density_mass,\n",
    "                        \"specific volume\"   : gas.volume_mass,\n",
    "                        \"enthalpy\"          : gas.enthalpy_mass,\n",
    "                        \"internal energy\"   : gas.int_energy_mass,\n",
    "                        \"gibbs\"             : gas.gibbs_mass,\n",
    "                        \"entropy\"           : gas.entropy_mass,\n",
    "                        \"molar mass\"        : gas.mean_molecular_weight,\n",
    "                        \"c_p\"               : c_p,\n",
    "                        \"c_v\"               : c_v,\n",
    "                        \"gamma\"             : gamma,                                                                            \n",
    "                        \"gamma_s\"           : gamma_s,    \n",
    "                        \"speed sound\"       : speed_sound          \n",
    "                        }\n",
    "\n",
    "        return properties\n",
    "    \n",
    "    def __chamber_properties(self, gas, condensate):\n",
    "        '''\n",
    "        This is an internal method not meant for use outside the class.\n",
    "        given a mixture of gases & condensed species, as well as certain thermdynamic properties of said mixture, this function will find \n",
    "        properties of the engine\n",
    "\n",
    "        The theory used for these calculations can be found in section 2.5 and 2.6 of RP-1311.\n",
    "\n",
    "        Parameters\n",
    "        --------------------------------------------------\n",
    "        products : Cantera Mixture \n",
    "            A solution of primarily gases (ideal gas assumptions will hold up to several percent condensed species by mass)\n",
    "            \n",
    "        Returns\n",
    "        --------------------------------------------------\n",
    "        properties : dictionary\n",
    "        '''\n",
    "\n",
    "        # Equilibriates chamber returning a cantera mixture with the properties & composition at the chamber\n",
    "        molar_ratio = self.of_ratio / (self.oxidizer.mean_molecular_weight / self.fuel.mean_molecular_weight)\n",
    "        moles_ox = molar_ratio / (1 + molar_ratio)\n",
    "        moles_f = 1 - moles_ox\n",
    "        try: \n",
    "            chamber_mixture = ct.Mixture([(self.fuel, moles_f), (self.oxidizer, moles_ox), (gas, 0), (condensate, 0)])\n",
    "            chamber_mixture.equilibrate('HP')\n",
    "        except:\n",
    "            chamber_mixture = ct.Mixture([(self.fuel, moles_f), (self.oxidizer, moles_ox), (gas, 0)])\n",
    "            chamber_mixture.equilibrate('HP')\n",
    "        \n",
    "            \n",
    "\n",
    "        # Finds thermodynamic derivatives \n",
    "        derivatives = self.__get_thermo_derivatives(gas, condensate)\n",
    "\n",
    "        # Finds thermodynamic properties\n",
    "        therm_prop = self.__get_thermo_properties(gas, condensate, derivatives[\"dpi_dlnT_P\"], derivatives[\"dlnn_dlnT_P\"], derivatives[\"dlnV_dlnT_P\"], derivatives[\"dlnV_dlnP_T\"])\n",
    "\n",
    "        # Calculate c* per\n",
    "        char_velocity = (np.sqrt(ct.gas_constant * therm_prop[\"temperature\"] / (therm_prop[\"molar mass\"] * therm_prop[\"gamma\"])) * \n",
    "                            np.power(2 / (therm_prop[\"gamma\"] + 1), -(therm_prop[\"gamma\"] + 1) / (2*(therm_prop[\"gamma\"] - 1))))\n",
    "\n",
    "        # velocity and Mach are 0 in a FAC combustor, area ratio, Isp, Ivac, and Cf are not defined at chamber\n",
    "        chamber_prop = {\"velocity\"        : 0, \n",
    "                        \"mach\"            : 0, \n",
    "                        \"area ratio\"      : np.nan,\n",
    "                        \"I_sp\"            : np.nan,\n",
    "                        \"I_vac\"           : np.nan,\n",
    "                        \"c*\"              : char_velocity,\n",
    "                        \"C_f\"             : np.nan,\n",
    "                        \"mole fraction\"   : gas.mole_fraction_dict()}\n",
    "        \n",
    "        self.chamber = therm_prop | chamber_prop | derivatives\n",
    "\n",
    "    def __throat_properties(self, gas, condensate):\n",
    "        '''\n",
    "        Description\n",
    "        --------------------------------------------------\n",
    "        This is an internal method not meant for use outside the class.\n",
    "        given a solution of gases & condensed species, this function will find \n",
    "        properties of the engine\n",
    "\n",
    "        The theory used for these calculations can be found in section 2.5 and 2.6 of RP-1311.\n",
    "\n",
    "        Parameters\n",
    "        --------------------------------------------------\n",
    "        products : Cantera Solution \n",
    "            A solution of primarily gases (ideal gas assumptions will hold up to several percent condensed species by mass)\n",
    "            \n",
    "        Returns\n",
    "        --------------------------------------------------\n",
    "        None\n",
    "        '''\n",
    "\n",
    "        chamber = self.chamber\n",
    "        # initial guess at throat pressure using specific heat ratio gamma\n",
    "        pressure_throat = chamber[\"pressure\"] / np.power((chamber[\"gamma_s\"] + 1) / 2., chamber[\"gamma_s\"] / (chamber[\"gamma_s\"] - 1))\n",
    "\n",
    "        # Setting up for iteration\n",
    "        max_iter_throat = 10            # NOTE exceeds value of 4 from RP-1311\n",
    "        tolerance_throat = 4e-5\n",
    "        mach = 1.0\n",
    "        num_iter = 0\n",
    "        residual = 1\n",
    " \n",
    "        while (residual > tolerance_throat and num_iter < max_iter_throat ) :\n",
    "            num_iter += 1\n",
    "           \n",
    "            \n",
    "            gas.SP = chamber[\"entropy\"], pressure_throat\n",
    "            gas.equilibrate('SP')\n",
    "\n",
    "            throat_derivatives = self.__get_thermo_derivatives(gas, condensate)\n",
    "            throat_properties = self.__get_thermo_properties(gas, condensate, throat_derivatives[\"dpi_dlnT_P\"], throat_derivatives[\"dlnn_dlnT_P\"], throat_derivatives[\"dlnV_dlnT_P\"], throat_derivatives[\"dlnV_dlnP_T\"])\n",
    "            \n",
    "            velocity = np.sqrt(2 * (chamber[\"enthalpy\"] - throat_properties[\"enthalpy\"]))\n",
    "            speed_sound = np.sqrt(ct.gas_constant * throat_properties[\"temperature\"] * throat_properties[\"gamma_s\"]  / throat_properties[\"molar mass\"])\n",
    "            mach = velocity / speed_sound\n",
    "            \n",
    "            pressure_throat = pressure_throat * (1 + throat_properties[\"gamma_s\"] * mach**2) / (1 + throat_properties[\"gamma_s\"] )\n",
    "\n",
    "            residual = np.abs((velocity**2 - speed_sound**2)/velocity**2)\n",
    "\n",
    "            # print(f\"pressure is: {pressure_throat:.7}\\t velocity is {velocity:.4}\\t speed of sound is: {speed_sound:.4}\\t residual is: {np.abs((velocity**2 - speed_sound**2)/velocity**2):.4}\")\n",
    "\n",
    "        if num_iter >= max_iter_throat:\n",
    "            print(f'Warning: Convergance took {num_iter} iterations which exceeds the limit of {max_iter_throat} max iterations. residual is {residual} which exceeds tolerance of {tolerance_throat}.')\n",
    "        \n",
    "        # velocity and Mach are the same at throat, area ratio, Isp, Ivac, and Cf are not defined at chamber\n",
    "        throat_prop = { \"velocity\"        : speed_sound, \n",
    "                        \"mach\"            : 1, \n",
    "                        \"area ratio\"      : np.nan,\n",
    "                        \"I_sp\"            : np.nan,\n",
    "                        \"I_vac\"           : np.nan,\n",
    "                        \"c*\"              : np.nan,\n",
    "                        \"C_f\"             : np.nan,\n",
    "                        \"mole fraction\"   : gas.mole_fraction_dict()}\n",
    "\n",
    "        self.throat = throat_properties | throat_prop | throat_derivatives\n",
    "\n",
    "    def __exit_properties(self, gas, condensate, exit_value, exit_parameter='pressure'):\n",
    "        '''\n",
    "        This is an internal method not meant for use outside the class.\n",
    "        equilbriates solution and finds thermal derivatives and properties at the exit of the engine.\n",
    "      \n",
    "        Parameters\n",
    "        --------------------------------------------------\n",
    "        products : Cantera Solution \n",
    "            A solution of primarily gases (ideal gas assumptions will hold up to several percent condensed species by mass)\n",
    "        exit_value : float\n",
    "            The exit conditions of the engine. Depending on what 'exit parameter' is\n",
    "            defined to be the exit condition can be defined in the following ways:\n",
    "                'pressure' (default): Exit pressure of the gases in Pa should be greater than 0 but lower than chamber pressure\n",
    "                'area ratio': Definfed as area_exit / area_throat should be value greater than 1 TODO: add functionality\n",
    "        exit_parameter : string\n",
    "            A string which determines how you are defining the exit condition of your engine. Can either be set to 'pressure' (default)\n",
    "            or 'area ratio'. \n",
    "            \n",
    "        Returns\n",
    "        --------------------------------------------------\n",
    "        None\n",
    "        '''\n",
    "\n",
    "        if exit_parameter == \"area ratio\":\n",
    "            exit_properties = self.state_at_area(exit_value, speed = \"supersonic\")\n",
    "            ae_mdot = 1/(exit_properties[\"density\"]*exit_properties[\"velocity\"])\n",
    "\n",
    "            exit_properties[\"I_sp\"] = exit_properties[\"velocity\"] / sp.constants.g\n",
    "            exit_properties[\"I_vac\"] = exit_properties[\"velocity\"] / sp.constants.g + exit_properties[\"pressure\"] * ae_mdot / sp.constants.g\n",
    "            exit_properties[\"C_f\"] = exit_properties[\"velocity\"] / self.chamber[\"c*\"]\n",
    "\n",
    "            self.exit =  exit_properties\n",
    "        \n",
    "        elif exit_parameter == \"pressure\":\n",
    "            pressure = exit_value\n",
    "            gas.SP = self.chamber[\"entropy\"], pressure \n",
    "            gas.equilibrate('SP')\n",
    "\n",
    "            exit_derivatives = self.__get_thermo_derivatives(gas, condensate)\n",
    "            exit_properties = self.__get_thermo_properties(gas, condensate, exit_derivatives[\"dpi_dlnT_P\"], exit_derivatives[\"dlnn_dlnT_P\"], exit_derivatives[\"dlnV_dlnT_P\"], exit_derivatives[\"dlnV_dlnP_T\"])\n",
    "\n",
    "            velocity = np.sqrt(2* (self.chamber[\"enthalpy\"] - exit_properties[\"enthalpy\"]))\n",
    "            speed_sound = np.sqrt(ct.gas_constant * exit_properties[\"temperature\"] * exit_properties[\"gamma_s\"]  / exit_properties[\"molar mass\"])\n",
    "            mach = velocity / speed_sound\n",
    "\n",
    "            at_mdot = 1 / (self.throat[\"density\"]*self.throat[\"velocity\"])\n",
    "            ae_mdot = 1 / (exit_properties[\"density\"]*velocity)\n",
    "            ae_at = ae_mdot/at_mdot\n",
    "\n",
    "            # print(pressure, ae_mdot, velocity, )\n",
    "            Isp = velocity / sp.constants.g\n",
    "            Ivac = Isp + pressure * ae_mdot / sp.constants.g\n",
    "            Cf = velocity / self.chamber[\"c*\"]\n",
    "\n",
    "            exit_prop = {   \"velocity\"        : velocity, \n",
    "                            \"mach\"            : velocity/speed_sound, \n",
    "                            \"area ratio\"      : ae_at,\n",
    "                            \"I_sp\"            : Isp,\n",
    "                            \"I_vac\"           : Ivac,\n",
    "                            \"c*\"              : np.nan,\n",
    "                            \"C_f\"             : Cf,\n",
    "                            \"mole fraction\"   : gas.mole_fraction_dict()}\n",
    "\n",
    "            exit_properties = exit_properties | exit_prop | exit_derivatives\n",
    "\n",
    "            self.exit = exit_properties\n",
    "            \n",
    "        else: \n",
    "            raise ValueError(\"Invalid input. exit_parameter was not defined as 'pressure' or 'area ratio'\")\n",
    "\n",
    "    def size_engine(self, size_value, size_parameter = 'thrust'):\n",
    "        '''\n",
    "        Description\n",
    "        --------------------------------------------------\n",
    "        Given thrust, throat diameter, or massflow will define the other three and update engine_state accordingly\n",
    "\n",
    "        Parameters\n",
    "        --------------------------------------------------\n",
    "        size_value : float\n",
    "            Depending on what 'size_parameter' is defined in the following ways\n",
    "                'thrust' : the target thrust of the engine in units newtons\n",
    "                'mass flow' : the target mass flow of the engine in units kilogram/second\n",
    "                'throat diameter' : the diameter of the throat in units meter\n",
    "        size_parameter : string\n",
    "            a string with three possible values:\n",
    "                'thrust' \n",
    "                'mass flow'\n",
    "                'throat diameter' \n",
    "\n",
    "        Returns\n",
    "        --------------------------------------------------\n",
    "        None\n",
    "        '''\n",
    "\n",
    "        gamma = self.throat[\"gamma\"]\n",
    "        if size_parameter == 'thrust': \n",
    "            thrust = size_value\n",
    "            mass_flow = thrust / self.exit['velocity']\n",
    "            throat_area = mass_flow / (self.throat['velocity'] * self.throat['density'])\n",
    "            throat_area_2 = np.sqrt(self.chamber['temperature'])/self.chamber['pressure'] * 1/(np.sqrt(self.throat['gamma']/(ct.gas_constant/self.throat['molar mass']))*\n",
    "                            ((self.throat['gamma']+1)/2)**((self.throat[\"gamma\"]+1)/(2*self.throat[\"gamma\"]-2)))\n",
    "            throat_area_3 = thrust / (self.exit['C_f'] * self.chamber['pressure'])\n",
    "            throat_diameter = np.sqrt(throat_area/np.pi) / 2\n",
    "            throat_diameter_2 = np.sqrt(throat_area_2/np.pi) / 2\n",
    "            throat_diameter_3 = np.sqrt(throat_area_3/np.pi) / 2\n",
    "\n",
    "\n",
    "        elif size_parameter == 'mass flow':\n",
    "            mass_flow = size_value\n",
    "            thrust = mass_flow * self.exit['velocity']\n",
    "            throat_area = mass_flow / (self.throat['velocity'] * self.throat['density'])\n",
    "            throat_diameter = np.sqrt(throat_area/np.pi) / 2\n",
    "        elif size_parameter == 'throat diameter':\n",
    "            throat_diameter = size_value\n",
    "            throat_area = np.pi * (throat_diameter/2)**2\n",
    "            mass_flow = throat_area * self.throat['velocity'] * self.throat['density']\n",
    "            thrust = mass_flow * self.exit['velocity']\n",
    "        else:\n",
    "            raise ValueError(\"Invalid input. size_parameter was not defined as 'thrust', 'mass flow' or 'throat diameter'\")\n",
    "        \n",
    "        chamber_size = {'thrust' :      np.nan,\n",
    "                        'mass flow' :   mass_flow,\n",
    "                        'area' :        np.inf,\n",
    "                        'diameter' :    np.inf}\n",
    "        \n",
    "        throat_size =  {'thrust' :      np.nan,\n",
    "                        'mass flow' :   mass_flow,\n",
    "                        'area' :        throat_area,\n",
    "                        'area 2' :        throat_area_2,\n",
    "                        'area 3' :        throat_area_3,\n",
    "                        'diameter' :    throat_diameter,\n",
    "                        'diameter 2' :    throat_diameter_2,\n",
    "                        'diameter 3' :    throat_diameter_3,}\n",
    "\n",
    "        exit_size =    {'thrust' :      thrust,\n",
    "                        'mass flow' :   mass_flow,\n",
    "                        'area' :        throat_area * self.exit['area ratio'],\n",
    "                        'diameter' :    np.sqrt(throat_area * self.exit['area ratio']/np.pi) / 2}\n",
    "        \n",
    "        self.chamber.update(chamber_size)\n",
    "        self.throat.update(throat_size)\n",
    "        self.exit.update(exit_size)\n",
    "\n",
    "        self.engine_state = pd.DataFrame([self.chamber, self.throat, self.exit], index=[\"chamber\", \"throat\", \"exit\"])\n",
    "            \n",
    "    def state_at_area(self, area_ratio, speed = \"supersonic\"):\n",
    "        '''\n",
    "        Description\n",
    "        --------------------------------------------------\n",
    "        Iteratively find the properties at a given location in along the nozzle given the area ratio and whether it is in the subsonic or supersonic section of the nozzle.\n",
    "\n",
    "        Parameters\n",
    "        --------------------------------------------------\n",
    "        area_ratio : float\n",
    "            The ratio at of the area at a given location over the area of the throat.\n",
    "        speed : string\n",
    "            a string with two possible values:\n",
    "                'subsonic' : the converging section of the nozzle\n",
    "                'supersonic' : the diverging section of the nozzle\n",
    "\n",
    "        Returns\n",
    "        --------------------------------------------------\n",
    "        local_properties : Dict\n",
    "            A dictionary of the thermodynamic properties and derivatives \n",
    "        \n",
    "        '''\n",
    "\n",
    "        # checking for valid input\n",
    "        if area_ratio <= 1:\n",
    "            raise ValueError(\"Area ratio was less than or equal to 1\")\n",
    "        \n",
    "        # getting initial guess of ln(pc/pe).\n",
    "        if speed == \"subsonic\": \n",
    "            if area_ratio > 1.000 and area_ratio < 1.09:\n",
    "                lnpc_p = 0.9*np.log(self.chamber[\"pressure\"]/self.throat[\"pressure\"])/(area_ratio+10.587*np.log(area_ratio)**3+9.454*np.log(area_ratio))\n",
    "            elif area_ratio >= 1.09:\n",
    "                lnpc_p = np.log(self.chamber[\"pressure\"]/self.throat[\"pressure\"])/(area_ratio+10.587*np.log(area_ratio)**3+9.454*np.log(area_ratio)) \n",
    "                \n",
    "        if speed == \"supersonic\": \n",
    "            if area_ratio > 1.000 and area_ratio < 2:\n",
    "                lnpc_p = np.log(self.chamber[\"pressure\"]/self.throat[\"pressure\"]) +np.sqrt(3.294*np.log(area_ratio)**2+1.534*np.log(area_ratio))\n",
    "            elif area_ratio >= 2:\n",
    "                lnpc_p = self.chamber[\"gamma_s\"] + 1.4 * np.log(area_ratio)\n",
    "        \n",
    "        # initial guess at equilibrium\n",
    "        pressure = self.chamber[\"pressure\"]/np.exp(lnpc_p)\n",
    "        products = self._products\n",
    "        products.SPX = self.throat[\"entropy\"], pressure, self.throat[\"mole fraction\"]\n",
    "        products.equilibrate(\"SP\")\n",
    "\n",
    "        # defining iteration limits and convergence\n",
    "        num_iter = 0\n",
    "        max_iter = 10\n",
    "        tolerance = 4e-5\n",
    "        residual = 1\n",
    "\n",
    "        # defines throat area / throat massflow\n",
    "        at_mdot = 1 / (self.throat[\"density\"]*self.throat[\"velocity\"])\n",
    "\n",
    "        # iterative solver for state at position _blank_\n",
    "        while residual > tolerance:\n",
    "            num_iter += 1\n",
    "\n",
    "            if num_iter == max_iter:\n",
    "                print(f\"exceeded {max_iter} iterations, residual is {residual} which is not below tolerance of {tolerance}\")\n",
    "                break\n",
    "\n",
    "            derivatives = self.__get_thermo_derivatives(products)\n",
    "            properties = self.__get_thermo_properties(products, derivatives[\"dpi_dlnT_P\"], derivatives[\"dlnn_dlnT_P\"], derivatives[\"dlnV_dlnT_P\"], derivatives[\"dlnV_dlnP_T\"])\n",
    "\n",
    "            velocity = np.sqrt(2 * (self.chamber[\"enthalpy\"] - properties[\"enthalpy\"]))\n",
    "            speed_sound = np.sqrt(ct.gas_constant * properties[\"temperature\"] * properties[\"gamma_s\"] / properties[\"molar mass\"])\n",
    "            a_mdot = 1/(properties[\"density\"]*velocity)\n",
    "            a_at = a_mdot/at_mdot\n",
    "\n",
    "            dlnpc_p_dlna_at = properties[\"gamma_s\"] * velocity**2 / (velocity**2 - speed_sound**2)\n",
    "            lnpc_p = lnpc_p + dlnpc_p_dlna_at * (np.log(area_ratio) - np.log(a_at))\n",
    "            residual = abs(dlnpc_p_dlna_at * (np.log(area_ratio) - np.log(a_at)))\n",
    "\n",
    "            # print(f\"residual: {residual} \\t\\t pressure: {pressure}\\t\\t speed of sound: {speed_sound}\")\n",
    "\n",
    "            pressure = self.chamber[\"pressure\"]/np.exp(lnpc_p)\n",
    "\n",
    "            products.SP = self.throat[\"entropy\"], pressure\n",
    "            products.equilibrate('SP')\n",
    "\n",
    "        \n",
    "        local_prop  = { \"velocity\"        : velocity, \n",
    "                        \"mach\"            : velocity/speed_sound, \n",
    "                        \"area ratio\"      : area_ratio,\n",
    "                        \"I_sp\"            : np.nan,\n",
    "                        \"I_vac\"           : np.nan,\n",
    "                        \"c*\"              : np.nan,\n",
    "                        \"C_f\"             : np.nan,\n",
    "                        \"mole fraction\"   : products.mole_fraction_dict()}\n",
    "\n",
    "        local_proprties = properties | local_prop | derivatives\n",
    "\n",
    "        return local_proprties\n",
    "    \n",
    "    def property(self, location, variable):\n",
    "        if location in self.engine_state.index and variable in self.engine_state.columns:\n",
    "            return self.engine_state[variable][location]"
   ]
  },
  {
   "cell_type": "code",
   "execution_count": null,
   "metadata": {},
   "outputs": [],
   "source": [
    "class Engine(EngineState):     \n",
    "    def __init__(self, oxidizer, fuel, of_ratio, pressure, exit_value, size_value, size_parameter =\"thrust\",\n",
    "                 temp_oxidizer=None, temp_fuel=None, combustion_products=None, exit_parameter=\"pressure\"):\n",
    "        '''\n",
    "        This class will define the properties of an rocket engine at the chamber, throat and exit \n",
    "        given the propellant, and conditions that engine is in.\n",
    "\n",
    "        Parameters\n",
    "        --------------------------------------------------\n",
    "        oxidizer : string\n",
    "            A string of a species name which is used to define a cantera solution representing the oxidizer.\n",
    "            Define based off the list of phase names from the propellants.yaml file TODO: kill propellants.yaml and create a list users can choose from \n",
    "        fuel : string\n",
    "            Similar to oxidizer, this is a string of a species name which is used to define a cantera solution representing the fuel.\n",
    "            Define based off the list of phase names from the propellants.yaml file TODO: kill propellants.yaml and create a list users can choose from \n",
    "        of_ratio : float\n",
    "            the mass ratio of oxidizer to fuel defined as mass_oxidizer / mass_fuel.\n",
    "        pressure : float\n",
    "            The pressure of the combustion chamber in units of Pascals (Pa).\n",
    "        exit_value : float\n",
    "            The exit conditions of the engine. Depending on what 'exit parameter' is\n",
    "            defined to be the exit condition can be defined in the following ways:\n",
    "                'pressure' (default): Exit pressure of the gases in Pa should be greater than 0 but lower than chamber pressure\n",
    "                'area ratio': Definfed as area_exit / area_throat should be value greater than 1 TODO: add functionality\n",
    "        size_value : float \n",
    "            Determines the size of the engine. depending on what 'size parameter' is defined to be. \n",
    "            exit condition can be defined in the following way\n",
    "        exit_parameter : string\n",
    "            A string which determines how you are defining the exit condition of your engine. Can either be set to 'pressure' (default)\n",
    "            or 'area ratio'. \n",
    "        temp_oxidizer : float\n",
    "            A positive float value defining the temperature of the oxidizer in Kelvin (K). If the oxidizer is liquid the temperature \n",
    "            is assumed to be saturated temperatures at standard pressure, and gaseous oxidizer will be set to a room tempearture of 295.15K. TODO: add functionality\n",
    "        temp_fuel : float\n",
    "            Similar to above. positive float value defining the temperature of the fuel in Kelvin (K). If the fuel is liquid the temperature \n",
    "            is assumed to be saturated temperatures at standard pressure, and gaseous oxidizer will be set to a room tempearture of 295.15K. TODO: add functionality\n",
    "        \n",
    "\n",
    "        Attributes:\n",
    "        --------------------------------------------------\n",
    "        Properties : Pandas Dataframe\n",
    "        \n",
    "        Methods\n",
    "        --------------------------------------------------\n",
    "\n",
    "        A class for the state of a rocket engine. Given the propellants and conditions of a rocket engine this \n",
    "        class will define the properties of an engine at\n",
    "        '''\n",
    "        super().__init__(oxidizer, fuel, of_ratio, pressure, exit_value,size_value = size_value, size_parameter= size_parameter,\n",
    "                          temp_oxidizer=temp_oxidizer, temp_fuel=temp_fuel, combustion_products=combustion_products, exit_parameter=exit_parameter)\n",
    "        \n",
    "    def _chamber_contour(self, length_value, contraction_ratio, contraction_angle=30, nozzle_inlet_radius_ratio=0.5, \n",
    "                         throat_inlet_radius_ratio = 1.5, length_parameter = 'characteristic length'):\n",
    "        '''\n",
    "        Description\n",
    "        --------------------------------------------------\n",
    "        will create\n",
    "\n",
    "        Parameters\n",
    "        --------------------------------------------------\n",
    "        leng_value : float\n",
    "            Depending on what 'size_parameter' is defined in the following ways\n",
    "                'thrust' : the target thrust of the engine in units newtons\n",
    "                'mass flow' : the target mass flow of the engine in units kilogram/second\n",
    "                'throat diameter' : the diameter of the throat in units meter\n",
    "        length_parameter : string\n",
    "            a string with three possible values:\n",
    "                'characteristic length' \n",
    "                'chamber length'\n",
    "                'throat diameter' \n",
    "\n",
    "        Returns\n",
    "        --------------------------------------------------\n",
    "        None\n",
    "        '''\n",
    "\n",
    "        theta_c = np.radians(contraction_angle)\n",
    "\n",
    "        r_t = self.throat[\"diameter\"]/2\n",
    "        r_c = np.sqrt(contraction_ratio * r_t**2)\n",
    "        r_tin = throat_inlet_radius_ratio * r_t\n",
    "        r_ninmax = (r_c-r_t)/(1-np.cos(theta_c)) - r_tin\n",
    "        r_nin = r_ninmax * nozzle_inlet_radius_ratio\n",
    "\n",
    "        \n",
    "        # checks for valid inputs: \n",
    "        if not nozzle_inlet_radius_ratio <=1:\n",
    "            raise ValueError(\"the nozzle_inlet_radius_ratio must not exceed 1. This is the ratio of the radius/ maximum possible radius\")\n",
    "        if r_tin *(1- np.cos(theta_c)) > r_c-r_t:\n",
    "            raise ValueError(\"throat_inlet_radius_ratio is too high. The nozzle geometry is not possible with the given contraction ratio and contraction angle\")\n",
    "        \n",
    "\n",
    "        # defines bounds for x.        \n",
    "        x_tin = -r_tin * np.sin(theta_c)\n",
    "        x_nin = -1/np.tan(theta_c)*(r_c-r_nin*(1-np.cos(theta_c))-\n",
    "                                                    (r_t+r_tin*(1-np.cos(theta_c))))-r_tin*np.sin(theta_c)\n",
    "        x_c = x_nin - r_nin * np.sin(theta_c)\n",
    "\n",
    "        # find volume of converging section\n",
    "        volume_throat_inlet = np.pi*(-x_tin**3/3 + (r_t + r_tin)*r_tin**2*(np.asin(x_tin/r_tin)+np.sin(2*np.asin(x_tin/r_tin))/2))\n",
    "        sub = r_t+r_tin*(1-np.cos(theta_c)-np.tan(theta_c)*np.sin(theta_c))\n",
    "        volume_nozzle_line = np.pi*(np.tan(theta_c)**2*x_tin**3/3-np.tan(theta_c)*sub*x_tin**2+sub**2*x_tin) - np.pi*(np.tan(theta_c)**2*x_nin**3/3-np.tan(theta_c)*sub*x_nin**2+sub**2*x_nin) \n",
    "        volume_nozzle_inlet =  np.pi*(-x_nin**3/3+x_c*x_nin**2+(r_c-r_nin)*r_nin**2*(np.asin((x_nin-x_c)/r_nin)+np.sin(2*np.asin((x_nin-x_c)/r_nin))/2)+((r_c-r_nin)**2+r_nin**2-x_c**2)*x_nin) -np.pi*(2*x_c**3/3+((r_c-r_nin)**2+r_nin**2-x_c**2)*x_c) \n",
    "        volume_converging = volume_throat_inlet + volume_nozzle_line + volume_nozzle_inlet\n",
    "        \n",
    "\n",
    "        # find length of chamber\n",
    "        if length_parameter == 'characteristic length':\n",
    "            l_star = length_value            \n",
    "            volume_total = self.throat[\"area\"] * length_value\n",
    "\n",
    "            if volume_converging > volume_total:\n",
    "                raise ValueError(\"the converging section volume is larger than the total volume of your. try increasing your L* or reducing your contraction ratio.\")\n",
    "            volume_chamber = volume_total - volume_converging\n",
    "\n",
    "            l_c = volume_chamber/(np.pi*r_c**2)\n",
    "        elif length_parameter == 'chamber length':\n",
    "            l_c = length_value\n",
    "            volume_chamber = np.pi * r_c **2 * l_c\n",
    "            volume_total = volume_chamber + volume_converging\n",
    "            l_star = volume_total / self.throat[\"area\"]\n",
    "\n",
    "        x_inj = x_c - l_c\n",
    "\n",
    "        print(f\"r_t: {r_t}, r_c: {r_c}, r_tin: {r_tin}, r_nin = {r_nin}\")\n",
    "        print(f\"throat_inlet: {x_tin}, nozzle_inlet: {x_nin}, chamber_end: {x_c}, x_inj: {x_inj}\")\n",
    "        print(f\"volume_throat_inlet: {volume_throat_inlet}, volume_nozzle_line: {volume_nozzle_line}, volume_nozzle_inlet: {volume_nozzle_inlet}, volume_converging: {volume_converging}, volume_chamber: {volume_chamber}, volume_total: {volume_total}\")\n",
    "\n",
    "        x_dict = {\"x_inj\" : x_inj,  \"x_c\" : x_c, \"x_nin\" : x_nin, \"x_tin\" : x_tin, \"x_t\" : 0}\n",
    "\n",
    "        def chamber_contour(x): \n",
    "            # Defines throat\n",
    "            \n",
    "            if x == 0:\n",
    "                return r_t\n",
    "\n",
    "            # defines radius before throat\n",
    "            elif x_tin <= x and x < 0:\n",
    "                return -np.sqrt(r_tin**2 - x**2) + (r_tin + r_t)\n",
    "            \n",
    "            # defines contraction line\n",
    "            elif x_nin <= x and x < x_tin:\n",
    "                return -np.tan(theta_c) * (x + r_tin * np.sin(theta_c))+r_t+r_tin*(1-np.cos(theta_c))\n",
    "            \n",
    "            # defines radius befor nozzle\n",
    "            elif x_c <= x and x < x_nin: \n",
    "                return np.sqrt(r_nin**2 - (x-x_c)**2) + (r_c - r_nin)\n",
    "\n",
    "            # defines chamber section\n",
    "            elif x_inj <= x and x < x_c:\n",
    "                return r_c\n",
    "            \n",
    "            else: \n",
    "                raise ValueError(f\"x coordinate exceeds bounds of chamber. please make sure {x_inj} <= x <= 0\")\n",
    "\n",
    "        return chamber_contour, x_dict\n",
    "\n",
    "    def conical_contour(self, length_value, contraction_ratio, contraction_angle=30, nozzle_inlet_radius_ratio=0.5, throat_inlet_radius_ratio = 1.5, \n",
    "                                length_parameter = 'characteristic length', throat_outlet_radius_ratio=0.382, expansion_angle=15, fidelity = 500):\n",
    "        \n",
    "        chamber_contour, chamber_x_dict = self._chamber_contour(length_value, contraction_ratio, contraction_angle, nozzle_inlet_radius_ratio, throat_inlet_radius_ratio, length_parameter = 'characteristic length')\n",
    "\n",
    "        theta_e = np.radians(expansion_angle)\n",
    "        r_t = self.throat[\"diameter\"]/2\n",
    "        r_tout = throat_outlet_radius_ratio * r_t\n",
    "        print(r_tout)\n",
    "        x_tout = r_tout * np.sin(theta_e)\n",
    "        x_e = (self.exit[\"diameter\"]/2-r_t-r_tout*(1-np.cos(theta_e)))/np.tan(theta_e)+r_tout*np.sin(theta_e)\n",
    "        \n",
    "        nozzle_x_dict = {\"x_tout\" : x_tout, \"x_e\" : x_e}\n",
    "\n",
    "        x_dict = chamber_x_dict | nozzle_x_dict\n",
    "        def contour(x):\n",
    "            if x_dict[\"x_inj\"] <= x and x <= 0: \n",
    "                return chamber_contour(x)\n",
    "            elif 0 < x <= x_dict[\"x_tout\"]:\n",
    "                return -np.sqrt(-x**2+r_tout**2) + r_t +r_tout\n",
    "            elif x_dict[\"x_tout\"] < x and x <= x_dict[\"x_e\"]:\n",
    "                return np.tan(theta_e)*(x-r_tout*np.sin(theta_e))+r_t+r_tout*(1-np.cos(theta_e))\n",
    "            else:\n",
    "                raise ValueError(f\"x coordinate exceeds bounds of nozzle. please make sure {x_dict['x_inj']} < x <= {x_dict['x_e']}\")\n",
    "\n",
    "        # x_coords = np.linspace(x_dict[\"x_inj\"], x_dict[\"x_e\"], fidelity)\n",
    "        x_coords = np.sort(np.append(np.linspace(x_dict[\"x_inj\"], x_dict[\"x_e\"], fidelity), list(x_dict.values())))\n",
    "        contour_coords = []\n",
    "        for x in x_coords: \n",
    "            \n",
    "            contour_coords.append([x, contour(x)])\n",
    "\n",
    "        print(f\"r_t: {r_t}, r_tout: {r_tout}\")\n",
    "\n",
    "        self.contour = contour\n",
    "        self.x_dict = x_dict\n",
    "        self.contour_coords = contour_coords\n",
    "\n",
    "        return contour_coords\n",
    "\n",
    "    def parabolic_contour():\n",
    "        return\n",
    "    \n",
    "    def bell_contour():\n",
    "        return"
   ]
  },
  {
   "cell_type": "code",
   "execution_count": 71,
   "metadata": {},
   "outputs": [],
   "source": [
    "def pypropep_to_dataframe(p, ox, fuel):\n",
    "\n",
    "    Parameters = ['of (wt ratio)', 'p (psi)', 't (K)', 'rho (kg/m^3)', 'v (m/s)', 'Isp (s)', 'Ivac (m/s)', 'c* (m/s)', 'cf', 'sound (m/s)', 'A/At', 'cp (kJ/kg-K)', 'cv (kJ/kg-K)', 'gamma', 'mol mass (g/mol)', \n",
    "              'h (kJ/kg)', 'u (kJ/kg)', 'g (kJ/kg)', 's (kJ/kg-K)', 'dV_P', 'dV_T', 'composition']\n",
    "    positions = ['chamber', 'throat', 'exit']\n",
    "\n",
    "    df = pd.DataFrame(columns=Parameters, index=positions, dtype=float)\n",
    "\n",
    "    df.attrs = {'ox' : [ox.formula(), ox['name'], ox['id']], \n",
    "                'fuel' : [fuel.formula(), fuel['name'], fuel['id']]}\n",
    "\n",
    "    for i, c in enumerate(positions):\n",
    "        composition = p.composition[c][0:8]\n",
    "        if(bool(p.composition_condensed[c])):\n",
    "            composition.append(p.composition_condensed[c])\n",
    "\n",
    "        df.loc[c, 'of (wt ratio)']      = p._equil_structs[0].propellant.coef[1] * ox.mw\n",
    "        df.loc[c, 'p (psi)']            = p._equil_objs[i].properties.P\n",
    "        df.loc[c, 't (K)']              = p._equil_objs[i].properties.T\n",
    "        df.loc[c, 'rho (kg/m^3)']       = (p._equil_objs[i].properties.P * 101325 * p._equil_objs[i].properties.M / 1000) / (p._equil_objs[i].properties.T * 8.314 ) # rho (kg/m^3) = (P (atm) * 101325 (Pa) / 1 (atm) * M (g/mol) * 1 kg/1000 g)/( T (K) * R (m^3-Pa/mol-k))\n",
    "        df.loc[c, 'v (m/s)']            = p._equil_structs[i].performance.Isp\n",
    "        df.loc[c, 'Isp (s)']            = p._equil_structs[i].performance.Isp/sp.constants.g\n",
    "        df.loc[c, 'Ivac (m/s)']         = p._equil_structs[i].performance.Ivac\n",
    "        df.loc[c, 'c* (m/s)']           = p._equil_structs[i].performance.cstar\n",
    "        df.loc[c, 'cf']                 = p._equil_structs[i].performance.cf\n",
    "        df.loc[c, 'sound (m/s)']        = p._equil_structs[i].performance.ae_at\n",
    "        df.loc[c, 'A/At']               = p._equil_objs[i].properties.Vson\n",
    "        df.loc[c, 'cp (kJ/kg-K)']       = p._equil_objs[i].properties.Cp\n",
    "        df.loc[c, 'cv (kJ/kg-K)']       = p._equil_objs[i].properties.Cv\n",
    "        df.loc[c, 'gamma']              = p._equil_objs[i].properties.Isex\n",
    "        df.loc[c, 'mol mass (g/mol)']   = p._equil_objs[i].properties.M\n",
    "        df.loc[c, 'h (kJ/kg)']          = p._equil_objs[i].properties.H\n",
    "        df.loc[c, 'u (kJ/kg)']          = p._equil_objs[i].properties.U\n",
    "        df.loc[c, 'g (kJ/kg)']          = p._equil_objs[i].properties.G\n",
    "        df.loc[c, 's (kJ/kg-K)']        = p._equil_objs[i].properties.S\n",
    "        df.loc[c, 'dV_P']               = p._equil_objs[i].properties.dV_P\n",
    "        df.loc[c, 'dV_T']               = p._equil_objs[i].properties.dV_T\n",
    "        # df.at[c, 'composition']       = [composition]\n",
    "\n",
    "    return df"
   ]
  },
  {
   "cell_type": "code",
   "execution_count": 72,
   "metadata": {},
   "outputs": [],
   "source": [
    "def ranged_sim(ox, fuel, of_arr, p_arr , p_e = 1, assumption = 'SHIFTING'):\n",
    "\n",
    "    # iterates through OF ratios and pressures. \n",
    "    df_list = [] \n",
    "    o = ppp.PROPELLANTS[ox]\n",
    "    f = ppp.PROPELLANTS[fuel]\n",
    "\n",
    "    if assumption == 'SHIFTING':\n",
    "        for p in p_arr:\n",
    "            for of in of_arr:\n",
    "                # print(p, of)\n",
    "                performance = ppp.ShiftingPerformance()\n",
    "                performance.add_propellants_by_mass([(f, 1.0), (o, of)])\n",
    "                performance.set_state(P=p, Pe=p_e)\n",
    "                df = pypropep_to_dataframe(performance, o, f)\n",
    "                df_list.append(df)\n",
    "        \n",
    "    elif assumption == 'FROZEN':\n",
    "        for p in p_arr:\n",
    "            for of in of_arr:\n",
    "                # # print(p, of)\n",
    "                # print(f)\n",
    "                performance = ppp.FrozenPerformance()\n",
    "                performance.add_propellants_by_mass([(f, 1.0), (o, of)])\n",
    "                performance.set_state(P = p, Pe = p_e)\n",
    "                # print(performance)\n",
    "                df = pypropep_to_dataframe(performance, o, f)\n",
    "                df_list.append(df)    \n",
    "                  \n",
    "    else: \n",
    "        raise Exception('invalid assumption, opt ions are \\'SHIFTING\\' or \\'FROZEN\\'')\n",
    "        \n",
    "    results = pd.concat(df_list, keys = list(range(len(df_list)))) \n",
    "    \n",
    "    # if not a list of dataframes is output\n",
    "    return results"
   ]
  },
  {
   "cell_type": "code",
   "execution_count": 75,
   "metadata": {},
   "outputs": [
    {
     "ename": "CanteraError",
     "evalue": "\n*******************************************************************************\nCanteraError thrown by MultiPhase::equilibrate_MultiPhaseEquil:\nNo convergence for T\n*******************************************************************************\n",
     "output_type": "error",
     "traceback": [
      "\u001b[1;31m---------------------------------------------------------------------------\u001b[0m",
      "\u001b[1;31mCanteraError\u001b[0m                              Traceback (most recent call last)",
      "Cell \u001b[1;32mIn[69], line 366\u001b[0m, in \u001b[0;36mEngineState.__chamber_properties\u001b[1;34m(self, gas, condensate)\u001b[0m\n\u001b[0;32m    365\u001b[0m     chamber_mixture \u001b[38;5;241m=\u001b[39m ct\u001b[38;5;241m.\u001b[39mMixture([(\u001b[38;5;28mself\u001b[39m\u001b[38;5;241m.\u001b[39mfuel, moles_f), (\u001b[38;5;28mself\u001b[39m\u001b[38;5;241m.\u001b[39moxidizer, moles_ox), (gas, \u001b[38;5;241m0\u001b[39m), (condensate, \u001b[38;5;241m0\u001b[39m)])\n\u001b[1;32m--> 366\u001b[0m     \u001b[43mchamber_mixture\u001b[49m\u001b[38;5;241;43m.\u001b[39;49m\u001b[43mequilibrate\u001b[49m\u001b[43m(\u001b[49m\u001b[38;5;124;43m'\u001b[39;49m\u001b[38;5;124;43mHP\u001b[39;49m\u001b[38;5;124;43m'\u001b[39;49m\u001b[43m)\u001b[49m\n\u001b[0;32m    367\u001b[0m \u001b[38;5;28;01mexcept\u001b[39;00m:\n",
      "File \u001b[1;32mmixture.pyx:340\u001b[0m, in \u001b[0;36mcantera.mixture.Mixture.equilibrate\u001b[1;34m()\u001b[0m\n",
      "\u001b[1;31mCanteraError\u001b[0m: \n*******************************************************************************\nCanteraError thrown by MultiPhase::equilibrate_MultiPhaseEquil:\nNo convergence for T\n*******************************************************************************\n",
      "\nDuring handling of the above exception, another exception occurred:\n",
      "\u001b[1;31mCanteraError\u001b[0m                              Traceback (most recent call last)",
      "Cell \u001b[1;32mIn[75], line 4\u001b[0m\n\u001b[0;32m      1\u001b[0m chamber_pressure \u001b[38;5;241m=\u001b[39m Q(\u001b[38;5;241m600\u001b[39m, \u001b[38;5;124m'\u001b[39m\u001b[38;5;124mpsi\u001b[39m\u001b[38;5;124m'\u001b[39m)\u001b[38;5;241m.\u001b[39mto_base_units()\u001b[38;5;241m.\u001b[39mmagnitude\n\u001b[0;32m      2\u001b[0m exit_pressure \u001b[38;5;241m=\u001b[39m Q(\u001b[38;5;241m14.7\u001b[39m, \u001b[38;5;124m'\u001b[39m\u001b[38;5;124mpsi\u001b[39m\u001b[38;5;124m'\u001b[39m)\u001b[38;5;241m.\u001b[39mto_base_units()\u001b[38;5;241m.\u001b[39mmagnitude\n\u001b[1;32m----> 4\u001b[0m example \u001b[38;5;241m=\u001b[39m \u001b[43mEngine\u001b[49m\u001b[43m(\u001b[49m\u001b[38;5;124;43m\"\u001b[39;49m\u001b[38;5;124;43mO2(L)\u001b[39;49m\u001b[38;5;124;43m\"\u001b[39;49m\u001b[43m,\u001b[49m\u001b[43m \u001b[49m\u001b[38;5;124;43m\"\u001b[39;49m\u001b[38;5;124;43mCH4(L)\u001b[39;49m\u001b[38;5;124;43m\"\u001b[39;49m\u001b[43m,\u001b[49m\u001b[43m \u001b[49m\u001b[38;5;241;43m2.5\u001b[39;49m\u001b[43m,\u001b[49m\u001b[43m \u001b[49m\u001b[43mchamber_pressure\u001b[49m\u001b[43m,\u001b[49m\u001b[43m  \u001b[49m\u001b[43mtemp_fuel\u001b[49m\u001b[38;5;241;43m=\u001b[39;49m\u001b[38;5;241;43m300\u001b[39;49m\u001b[43m,\u001b[49m\u001b[43m \u001b[49m\u001b[43mtemp_oxidizer\u001b[49m\u001b[38;5;241;43m=\u001b[39;49m\u001b[38;5;241;43m300\u001b[39;49m\u001b[43m,\u001b[49m\u001b[43m \u001b[49m\u001b[43mexit_value\u001b[49m\u001b[38;5;241;43m=\u001b[39;49m\u001b[38;5;241;43m8\u001b[39;49m\u001b[43m,\u001b[49m\u001b[43m \u001b[49m\u001b[43msize_value\u001b[49m\u001b[38;5;241;43m=\u001b[39;49m\u001b[38;5;241;43m4000\u001b[39;49m\u001b[43m,\u001b[49m\u001b[43m  \u001b[49m\u001b[43mexit_parameter\u001b[49m\u001b[38;5;241;43m=\u001b[39;49m\u001b[38;5;124;43m'\u001b[39;49m\u001b[38;5;124;43marea ratio\u001b[39;49m\u001b[38;5;124;43m'\u001b[39;49m\u001b[43m)\u001b[49m\n\u001b[0;32m      5\u001b[0m example()\n",
      "Cell \u001b[1;32mIn[70], line 49\u001b[0m, in \u001b[0;36mEngine.__init__\u001b[1;34m(self, oxidizer, fuel, of_ratio, pressure, exit_value, size_value, size_parameter, temp_oxidizer, temp_fuel, combustion_products, exit_parameter)\u001b[0m\n\u001b[0;32m      2\u001b[0m \u001b[38;5;28;01mdef\u001b[39;00m\u001b[38;5;250m \u001b[39m\u001b[38;5;21m__init__\u001b[39m(\u001b[38;5;28mself\u001b[39m, oxidizer, fuel, of_ratio, pressure, exit_value, size_value, size_parameter \u001b[38;5;241m=\u001b[39m\u001b[38;5;124m\"\u001b[39m\u001b[38;5;124mthrust\u001b[39m\u001b[38;5;124m\"\u001b[39m,\n\u001b[0;32m      3\u001b[0m              temp_oxidizer\u001b[38;5;241m=\u001b[39m\u001b[38;5;28;01mNone\u001b[39;00m, temp_fuel\u001b[38;5;241m=\u001b[39m\u001b[38;5;28;01mNone\u001b[39;00m, combustion_products\u001b[38;5;241m=\u001b[39m\u001b[38;5;28;01mNone\u001b[39;00m, exit_parameter\u001b[38;5;241m=\u001b[39m\u001b[38;5;124m\"\u001b[39m\u001b[38;5;124mpressure\u001b[39m\u001b[38;5;124m\"\u001b[39m):\n\u001b[0;32m      4\u001b[0m \u001b[38;5;250m    \u001b[39m\u001b[38;5;124;03m'''\u001b[39;00m\n\u001b[0;32m      5\u001b[0m \u001b[38;5;124;03m    This class will define the properties of an rocket engine at the chamber, throat and exit \u001b[39;00m\n\u001b[0;32m      6\u001b[0m \u001b[38;5;124;03m    given the propellant, and conditions that engine is in.\u001b[39;00m\n\u001b[1;32m   (...)\u001b[0m\n\u001b[0;32m     47\u001b[0m \u001b[38;5;124;03m    class will define the properties of an engine at\u001b[39;00m\n\u001b[0;32m     48\u001b[0m \u001b[38;5;124;03m    '''\u001b[39;00m\n\u001b[1;32m---> 49\u001b[0m     \u001b[38;5;28;43msuper\u001b[39;49m\u001b[43m(\u001b[49m\u001b[43m)\u001b[49m\u001b[38;5;241;43m.\u001b[39;49m\u001b[38;5;21;43m__init__\u001b[39;49m\u001b[43m(\u001b[49m\u001b[43moxidizer\u001b[49m\u001b[43m,\u001b[49m\u001b[43m \u001b[49m\u001b[43mfuel\u001b[49m\u001b[43m,\u001b[49m\u001b[43m \u001b[49m\u001b[43mof_ratio\u001b[49m\u001b[43m,\u001b[49m\u001b[43m \u001b[49m\u001b[43mpressure\u001b[49m\u001b[43m,\u001b[49m\u001b[43m \u001b[49m\u001b[43mexit_value\u001b[49m\u001b[43m,\u001b[49m\u001b[43msize_value\u001b[49m\u001b[43m \u001b[49m\u001b[38;5;241;43m=\u001b[39;49m\u001b[43m \u001b[49m\u001b[43msize_value\u001b[49m\u001b[43m,\u001b[49m\u001b[43m \u001b[49m\u001b[43msize_parameter\u001b[49m\u001b[38;5;241;43m=\u001b[39;49m\u001b[43m \u001b[49m\u001b[43msize_parameter\u001b[49m\u001b[43m,\u001b[49m\n\u001b[0;32m     50\u001b[0m \u001b[43m                      \u001b[49m\u001b[43mtemp_oxidizer\u001b[49m\u001b[38;5;241;43m=\u001b[39;49m\u001b[43mtemp_oxidizer\u001b[49m\u001b[43m,\u001b[49m\u001b[43m \u001b[49m\u001b[43mtemp_fuel\u001b[49m\u001b[38;5;241;43m=\u001b[39;49m\u001b[43mtemp_fuel\u001b[49m\u001b[43m,\u001b[49m\u001b[43m \u001b[49m\u001b[43mcombustion_products\u001b[49m\u001b[38;5;241;43m=\u001b[39;49m\u001b[43mcombustion_products\u001b[49m\u001b[43m,\u001b[49m\u001b[43m \u001b[49m\u001b[43mexit_parameter\u001b[49m\u001b[38;5;241;43m=\u001b[39;49m\u001b[43mexit_parameter\u001b[49m\u001b[43m)\u001b[49m\n",
      "Cell \u001b[1;32mIn[69], line 70\u001b[0m, in \u001b[0;36mEngineState.__init__\u001b[1;34m(self, oxidizer, fuel, of_ratio, pressure, exit_value, size_value, size_parameter, temp_oxidizer, temp_fuel, combustion_products, exit_parameter)\u001b[0m\n\u001b[0;32m     65\u001b[0m \u001b[38;5;28mself\u001b[39m\u001b[38;5;241m.\u001b[39mof_ratio \u001b[38;5;241m=\u001b[39m of_ratio\n\u001b[0;32m     67\u001b[0m \u001b[38;5;28mself\u001b[39m\u001b[38;5;241m.\u001b[39moxidizer, \u001b[38;5;28mself\u001b[39m\u001b[38;5;241m.\u001b[39mfuel, \u001b[38;5;28mself\u001b[39m\u001b[38;5;241m.\u001b[39mgas, \u001b[38;5;28mself\u001b[39m\u001b[38;5;241m.\u001b[39mcondensdate \u001b[38;5;241m=\u001b[39m \u001b[38;5;28mself\u001b[39m\u001b[38;5;241m.\u001b[39m__chemistry_initializer(oxidizer, fuel, temp_oxidizer\u001b[38;5;241m=\u001b[39mtemp_oxidizer,\n\u001b[0;32m     68\u001b[0m                                                                     temp_fuel\u001b[38;5;241m=\u001b[39mtemp_fuel, combustion_products\u001b[38;5;241m=\u001b[39mcombustion_products)\n\u001b[1;32m---> 70\u001b[0m \u001b[38;5;28;43mself\u001b[39;49m\u001b[38;5;241;43m.\u001b[39;49m\u001b[43m__chamber_properties\u001b[49m\u001b[43m(\u001b[49m\u001b[38;5;28;43mself\u001b[39;49m\u001b[38;5;241;43m.\u001b[39;49m\u001b[43mgas\u001b[49m\u001b[43m,\u001b[49m\u001b[43m \u001b[49m\u001b[38;5;28;43mself\u001b[39;49m\u001b[38;5;241;43m.\u001b[39;49m\u001b[43mcondensdate\u001b[49m\u001b[43m)\u001b[49m\n\u001b[0;32m     71\u001b[0m \u001b[38;5;28mself\u001b[39m\u001b[38;5;241m.\u001b[39m__throat_properties(\u001b[38;5;28mself\u001b[39m\u001b[38;5;241m.\u001b[39mgas, \u001b[38;5;28mself\u001b[39m\u001b[38;5;241m.\u001b[39mcondensdate)\n\u001b[0;32m     72\u001b[0m \u001b[38;5;28mself\u001b[39m\u001b[38;5;241m.\u001b[39m__exit_properties(\u001b[38;5;28mself\u001b[39m\u001b[38;5;241m.\u001b[39mgas, \u001b[38;5;28mself\u001b[39m\u001b[38;5;241m.\u001b[39mcondensdate, exit_value, exit_parameter\u001b[38;5;241m=\u001b[39mexit_parameter)\n",
      "Cell \u001b[1;32mIn[69], line 369\u001b[0m, in \u001b[0;36mEngineState.__chamber_properties\u001b[1;34m(self, gas, condensate)\u001b[0m\n\u001b[0;32m    367\u001b[0m \u001b[38;5;28;01mexcept\u001b[39;00m:\n\u001b[0;32m    368\u001b[0m     chamber_mixture \u001b[38;5;241m=\u001b[39m ct\u001b[38;5;241m.\u001b[39mMixture([(\u001b[38;5;28mself\u001b[39m\u001b[38;5;241m.\u001b[39mfuel, moles_f), (\u001b[38;5;28mself\u001b[39m\u001b[38;5;241m.\u001b[39moxidizer, moles_ox), (gas, \u001b[38;5;241m0\u001b[39m)])\n\u001b[1;32m--> 369\u001b[0m     \u001b[43mchamber_mixture\u001b[49m\u001b[38;5;241;43m.\u001b[39;49m\u001b[43mequilibrate\u001b[49m\u001b[43m(\u001b[49m\u001b[38;5;124;43m'\u001b[39;49m\u001b[38;5;124;43mHP\u001b[39;49m\u001b[38;5;124;43m'\u001b[39;49m\u001b[43m)\u001b[49m\n\u001b[0;32m    373\u001b[0m \u001b[38;5;66;03m# Finds thermodynamic derivatives \u001b[39;00m\n\u001b[0;32m    374\u001b[0m derivatives \u001b[38;5;241m=\u001b[39m \u001b[38;5;28mself\u001b[39m\u001b[38;5;241m.\u001b[39m__get_thermo_derivatives(gas, condensate)\n",
      "File \u001b[1;32mmixture.pyx:340\u001b[0m, in \u001b[0;36mcantera.mixture.Mixture.equilibrate\u001b[1;34m()\u001b[0m\n",
      "\u001b[1;31mCanteraError\u001b[0m: \n*******************************************************************************\nCanteraError thrown by MultiPhase::equilibrate_MultiPhaseEquil:\nNo convergence for T\n*******************************************************************************\n"
     ]
    }
   ],
   "source": [
    "chamber_pressure = Q(600, 'psi').to_base_units().magnitude\n",
    "exit_pressure = Q(14.7, 'psi').to_base_units().magnitude\n",
    "\n",
    "example = Engine(\"O2(L)\", \"CH4(L)\", 2.5, chamber_pressure,  temp_fuel=300, temp_oxidizer=300, exit_value=8, size_value=4000,  exit_parameter='area ratio')\n",
    "example()"
   ]
  },
  {
   "cell_type": "code",
   "execution_count": null,
   "metadata": {},
   "outputs": [
    {
     "data": {
      "text/plain": [
       "{'C2H2,acetylene': 6.941258676983769e-09,\n",
       " 'C2H4': 7.499143577835801e-11,\n",
       " 'CH4': 1.0710878185887318e-06,\n",
       " 'CO': 0.48208392729928884,\n",
       " 'CO2': 0.02791948066929042,\n",
       " 'H': 0.0023153711195848677,\n",
       " 'H2': 0.3589059110384909,\n",
       " 'H2O': 0.12860299324476118,\n",
       " 'H2O2': 1.92413870802138e-09,\n",
       " 'O2': 1.069147791108256e-07,\n",
       " 'OH': 0.0001711296855972843}"
      ]
     },
     "execution_count": 10,
     "metadata": {},
     "output_type": "execute_result"
    }
   ],
   "source": [
    "example.chamber[\"mole fraction\"]"
   ]
  },
  {
   "cell_type": "code",
   "execution_count": null,
   "metadata": {},
   "outputs": [
    {
     "name": "stdout",
     "output_type": "stream",
     "text": [
      "r_t: 0.0034041042665974366, r_c: 0.006808208533194873, r_tin: 0.005106156399896155, r_nin = 0.010151211877255553\n",
      "throat_inlet: -0.002553078199948077, nozzle_inlet: -0.004908675113868005, chamber_end: -0.00998428105249578, x_inj: -0.04882291184065321\n",
      "volume_throat_inlet: -6.49405244557302e-07, volume_nozzle_line: 1.693925911193141e-07, volume_nozzle_inlet: 6.491291139009276e-07, volume_converging: 1.691164604629397e-07, volume_chamber: 5.655610378803904e-06, volume_total: 5.824726839266843e-06\n",
      "0.0013003678298402208\n",
      "r_t: 0.0034041042665974366, r_tout: 0.0013003678298402208\n"
     ]
    },
    {
     "data": {
      "application/vnd.plotly.v1+json": {
       "config": {
        "plotlyServerURL": "https://plot.ly"
       },
       "data": [
        {
         "hovertemplate": "x=%{x}<br>y=%{y}<extra></extra>",
         "legendgroup": "",
         "line": {
          "color": "#636efa",
          "dash": "solid"
         },
         "marker": {
          "symbol": "circle"
         },
         "mode": "lines",
         "name": "",
         "showlegend": false,
         "type": "scattergl",
         "x": {
          "bdata": "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",
          "dtype": "f8"
         },
         "xaxis": "x",
         "y": {
          "bdata": "ECXpj+ziez8QJemP7OJ7PxAl6Y/s4ns/ECXpj+ziez8QJemP7OJ7PxAl6Y/s4ns/ECXpj+ziez8QJemP7OJ7PxAl6Y/s4ns/ECXpj+ziez8QJemP7OJ7PxAl6Y/s4ns/ECXpj+ziez8QJemP7OJ7PxAl6Y/s4ns/ECXpj+ziez8QJemP7OJ7PxAl6Y/s4ns/ECXpj+ziez8QJemP7OJ7PxAl6Y/s4ns/ECXpj+ziez8QJemP7OJ7PxAl6Y/s4ns/ECXpj+ziez8QJemP7OJ7PxAl6Y/s4ns/ECXpj+ziez8QJemP7OJ7PxAl6Y/s4ns/ECXpj+ziez8QJemP7OJ7PxAl6Y/s4ns/ECXpj+ziez8QJemP7OJ7PxAl6Y/s4ns/ECXpj+ziez8QJemP7OJ7PxAl6Y/s4ns/ECXpj+ziez8QJemP7OJ7PxAl6Y/s4ns/ECXpj+ziez8QJemP7OJ7PxAl6Y/s4ns/ECXpj+ziez8QJemP7OJ7PxAl6Y/s4ns/ECXpj+ziez8QJemP7OJ7PxAl6Y/s4ns/ECXpj+ziez8QJemP7OJ7PxAl6Y/s4ns/ECXpj+ziez8QJemP7OJ7PxAl6Y/s4ns/ECXpj+ziez8QJemP7OJ7PxAl6Y/s4ns/ECXpj+ziez8QJemP7OJ7PxAl6Y/s4ns/ECXpj+ziez8QJemP7OJ7PxAl6Y/s4ns/ECXpj+ziez8QJemP7OJ7PxAl6Y/s4ns/ECXpj+ziez8QJemP7OJ7PxAl6Y/s4ns/ECXpj+ziez8QJemP7OJ7PxAl6Y/s4ns/ECXpj+ziez8QJemP7OJ7PxAl6Y/s4ns/ECXpj+ziez8QJemP7OJ7PxAl6Y/s4ns/ECXpj+ziez8QJemP7OJ7PxAl6Y/s4ns/ECXpj+ziez8QJemP7OJ7PxAl6Y/s4ns/ECXpj+ziez8QJemP7OJ7PxAl6Y/s4ns/ECXpj+ziez8QJemP7OJ7PxAl6Y/s4ns/ECXpj+ziez8QJemP7OJ7PxAl6Y/s4ns/ECXpj+ziez8QJemP7OJ7PxAl6Y/s4ns/ECXpj+ziez8QJemP7OJ7PxAl6Y/s4ns/ECXpj+ziez8QJemP7OJ7PxAl6Y/s4ns/ECXpj+ziez8QJemP7OJ7PxAl6Y/s4ns/ECXpj+ziez8QJemP7OJ7PxAl6Y/s4ns/ECXpj+ziez8QJemP7OJ7PxAl6Y/s4ns/ECXpj+ziez8QJemP7OJ7PxAl6Y/s4ns/ECXpj+ziez8QJemP7OJ7PxAl6Y/s4ns/ECXpj+ziez8QJemP7OJ7PxAl6Y/s4ns/ECXpj+ziez8QJemP7OJ7PxAl6Y/s4ns/ECXpj+ziez8QJemP7OJ7PxAl6Y/s4ns/ECXpj+ziez8QJemP7OJ7PxAl6Y/s4ns/ECXpj+ziez8QJemP7OJ7PxAl6Y/s4ns/ECXpj+ziez8QJemP7OJ7PxAl6Y/s4ns/ECXpj+ziez8QJemP7OJ7PxAl6Y/s4ns/ECXpj+ziez8QJemP7OJ7PxAl6Y/s4ns/ECXpj+ziez8QJemP7OJ7PxAl6Y/s4ns/ECXpj+ziez8QJemP7OJ7PxAl6Y/s4ns/ECXpj+ziez8QJemP7OJ7PxAl6Y/s4ns/ECXpj+ziez8QJemP7OJ7PxAl6Y/s4ns/ECXpj+ziez8QJemP7OJ7PxAl6Y/s4ns/ECXpj+ziez8QJemP7OJ7PxAl6Y/s4ns/ECXpj+ziez8QJemP7OJ7PxAl6Y/s4ns/ECXpj+ziez8QJemP7OJ7PxAl6Y/s4ns/ECXpj+ziez8QJemP7OJ7PxAl6Y/s4ns/ECXpj+ziez8QJemP7OJ7PxAl6Y/s4ns/ECXpj+ziez8QJemP7OJ7PxAl6Y/s4ns/ECXpj+ziez8QJemP7OJ7PxAl6Y/s4ns/ECXpj+ziez8QJemP7OJ7PxAl6Y/s4ns/ECXpj+ziez8QJemP7OJ7PxAl6Y/s4ns/ECXpj+ziez8QJemP7OJ7PxAl6Y/s4ns/ECXpj+ziez8QJemP7OJ7PxAl6Y/s4ns/ECXpj+ziez8QJemP7OJ7PxAl6Y/s4ns/ECXpj+ziez8QJemP7OJ7PxAl6Y/s4ns/ECXpj+ziez8QJemP7OJ7PxAl6Y/s4ns/ECXpj+ziez8QJemP7OJ7PxAl6Y/s4ns/ECXpj+ziez8QJemP7OJ7PxAl6Y/s4ns/ECXpj+ziez8QJemP7OJ7PxAl6Y/s4ns/ECXpj+ziez8QJemP7OJ7PxAl6Y/s4ns/ECXpj+ziez8QJemP7OJ7PxAl6Y/s4ns/ECXpj+ziez8QJemP7OJ7PxAl6Y/s4ns/ECXpj+ziez8QJemP7OJ7PxAl6Y/s4ns/ECXpj+ziez8QJemP7OJ7PxAl6Y/s4ns/ECXpj+ziez8QJemP7OJ7PxAl6Y/s4ns/ECXpj+ziez8QJemP7OJ7PxAl6Y/s4ns/ECXpj+ziez8QJemP7OJ7PxAl6Y/s4ns/ECXpj+ziez8QJemP7OJ7PxAl6Y/s4ns/ECXpj+ziez8QJemP7OJ7PxAl6Y/s4ns/ECXpj+ziez8QJemP7OJ7PxAl6Y/s4ns/ECXpj+ziez8QJemP7OJ7PxAl6Y/s4ns/ECXpj+ziez8QJemP7OJ7PxAl6Y/s4ns/ECXpj+ziez8QJemP7OJ7PxAl6Y/s4ns/ECXpj+ziez8QJemP7OJ7PxAl6Y/s4ns/ECXpj+ziez8QJemP7OJ7PxAl6Y/s4ns/ECXpj+ziez8QJemP7OJ7PxAl6Y/s4ns/ECXpj+ziez8QJemP7OJ7PxAl6Y/s4ns/ECXpj+ziez8QJemP7OJ7PxAl6Y/s4ns/ECXpj+ziez8QJemP7OJ7PxAl6Y/s4ns/ECXpj+ziez8QJemP7OJ7PxAl6Y/s4ns/ECXpj+ziez8QJemP7OJ7PxAl6Y/s4ns/ECXpj+ziez8QJemP7OJ7PxAl6Y/s4ns/ECXpj+ziez8QJemP7OJ7PxAl6Y/s4ns/ECXpj+ziez8QJemP7OJ7PxAl6Y/s4ns/ECXpj+ziez8QJemP7OJ7PxAl6Y/s4ns/ECXpj+ziez8QJemP7OJ7PxAl6Y/s4ns/ECXpj+ziez8QJemP7OJ7PxAl6Y/s4ns/ECXpj+ziez8QJemP7OJ7PxAl6Y/s4ns/ECXpj+ziez8QJemP7OJ7PxAl6Y/s4ns/ECXpj+ziez8QJemP7OJ7PxAl6Y/s4ns/ECXpj+ziez8QJemP7OJ7PxAl6Y/s4ns/ECXpj+ziez8QJemP7OJ7PxAl6Y/s4ns/ECXpj+ziez8QJemP7OJ7PxAl6Y/s4ns/ECXpj+ziez8QJemP7OJ7PxAl6Y/s4ns/ECXpj+ziez8QJemP7OJ7PxAl6Y/s4ns/ECXpj+ziez8QJemP7OJ7PxAl6Y/s4ns/ECXpj+ziez8QJemP7OJ7PxAl6Y/s4ns/ECXpj+ziez8QJemP7OJ7PxAl6Y/s4ns/ECXpj+ziez8QJemP7OJ7PxAl6Y/s4ns/ECXpj+ziez8QJemP7OJ7PxAl6Y/s4ns/ECXpj+ziez8QJemP7OJ7PxAl6Y/s4ns/ECXpj+ziez8QJemP7OJ7PxAl6Y/s4ns/ECXpj+ziez8QJemP7OJ7PxAl6Y/s4ns/ECXpj+ziez8QJemP7OJ7PxAl6Y/s4ns/ECXpj+ziez8QJemP7OJ7PxAl6Y/s4ns/ECXpj+ziez8QJemP7OJ7PxAl6Y/s4ns/ECXpj+ziez8QJemP7OJ7PxAl6Y/s4ns/ECXpj+ziez8QJemP7OJ7PxAl6Y/s4ns/ECXpj+ziez8QJemP7OJ7PxAl6Y/s4ns/ECXpj+ziez8QJemP7OJ7PxAl6Y/s4ns/ECXpj+ziez8QJemP7OJ7PxAl6Y/s4ns/ECXpj+ziez8QJemP7OJ7PxAl6Y/s4ns/ECXpj+ziez8QJemP7OJ7PxAl6Y/s4ns/ECXpj+ziez8QJemP7OJ7PxAl6Y/s4ns/ECXpj+ziez8QJemP7OJ7PxAl6Y/s4ns/ECXpj+ziez8QJemP7OJ7PxAl6Y/s4ns/ECXpj+ziez8QJemP7OJ7PxAl6Y/s4ns/ECXpj+ziez8QJemP7OJ7PxAl6Y/s4ns/ECXpj+ziez8QJemP7OJ7PxAl6Y/s4ns/ECXpj+ziez8QJemP7OJ7PxAl6Y/s4ns/ECXpj+ziez8QJemP7OJ7PxAl6Y/s4ns/ECXpj+ziez8QJemP7OJ7PxAl6Y/s4ns/ECXpj+ziez8QJemP7OJ7PxAl6Y/s4ns/ECXpj+ziez8QJemP7OJ7PxAl6Y/s4ns/ECXpj+ziez8QJemP7OJ7PxAl6Y/s4ns/ECXpj+ziez8QJemP7OJ7PxAl6Y/s4ns/ECXpj+ziez8QJemP7OJ7PxAl6Y/s4ns/ECXpj+ziez8QJemP7OJ7PxAl6Y/s4ns/ECXpj+ziez8QJemP7OJ7PxAl6Y/s4ns/ECXpj+ziez8QJemP7OJ7PxAl6Y/s4ns/ECXpj+ziez8QJemP7OJ7PxAl6Y/s4ns/ECXpj+ziez8QJemP7OJ7PxAl6Y/s4ns/ECXpj+ziez8QJemP7OJ7PxAl6Y/s4ns/ECXpj+ziez8QJemP7OJ7PxAl6Y/s4ns/ECXpj+ziez8QJemP7OJ7PxAl6Y/s4ns/ECXpj+ziez8QJemP7OJ7PxAl6Y/s4ns/ECXpj+ziez8QJemP7OJ7PxAl6Y/s4ns/ECXpj+ziez8QJemP7OJ7PxAl6Y/s4ns/ECXpj+ziez8QJemP7OJ7PxAl6Y/s4ns/ECXpj+ziez8QJemP7OJ7PxAl6Y/s4ns/ECXpj+ziez8QJemP7OJ7PxAl6Y/s4ns/ECXpj+ziez8QJemP7OJ7PxAl6Y/s4ns/ECXpj+ziez8QJemP7OJ7PxAl6Y/s4ns/ECXpj+ziez8QJemP7OJ7PxAl6Y/s4ns/ECXpj+ziez8QJemP7OJ7PxAl6Y/s4ns/ECXpj+ziez8QJemP7OJ7PxAl6Y/s4ns/ECXpj+ziez8QJemP7OJ7PxAl6Y/s4ns/ECXpj+ziez8QJemP7OJ7PxAl6Y/s4ns/ECXpj+ziez8QJemP7OJ7PxAl6Y/s4ns/ECXpj+ziez8QJemP7OJ7PxAl6Y/s4ns/ECXpj+ziez8QJemP7OJ7PxAl6Y/s4ns/ECXpj+ziez8QJemP7OJ7PxAl6Y/s4ns/ECXpj+ziez8QJemP7OJ7PxAl6Y/s4ns/ECXpj+ziez8QJemP7OJ7PxAl6Y/s4ns/ECXpj+ziez8QJemP7OJ7PxAl6Y/s4ns/ECXpj+ziez8QJemP7OJ7PxAl6Y/s4ns/ECXpj+ziez8QJemP7OJ7PxAl6Y/s4ns/ECXpj+ziez8QJemP7OJ7PxAl6Y/s4ns/ECXpj+ziez8QJemP7OJ7PxAl6Y/s4ns/ECXpj+ziez8QJemP7OJ7PxAl6Y/s4ns/ECXpj+ziez8QJemP7OJ7PxAl6Y/s4ns/ECXpj+ziez8QJemP7OJ7PxAl6Y/s4ns/ECXpj+ziez8QJemP7OJ7PxAl6Y/s4ns/ECXpj+ziez8QJemP7OJ7PxAl6Y/s4ns/ECXpj+ziez8QJemP7OJ7PxAl6Y/s4ns/ECXpj+ziez8QJemP7OJ7PxAl6Y/s4ns/ECXpj+ziez8QJemP7OJ7PxAl6Y/s4ns/ECXpj+ziez8QJemP7OJ7PxAl6Y/s4ns/ECXpj+ziez8QJemP7OJ7PxAl6Y/s4ns/ECXpj+ziez8QJemP7OJ7PxAl6Y/s4ns/ECXpj+ziez8QJemP7OJ7PxAl6Y/s4ns/ECXpj+ziez8QJemP7OJ7PxAl6Y/s4ns/ECXpj+ziez8QJemP7OJ7PxAl6Y/s4ns/ECXpj+ziez8QJemP7OJ7PxAl6Y/s4ns/ECXpj+ziez8QJemP7OJ7PxAl6Y/s4ns/ECXpj+ziez8QJemP7OJ7PxAl6Y/s4ns/ECXpj+ziez8QJemP7OJ7PxAl6Y/s4ns/ECXpj+ziez8QJemP7OJ7PxAl6Y/s4ns/ECXpj+ziez8QJemP7OJ7PxAl6Y/s4ns/ECXpj+ziez8QJemP7OJ7PxAl6Y/s4ns/ECXpj+ziez8QJemP7OJ7PxAl6Y/s4ns/ECXpj+ziez8QJemP7OJ7PxAl6Y/s4ns/ECXpj+ziez8QJemP7OJ7PxAl6Y/s4ns/ECXpj+ziez8QJemP7OJ7PxAl6Y/s4ns/ECXpj+ziez8QJemP7OJ7PxAl6Y/s4ns/ECXpj+ziez8QJemP7OJ7PxAl6Y/s4ns/ECXpj+ziez8QJemP7OJ7PxAl6Y/s4ns/ECXpj+ziez8QJemP7OJ7PxAl6Y/s4ns/ECXpj+ziez8QJemP7OJ7PxAl6Y/s4ns/ECXpj+ziez8QJemP7OJ7PxAl6Y/s4ns/ECXpj+ziez8QJemP7OJ7PxAl6Y/s4ns/ECXpj+ziez8QJemP7OJ7PxAl6Y/s4ns/ECXpj+ziez8QJemP7OJ7PxAl6Y/s4ns/ECXpj+ziez8QJemP7OJ7PxAl6Y/s4ns/ECXpj+ziez8QJemP7OJ7PxAl6Y/s4ns/ECXpj+ziez8QJemP7OJ7PxAl6Y/s4ns/ECXpj+ziez8QJemP7OJ7PxAl6Y/s4ns/ECXpj+ziez8QJemP7OJ7PxAl6Y/s4ns/ECXpj+ziez8QJemP7OJ7PxAl6Y/s4ns/ECXpj+ziez8QJemP7OJ7PxAl6Y/s4ns/ECXpj+ziez8QJemP7OJ7PxAl6Y/s4ns/ECXpj+ziez8QJemP7OJ7PxAl6Y/s4ns/ECXpj+ziez8QJemP7OJ7PxAl6Y/s4ns/ECXpj+ziez8QJemP7OJ7PxAl6Y/s4ns/ECXpj+ziez8QJemP7OJ7PxAl6Y/s4ns/ECXpj+ziez8QJemP7OJ7PxAl6Y/s4ns/ECXpj+ziez8QJemP7OJ7PxAl6Y/s4ns/ECXpj+ziez8QJemP7OJ7PxAl6Y/s4ns/ECXpj+ziez8QJemP7OJ7PxAl6Y/s4ns/ECXpj+ziez8QJemP7OJ7PxAl6Y/s4ns/ECXpj+ziez8QJemP7OJ7PxAl6Y/s4ns/ECXpj+ziez8QJemP7OJ7PxAl6Y/s4ns/ECXpj+ziez8QJemP7OJ7PxAl6Y/s4ns/ECXpj+ziez8QJemP7OJ7PxAl6Y/s4ns/ECXpj+ziez8QJemP7OJ7PxAl6Y/s4ns/ECXpj+ziez8QJemP7OJ7PxAl6Y/s4ns/ECXpj+ziez8QJemP7OJ7PxAl6Y/s4ns/ECXpj+ziez8QJemP7OJ7PxAl6Y/s4ns/ECXpj+ziez8QJemP7OJ7PxAl6Y/s4ns/ECXpj+ziez8QJemP7OJ7PxAl6Y/s4ns/ECXpj+ziez8QJemP7OJ7PxAl6Y/s4ns/ECXpj+ziez8QJemP7OJ7PxAl6Y/s4ns/ECXpj+ziez8QJemP7OJ7PxAl6Y/s4ns/ECXpj+ziez8QJemP7OJ7PxAl6Y/s4ns/ECXpj+ziez8QJemP7OJ7PxAl6Y/s4ns/ECXpj+ziez8QJemP7OJ7PxAl6Y/s4ns/ECXpj+ziez8QJemP7OJ7PxAl6Y/s4ns/ECXpj+ziez8QJemP7OJ7PxAl6Y/s4ns/ECXpj+ziez8QJemP7OJ7PxAl6Y/s4ns/ECXpj+ziez8QJemP7OJ7PxAl6Y/s4ns/ECXpj+ziez8QJemP7OJ7PxAl6Y/s4ns/ECXpj+ziez8QJemP7OJ7PxAl6Y/s4ns/ECXpj+ziez8QJemP7OJ7PxAl6Y/s4ns/ECXpj+ziez8QJemP7OJ7PxAl6Y/s4ns/ECXpj+ziez8QJemP7OJ7PxAl6Y/s4ns/ECXpj+ziez8QJemP7OJ7PxAl6Y/s4ns/ECXpj+ziez8QJemP7OJ7PxAl6Y/s4ns/ECXpj+ziez8QJemP7OJ7PxAl6Y/s4ns/ECXpj+ziez8QJemP7OJ7PxAl6Y/s4ns/ECXpj+ziez8QJemP7OJ7PxAl6Y/s4ns/ECXpj+ziez8QJemP7OJ7PxAl6Y/s4ns/ECXpj+ziez8QJemP7OJ7PxAl6Y/s4ns/ECXpj+ziez8QJemP7OJ7PxAl6Y/s4ns/ECXpj+ziez8QJemP7OJ7PxAl6Y/s4ns/ECXpj+ziez8QJemP7OJ7PxAl6Y/s4ns/ECXpj+ziez8QJemP7OJ7PxAl6Y/s4ns/ECXpj+ziez8QJemP7OJ7PxAl6Y/s4ns/ECXpj+ziez8QJemP7OJ7PxAl6Y/s4ns/ECXpj+ziez8QJemP7OJ7PxAl6Y/s4ns/ECXpj+ziez8QJemP7OJ7PxAl6Y/s4ns/ECXpj+ziez8QJemP7OJ7PxAl6Y/s4ns/ECXpj+ziez8QJemP7OJ7PxAl6Y/s4ns/ECXpj+ziez8QJemP7OJ7PxAl6Y/s4ns/ECXpj+ziez8QJemP7OJ7PxAl6Y/s4ns/ECXpj+ziez8QJemP7OJ7PxAl6Y/s4ns/ECXpj+ziez8QJemP7OJ7PxAl6Y/s4ns/ECXpj+ziez8QJemP7OJ7PxAl6Y/s4ns/ECXpj+ziez8QJemP7OJ7PxAl6Y/s4ns/ECXpj+ziez8QJemP7OJ7PxAl6Y/s4ns/ECXpj+ziez8QJemP7OJ7PxAl6Y/s4ns/ECXpj+ziez8QJemP7OJ7PxAl6Y/s4ns/ECXpj+ziez8QJemP7OJ7PxAl6Y/s4ns/ECXpj+ziez8QJemP7OJ7PxAl6Y/s4ns/ECXpj+ziez8QJemP7OJ7PxAl6Y/s4ns/ECXpj+ziez8QJemP7OJ7PxAl6Y/s4ns/ECXpj+ziez8QJemP7OJ7PxAl6Y/s4ns/ECXpj+ziez8QJemP7OJ7PxAl6Y/s4ns/ECXpj+ziez8QJemP7OJ7PxAl6Y/s4ns/ECXpj+ziez8QJemP7OJ7PxAl6Y/s4ns/ECXpj+ziez8QJemP7OJ7PxAl6Y/s4ns/ECXpj+ziez8QJemP7OJ7PxAl6Y/s4ns/ECXpj+ziez8QJemP7OJ7PxAl6Y/s4ns/ECXpj+ziez8QJemP7OJ7PxAl6Y/s4ns/ECXpj+ziez8QJemP7OJ7PxAl6Y/s4ns/ECXpj+ziez8QJemP7OJ7PxAl6Y/s4ns/ECXpj+ziez8QJemP7OJ7PxAl6Y/s4ns/ECXpj+ziez8QJemP7OJ7PxAl6Y/s4ns/ECXpj+ziez8QJemP7OJ7PxAl6Y/s4ns/ECXpj+ziez8QJemP7OJ7PxAl6Y/s4ns/ECXpj+ziez8QJemP7OJ7PxAl6Y/s4ns/ECXpj+ziez8QJemP7OJ7PxAl6Y/s4ns/ECXpj+ziez8QJemP7OJ7PxAl6Y/s4ns/ECXpj+ziez8QJemP7OJ7PxAl6Y/s4ns/ECXpj+ziez8QJemP7OJ7PxAl6Y/s4ns/ECXpj+ziez8QJemP7OJ7PxAl6Y/s4ns/ECXpj+ziez8QJemP7OJ7PxAl6Y/s4ns/ECXpj+ziez8QJemP7OJ7PxAl6Y/s4ns/ECXpj+ziez8QJemP7OJ7PxAl6Y/s4ns/ECXpj+ziez8QJemP7OJ7PxAl6Y/s4ns/ECXpj+ziez8QJemP7OJ7PxAl6Y/s4ns/ECXpj+ziez8QJemP7OJ7PxAl6Y/s4ns/ECXpj+ziez8QJemP7OJ7PxAl6Y/s4ns/ECXpj+ziez8QJemP7OJ7PxAl6Y/s4ns/ECXpj+ziez8QJemP7OJ7PxAl6Y/s4ns/ECXpj+ziez8QJemP7OJ7PxAl6Y/s4ns/ECXpj+ziez8QJemP7OJ7PxAl6Y/s4ns/ECXpj+ziez8QJemP7OJ7PxAl6Y/s4ns/ECXpj+ziez8QJemP7OJ7PxAl6Y/s4ns/ECXpj+ziez8QJemP7OJ7PxAl6Y/s4ns/ECXpj+ziez8QJemP7OJ7PxAl6Y/s4ns/ECXpj+ziez8QJemP7OJ7PxAl6Y/s4ns/ECXpj+ziez8QJemP7OJ7PxAl6Y/s4ns/ECXpj+ziez8QJemP7OJ7PxAl6Y/s4ns/ECXpj+ziez8QJemP7OJ7PxAl6Y/s4ns/ECXpj+ziez8QJemP7OJ7PxAl6Y/s4ns/ECXpj+ziez8QJemP7OJ7PxAl6Y/s4ns/ECXpj+ziez8QJemP7OJ7PxAl6Y/s4ns/ECXpj+ziez8QJemP7OJ7PxAl6Y/s4ns/ECXpj+ziez8QJemP7OJ7PxAl6Y/s4ns/ECXpj+ziez8QJemP7OJ7PxAl6Y/s4ns/ECXpj+ziez8QJemP7OJ7PxAl6Y/s4ns/ECXpj+ziez8QJemP7OJ7PxAl6Y/s4ns/ECXpj+ziez8QJemP7OJ7PxAl6Y/s4ns/ECXpj+ziez8QJemP7OJ7PxAl6Y/s4ns/ECXpj+ziez8QJemP7OJ7PxAl6Y/s4ns/ECXpj+ziez8QJemP7OJ7PxAl6Y/s4ns/ECXpj+ziez8QJemP7OJ7PxAl6Y/s4ns/ECXpj+ziez8QJemP7OJ7PxAl6Y/s4ns/ECXpj+ziez8QJemP7OJ7PxAl6Y/s4ns/ECXpj+ziez8QJemP7OJ7PxAl6Y/s4ns/ECXpj+ziez8QJemP7OJ7PxAl6Y/s4ns/ECXpj+ziez8QJemP7OJ7PxAl6Y/s4ns/ECXpj+ziez8QJemP7OJ7PxAl6Y/s4ns/ECXpj+ziez8QJemP7OJ7PxAl6Y/s4ns/ECXpj+ziez8QJemP7OJ7PxAl6Y/s4ns/ECXpj+ziez8QJemP7OJ7PxAl6Y/s4ns/ECXpj+ziez8QJemP7OJ7PxAl6Y/s4ns/ECXpj+ziez8QJemP7OJ7PxAl6Y/s4ns/ECXpj+ziez8QJemP7OJ7PxAl6Y/s4ns/ECXpj+ziez8QJemP7OJ7PxAl6Y/s4ns/ECXpj+ziez8QJemP7OJ7PxAl6Y/s4ns/ECXpj+ziez8QJemP7OJ7PxAl6Y/s4ns/ECXpj+ziez8QJemP7OJ7PxAl6Y/s4ns/ECXpj+ziez8QJemP7OJ7PxAl6Y/s4ns/ECXpj+ziez8QJemP7OJ7PxAl6Y/s4ns/ECXpj+ziez8QJemP7OJ7PxAl6Y/s4ns/ECXpj+ziez8QJemP7OJ7PxAl6Y/s4ns/ECXpj+ziez8QJemP7OJ7PxAl6Y/s4ns/ECXpj+ziez8QJemP7OJ7PxAl6Y/s4ns/ECXpj+ziez8QJemP7OJ7PxAl6Y/s4ns/ECXpj+ziez8QJemP7OJ7PxAl6Y/s4ns/ECXpj+ziez8QJemP7OJ7PxAl6Y/s4ns/ECXpj+ziez8QJemP7OJ7PxAl6Y/s4ns/ECXpj+ziez8QJemP7OJ7PxAl6Y/s4ns/ECXpj+ziez8QJemP7OJ7PxAl6Y/s4ns/ECXpj+ziez8QJemP7OJ7PxAl6Y/s4ns/ECXpj+ziez8QJemP7OJ7PxAl6Y/s4ns/ECXpj+ziez8QJemP7OJ7PxAl6Y/s4ns/ECXpj+ziez8QJemP7OJ7PxAl6Y/s4ns/ECXpj+ziez8QJemP7OJ7PxAl6Y/s4ns/ECXpj+ziez8QJemP7OJ7PxAl6Y/s4ns/ECXpj+ziez8QJemP7OJ7PxAl6Y/s4ns/ECXpj+ziez8QJemP7OJ7PxAl6Y/s4ns/ECXpj+ziez8QJemP7OJ7PxAl6Y/s4ns/ECXpj+ziez8QJemP7OJ7PxAl6Y/s4ns/ECXpj+ziez8QJemP7OJ7PxAl6Y/s4ns/ECXpj+ziez8QJemP7OJ7PxAl6Y/s4ns/ECXpj+ziez8QJemP7OJ7PxAl6Y/s4ns/ECXpj+ziez8QJemP7OJ7PxAl6Y/s4ns/ECXpj+ziez8QJemP7OJ7PxAl6Y/s4ns/ECXpj+ziez8QJemP7OJ7PxAl6Y/s4ns/ECXpj+ziez8QJemP7OJ7PxAl6Y/s4ns/ECXpj+ziez8QJemP7OJ7PxAl6Y/s4ns/ECXpj+ziez8QJemP7OJ7PxAl6Y/s4ns/ECXpj+ziez8QJemP7OJ7PxAl6Y/s4ns/ECXpj+ziez8QJemP7OJ7PxAl6Y/s4ns/ECXpj+ziez8QJemP7OJ7PxAl6Y/s4ns/ECXpj+ziez8QJemP7OJ7PxAl6Y/s4ns/ECXpj+ziez8QJemP7OJ7PxAl6Y/s4ns/ECXpj+ziez8QJemP7OJ7PxAl6Y/s4ns/ECXpj+ziez8QJemP7OJ7PxAl6Y/s4ns/ECXpj+ziez8QJemP7OJ7PxAl6Y/s4ns/ECXpj+ziez8QJemP7OJ7PxAl6Y/s4ns/ECXpj+ziez8QJemP7OJ7PxAl6Y/s4ns/ECXpj+ziez8QJemP7OJ7PxAl6Y/s4ns/ECXpj+ziez8QJemP7OJ7PxAl6Y/s4ns/ECXpj+ziez8QJemP7OJ7PxAl6Y/s4ns/ECXpj+ziez8QJemP7OJ7PxAl6Y/s4ns/ECXpj+ziez8QJemP7OJ7PxAl6Y/s4ns/ECXpj+ziez8QJemP7OJ7PxAl6Y/s4ns/ECXpj+ziez8QJemP7OJ7PxAl6Y/s4ns/ECXpj+ziez8QJemP7OJ7PxAl6Y/s4ns/ECXpj+ziez8QJemP7OJ7PxAl6Y/s4ns/ECXpj+ziez8QJemP7OJ7PxAl6Y/s4ns/ECXpj+ziez8QJemP7OJ7PxAl6Y/s4ns/ECXpj+ziez8QJemP7OJ7PxAl6Y/s4ns/ECXpj+ziez8QJemP7OJ7PxAl6Y/s4ns/ECXpj+ziez8QJemP7OJ7PxAl6Y/s4ns/ECXpj+ziez8QJemP7OJ7PxAl6Y/s4ns/ECXpj+ziez8QJemP7OJ7PxAl6Y/s4ns/ECXpj+ziez8QJemP7OJ7PxAl6Y/s4ns/ECXpj+ziez8QJemP7OJ7PxAl6Y/s4ns/ECXpj+ziez8QJemP7OJ7PxAl6Y/s4ns/ECXpj+ziez8QJemP7OJ7PxAl6Y/s4ns/ECXpj+ziez8QJemP7OJ7PxAl6Y/s4ns/ECXpj+ziez8QJemP7OJ7PxAl6Y/s4ns/ECXpj+ziez8QJemP7OJ7PxAl6Y/s4ns/ECXpj+ziez8QJemP7OJ7PxAl6Y/s4ns/ECXpj+ziez8QJemP7OJ7PxAl6Y/s4ns/ECXpj+ziez8QJemP7OJ7PxAl6Y/s4ns/ECXpj+ziez8QJemP7OJ7PxAl6Y/s4ns/ECXpj+ziez8QJemP7OJ7PxAl6Y/s4ns/ECXpj+ziez8QJemP7OJ7PxAl6Y/s4ns/ECXpj+ziez8QJemP7OJ7PxAl6Y/s4ns/ECXpj+ziez8QJemP7OJ7PxAl6Y/s4ns/ECXpj+ziez8QJemP7OJ7PxAl6Y/s4ns/ECXpj+ziez8QJemP7OJ7PxAl6Y/s4ns/ECXpj+ziez8QJemP7OJ7PxAl6Y/s4ns/ECXpj+ziez8QJemP7OJ7PxAl6Y/s4ns/ECXpj+ziez8QJemP7OJ7PxAl6Y/s4ns/ECXpj+ziez8QJemP7OJ7PxAl6Y/s4ns/ECXpj+ziez8QJemP7OJ7PxAl6Y/s4ns/ECXpj+ziez8QJemP7OJ7PxAl6Y/s4ns/ECXpj+ziez8QJemP7OJ7PxAl6Y/s4ns/ECXpj+ziez8QJemP7OJ7PxAl6Y/s4ns/ECXpj+ziez8QJemP7OJ7PxAl6Y/s4ns/ECXpj+ziez8QJemP7OJ7PxAl6Y/s4ns/ECXpj+ziez8QJemP7OJ7PxAl6Y/s4ns/ECXpj+ziez8QJemP7OJ7PxAl6Y/s4ns/ECXpj+ziez8QJemP7OJ7PxAl6Y/s4ns/ECXpj+ziez8QJemP7OJ7PxAl6Y/s4ns/ECXpj+ziez8QJemP7OJ7PxAl6Y/s4ns/ECXpj+ziez8QJemP7OJ7PxAl6Y/s4ns/ECXpj+ziez8QJemP7OJ7PxAl6Y/s4ns/ECXpj+ziez8QJemP7OJ7PxAl6Y/s4ns/ECXpj+ziez8QJemP7OJ7PxAl6Y/s4ns/ECXpj+ziez8QJemP7OJ7PxAl6Y/s4ns/ECXpj+ziez8QJemP7OJ7PxAl6Y/s4ns/ECXpj+ziez8QJemP7OJ7PxAl6Y/s4ns/ECXpj+ziez8QJemP7OJ7PxAl6Y/s4ns/ECXpj+ziez8QJemP7OJ7PxAl6Y/s4ns/ECXpj+ziez8QJemP7OJ7PxAl6Y/s4ns/ECXpj+ziez8QJemP7OJ7PxAl6Y/s4ns/ECXpj+ziez8QJemP7OJ7PxAl6Y/s4ns/ECXpj+ziez8QJemP7OJ7PxAl6Y/s4ns/ECXpj+ziez8QJemP7OJ7PxAl6Y/s4ns/ECXpj+ziez8QJemP7OJ7PxAl6Y/s4ns/ECXpj+ziez8QJemP7OJ7PxAl6Y/s4ns/ECXpj+ziez8QJemP7OJ7PxAl6Y/s4ns/ECXpj+ziez8QJemP7OJ7PxAl6Y/s4ns/ECXpj+ziez8QJemP7OJ7PxAl6Y/s4ns/ECXpj+ziez8QJemP7OJ7PxAl6Y/s4ns/ECXpj+ziez8QJemP7OJ7PxAl6Y/s4ns/ECXpj+ziez8QJemP7OJ7PxAl6Y/s4ns/ECXpj+ziez8QJemP7OJ7PxAl6Y/s4ns/ECXpj+ziez8QJemP7OJ7PxAl6Y/s4ns/ECXpj+ziez8QJemP7OJ7PxAl6Y/s4ns/ECXpj+ziez8QJemP7OJ7PxAl6Y/s4ns/ECXpj+ziez8QJemP7OJ7PxAl6Y/s4ns/ECXpj+ziez8QJemP7OJ7PxAl6Y/s4ns/ECXpj+ziez8QJemP7OJ7PxAl6Y/s4ns/ECXpj+ziez8QJemP7OJ7PxAl6Y/s4ns/ECXpj+ziez8QJemP7OJ7PxAl6Y/s4ns/ECXpj+ziez8QJemP7OJ7PxAl6Y/s4ns/ECXpj+ziez8QJemP7OJ7PxAl6Y/s4ns/ECXpj+ziez8QJemP7OJ7PxAl6Y/s4ns/ECXpj+ziez8QJemP7OJ7PxAl6Y/s4ns/ECXpj+ziez8QJemP7OJ7PxAl6Y/s4ns/ECXpj+ziez8QJemP7OJ7PxAl6Y/s4ns/ECXpj+ziez8QJemP7OJ7PxAl6Y/s4ns/ECXpj+ziez8QJemP7OJ7PxAl6Y/s4ns/ECXpj+ziez8QJemP7OJ7PxAl6Y/s4ns/ECXpj+ziez8QJemP7OJ7PxAl6Y/s4ns/ECXpj+ziez8QJemP7OJ7PxAl6Y/s4ns/ECXpj+ziez8QJemP7OJ7PxAl6Y/s4ns/ECXpj+ziez8QJemP7OJ7PxAl6Y/s4ns/ECXpj+ziez8QJemP7OJ7PxAl6Y/s4ns/ECXpj+ziez8QJemP7OJ7PxAl6Y/s4ns/ECXpj+ziez8QJemP7OJ7PxAl6Y/s4ns/ECXpj+ziez8QJemP7OJ7PxAl6Y/s4ns/ECXpj+ziez8QJemP7OJ7PxAl6Y/s4ns/ECXpj+ziez8QJemP7OJ7PxAl6Y/s4ns/ECXpj+ziez8QJemP7OJ7PxAl6Y/s4ns/ECXpj+ziez8QJemP7OJ7PxAl6Y/s4ns/ECXpj+ziez8QJemP7OJ7PxAl6Y/s4ns/ECXpj+ziez8QJemP7OJ7PxAl6Y/s4ns/ECXpj+ziez8QJemP7OJ7PxAl6Y/s4ns/ECXpj+ziez8QJemP7OJ7PxAl6Y/s4ns/ECXpj+ziez8QJemP7OJ7PxAl6Y/s4ns/ECXpj+ziez8QJemP7OJ7PxAl6Y/s4ns/ECXpj+ziez8QJemP7OJ7PxAl6Y/s4ns/ECXpj+ziez8QJemP7OJ7PxAl6Y/s4ns/ECXpj+ziez8QJemP7OJ7PxAl6Y/s4ns/ECXpj+ziez8QJemP7OJ7PxAl6Y/s4ns/ECXpj+ziez8QJemP7OJ7PxAl6Y/s4ns/ECXpj+ziez8QJemP7OJ7PxAl6Y/s4ns/ECXpj+ziez8QJemP7OJ7PxAl6Y/s4ns/ECXpj+ziez8QJemP7OJ7PxAl6Y/s4ns/ECXpj+ziez8QJemP7OJ7PxAl6Y/s4ns/ECXpj+ziez8QJemP7OJ7PxAl6Y/s4ns/ECXpj+ziez8QJemP7OJ7PxAl6Y/s4ns/ECXpj+ziez8QJemP7OJ7PxAl6Y/s4ns/ECXpj+ziez8QJemP7OJ7PxAl6Y/s4ns/ECXpj+ziez8QJemP7OJ7PxAl6Y/s4ns/ECXpj+ziez8QJemP7OJ7PxAl6Y/s4ns/ECXpj+ziez8QJemP7OJ7PxAl6Y/s4ns/ECXpj+ziez8QJemP7OJ7PxAl6Y/s4ns/ECXpj+ziez8QJemP7OJ7PxAl6Y/s4ns/ECXpj+ziez8QJemP7OJ7PxAl6Y/s4ns/ECXpj+ziez8QJemP7OJ7PxAl6Y/s4ns/ECXpj+ziez8QJemP7OJ7PxAl6Y/s4ns/ECXpj+ziez8QJemP7OJ7PxAl6Y/s4ns/ECXpj+ziez8QJemP7OJ7PxAl6Y/s4ns/ECXpj+ziez8QJemP7OJ7PxAl6Y/s4ns/ECXpj+ziez8QJemP7OJ7PxAl6Y/s4ns/ECXpj+ziez8QJemP7OJ7PxAl6Y/s4ns/ECXpj+ziez8QJemP7OJ7PxAl6Y/s4ns/ECXpj+ziez8QJemP7OJ7PxAl6Y/s4ns/ECXpj+ziez8QJemP7OJ7PxAl6Y/s4ns/ECXpj+ziez8QJemP7OJ7PxAl6Y/s4ns/ECXpj+ziez8QJemP7OJ7PxAl6Y/s4ns/ECXpj+ziez8QJemP7OJ7PxAl6Y/s4ns/ECXpj+ziez8QJemP7OJ7PxAl6Y/s4ns/ECXpj+ziez8QJemP7OJ7PxAl6Y/s4ns/ECXpj+ziez8QJemP7OJ7PxAl6Y/s4ns/ECXpj+ziez8QJemP7OJ7PxAl6Y/s4ns/ECXpj+ziez8QJemP7OJ7PxAl6Y/s4ns/ECXpj+ziez8QJemP7OJ7PxAl6Y/s4ns/ECXpj+ziez8QJemP7OJ7PxAl6Y/s4ns/ECXpj+ziez8QJemP7OJ7PxAl6Y/s4ns/ECXpj+ziez8QJemP7OJ7PxAl6Y/s4ns/ECXpj+ziez8QJemP7OJ7PxAl6Y/s4ns/ECXpj+ziez8QJemP7OJ7PxAl6Y/s4ns/ECXpj+ziez8QJemP7OJ7PxAl6Y/s4ns/ECXpj+ziez8QJemP7OJ7PxAl6Y/s4ns/ECXpj+ziez8QJemP7OJ7PxAl6Y/s4ns/ECXpj+ziez8QJemP7OJ7PxAl6Y/s4ns/ECXpj+ziez8QJemP7OJ7PxAl6Y/s4ns/ECXpj+ziez8QJemP7OJ7PxAl6Y/s4ns/ECXpj+ziez8QJemP7OJ7PxAl6Y/s4ns/ECXpj+ziez8QJemP7OJ7PxAl6Y/s4ns/ECXpj+ziez8QJemP7OJ7PxAl6Y/s4ns/ECXpj+ziez8QJemP7OJ7PxAl6Y/s4ns/ECXpj+ziez8QJemP7OJ7PxAl6Y/s4ns/ECXpj+ziez8QJemP7OJ7PxAl6Y/s4ns/ECXpj+ziez8QJemP7OJ7PxAl6Y/s4ns/ECXpj+ziez8QJemP7OJ7PxAl6Y/s4ns/ECXpj+ziez8QJemP7OJ7PxAl6Y/s4ns/ECXpj+ziez8QJemP7OJ7PxAl6Y/s4ns/ECXpj+ziez8QJemP7OJ7PxAl6Y/s4ns/ECXpj+ziez8QJemP7OJ7PxAl6Y/s4ns/ECXpj+ziez8QJemP7OJ7PxAl6Y/s4ns/ECXpj+ziez8QJemP7OJ7PxAl6Y/s4ns/ECXpj+ziez8QJemP7OJ7PxAl6Y/s4ns/ECXpj+ziez8QJemP7OJ7PxAl6Y/s4ns/ECXpj+ziez8QJemP7OJ7PxAl6Y/s4ns/ECXpj+ziez8QJemP7OJ7PxAl6Y/s4ns/ECXpj+ziez8QJemP7OJ7PxAl6Y/s4ns/ECXpj+ziez8QJemP7OJ7PxAl6Y/s4ns/ECXpj+ziez8QJemP7OJ7PxAl6Y/s4ns/ECXpj+ziez8QJemP7OJ7PxAl6Y/s4ns/ECXpj+ziez8QJemP7OJ7PxAl6Y/s4ns/ECXpj+ziez8QJemP7OJ7PxAl6Y/s4ns/ECXpj+ziez8QJemP7OJ7PxAl6Y/s4ns/ECXpj+ziez8QJemP7OJ7PxAl6Y/s4ns/ECXpj+ziez8QJemP7OJ7PxAl6Y/s4ns/ECXpj+ziez8QJemP7OJ7PxAl6Y/s4ns/ECXpj+ziez8QJemP7OJ7PxAl6Y/s4ns/ECXpj+ziez8QJemP7OJ7PxAl6Y/s4ns/ECXpj+ziez8QJemP7OJ7PxAl6Y/s4ns/ECXpj+ziez8QJemP7OJ7PxAl6Y/s4ns/ECXpj+ziez8QJemP7OJ7PxAl6Y/s4ns/ECXpj+ziez8QJemP7OJ7PxAl6Y/s4ns/ECXpj+ziez8QJemP7OJ7PxAl6Y/s4ns/ECXpj+ziez8QJemP7OJ7PxAl6Y/s4ns/ECXpj+ziez8QJemP7OJ7PxAl6Y/s4ns/ECXpj+ziez8QJemP7OJ7PxAl6Y/s4ns/ECXpj+ziez8QJemP7OJ7PxAl6Y/s4ns/ECXpj+ziez8QJemP7OJ7PxAl6Y/s4ns/ECXpj+ziez8QJemP7OJ7PxAl6Y/s4ns/ECXpj+ziez8QJemP7OJ7PxAl6Y/s4ns/ECXpj+ziez8QJemP7OJ7PxAl6Y/s4ns/ECXpj+ziez8QJemP7OJ7PxAl6Y/s4ns/ECXpj+ziez8QJemP7OJ7PxAl6Y/s4ns/ECXpj+ziez8QJemP7OJ7PxAl6Y/s4ns/ECXpj+ziez8QJemP7OJ7PxAl6Y/s4ns/ECXpj+ziez8QJemP7OJ7PxAl6Y/s4ns/ECXpj+ziez8QJemP7OJ7PxAl6Y/s4ns/ECXpj+ziez8QJemP7OJ7PxAl6Y/s4ns/ECXpj+ziez8QJemP7OJ7PxAl6Y/s4ns/ECXpj+ziez8QJemP7OJ7PxAl6Y/s4ns/ECXpj+ziez8QJemP7OJ7PxAl6Y/s4ns/ECXpj+ziez8QJemP7OJ7PxAl6Y/s4ns/ECXpj+ziez8QJemP7OJ7PxAl6Y/s4ns/ECXpj+ziez8QJemP7OJ7PxAl6Y/s4ns/ECXpj+ziez8QJemP7OJ7PxAl6Y/s4ns/ECXpj+ziez8QJemP7OJ7PxAl6Y/s4ns/ECXpj+ziez8QJemP7OJ7PxAl6Y/s4ns/ECXpj+ziez8QJemP7OJ7PxAl6Y/s4ns/ECXpj+ziez8QJemP7OJ7PxAl6Y/s4ns/ECXpj+ziez8QJemP7OJ7PxAl6Y/s4ns/ECXpj+ziez8QJemP7OJ7PxAl6Y/s4ns/ECXpj+ziez8QJemP7OJ7PxAl6Y/s4ns/ECXpj+ziez8QJemP7OJ7PxAl6Y/s4ns/ECXpj+ziez8QJemP7OJ7PxAl6Y/s4ns/ECXpj+ziez8QJemP7OJ7PxAl6Y/s4ns/ECXpj+ziez8QJemP7OJ7PxAl6Y/s4ns/ECXpj+ziez8QJemP7OJ7PxAl6Y/s4ns/ECXpj+ziez8QJemP7OJ7PxAl6Y/s4ns/ECXpj+ziez8QJemP7OJ7PxAl6Y/s4ns/ECXpj+ziez8QJemP7OJ7PxAl6Y/s4ns/ECXpj+ziez8QJemP7OJ7PxAl6Y/s4ns/ECXpj+ziez8QJemP7OJ7PxAl6Y/s4ns/ECXpj+ziez8QJemP7OJ7PxAl6Y/s4ns/ECXpj+ziez8QJemP7OJ7PxAl6Y/s4ns/ECXpj+ziez8QJemP7OJ7PxAl6Y/s4ns/ECXpj+ziez8QJemP7OJ7PxAl6Y/s4ns/ECXpj+ziez8QJemP7OJ7PxAl6Y/s4ns/ECXpj+ziez8QJemP7OJ7PxAl6Y/s4ns/ECXpj+ziez8QJemP7OJ7PxAl6Y/s4ns/ECXpj+ziez8QJemP7OJ7PxAl6Y/s4ns/ECXpj+ziez8QJemP7OJ7PxAl6Y/s4ns/ECXpj+ziez8QJemP7OJ7PxAl6Y/s4ns/ECXpj+ziez8QJemP7OJ7PxAl6Y/s4ns/ECXpj+ziez8QJemP7OJ7PxAl6Y/s4ns/ECXpj+ziez8QJemP7OJ7PxAl6Y/s4ns/ECXpj+ziez8QJemP7OJ7PxAl6Y/s4ns/ECXpj+ziez8QJemP7OJ7PxAl6Y/s4ns/ECXpj+ziez8QJemP7OJ7PxAl6Y/s4ns/ECXpj+ziez8QJemP7OJ7PxAl6Y/s4ns/ECXpj+ziez8QJemP7OJ7PxAl6Y/s4ns/ECXpj+ziez8QJemP7OJ7PxAl6Y/s4ns/ECXpj+ziez8QJemP7OJ7PxAl6Y/s4ns/ECXpj+ziez8QJemP7OJ7PxAl6Y/s4ns/ECXpj+ziez8QJemP7OJ7PxAl6Y/s4ns/ECXpj+ziez8QJemP7OJ7PxAl6Y/s4ns/ECXpj+ziez8QJemP7OJ7PxAl6Y/s4ns/ECXpj+ziez8QJemP7OJ7PxAl6Y/s4ns/ECXpj+ziez8QJemP7OJ7PxAl6Y/s4ns/ECXpj+ziez8QJemP7OJ7PxAl6Y/s4ns/ECXpj+ziez8QJemP7OJ7PxAl6Y/s4ns/ECXpj+ziez8QJemP7OJ7PxAl6Y/s4ns/ECXpj+ziez8QJemP7OJ7PxAl6Y/s4ns/ECXpj+ziez8QJemP7OJ7PxAl6Y/s4ns/ECXpj+ziez8QJemP7OJ7PxAl6Y/s4ns/ECXpj+ziez8QJemP7OJ7PxAl6Y/s4ns/ECXpj+ziez8QJemP7OJ7PxAl6Y/s4ns/ECXpj+ziez8QJemP7OJ7PxAl6Y/s4ns/ECXpj+ziez8QJemP7OJ7PxAl6Y/s4ns/ECXpj+ziez8QJemP7OJ7PxAl6Y/s4ns/ECXpj+ziez8QJemP7OJ7PxAl6Y/s4ns/ECXpj+ziez8QJemP7OJ7PxAl6Y/s4ns/ECXpj+ziez8QJemP7OJ7PxAl6Y/s4ns/ECXpj+ziez8QJemP7OJ7PxAl6Y/s4ns/ECXpj+ziez8QJemP7OJ7PxAl6Y/s4ns/ECXpj+ziez8QJemP7OJ7PxAl6Y/s4ns/ECXpj+ziez8QJemP7OJ7PxAl6Y/s4ns/ECXpj+ziez8QJemP7OJ7PxAl6Y/s4ns/ECXpj+ziez8QJemP7OJ7PxAl6Y/s4ns/ECXpj+ziez8QJemP7OJ7PxAl6Y/s4ns/ECXpj+ziez8QJemP7OJ7PxAl6Y/s4ns/ECXpj+ziez8QJemP7OJ7PxAl6Y/s4ns/ECXpj+ziez8QJemP7OJ7PxAl6Y/s4ns/ECXpj+ziez8QJemP7OJ7PxAl6Y/s4ns/ECXpj+ziez8QJemP7OJ7PxAl6Y/s4ns/ECXpj+ziez8QJemP7OJ7PxAl6Y/s4ns/ECXpj+ziez8QJemP7OJ7PxAl6Y/s4ns/ECXpj+ziez8QJemP7OJ7PxAl6Y/s4ns/ECXpj+ziez8QJemP7OJ7PxAl6Y/s4ns/ECXpj+ziez8QJemP7OJ7PxAl6Y/s4ns/ECXpj+ziez8QJemP7OJ7PxAl6Y/s4ns/ECXpj+ziez8QJemP7OJ7PxAl6Y/s4ns/ECXpj+ziez8QJemP7OJ7PxAl6Y/s4ns/ECXpj+ziez8QJemP7OJ7PxAl6Y/s4ns/ECXpj+ziez8QJemP7OJ7PxAl6Y/s4ns/ECXpj+ziez8QJemP7OJ7PxAl6Y/s4ns/ECXpj+ziez8QJemP7OJ7PxAl6Y/s4ns/ECXpj+ziez8QJemP7OJ7PxAl6Y/s4ns/ECXpj+ziez8QJemP7OJ7PxAl6Y/s4ns/ECXpj+ziez8QJemP7OJ7PxAl6Y/s4ns/ECXpj+ziez8QJemP7OJ7PxAl6Y/s4ns/ECXpj+ziez8QJemP7OJ7PxAl6Y/s4ns/ECXpj+ziez8QJemP7OJ7PxAl6Y/s4ns/ECXpj+ziez8QJemP7OJ7PxAl6Y/s4ns/ECXpj+ziez8QJemP7OJ7PxAl6Y/s4ns/ECXpj+ziez8QJemP7OJ7PxAl6Y/s4ns/ECXpj+ziez8QJemP7OJ7PxAl6Y/s4ns/ECXpj+ziez8QJemP7OJ7PxAl6Y/s4ns/ECXpj+ziez8QJemP7OJ7PxAl6Y/s4ns/ECXpj+ziez8QJemP7OJ7PxAl6Y/s4ns/ECXpj+ziez8QJemP7OJ7PxAl6Y/s4ns/ECXpj+ziez8QJemP7OJ7PxAl6Y/s4ns/ECXpj+ziez8QJemP7OJ7PxAl6Y/s4ns/ECXpj+ziez8QJemP7OJ7PxAl6Y/s4ns/ECXpj+ziez8QJemP7OJ7PxAl6Y/s4ns/ECXpj+ziez8QJemP7OJ7PxAl6Y/s4ns/ECXpj+ziez8QJemP7OJ7PxAl6Y/s4ns/ECXpj+ziez8QJemP7OJ7PxAl6Y/s4ns/ECXpj+ziez8QJemP7OJ7PxAl6Y/s4ns/ECXpj+ziez8QJemP7OJ7PxAl6Y/s4ns/ECXpj+ziez8QJemP7OJ7PxAl6Y/s4ns/ECXpj+ziez8QJemP7OJ7PxAl6Y/s4ns/ECXpj+ziez8QJemP7OJ7PxAl6Y/s4ns/ECXpj+ziez8QJemP7OJ7PxAl6Y/s4ns/ECXpj+ziez8QJemP7OJ7PxAl6Y/s4ns/ECXpj+ziez8QJemP7OJ7PxAl6Y/s4ns/ECXpj+ziez8QJemP7OJ7PxAl6Y/s4ns/ECXpj+ziez8QJemP7OJ7PxAl6Y/s4ns/ECXpj+ziez8QJemP7OJ7PxAl6Y/s4ns/ECXpj+ziez8QJemP7OJ7PxAl6Y/s4ns/ECXpj+ziez8QJemP7OJ7PxAl6Y/s4ns/ECXpj+ziez8QJemP7OJ7PxAl6Y/s4ns/ECXpj+ziez8QJemP7OJ7PxAl6Y/s4ns/ECXpj+ziez8QJemP7OJ7PxAl6Y/s4ns/ECXpj+ziez8QJemP7OJ7PxAl6Y/s4ns/ECXpj+ziez8QJemP7OJ7PxAl6Y/s4ns/ECXpj+ziez8QJemP7OJ7PxAl6Y/s4ns/ECXpj+ziez8QJemP7OJ7PxAl6Y/s4ns/ECXpj+ziez8QJemP7OJ7PxAl6Y/s4ns/ECXpj+ziez8QJemP7OJ7PxAl6Y/s4ns/ECXpj+ziez8QJemP7OJ7PxAl6Y/s4ns/ECXpj+ziez8QJemP7OJ7PxAl6Y/s4ns/ECXpj+ziez8QJemP7OJ7PxAl6Y/s4ns/ECXpj+ziez8QJemP7OJ7PxAl6Y/s4ns/ECXpj+ziez8QJemP7OJ7PxAl6Y/s4ns/ECXpj+ziez8QJemP7OJ7PxAl6Y/s4ns/ECXpj+ziez8QJemP7OJ7PxAl6Y/s4ns/ECXpj+ziez8QJemP7OJ7PxAl6Y/s4ns/ECXpj+ziez8QJemP7OJ7PxAl6Y/s4ns/ECXpj+ziez8QJemP7OJ7PxAl6Y/s4ns/ECXpj+ziez8QJemP7OJ7PxAl6Y/s4ns/ECXpj+ziez8QJemP7OJ7PxAl6Y/s4ns/ECXpj+ziez8QJemP7OJ7PxAl6Y/s4ns/ECXpj+ziez8QJemP7OJ7PxAl6Y/s4ns/ECXpj+ziez8QJemP7OJ7PxAl6Y/s4ns/ECXpj+ziez8QJemP7OJ7PxAl6Y/s4ns/ECXpj+ziez8QJemP7OJ7PxAl6Y/s4ns/ECXpj+ziez8QJemP7OJ7PxAl6Y/s4ns/ECXpj+ziez8QJemP7OJ7PxAl6Y/s4ns/ECXpj+ziez8QJemP7OJ7PxAl6Y/s4ns/ECXpj+ziez8QJemP7OJ7PxAl6Y/s4ns/ECXpj+ziez8QJemP7OJ7PxAl6Y/s4ns/ECXpj+ziez8QJemP7OJ7PxAl6Y/s4ns/ECXpj+ziez8QJemP7OJ7PxAl6Y/s4ns/ECXpj+ziez8QJemP7OJ7PxAl6Y/s4ns/ECXpj+ziez8QJemP7OJ7PxAl6Y/s4ns/ECXpj+ziez8QJemP7OJ7PxAl6Y/s4ns/ECXpj+ziez8QJemP7OJ7PxAl6Y/s4ns/ECXpj+ziez8QJemP7OJ7PxAl6Y/s4ns/ECXpj+ziez8QJemP7OJ7PxAl6Y/s4ns/ECXpj+ziez8QJemP7OJ7PxAl6Y/s4ns/ECXpj+ziez8QJemP7OJ7PxAl6Y/s4ns/ECXpj+ziez8QJemP7OJ7PxAl6Y/s4ns/ECXpj+ziez8QJemP7OJ7PxAl6Y/s4ns/ECXpj+ziez8QJemP7OJ7PxAl6Y/s4ns/ECXpj+ziez8QJemP7OJ7PxAl6Y/s4ns/ECXpj+ziez8QJemP7OJ7PxAl6Y/s4ns/ECXpj+ziez8QJemP7OJ7PxAl6Y/s4ns/ECXpj+ziez8QJemP7OJ7PxAl6Y/s4ns/ECXpj+ziez8QJemP7OJ7PxAl6Y/s4ns/ECXpj+ziez8QJemP7OJ7PxAl6Y/s4ns/ECXpj+ziez8QJemP7OJ7PxAl6Y/s4ns/ECXpj+ziez8QJemP7OJ7PxAl6Y/s4ns/ECXpj+ziez8QJemP7OJ7PxAl6Y/s4ns/ECXpj+ziez8QJemP7OJ7PxAl6Y/s4ns/ECXpj+ziez8QJemP7OJ7PxAl6Y/s4ns/ECXpj+ziez8QJemP7OJ7PxAl6Y/s4ns/ECXpj+ziez8QJemP7OJ7PxAl6Y/s4ns/ECXpj+ziez8QJemP7OJ7PxAl6Y/s4ns/ECXpj+ziez8QJemP7OJ7PxAl6Y/s4ns/ECXpj+ziez8QJemP7OJ7PxAl6Y/s4ns/ECXpj+ziez8QJemP7OJ7PxAl6Y/s4ns/ECXpj+ziez8QJemP7OJ7PxAl6Y/s4ns/ECXpj+ziez8QJemP7OJ7PxAl6Y/s4ns/ECXpj+ziez8QJemP7OJ7PxAl6Y/s4ns/ECXpj+ziez8QJemP7OJ7PxAl6Y/s4ns/ECXpj+ziez8QJemP7OJ7PxAl6Y/s4ns/ECXpj+ziez8QJemP7OJ7PxAl6Y/s4ns/ECXpj+ziez8QJemP7OJ7PxAl6Y/s4ns/ECXpj+ziez8QJemP7OJ7PxAl6Y/s4ns/ECXpj+ziez8QJemP7OJ7PxAl6Y/s4ns/ECXpj+ziez8QJemP7OJ7PxAl6Y/s4ns/ECXpj+ziez8QJemP7OJ7PxAl6Y/s4ns/ECXpj+ziez8QJemP7OJ7PxAl6Y/s4ns/ECXpj+ziez8QJemP7OJ7PxAl6Y/s4ns/ECXpj+ziez8QJemP7OJ7PxAl6Y/s4ns/ECXpj+ziez8QJemP7OJ7PxAl6Y/s4ns/ECXpj+ziez8QJemP7OJ7PxAl6Y/s4ns/ECXpj+ziez8QJemP7OJ7PxAl6Y/s4ns/ECXpj+ziez8QJemP7OJ7PxAl6Y/s4ns/ECXpj+ziez8QJemP7OJ7PxAl6Y/s4ns/ECXpj+ziez8QJemP7OJ7PxAl6Y/s4ns/ECXpj+ziez8QJemP7OJ7PxAl6Y/s4ns/ECXpj+ziez8QJemP7OJ7PxAl6Y/s4ns/ECXpj+ziez8QJemP7OJ7PxAl6Y/s4ns/ECXpj+ziez8QJemP7OJ7PxAl6Y/s4ns/ECXpj+ziez8QJemP7OJ7PxAl6Y/s4ns/ECXpj+ziez8QJemP7OJ7PxAl6Y/s4ns/ECXpj+ziez8QJemP7OJ7PxAl6Y/s4ns/ECXpj+ziez8QJemP7OJ7PxAl6Y/s4ns/ECXpj+ziez8QJemP7OJ7PxAl6Y/s4ns/ECXpj+ziez8QJemP7OJ7PxAl6Y/s4ns/ECXpj+ziez8QJemP7OJ7PxAl6Y/s4ns/ECXpj+ziez8QJemP7OJ7PxAl6Y/s4ns/ECXpj+ziez8QJemP7OJ7PxAl6Y/s4ns/ECXpj+ziez8QJemP7OJ7PxAl6Y/s4ns/ECXpj+ziez8QJemP7OJ7PxAl6Y/s4ns/ECXpj+ziez8QJemP7OJ7PxAl6Y/s4ns/ECXpj+ziez8QJemP7OJ7PxAl6Y/s4ns/ECXpj+ziez8QJemP7OJ7PxAl6Y/s4ns/ECXpj+ziez8QJemP7OJ7PxAl6Y/s4ns/ECXpj+ziez8QJemP7OJ7PxAl6Y/s4ns/ECXpj+ziez8QJemP7OJ7PxAl6Y/s4ns/ECXpj+ziez8QJemP7OJ7PxAl6Y/s4ns/ECXpj+ziez8QJemP7OJ7PxAl6Y/s4ns/ECXpj+ziez8QJemP7OJ7PxAl6Y/s4ns/ECXpj+ziez8QJemP7OJ7PxAl6Y/s4ns/ECXpj+ziez8QJemP7OJ7PxAl6Y/s4ns/ECXpj+ziez8QJemP7OJ7PxAl6Y/s4ns/ECXpj+ziez8QJemP7OJ7PxAl6Y/s4ns/ECXpj+ziez8QJemP7OJ7PxAl6Y/s4ns/ECXpj+ziez8QJemP7OJ7PxAl6Y/s4ns/ECXpj+ziez8QJemP7OJ7PxAl6Y/s4ns/ECXpj+ziez8QJemP7OJ7PxAl6Y/s4ns/ECXpj+ziez8QJemP7OJ7PxAl6Y/s4ns/ECXpj+ziez8QJemP7OJ7PxAl6Y/s4ns/ECXpj+ziez8QJemP7OJ7PxAl6Y/s4ns/ECXpj+ziez8QJemP7OJ7PxAl6Y/s4ns/ECXpj+ziez8QJemP7OJ7PxAl6Y/s4ns/ECXpj+ziez8QJemP7OJ7PxAl6Y/s4ns/ECXpj+ziez8QJemP7OJ7PxAl6Y/s4ns/ECXpj+ziez8QJemP7OJ7PxAl6Y/s4ns/ECXpj+ziez8QJemP7OJ7PxAl6Y/s4ns/ECXpj+ziez8QJemP7OJ7PxAl6Y/s4ns/ECXpj+ziez8QJemP7OJ7PxAl6Y/s4ns/ECXpj+ziez8QJemP7OJ7PxAl6Y/s4ns/ECXpj+ziez8QJemP7OJ7PxAl6Y/s4ns/ECXpj+ziez8QJemP7OJ7PxAl6Y/s4ns/ECXpj+ziez8QJemP7OJ7PxAl6Y/s4ns/ECXpj+ziez8QJemP7OJ7PxAl6Y/s4ns/ECXpj+ziez8QJemP7OJ7PxAl6Y/s4ns/ECXpj+ziez8QJemP7OJ7PxAl6Y/s4ns/ECXpj+ziez8QJemP7OJ7PxAl6Y/s4ns/ECXpj+ziez8QJemP7OJ7PxAl6Y/s4ns/ECXpj+ziez8QJemP7OJ7PxAl6Y/s4ns/ECXpj+ziez8QJemP7OJ7PxAl6Y/s4ns/ECXpj+ziez8QJemP7OJ7PxAl6Y/s4ns/ECXpj+ziez8QJemP7OJ7PxAl6Y/s4ns/ECXpj+ziez8QJemP7OJ7PxAl6Y/s4ns/ECXpj+ziez8QJemP7OJ7PxAl6Y/s4ns/ECXpj+ziez8QJemP7OJ7PxAl6Y/s4ns/ECXpj+ziez8QJemP7OJ7PxAl6Y/s4ns/ECXpj+ziez8QJemP7OJ7PxAl6Y/s4ns/ECXpj+ziez8QJemP7OJ7PxAl6Y/s4ns/ECXpj+ziez8QJemP7OJ7PxAl6Y/s4ns/ECXpj+ziez8QJemP7OJ7PxAl6Y/s4ns/ECXpj+ziez8QJemP7OJ7PxAl6Y/s4ns/ECXpj+ziez8QJemP7OJ7PxAl6Y/s4ns/ECXpj+ziez8QJemP7OJ7PxAl6Y/s4ns/ECXpj+ziez8QJemP7OJ7PxAl6Y/s4ns/ECXpj+ziez8QJemP7OJ7PxAl6Y/s4ns/ECXpj+ziez8QJemP7OJ7PxAl6Y/s4ns/ECXpj+ziez8QJemP7OJ7PxAl6Y/s4ns/ECXpj+ziez8QJemP7OJ7PxAl6Y/s4ns/ECXpj+ziez8QJemP7OJ7PxAl6Y/s4ns/ECXpj+ziez8QJemP7OJ7PxAl6Y/s4ns/ECXpj+ziez8QJemP7OJ7PxAl6Y/s4ns/ECXpj+ziez8QJemP7OJ7PxAl6Y/s4ns/ECXpj+ziez8QJemP7OJ7PxAl6Y/s4ns/ECXpj+ziez8QJemP7OJ7PxAl6Y/s4ns/ECXpj+ziez8QJemP7OJ7PxAl6Y/s4ns/ECXpj+ziez8QJemP7OJ7PxAl6Y/s4ns/ECXpj+ziez8QJemP7OJ7PxAl6Y/s4ns/ECXpj+ziez8QJemP7OJ7PxAl6Y/s4ns/ECXpj+ziez8QJemP7OJ7PxAl6Y/s4ns/ECXpj+ziez8QJemP7OJ7PxAl6Y/s4ns/ECXpj+ziez8QJemP7OJ7PxAl6Y/s4ns/ECXpj+ziez8QJemP7OJ7PxAl6Y/s4ns/ECXpj+ziez8QJemP7OJ7PxAl6Y/s4ns/ECXpj+ziez8QJemP7OJ7PxAl6Y/s4ns/ECXpj+ziez8QJemP7OJ7PxAl6Y/s4ns/ECXpj+ziez8QJemP7OJ7PxAl6Y/s4ns/ECXpj+ziez8QJemP7OJ7PxAl6Y/s4ns/ECXpj+ziez8QJemP7OJ7PxAl6Y/s4ns/ECXpj+ziez8QJemP7OJ7PxAl6Y/s4ns/ECXpj+ziez8QJemP7OJ7PxAl6Y/s4ns/ECXpj+ziez8QJemP7OJ7PxAl6Y/s4ns/ECXpj+ziez8QJemP7OJ7PxAl6Y/s4ns/ECXpj+ziez8QJemP7OJ7PxAl6Y/s4ns/ECXpj+ziez8QJemP7OJ7PxAl6Y/s4ns/ECXpj+ziez8QJemP7OJ7PxAl6Y/s4ns/ECXpj+ziez8QJemP7OJ7PxAl6Y/s4ns/ECXpj+ziez8QJemP7OJ7PxAl6Y/s4ns/ECXpj+ziez8QJemP7OJ7PxAl6Y/s4ns/ECXpj+ziez8QJemP7OJ7PxAl6Y/s4ns/ECXpj+ziez8QJemP7OJ7PxAl6Y/s4ns/ECXpj+ziez8QJemP7OJ7PxAl6Y/s4ns/ECXpj+ziez8QJemP7OJ7PxAl6Y/s4ns/ECXpj+ziez8QJemP7OJ7PxAl6Y/s4ns/ECXpj+ziez8QJemP7OJ7PxAl6Y/s4ns/ECXpj+ziez8QJemP7OJ7PxAl6Y/s4ns/ECXpj+ziez8QJemP7OJ7PxAl6Y/s4ns/ECXpj+ziez8QJemP7OJ7PxAl6Y/s4ns/ECXpj+ziez8QJemP7OJ7PxAl6Y/s4ns/ECXpj+ziez8QJemP7OJ7PxAl6Y/s4ns/ECXpj+ziez8QJemP7OJ7PxAl6Y/s4ns/ECXpj+ziez8QJemP7OJ7PxAl6Y/s4ns/ECXpj+ziez8QJemP7OJ7PxAl6Y/s4ns/ECXpj+ziez8QJemP7OJ7PxAl6Y/s4ns/ECXpj+ziez8QJemP7OJ7PxAl6Y/s4ns/ECXpj+ziez8QJemP7OJ7PxAl6Y/s4ns/ECXpj+ziez8QJemP7OJ7PxAl6Y/s4ns/ECXpj+ziez8QJemP7OJ7PxAl6Y/s4ns/ECXpj+ziez8QJemP7OJ7PxAl6Y/s4ns/ECXpj+ziez8QJemP7OJ7PxAl6Y/s4ns/ECXpj+ziez8QJemP7OJ7PxAl6Y/s4ns/ECXpj+ziez8QJemP7OJ7PxAl6Y/s4ns/ECXpj+ziez8QJemP7OJ7PxAl6Y/s4ns/ECXpj+ziez8QJemP7OJ7PxAl6Y/s4ns/ECXpj+ziez8QJemP7OJ7PxAl6Y/s4ns/ECXpj+ziez8QJemP7OJ7PxAl6Y/s4ns/ECXpj+ziez8QJemP7OJ7PxAl6Y/s4ns/ECXpj+ziez8QJemP7OJ7PxAl6Y/s4ns/ECXpj+ziez8QJemP7OJ7PxAl6Y/s4ns/ECXpj+ziez8QJemP7OJ7PxAl6Y/s4ns/ECXpj+ziez8QJemP7OJ7PxAl6Y/s4ns/ECXpj+ziez8QJemP7OJ7PxAl6Y/s4ns/ECXpj+ziez8QJemP7OJ7PxAl6Y/s4ns/ECXpj+ziez8QJemP7OJ7PxAl6Y/s4ns/ECXpj+ziez8QJemP7OJ7PxAl6Y/s4ns/ECXpj+ziez8QJemP7OJ7PxAl6Y/s4ns/ECXpj+ziez8QJemP7OJ7PxAl6Y/s4ns/ECXpj+ziez8QJemP7OJ7PxAl6Y/s4ns/ECXpj+ziez8QJemP7OJ7PxAl6Y/s4ns/ECXpj+ziez8QJemP7OJ7PxAl6Y/s4ns/ECXpj+ziez8QJemP7OJ7PxAl6Y/s4ns/ECXpj+ziez8QJemP7OJ7PxAl6Y/s4ns/ECXpj+ziez8QJemP7OJ7PxAl6Y/s4ns/ECXpj+ziez8QJemP7OJ7PxAl6Y/s4ns/ECXpj+ziez8QJemP7OJ7PxAl6Y/s4ns/ECXpj+ziez8QJemP7OJ7PxAl6Y/s4ns/ECXpj+ziez8QJemP7OJ7PxAl6Y/s4ns/ECXpj+ziez8QJemP7OJ7PxAl6Y/s4ns/ECXpj+ziez8QJemP7OJ7PxAl6Y/s4ns/ECXpj+ziez8QJemP7OJ7PxAl6Y/s4ns/ECXpj+ziez8QJemP7OJ7PxAl6Y/s4ns/ECXpj+ziez8QJemP7OJ7PxAl6Y/s4ns/ECXpj+ziez8QJemP7OJ7PxAl6Y/s4ns/ECXpj+ziez8QJemP7OJ7PxAl6Y/s4ns/ECXpj+ziez8QJemP7OJ7PxAl6Y/s4ns/ECXpj+ziez8QJemP7OJ7PxAl6Y/s4ns/ECXpj+ziez8QJemP7OJ7PxAl6Y/s4ns/ECXpj+ziez8QJemP7OJ7PxAl6Y/s4ns/ECXpj+ziez8QJemP7OJ7PxAl6Y/s4ns/ECXpj+ziez8QJemP7OJ7PxAl6Y/s4ns/ECXpj+ziez8QJemP7OJ7PxAl6Y/s4ns/ECXpj+ziez8QJemP7OJ7PxAl6Y/s4ns/ECXpj+ziez8QJemP7OJ7PxAl6Y/s4ns/ECXpj+ziez8QJemP7OJ7PxAl6Y/s4ns/ECXpj+ziez8QJemP7OJ7PxAl6Y/s4ns/ECXpj+ziez8QJemP7OJ7PxAl6Y/s4ns/ECXpj+ziez8QJemP7OJ7PxAl6Y/s4ns/ECXpj+ziez8QJemP7OJ7PxAl6Y/s4ns/ECXpj+ziez8QJemP7OJ7PxAl6Y/s4ns/ECXpj+ziez8QJemP7OJ7PxAl6Y/s4ns/ECXpj+ziez8QJemP7OJ7PxAl6Y/s4ns/ECXpj+ziez8QJemP7OJ7PxAl6Y/s4ns/ECXpj+ziez8QJemP7OJ7PxAl6Y/s4ns/ECXpj+ziez8QJemP7OJ7PxAl6Y/s4ns/ECXpj+ziez8QJemP7OJ7PxAl6Y/s4ns/ECXpj+ziez8QJemP7OJ7PxAl6Y/s4ns/ECXpj+ziez8QJemP7OJ7PxAl6Y/s4ns/ECXpj+ziez8QJemP7OJ7PxAl6Y/s4ns/ECXpj+ziez8QJemP7OJ7PxAl6Y/s4ns/ECXpj+ziez8QJemP7OJ7PxAl6Y/s4ns/ECXpj+ziez8QJemP7OJ7PxAl6Y/s4ns/ECXpj+ziez8QJemP7OJ7PxAl6Y/s4ns/ECXpj+ziez8QJemP7OJ7PxAl6Y/s4ns/ECXpj+ziez8QJemP7OJ7PxAl6Y/s4ns/ECXpj+ziez8QJemP7OJ7PxAl6Y/s4ns/ECXpj+ziez8QJemP7OJ7PxAl6Y/s4ns/ECXpj+ziez8QJemP7OJ7PxAl6Y/s4ns/ECXpj+ziez8QJemP7OJ7PxAl6Y/s4ns/ECXpj+ziez8QJemP7OJ7PxAl6Y/s4ns/ECXpj+ziez8QJemP7OJ7PxAl6Y/s4ns/ECXpj+ziez8QJemP7OJ7PxAl6Y/s4ns/ECXpj+ziez8QJemP7OJ7PxAl6Y/s4ns/ECXpj+ziez8QJemP7OJ7PxAl6Y/s4ns/ECXpj+ziez8QJemP7OJ7PxAl6Y/s4ns/ECXpj+ziez8QJemP7OJ7PxAl6Y/s4ns/ECXpj+ziez8QJemP7OJ7PxAl6Y/s4ns/ECXpj+ziez8QJemP7OJ7PxAl6Y/s4ns/ECXpj+ziez8QJemP7OJ7PxAl6Y/s4ns/ECXpj+ziez8QJemP7OJ7PxAl6Y/s4ns/ECXpj+ziez8QJemP7OJ7PxAl6Y/s4ns/ECXpj+ziez8QJemP7OJ7PxAl6Y/s4ns/ECXpj+ziez8QJemP7OJ7PxAl6Y/s4ns/ECXpj+ziez8QJemP7OJ7PxAl6Y/s4ns/ECXpj+ziez8QJemP7OJ7PxAl6Y/s4ns/ECXpj+ziez8QJemP7OJ7PxAl6Y/s4ns/ECXpj+ziez8QJemP7OJ7PxAl6Y/s4ns/ECXpj+ziez8QJemP7OJ7PxAl6Y/s4ns/ECXpj+ziez8QJemP7OJ7PxAl6Y/s4ns/ECXpj+ziez8QJemP7OJ7PxAl6Y/s4ns/ECXpj+ziez8QJemP7OJ7PxAl6Y/s4ns/ECXpj+ziez8QJemP7OJ7PxAl6Y/s4ns/ECXpj+ziez8QJemP7OJ7PxAl6Y/s4ns/ECXpj+ziez8QJemP7OJ7PxAl6Y/s4ns/ECXpj+ziez8QJemP7OJ7PxAl6Y/s4ns/ECXpj+ziez8QJemP7OJ7PxAl6Y/s4ns/ECXpj+ziez8QJemP7OJ7PxAl6Y/s4ns/ECXpj+ziez8QJemP7OJ7PxAl6Y/s4ns/ECXpj+ziez8QJemP7OJ7PxAl6Y/s4ns/ECXpj+ziez8QJemP7OJ7PxAl6Y/s4ns/ECXpj+ziez8QJemP7OJ7PxAl6Y/s4ns/ECXpj+ziez8QJemP7OJ7PxAl6Y/s4ns/ECXpj+ziez8QJemP7OJ7PxAl6Y/s4ns/ECXpj+ziez8QJemP7OJ7PxAl6Y/s4ns/ECXpj+ziez8QJemP7OJ7PxAl6Y/s4ns/ECXpj+ziez8QJemP7OJ7PxAl6Y/s4ns/ECXpj+ziez8QJemP7OJ7PxAl6Y/s4ns/ECXpj+ziez8QJemP7OJ7PxAl6Y/s4ns/ECXpj+ziez8QJemP7OJ7PxAl6Y/s4ns/ECXpj+ziez8QJemP7OJ7PxAl6Y/s4ns/ECXpj+ziez8QJemP7OJ7PxAl6Y/s4ns/ECXpj+ziez8QJemP7OJ7PxAl6Y/s4ns/ECXpj+ziez8QJemP7OJ7PxAl6Y/s4ns/ECXpj+ziez8QJemP7OJ7PxAl6Y/s4ns/ECXpj+ziez8QJemP7OJ7PxAl6Y/s4ns/ECXpj+ziez8QJemP7OJ7PxAl6Y/s4ns/ECXpj+ziez8QJemP7OJ7PxAl6Y/s4ns/ECXpj+ziez8QJemP7OJ7PxAl6Y/s4ns/ECXpj+ziez8QJemP7OJ7PxAl6Y/s4ns/ECXpj+ziez8QJemP7OJ7PxAl6Y/s4ns/ECXpj+ziez8QJemP7OJ7PxAl6Y/s4ns/ECXpj+ziez8QJemP7OJ7PxAl6Y/s4ns/ECXpj+ziez8QJemP7OJ7PxAl6Y/s4ns/ECXpj+ziez8QJemP7OJ7PxAl6Y/s4ns/ECXpj+ziez8QJemP7OJ7PxAl6Y/s4ns/ECXpj+ziez8QJemP7OJ7PxAl6Y/s4ns/ECXpj+ziez8QJemP7OJ7PxAl6Y/s4ns/ECXpj+ziez8QJemP7OJ7PxAl6Y/s4ns/ECXpj+ziez8QJemP7OJ7PxAl6Y/s4ns/ECXpj+ziez8QJemP7OJ7PxAl6Y/s4ns/ECXpj+ziez8QJemP7OJ7PxAl6Y/s4ns/ECXpj+ziez8QJemP7OJ7PxAl6Y/s4ns/ECXpj+ziez8QJemP7OJ7PxAl6Y/s4ns/ECXpj+ziez8QJemP7OJ7PxAl6Y/s4ns/ECXpj+ziez8QJemP7OJ7PxAl6Y/s4ns/ECXpj+ziez8QJemP7OJ7PxAl6Y/s4ns/ECXpj+ziez8QJemP7OJ7PxAl6Y/s4ns/ECXpj+ziez8QJemP7OJ7PxAl6Y/s4ns/ECXpj+ziez8QJemP7OJ7PxAl6Y/s4ns/ECXpj+ziez8QJemP7OJ7PxAl6Y/s4ns/ECXpj+ziez8QJemP7OJ7PxAl6Y/s4ns/ECXpj+ziez8QJemP7OJ7PxAl6Y/s4ns/ECXpj+ziez8QJemP7OJ7PxAl6Y/s4ns/ECXpj+ziez8QJemP7OJ7PxAl6Y/s4ns/ECXpj+ziez8QJemP7OJ7PxAl6Y/s4ns/ECXpj+ziez8QJemP7OJ7PxAl6Y/s4ns/ECXpj+ziez8QJemP7OJ7PxAl6Y/s4ns/ECXpj+ziez8QJemP7OJ7PxAl6Y/s4ns/ECXpj+ziez8QJemP7OJ7PxAl6Y/s4ns/ECXpj+ziez8QJemP7OJ7PxAl6Y/s4ns/ECXpj+ziez8QJemP7OJ7PxAl6Y/s4ns/ECXpj+ziez8QJemP7OJ7PxAl6Y/s4ns/ECXpj+ziez8QJemP7OJ7PxAl6Y/s4ns/ECXpj+ziez8QJemP7OJ7PxAl6Y/s4ns/ECXpj+ziez8QJemP7OJ7PxAl6Y/s4ns/ECXpj+ziez8QJemP7OJ7PxAl6Y/s4ns/ECXpj+ziez8QJemP7OJ7PxAl6Y/s4ns/ECXpj+ziez8QJemP7OJ7PxAl6Y/s4ns/ECXpj+ziez8QJemP7OJ7PxAl6Y/s4ns/ECXpj+ziez8QJemP7OJ7PxAl6Y/s4ns/ECXpj+ziez8QJemP7OJ7PxAl6Y/s4ns/ECXpj+ziez8QJemP7OJ7PxAl6Y/s4ns/ECXpj+ziez8QJemP7OJ7PxAl6Y/s4ns/ECXpj+ziez8QJemP7OJ7PxAl6Y/s4ns/ECXpj+ziez8QJemP7OJ7PxAl6Y/s4ns/ECXpj+ziez8QJemP7OJ7PxAl6Y/s4ns/ECXpj+ziez8QJemP7OJ7PxAl6Y/s4ns/ECXpj+ziez8QJemP7OJ7PxAl6Y/s4ns/ECXpj+ziez8QJemP7OJ7PxAl6Y/s4ns/ECXpj+ziez8QJemP7OJ7PxAl6Y/s4ns/ECXpj+ziez8QJemP7OJ7PxAl6Y/s4ns/ECXpj+ziez8QJemP7OJ7PxAl6Y/s4ns/ECXpj+ziez8QJemP7OJ7PxAl6Y/s4ns/ECXpj+ziez8QJemP7OJ7PxAl6Y/s4ns/ECXpj+ziez8QJemP7OJ7PxAl6Y/s4ns/ECXpj+ziez8QJemP7OJ7PxAl6Y/s4ns/ECXpj+ziez8QJemP7OJ7PxAl6Y/s4ns/ECXpj+ziez8QJemP7OJ7PxAl6Y/s4ns/ECXpj+ziez8QJemP7OJ7PxAl6Y/s4ns/ECXpj+ziez8QJemP7OJ7PxAl6Y/s4ns/ECXpj+ziez8QJemP7OJ7PxAl6Y/s4ns/ECXpj+ziez8QJemP7OJ7PxAl6Y/s4ns/ECXpj+ziez8QJemP7OJ7PxAl6Y/s4ns/ECXpj+ziez8QJemP7OJ7PxAl6Y/s4ns/ECXpj+ziez8QJemP7OJ7PxAl6Y/s4ns/ECXpj+ziez8QJemP7OJ7PxAl6Y/s4ns/ECXpj+ziez8QJemP7OJ7PxAl6Y/s4ns/ECXpj+ziez8QJemP7OJ7PxAl6Y/s4ns/ECXpj+ziez8QJemP7OJ7PxAl6Y/s4ns/ECXpj+ziez8QJemP7OJ7PxAl6Y/s4ns/ECXpj+ziez8QJemP7OJ7PxAl6Y/s4ns/ECXpj+ziez8QJemP7OJ7PxAl6Y/s4ns/ECXpj+ziez8QJemP7OJ7PxAl6Y/s4ns/ECXpj+ziez8QJemP7OJ7PxAl6Y/s4ns/ECXpj+ziez8QJemP7OJ7PxAl6Y/s4ns/ECXpj+ziez8QJemP7OJ7PxAl6Y/s4ns/ECXpj+ziez8QJemP7OJ7PxAl6Y/s4ns/ECXpj+ziez8QJemP7OJ7PxAl6Y/s4ns/ECXpj+ziez8QJemP7OJ7PxAl6Y/s4ns/ECXpj+ziez8QJemP7OJ7PxAl6Y/s4ns/ECXpj+ziez8QJemP7OJ7PxAl6Y/s4ns/ECXpj+ziez8QJemP7OJ7PxAl6Y/s4ns/ECXpj+ziez8QJemP7OJ7PxAl6Y/s4ns/ECXpj+ziez8QJemP7OJ7PxAl6Y/s4ns/ECXpj+ziez8QJemP7OJ7PxAl6Y/s4ns/ECXpj+ziez8QJemP7OJ7PxAl6Y/s4ns/ECXpj+ziez8QJemP7OJ7PxAl6Y/s4ns/ECXpj+ziez8QJemP7OJ7PxAl6Y/s4ns/ECXpj+ziez8QJemP7OJ7PxAl6Y/s4ns/ECXpj+ziez8QJemP7OJ7PxAl6Y/s4ns/ECXpj+ziez8QJemP7OJ7PxAl6Y/s4ns/ECXpj+ziez8QJemP7OJ7PxAl6Y/s4ns/ECXpj+ziez8QJemP7OJ7PxAl6Y/s4ns/ECXpj+ziez8QJemP7OJ7PxAl6Y/s4ns/ECXpj+ziez8QJemP7OJ7PxAl6Y/s4ns/ECXpj+ziez8QJemP7OJ7PxAl6Y/s4ns/ECXpj+ziez8QJemP7OJ7PxAl6Y/s4ns/ECXpj+ziez8QJemP7OJ7PxAl6Y/s4ns/ECXpj+ziez8QJemP7OJ7PxAl6Y/s4ns/ECXpj+ziez8QJemP7OJ7PxAl6Y/s4ns/ECXpj+ziez8QJemP7OJ7PxAl6Y/s4ns/ECXpj+ziez8QJemP7OJ7PxAl6Y/s4ns/ECXpj+ziez8QJemP7OJ7PxAl6Y/s4ns/ECXpj+ziez8QJemP7OJ7PxAl6Y/s4ns/ECXpj+ziez8QJemP7OJ7PxAl6Y/s4ns/ECXpj+ziez8QJemP7OJ7PxAl6Y/s4ns/ECXpj+ziez8QJemP7OJ7PxAl6Y/s4ns/ECXpj+ziez8QJemP7OJ7PxAl6Y/s4ns/ECXpj+ziez8QJemP7OJ7PxAl6Y/s4ns/ECXpj+ziez8QJemP7OJ7PxAl6Y/s4ns/ECXpj+ziez8QJemP7OJ7PxAl6Y/s4ns/ECXpj+ziez8QJemP7OJ7PxAl6Y/s4ns/ECXpj+ziez8QJemP7OJ7PxAl6Y/s4ns/ECXpj+ziez8QJemP7OJ7PxAl6Y/s4ns/ECXpj+ziez8QJemP7OJ7PxAl6Y/s4ns/ECXpj+ziez8QJemP7OJ7PxAl6Y/s4ns/ECXpj+ziez8QJemP7OJ7PxAl6Y/s4ns/ECXpj+ziez8QJemP7OJ7PxAl6Y/s4ns/ECXpj+ziez8QJemP7OJ7PxAl6Y/s4ns/ECXpj+ziez8QJemP7OJ7PxAl6Y/s4ns/ECXpj+ziez8QJemP7OJ7PxAl6Y/s4ns/ECXpj+ziez8QJemP7OJ7PxAl6Y/s4ns/ECXpj+ziez8QJemP7OJ7PxAl6Y/s4ns/ECXpj+ziez8QJemP7OJ7PxAl6Y/s4ns/ECXpj+ziez8QJemP7OJ7PxAl6Y/s4ns/ECXpj+ziez8QJemP7OJ7PxAl6Y/s4ns/ECXpj+ziez8QJemP7OJ7PxAl6Y/s4ns/ECXpj+ziez8QJemP7OJ7PxAl6Y/s4ns/ECXpj+ziez8QJemP7OJ7PxAl6Y/s4ns/ECXpj+ziez8QJemP7OJ7PxAl6Y/s4ns/ECXpj+ziez8QJemP7OJ7PxAl6Y/s4ns/ECXpj+ziez8QJemP7OJ7PxAl6Y/s4ns/ECXpj+ziez8QJemP7OJ7PxAl6Y/s4ns/ECXpj+ziez8QJemP7OJ7PxAl6Y/s4ns/ECXpj+ziez8QJemP7OJ7PxAl6Y/s4ns/ECXpj+ziez8QJemP7OJ7PxAl6Y/s4ns/ECXpj+ziez8QJemP7OJ7PxAl6Y/s4ns/ECXpj+ziez8QJemP7OJ7PxAl6Y/s4ns/ECXpj+ziez8QJemP7OJ7PxAl6Y/s4ns/ECXpj+ziez8QJemP7OJ7PxAl6Y/s4ns/ECXpj+ziez8QJemP7OJ7PxAl6Y/s4ns/ECXpj+ziez8QJemP7OJ7PxAl6Y/s4ns/ECXpj+ziez8QJemP7OJ7PxAl6Y/s4ns/ECXpj+ziez8QJemP7OJ7PxAl6Y/s4ns/ECXpj+ziez8QJemP7OJ7PxAl6Y/s4ns/ECXpj+ziez8QJemP7OJ7PxAl6Y/s4ns/ECXpj+ziez8QJemP7OJ7PxAl6Y/s4ns/ECXpj+ziez8QJemP7OJ7PxAl6Y/s4ns/ECXpj+ziez8QJemP7OJ7PxAl6Y/s4ns/ECXpj+ziez8QJemP7OJ7PxAl6Y/s4ns/ECXpj+ziez8QJemP7OJ7PxAl6Y/s4ns/ECXpj+ziez8QJemP7OJ7PxAl6Y/s4ns/ECXpj+ziez8QJemP7OJ7PxAl6Y/s4ns/ECXpj+ziez8QJemP7OJ7PxAl6Y/s4ns/ECXpj+ziez8QJemP7OJ7PxAl6Y/s4ns/ECXpj+ziez8QJemP7OJ7PxAl6Y/s4ns/ECXpj+ziez8QJemP7OJ7PxAl6Y/s4ns/ECXpj+ziez8QJemP7OJ7PxAl6Y/s4ns/ECXpj+ziez8QJemP7OJ7PxAl6Y/s4ns/ECXpj+ziez8QJemP7OJ7PxAl6Y/s4ns/ECXpj+ziez8QJemP7OJ7PxAl6Y/s4ns/ECXpj+ziez8QJemP7OJ7PxAl6Y/s4ns/ECXpj+ziez8QJemP7OJ7PxAl6Y/s4ns/ECXpj+ziez8QJemP7OJ7PxAl6Y/s4ns/ECXpj+ziez8QJemP7OJ7PxAl6Y/s4ns/ECXpj+ziez8QJemP7OJ7PxAl6Y/s4ns/ECXpj+ziez8QJemP7OJ7PxAl6Y/s4ns/ECXpj+ziez8QJemP7OJ7PxAl6Y/s4ns/ECXpj+ziez8QJemP7OJ7PxAl6Y/s4ns/ECXpj+ziez8QJemP7OJ7PxAl6Y/s4ns/ECXpj+ziez8QJemP7OJ7PxAl6Y/s4ns/ECXpj+ziez8QJemP7OJ7PxAl6Y/s4ns/ECXpj+ziez8QJemP7OJ7PxAl6Y/s4ns/ECXpj+ziez8QJemP7OJ7PxAl6Y/s4ns/ECXpj+ziez8QJemP7OJ7PxAl6Y/s4ns/ECXpj+ziez8QJemP7OJ7PxAl6Y/s4ns/ECXpj+ziez8QJemP7OJ7PxAl6Y/s4ns/ECXpj+ziez8QJemP7OJ7PxAl6Y/s4ns/ECXpj+ziez8QJemP7OJ7PxAl6Y/s4ns/ECXpj+ziez8QJemP7OJ7PxAl6Y/s4ns/ECXpj+ziez8QJemP7OJ7PxAl6Y/s4ns/ECXpj+ziez8QJemP7OJ7PxAl6Y/s4ns/ECXpj+ziez8QJemP7OJ7PxAl6Y/s4ns/ECXpj+ziez8QJemP7OJ7PxAl6Y/s4ns/ECXpj+ziez8QJemP7OJ7PxAl6Y/s4ns/ECXpj+ziez8QJemP7OJ7PxAl6Y/s4ns/ECXpj+ziez8QJemP7OJ7PxAl6Y/s4ns/ECXpj+ziez8QJemP7OJ7PxAl6Y/s4ns/ECXpj+ziez8QJemP7OJ7PxAl6Y/s4ns/ECXpj+ziez8QJemP7OJ7PxAl6Y/s4ns/ECXpj+ziez8QJemP7OJ7PxAl6Y/s4ns/ECXpj+ziez8QJemP7OJ7PxAl6Y/s4ns/ECXpj+ziez8QJemP7OJ7PxAl6Y/s4ns/ECXpj+ziez8QJemP7OJ7PxAl6Y/s4ns/ECXpj+ziez8QJemP7OJ7PxAl6Y/s4ns/ECXpj+ziez8QJemP7OJ7PxAl6Y/s4ns/ECXpj+ziez8QJemP7OJ7PxAl6Y/s4ns/ECXpj+ziez8QJemP7OJ7PxAl6Y/s4ns/ECXpj+ziez8QJemP7OJ7PxAl6Y/s4ns/ECXpj+ziez8QJemP7OJ7PxAl6Y/s4ns/ECXpj+ziez8QJemP7OJ7PxAl6Y/s4ns/ECXpj+ziez8QJemP7OJ7PxAl6Y/s4ns/ECXpj+ziez8QJemP7OJ7PxAl6Y/s4ns/ECXpj+ziez8QJemP7OJ7PxAl6Y/s4ns/ECXpj+ziez8QJemP7OJ7PxAl6Y/s4ns/ECXpj+ziez8QJemP7OJ7PxAl6Y/s4ns/ECXpj+ziez8QJemP7OJ7PxAl6Y/s4ns/ECXpj+ziez8QJemP7OJ7PxAl6Y/s4ns/ECXpj+ziez8QJemP7OJ7PxAl6Y/s4ns/ECXpj+ziez8QJemP7OJ7PxAl6Y/s4ns/ECXpj+ziez8QJemP7OJ7PxAl6Y/s4ns/ECXpj+ziez8QJemP7OJ7PxAl6Y/s4ns/ECXpj+ziez8QJemP7OJ7PxAl6Y/s4ns/ECXpj+ziez8QJemP7OJ7PxAl6Y/s4ns/ECXpj+ziez8QJemP7OJ7PxAl6Y/s4ns/ECXpj+ziez8QJemP7OJ7PxAl6Y/s4ns/ECXpj+ziez8QJemP7OJ7PxAl6Y/s4ns/ECXpj+ziez8QJemP7OJ7PxAl6Y/s4ns/ECXpj+ziez8QJemP7OJ7PxAl6Y/s4ns/ECXpj+ziez8QJemP7OJ7PxAl6Y/s4ns/ECXpj+ziez8QJemP7OJ7PxAl6Y/s4ns/ECXpj+ziez8QJemP7OJ7PxAl6Y/s4ns/ECXpj+ziez8QJemP7OJ7PxAl6Y/s4ns/ECXpj+ziez8QJemP7OJ7PxAl6Y/s4ns/ECXpj+ziez8QJemP7OJ7PxAl6Y/s4ns/ECXpj+ziez8QJemP7OJ7PxAl6Y/s4ns/ECXpj+ziez8QJemP7OJ7PxAl6Y/s4ns/ECXpj+ziez8QJemP7OJ7PxAl6Y/s4ns/ECXpj+ziez8QJemP7OJ7PxAl6Y/s4ns/ECXpj+ziez8QJemP7OJ7PxAl6Y/s4ns/ECXpj+ziez8QJemP7OJ7PxAl6Y/s4ns/ECXpj+ziez8QJemP7OJ7PxAl6Y/s4ns/ECXpj+ziez8QJemP7OJ7PxAl6Y/s4ns/ECXpj+ziez8QJemP7OJ7PxAl6Y/s4ns/ECXpj+ziez8QJemP7OJ7PxAl6Y/s4ns/ECXpj+ziez8QJemP7OJ7PxAl6Y/s4ns/ECXpj+ziez8QJemP7OJ7PxAl6Y/s4ns/ECXpj+ziez8QJemP7OJ7PxAl6Y/s4ns/ECXpj+ziez8QJemP7OJ7PxAl6Y/s4ns/ECXpj+ziez8QJemP7OJ7PxAl6Y/s4ns/ECXpj+ziez8QJemP7OJ7PxAl6Y/s4ns/ECXpj+ziez8QJemP7OJ7PxAl6Y/s4ns/ECXpj+ziez8QJemP7OJ7PxAl6Y/s4ns/ECXpj+ziez8QJemP7OJ7PxAl6Y/s4ns/ECXpj+ziez8QJemP7OJ7PxAl6Y/s4ns/ECXpj+ziez8QJemP7OJ7PxAl6Y/s4ns/ECXpj+ziez8QJemP7OJ7PxAl6Y/s4ns/ECXpj+ziez8QJemP7OJ7PxAl6Y/s4ns/ECXpj+ziez8QJemP7OJ7PxAl6Y/s4ns/ECXpj+ziez8QJemP7OJ7PxAl6Y/s4ns/ECXpj+ziez8QJemP7OJ7PxAl6Y/s4ns/ECXpj+ziez8QJemP7OJ7PxAl6Y/s4ns/ECXpj+ziez8QJemP7OJ7PxAl6Y/s4ns/ECXpj+ziez8QJemP7OJ7PxAl6Y/s4ns/ECXpj+ziez8QJemP7OJ7PxAl6Y/s4ns/ECXpj+ziez8QJemP7OJ7PxAl6Y/s4ns/ECXpj+ziez8QJemP7OJ7PxAl6Y/s4ns/ECXpj+ziez8QJemP7OJ7PxAl6Y/s4ns/ECXpj+ziez8QJemP7OJ7PxAl6Y/s4ns/ECXpj+ziez8QJemP7OJ7PxAl6Y/s4ns/ECXpj+ziez8QJemP7OJ7PxAl6Y/s4ns/ECXpj+ziez8QJemP7OJ7PxAl6Y/s4ns/ECXpj+ziez8QJemP7OJ7PxAl6Y/s4ns/ECXpj+ziez8QJemP7OJ7PxAl6Y/s4ns/ECXpj+ziez8QJemP7OJ7PxAl6Y/s4ns/ECXpj+ziez8QJemP7OJ7PxAl6Y/s4ns/ECXpj+ziez8QJemP7OJ7PxAl6Y/s4ns/ECXpj+ziez8QJemP7OJ7PxAl6Y/s4ns/ECXpj+ziez8QJemP7OJ7PxAl6Y/s4ns/ECXpj+ziez8QJemP7OJ7PxAl6Y/s4ns/ECXpj+ziez8QJemP7OJ7PxAl6Y/s4ns/ECXpj+ziez8QJemP7OJ7PxAl6Y/s4ns/ECXpj+ziez8QJemP7OJ7PxAl6Y/s4ns/ECXpj+ziez8QJemP7OJ7PxAl6Y/s4ns/ECXpj+ziez8QJemP7OJ7PxAl6Y/s4ns/ECXpj+ziez8QJemP7OJ7PxAl6Y/s4ns/ECXpj+ziez8QJemP7OJ7PxAl6Y/s4ns/ECXpj+ziez8QJemP7OJ7PxAl6Y/s4ns/ECXpj+ziez8QJemP7OJ7PxAl6Y/s4ns/ECXpj+ziez8QJemP7OJ7PxAl6Y/s4ns/ECXpj+ziez8QJemP7OJ7PxAl6Y/s4ns/ECXpj+ziez8QJemP7OJ7PxAl6Y/s4ns/ECXpj+ziez8QJemP7OJ7PxAl6Y/s4ns/ECXpj+ziez8QJemP7OJ7PxAl6Y/s4ns/ECXpj+ziez8QJemP7OJ7PxAl6Y/s4ns/ECXpj+ziez8QJemP7OJ7PxAl6Y/s4ns/ECXpj+ziez8QJemP7OJ7PxAl6Y/s4ns/ECXpj+ziez8QJemP7OJ7PxAl6Y/s4ns/ECXpj+ziez8QJemP7OJ7PxAl6Y/s4ns/ECXpj+ziez8QJemP7OJ7PxAl6Y/s4ns/ECXpj+ziez8QJemP7OJ7PxAl6Y/s4ns/ECXpj+ziez8QJemP7OJ7PxAl6Y/s4ns/ECXpj+ziez8QJemP7OJ7PxAl6Y/s4ns/ECXpj+ziez8QJemP7OJ7PxAl6Y/s4ns/ECXpj+ziez8QJemP7OJ7PxAl6Y/s4ns/ECXpj+ziez8QJemP7OJ7PxAl6Y/s4ns/ECXpj+ziez8QJemP7OJ7PxAl6Y/s4ns/ECXpj+ziez8QJemP7OJ7PxAl6Y/s4ns/ECXpj+ziez8QJemP7OJ7PxAl6Y/s4ns/ECXpj+ziez8QJemP7OJ7PxAl6Y/s4ns/ECXpj+ziez8QJemP7OJ7PxAl6Y/s4ns/ECXpj+ziez8QJemP7OJ7PxAl6Y/s4ns/ECXpj+ziez8QJemP7OJ7PxAl6Y/s4ns/ECXpj+ziez8QJemP7OJ7PxAl6Y/s4ns/ECXpj+ziez8QJemP7OJ7PxAl6Y/s4ns/ECXpj+ziez8QJemP7OJ7PxAl6Y/s4ns/ECXpj+ziez8QJemP7OJ7PxAl6Y/s4ns/ECXpj+ziez8QJemP7OJ7PxAl6Y/s4ns/ECXpj+ziez8QJemP7OJ7PxAl6Y/s4ns/ECXpj+ziez8QJemP7OJ7PxAl6Y/s4ns/ECXpj+ziez8QJemP7OJ7PxAl6Y/s4ns/ECXpj+ziez8QJemP7OJ7PxAl6Y/s4ns/ECXpj+ziez8QJemP7OJ7PxAl6Y/s4ns/ECXpj+ziez8QJemP7OJ7PxAl6Y/s4ns/ECXpj+ziez8QJemP7OJ7PxAl6Y/s4ns/ECXpj+ziez8QJemP7OJ7PxAl6Y/s4ns/ECXpj+ziez8QJemP7OJ7PxAl6Y/s4ns/ECXpj+ziez8QJemP7OJ7PxAl6Y/s4ns/ECXpj+ziez8QJemP7OJ7PxAl6Y/s4ns/ECXpj+ziez8QJemP7OJ7PxAl6Y/s4ns/ECXpj+ziez8QJemP7OJ7PxAl6Y/s4ns/ECXpj+ziez8QJemP7OJ7PxAl6Y/s4ns/ECXpj+ziez8QJemP7OJ7PxAl6Y/s4ns/ECXpj+ziez8QJemP7OJ7PxAl6Y/s4ns/ECXpj+ziez8QJemP7OJ7PxAl6Y/s4ns/ECXpj+ziez8QJemP7OJ7PxAl6Y/s4ns/ECXpj+ziez8QJemP7OJ7PxAl6Y/s4ns/ECXpj+ziez8QJemP7OJ7PxAl6Y/s4ns/ECXpj+ziez8QJemP7OJ7PxAl6Y/s4ns/ECXpj+ziez8QJemP7OJ7PxAl6Y/s4ns/ECXpj+ziez8QJemP7OJ7PxAl6Y/s4ns/ECXpj+ziez8QJemP7OJ7PxAl6Y/s4ns/ECXpj+ziez8QJemP7OJ7PxAl6Y/s4ns/ECXpj+ziez8QJemP7OJ7PxAl6Y/s4ns/ECXpj+ziez8QJemP7OJ7PxAl6Y/s4ns/ECXpj+ziez8QJemP7OJ7PxAl6Y/s4ns/ECXpj+ziez8QJemP7OJ7PxAl6Y/s4ns/ECXpj+ziez8QJemP7OJ7PxAl6Y/s4ns/ECXpj+ziez8QJemP7OJ7PxAl6Y/s4ns/ECXpj+ziez8QJemP7OJ7PxAl6Y/s4ns/ECXpj+ziez8QJemP7OJ7PxAl6Y/s4ns/ECXpj+ziez8QJemP7OJ7PxAl6Y/s4ns/ECXpj+ziez8QJemP7OJ7PxAl6Y/s4ns/ECXpj+ziez8QJemP7OJ7PxAl6Y/s4ns/ECXpj+ziez8QJemP7OJ7PxAl6Y/s4ns/ECXpj+ziez8QJemP7OJ7PxAl6Y/s4ns/ECXpj+ziez8QJemP7OJ7PxAl6Y/s4ns/ECXpj+ziez8QJemP7OJ7PxAl6Y/s4ns/ECXpj+ziez8QJemP7OJ7PxAl6Y/s4ns/ECXpj+ziez8QJemP7OJ7PxAl6Y/s4ns/ECXpj+ziez8QJemP7OJ7PxAl6Y/s4ns/ECXpj+ziez8QJemP7OJ7PxAl6Y/s4ns/ECXpj+ziez8QJemP7OJ7PxAl6Y/s4ns/ECXpj+ziez8QJemP7OJ7PxAl6Y/s4ns/ECXpj+ziez8QJemP7OJ7PxAl6Y/s4ns/ECXpj+ziez8QJemP7OJ7PxAl6Y/s4ns/ECXpj+ziez8QJemP7OJ7PxAl6Y/s4ns/ECXpj+ziez8QJemP7OJ7PxAl6Y/s4ns/ECXpj+ziez8QJemP7OJ7PxAl6Y/s4ns/ECXpj+ziez8QJemP7OJ7PxAl6Y/s4ns/ECXpj+ziez8QJemP7OJ7PxAl6Y/s4ns/ECXpj+ziez8QJemP7OJ7PxAl6Y/s4ns/ECXpj+ziez8QJemP7OJ7PxAl6Y/s4ns/ECXpj+ziez8QJemP7OJ7PxAl6Y/s4ns/ECXpj+ziez8QJemP7OJ7PxAl6Y/s4ns/ECXpj+ziez8QJemP7OJ7PxAl6Y/s4ns/ECXpj+ziez8QJemP7OJ7PxAl6Y/s4ns/ECXpj+ziez8QJemP7OJ7PxAl6Y/s4ns/ECXpj+ziez8QJemP7OJ7PxAl6Y/s4ns/ECXpj+ziez8QJemP7OJ7PxAl6Y/s4ns/ECXpj+ziez8QJemP7OJ7PxAl6Y/s4ns/ECXpj+ziez8QJemP7OJ7PxAl6Y/s4ns/ECXpj+ziez8QJemP7OJ7PxAl6Y/s4ns/ECXpj+ziez8QJemP7OJ7PxAl6Y/s4ns/ECXpj+ziez8QJemP7OJ7PxAl6Y/s4ns/ECXpj+ziez8QJemP7OJ7PxAl6Y/s4ns/ECXpj+ziez8QJemP7OJ7PxAl6Y/s4ns/ECXpj+ziez8QJemP7OJ7PxAl6Y/s4ns/ECXpj+ziez8QJemP7OJ7PxAl6Y/s4ns/ECXpj+ziez8QJemP7OJ7PxAl6Y/s4ns/ECXpj+ziez8QJemP7OJ7PxAl6Y/s4ns/ECXpj+ziez8QJemP7OJ7PxAl6Y/s4ns/ECXpj+ziez8QJemP7OJ7PxAl6Y/s4ns/ECXpj+ziez8QJemP7OJ7PxAl6Y/s4ns/ECXpj+ziez8QJemP7OJ7PxAl6Y/s4ns/ECXpj+ziez8QJemP7OJ7PxAl6Y/s4ns/ECXpj+ziez8QJemP7OJ7PxAl6Y/s4ns/ECXpj+ziez8QJemP7OJ7PxAl6Y/s4ns/ECXpj+ziez8QJemP7OJ7PxAl6Y/s4ns/ECXpj+ziez8QJemP7OJ7PxAl6Y/s4ns/ECXpj+ziez8QJemP7OJ7PxAl6Y/s4ns/ECXpj+ziez8QJemP7OJ7PxAl6Y/s4ns/ECXpj+ziez8QJemP7OJ7PxAl6Y/s4ns/ECXpj+ziez8QJemP7OJ7PxAl6Y/s4ns/ECXpj+ziez8QJemP7OJ7PxAl6Y/s4ns/ECXpj+ziez8QJemP7OJ7PxAl6Y/s4ns/ECXpj+ziez8QJemP7OJ7PxAl6Y/s4ns/ECXpj+ziez8QJemP7OJ7PxAl6Y/s4ns/ECXpj+ziez8QJemP7OJ7PxAl6Y/s4ns/ECXpj+ziez8QJemP7OJ7PxAl6Y/s4ns/ECXpj+ziez8QJemP7OJ7PxAl6Y/s4ns/ECXpj+ziez8QJemP7OJ7PxAl6Y/s4ns/ECXpj+ziez8QJemP7OJ7PxAl6Y/s4ns/ECXpj+ziez8QJemP7OJ7PxAl6Y/s4ns/ECXpj+ziez8QJemP7OJ7PxAl6Y/s4ns/ECXpj+ziez8QJemP7OJ7PxAl6Y/s4ns/ECXpj+ziez8QJemP7OJ7PxAl6Y/s4ns/ECXpj+ziez8QJemP7OJ7PxAl6Y/s4ns/ECXpj+ziez8QJemP7OJ7PxAl6Y/s4ns/ECXpj+ziez8QJemP7OJ7PxAl6Y/s4ns/ECXpj+ziez8QJemP7OJ7PxAl6Y/s4ns/ECXpj+ziez8QJemP7OJ7PxAl6Y/s4ns/ECXpj+ziez8QJemP7OJ7PxAl6Y/s4ns/ECXpj+ziez8QJemP7OJ7PxAl6Y/s4ns/ECXpj+ziez8QJemP7OJ7PxAl6Y/s4ns/ECXpj+ziez8QJemP7OJ7PxAl6Y/s4ns/ECXpj+ziez8QJemP7OJ7PxAl6Y/s4ns/ECXpj+ziez8QJemP7OJ7PxAl6Y/s4ns/ECXpj+ziez8QJemP7OJ7PxAl6Y/s4ns/ECXpj+ziez8QJemP7OJ7PxAl6Y/s4ns/ECXpj+ziez8QJemP7OJ7PxAl6Y/s4ns/ECXpj+ziez8QJemP7OJ7PxAl6Y/s4ns/ECXpj+ziez8QJemP7OJ7PxAl6Y/s4ns/ECXpj+ziez8QJemP7OJ7PxAl6Y/s4ns/ECXpj+ziez8QJemP7OJ7PxAl6Y/s4ns/ECXpj+ziez8QJemP7OJ7PxAl6Y/s4ns/ECXpj+ziez8QJemP7OJ7PxAl6Y/s4ns/ECXpj+ziez8QJemP7OJ7PxAl6Y/s4ns/ECXpj+ziez8QJemP7OJ7PxAl6Y/s4ns/ECXpj+ziez8QJemP7OJ7PxAl6Y/s4ns/ECXpj+ziez8QJemP7OJ7PxAl6Y/s4ns/ECXpj+ziez8QJemP7OJ7PxAl6Y/s4ns/ECXpj+ziez8QJemP7OJ7PxAl6Y/s4ns/ECXpj+ziez8QJemP7OJ7PxAl6Y/s4ns/ECXpj+ziez8QJemP7OJ7PxAl6Y/s4ns/ECXpj+ziez8QJemP7OJ7PxAl6Y/s4ns/ECXpj+ziez8QJemP7OJ7PxAl6Y/s4ns/ECXpj+ziez8QJemP7OJ7PxAl6Y/s4ns/ECXpj+ziez8QJemP7OJ7PxAl6Y/s4ns/ECXpj+ziez8QJemP7OJ7PxAl6Y/s4ns/ECXpj+ziez8QJemP7OJ7PxAl6Y/s4ns/ECXpj+ziez8QJemP7OJ7PxAl6Y/s4ns/ECXpj+ziez8QJemP7OJ7PxAl6Y/s4ns/ECXpj+ziez8QJemP7OJ7PxAl6Y/s4ns/ECXpj+ziez8QJemP7OJ7PxAl6Y/s4ns/ECXpj+ziez8QJemP7OJ7PxAl6Y/s4ns/ECXpj+ziez8QJemP7OJ7PxAl6Y/s4ns/ECXpj+ziez8QJemP7OJ7PxAl6Y/s4ns/ECXpj+ziez8QJemP7OJ7PxAl6Y/s4ns/ECXpj+ziez8QJemP7OJ7PxAl6Y/s4ns/ECXpj+ziez8QJemP7OJ7PxAl6Y/s4ns/ECXpj+ziez8QJemP7OJ7PxAl6Y/s4ns/ECXpj+ziez8QJemP7OJ7PxAl6Y/s4ns/ECXpj+ziez8QJemP7OJ7PxAl6Y/s4ns/ECXpj+ziez8QJemP7OJ7PxAl6Y/s4ns/ECXpj+ziez8QJemP7OJ7PxAl6Y/s4ns/ECXpj+ziez8QJemP7OJ7PxAl6Y/s4ns/ECXpj+ziez8QJemP7OJ7PxAl6Y/s4ns/ECXpj+ziez8QJemP7OJ7PxAl6Y/s4ns/ECXpj+ziez8QJemP7OJ7PxAl6Y/s4ns/ECXpj+ziez8QJemP7OJ7PxAl6Y/s4ns/ECXpj+ziez8QJemP7OJ7PxAl6Y/s4ns/ECXpj+ziez8QJemP7OJ7PxAl6Y/s4ns/ECXpj+ziez8QJemP7OJ7PxAl6Y/s4ns/ECXpj+ziez8QJemP7OJ7PxAl6Y/s4ns/ECXpj+ziez8QJemP7OJ7PxAl6Y/s4ns/ECXpj+ziez8QJemP7OJ7PxAl6Y/s4ns/ECXpj+ziez8QJemP7OJ7PxAl6Y/s4ns/ECXpj+ziez8QJemP7OJ7PxAl6Y/s4ns/ECXpj+ziez8QJemP7OJ7PxAl6Y/s4ns/ECXpj+ziez8QJemP7OJ7PxAl6Y/s4ns/ECXpj+ziez8QJemP7OJ7PxAl6Y/s4ns/ECXpj+ziez8QJemP7OJ7PxAl6Y/s4ns/ECXpj+ziez8QJemP7OJ7PxAl6Y/s4ns/ECXpj+ziez8QJemP7OJ7PxAl6Y/s4ns/ECXpj+ziez8QJemP7OJ7PxAl6Y/s4ns/ECXpj+ziez8QJemP7OJ7PxAl6Y/s4ns/ECXpj+ziez8QJemP7OJ7PxAl6Y/s4ns/ECXpj+ziez8QJemP7OJ7PxAl6Y/s4ns/ECXpj+ziez8QJemP7OJ7PxAl6Y/s4ns/ECXpj+ziez8QJemP7OJ7PxAl6Y/s4ns/ECXpj+ziez8QJemP7OJ7PxAl6Y/s4ns/ECXpj+ziez8QJemP7OJ7PxAl6Y/s4ns/ECXpj+ziez8QJemP7OJ7PxAl6Y/s4ns/ECXpj+ziez8QJemP7OJ7PxAl6Y/s4ns/ECXpj+ziez8QJemP7OJ7PxAl6Y/s4ns/ECXpj+ziez8QJemP7OJ7PxAl6Y/s4ns/ECXpj+ziez8QJemP7OJ7PxAl6Y/s4ns/ECXpj+ziez8QJemP7OJ7PxAl6Y/s4ns/ECXpj+ziez8QJemP7OJ7PxAl6Y/s4ns/ECXpj+ziez8QJemP7OJ7PxAl6Y/s4ns/ECXpj+ziez8QJemP7OJ7PxAl6Y/s4ns/ECXpj+ziez8QJemP7OJ7PxAl6Y/s4ns/ECXpj+ziez8QJemP7OJ7PxAl6Y/s4ns/ECXpj+ziez8QJemP7OJ7PxAl6Y/s4ns/ECXpj+ziez8QJemP7OJ7PxAl6Y/s4ns/ECXpj+ziez8QJemP7OJ7PxAl6Y/s4ns/ECXpj+ziez8QJemP7OJ7PxAl6Y/s4ns/ECXpj+ziez8QJemP7OJ7PxAl6Y/s4ns/ECXpj+ziez8QJemP7OJ7PxAl6Y/s4ns/ECXpj+ziez8QJemP7OJ7PxAl6Y/s4ns/ECXpj+ziez8QJemP7OJ7PxAl6Y/s4ns/ECXpj+ziez8QJemP7OJ7PxAl6Y/s4ns/ECXpj+ziez8QJemP7OJ7PxAl6Y/s4ns/ECXpj+ziez8QJemP7OJ7PxAl6Y/s4ns/ECXpj+ziez8QJemP7OJ7PxAl6Y/s4ns/ECXpj+ziez8QJemP7OJ7PxAl6Y/s4ns/ECXpj+ziez8QJemP7OJ7PxAl6Y/s4ns/ECXpj+ziez8QJemP7OJ7PxAl6Y/s4ns/ECXpj+ziez8QJemP7OJ7PxAl6Y/s4ns/ECXpj+ziez8QJemP7OJ7PxAl6Y/s4ns/ECXpj+ziez8QJemP7OJ7PxAl6Y/s4ns/ECXpj+ziez8QJemP7OJ7PxAl6Y/s4ns/ECXpj+ziez8QJemP7OJ7PxAl6Y/s4ns/ECXpj+ziez8QJemP7OJ7PxAl6Y/s4ns/ECXpj+ziez8QJemP7OJ7PxAl6Y/s4ns/ECXpj+ziez8QJemP7OJ7PxAl6Y/s4ns/ECXpj+ziez8QJemP7OJ7PxAl6Y/s4ns/ECXpj+ziez8QJemP7OJ7PxAl6Y/s4ns/ECXpj+ziez8QJemP7OJ7PxAl6Y/s4ns/ECXpj+ziez8QJemP7OJ7PxAl6Y/s4ns/ECXpj+ziez8QJemP7OJ7PxAl6Y/s4ns/ECXpj+ziez8QJemP7OJ7PxAl6Y/s4ns/ECXpj+ziez8QJemP7OJ7PxAl6Y/s4ns/ECXpj+ziez8QJemP7OJ7PxAl6Y/s4ns/ECXpj+ziez8QJemP7OJ7PxAl6Y/s4ns/ECXpj+ziez8QJemP7OJ7PxAl6Y/s4ns/ECXpj+ziez8QJemP7OJ7PxAl6Y/s4ns/ECXpj+ziez8QJemP7OJ7PxAl6Y/s4ns/ECXpj+ziez8QJemP7OJ7PxAl6Y/s4ns/ECXpj+ziez8QJemP7OJ7PxAl6Y/s4ns/ECXpj+ziez8QJemP7OJ7PxAl6Y/s4ns/ECXpj+ziez8QJemP7OJ7PxAl6Y/s4ns/ECXpj+ziez8QJemP7OJ7PxAl6Y/s4ns/ECXpj+ziez8QJemP7OJ7PxAl6Y/s4ns/ECXpj+ziez8QJemP7OJ7PxAl6Y/s4ns/ECXpj+ziez8QJemP7OJ7PxAl6Y/s4ns/ECXpj+ziez8QJemP7OJ7PxAl6Y/s4ns/ECXpj+ziez8QJemP7OJ7PxAl6Y/s4ns/ECXpj+ziez8QJemP7OJ7PxAl6Y/s4ns/ECXpj+ziez8QJemP7OJ7PxAl6Y/s4ns/ECXpj+ziez8QJemP7OJ7PxAl6Y/s4ns/ECXpj+ziez8QJemP7OJ7PxAl6Y/s4ns/ECXpj+ziez8QJemP7OJ7PxAl6Y/s4ns/ECXpj+ziez8QJemP7OJ7PxAl6Y/s4ns/ECXpj+ziez8QJemP7OJ7PxAl6Y/s4ns/ECXpj+ziez8QJemP7OJ7PxAl6Y/s4ns/ECXpj+ziez8QJemP7OJ7PxAl6Y/s4ns/ECXpj+ziez8QJemP7OJ7PxAl6Y/s4ns/ECXpj+ziez8QJemP7OJ7PxAl6Y/s4ns/ECXpj+ziez8QJemP7OJ7PxAl6Y/s4ns/ECXpj+ziez8QJemP7OJ7PxAl6Y/s4ns/ECXpj+ziez8QJemP7OJ7PxAl6Y/s4ns/ECXpj+ziez8QJemP7OJ7PxAl6Y/s4ns/ECXpj+ziez8QJemP7OJ7PxAl6Y/s4ns/ECXpj+ziez8QJemP7OJ7PxAl6Y/s4ns/ECXpj+ziez8QJemP7OJ7PxAl6Y/s4ns/ECXpj+ziez8QJemP7OJ7PxAl6Y/s4ns/ECXpj+ziez8QJemP7OJ7PxAl6Y/s4ns/ECXpj+ziez8QJemP7OJ7PxAl6Y/s4ns/ECXpj+ziez8QJemP7OJ7PxAl6Y/s4ns/ECXpj+ziez8QJemP7OJ7PxAl6Y/s4ns/ECXpj+ziez8QJemP7OJ7PxAl6Y/s4ns/ECXpj+ziez8QJemP7OJ7PxAl6Y/s4ns/ECXpj+ziez8QJemP7OJ7PxAl6Y/s4ns/ECXpj+ziez8QJemP7OJ7PxAl6Y/s4ns/ECXpj+ziez8QJemP7OJ7PxAl6Y/s4ns/ECXpj+ziez8QJemP7OJ7PxAl6Y/s4ns/ECXpj+ziez8QJemP7OJ7PxAl6Y/s4ns/ECXpj+ziez8QJemP7OJ7PxAl6Y/s4ns/ECXpj+ziez8QJemP7OJ7PxAl6Y/s4ns/ECXpj+ziez8QJemP7OJ7PxAl6Y/s4ns/ECXpj+ziez8QJemP7OJ7PxAl6Y/s4ns/ECXpj+ziez8QJemP7OJ7PxAl6Y/s4ns/ECXpj+ziez8QJemP7OJ7PxAl6Y/s4ns/ECXpj+ziez8QJemP7OJ7PxAl6Y/s4ns/ECXpj+ziez8QJemP7OJ7PxAl6Y/s4ns/ECXpj+ziez8QJemP7OJ7PxAl6Y/s4ns/ECXpj+ziez8QJemP7OJ7PxAl6Y/s4ns/ECXpj+ziez8QJemP7OJ7PxAl6Y/s4ns/ECXpj+ziez8QJemP7OJ7PxAl6Y/s4ns/ECXpj+ziez8QJemP7OJ7PxAl6Y/s4ns/ECXpj+ziez8QJemP7OJ7PxAl6Y/s4ns/ECXpj+ziez8QJemP7OJ7PxAl6Y/s4ns/ECXpj+ziez8QJemP7OJ7PxAl6Y/s4ns/ECXpj+ziez8QJemP7OJ7PxAl6Y/s4ns/ECXpj+ziez8QJemP7OJ7PxAl6Y/s4ns/ECXpj+ziez8QJemP7OJ7PxAl6Y/s4ns/ECXpj+ziez8QJemP7OJ7PxAl6Y/s4ns/ECXpj+ziez8QJemP7OJ7PxAl6Y/s4ns/ECXpj+ziez8QJemP7OJ7PxAl6Y/s4ns/ECXpj+ziez8QJemP7OJ7PxAl6Y/s4ns/ECXpj+ziez8QJemP7OJ7PxAl6Y/s4ns/ECXpj+ziez8QJemP7OJ7PxAl6Y/s4ns/ECXpj+ziez8QJemP7OJ7PxAl6Y/s4ns/ECXpj+ziez8QJemP7OJ7PxAl6Y/s4ns/ECXpj+ziez8QJemP7OJ7PxAl6Y/s4ns/ECXpj+ziez8QJemP7OJ7PxAl6Y/s4ns/ECXpj+ziez8QJemP7OJ7PxAl6Y/s4ns/ECXpj+ziez8QJemP7OJ7PxAl6Y/s4ns/ECXpj+ziez8QJemP7OJ7PxAl6Y/s4ns/ECXpj+ziez8QJemP7OJ7PxAl6Y/s4ns/ECXpj+ziez8QJemP7OJ7PxAl6Y/s4ns/ECXpj+ziez8QJemP7OJ7PxAl6Y/s4ns/ECXpj+ziez8QJemP7OJ7PxAl6Y/s4ns/ECXpj+ziez8QJemP7OJ7PxAl6Y/s4ns/ECXpj+ziez8QJemP7OJ7PxAl6Y/s4ns/ECXpj+ziez8QJemP7OJ7PxAl6Y/s4ns/ECXpj+ziez8QJemP7OJ7PxAl6Y/s4ns/ECXpj+ziez8QJemP7OJ7PxAl6Y/s4ns/ECXpj+ziez8QJemP7OJ7PxAl6Y/s4ns/ECXpj+ziez8QJemP7OJ7PxAl6Y/s4ns/ECXpj+ziez8QJemP7OJ7PxAl6Y/s4ns/ECXpj+ziez8QJemP7OJ7PxAl6Y/s4ns/ECXpj+ziez8QJemP7OJ7PxAl6Y/s4ns/ECXpj+ziez8QJemP7OJ7PxAl6Y/s4ns/ECXpj+ziez8QJemP7OJ7PxAl6Y/s4ns/ECXpj+ziez8QJemP7OJ7PxAl6Y/s4ns/ECXpj+ziez8QJemP7OJ7PxAl6Y/s4ns/ECXpj+ziez8QJemP7OJ7PxAl6Y/s4ns/ECXpj+ziez8QJemP7OJ7PxAl6Y/s4ns/ECXpj+ziez8QJemP7OJ7PxAl6Y/s4ns/ECXpj+ziez8QJemP7OJ7PxAl6Y/s4ns/ECXpj+ziez8QJemP7OJ7PxAl6Y/s4ns/ECXpj+ziez8QJemP7OJ7PxAl6Y/s4ns/ECXpj+ziez8QJemP7OJ7PxAl6Y/s4ns/ECXpj+ziez8QJemP7OJ7PxAl6Y/s4ns/ECXpj+ziez8QJemP7OJ7PxAl6Y/s4ns/ECXpj+ziez8QJemP7OJ7PxAl6Y/s4ns/ECXpj+ziez8QJemP7OJ7PxAl6Y/s4ns/ECXpj+ziez8QJemP7OJ7PxAl6Y/s4ns/ECXpj+ziez8QJemP7OJ7PxAl6Y/s4ns/ECXpj+ziez8QJemP7OJ7PxAl6Y/s4ns/ECXpj+ziez8QJemP7OJ7PxAl6Y/s4ns/ECXpj+ziez8QJemP7OJ7PxAl6Y/s4ns/ECXpj+ziez8QJemP7OJ7PxAl6Y/s4ns/ECXpj+ziez8QJemP7OJ7PxAl6Y/s4ns/ECXpj+ziez8QJemP7OJ7PxAl6Y/s4ns/ECXpj+ziez8QJemP7OJ7PxAl6Y/s4ns/ECXpj+ziez8QJemP7OJ7PxAl6Y/s4ns/ECXpj+ziez8QJemP7OJ7PxAl6Y/s4ns/ECXpj+ziez8QJemP7OJ7PxAl6Y/s4ns/ECXpj+ziez8QJemP7OJ7PxAl6Y/s4ns/ECXpj+ziez8QJemP7OJ7PxAl6Y/s4ns/ECXpj+ziez8QJemP7OJ7PxAl6Y/s4ns/ECXpj+ziez8QJemP7OJ7PxAl6Y/s4ns/ECXpj+ziez8QJemP7OJ7PxAl6Y/s4ns/ECXpj+ziez8QJemP7OJ7PxAl6Y/s4ns/ECXpj+ziez8QJemP7OJ7PxAl6Y/s4ns/ECXpj+ziez8QJemP7OJ7PxAl6Y/s4ns/ECXpj+ziez8QJemP7OJ7PxAl6Y/s4ns/ECXpj+ziez8QJemP7OJ7PxAl6Y/s4ns/ECXpj+ziez8QJemP7OJ7PxAl6Y/s4ns/ECXpj+ziez8QJemP7OJ7PxAl6Y/s4ns/ECXpj+ziez8QJemP7OJ7PxAl6Y/s4ns/ECXpj+ziez8QJemP7OJ7PxAl6Y/s4ns/ECXpj+ziez8QJemP7OJ7PxAl6Y/s4ns/ECXpj+ziez8QJemP7OJ7PxAl6Y/s4ns/ECXpj+ziez8QJemP7OJ7PxAl6Y/s4ns/ECXpj+ziez8QJemP7OJ7PxAl6Y/s4ns/ECXpj+ziez8QJemP7OJ7PxAl6Y/s4ns/ECXpj+ziez8QJemP7OJ7PxAl6Y/s4ns/ECXpj+ziez8QJemP7OJ7PxAl6Y/s4ns/ECXpj+ziez8QJemP7OJ7PxAl6Y/s4ns/ECXpj+ziez8QJemP7OJ7PxAl6Y/s4ns/ECXpj+ziez8QJemP7OJ7PxAl6Y/s4ns/ECXpj+ziez8QJemP7OJ7PxAl6Y/s4ns/ECXpj+ziez8QJemP7OJ7PxAl6Y/s4ns/ECXpj+ziez8QJemP7OJ7PxAl6Y/s4ns/ECXpj+ziez8QJemP7OJ7PxAl6Y/s4ns/ECXpj+ziez8QJemP7OJ7PxAl6Y/s4ns/ECXpj+ziez8QJemP7OJ7PxAl6Y/s4ns/ECXpj+ziez8QJemP7OJ7PxAl6Y/s4ns/ECXpj+ziez8QJemP7OJ7PxAl6Y/s4ns/ECXpj+ziez8QJemP7OJ7PxAl6Y/s4ns/ECXpj+ziez8QJemP7OJ7PxAl6Y/s4ns/ECXpj+ziez8QJemP7OJ7PxAl6Y/s4ns/ECXpj+ziez8QJemP7OJ7PxAl6Y/s4ns/ECXpj+ziez8QJemP7OJ7PxAl6Y/s4ns/ECXpj+ziez8QJemP7OJ7PxAl6Y/s4ns/ECXpj+ziez8QJemP7OJ7PxAl6Y/s4ns/ECXpj+ziez8QJemP7OJ7PxAl6Y/s4ns/ECXpj+ziez8QJemP7OJ7PxAl6Y/s4ns/ECXpj+ziez8QJemP7OJ7PxAl6Y/s4ns/ECXpj+ziez8QJemP7OJ7PxAl6Y/s4ns/ECXpj+ziez8QJemP7OJ7PxAl6Y/s4ns/ECXpj+ziez8QJemP7OJ7PxAl6Y/s4ns/ECXpj+ziez8QJemP7OJ7PxAl6Y/s4ns/ECXpj+ziez8QJemP7OJ7PxAl6Y/s4ns/ECXpj+ziez8QJemP7OJ7PxAl6Y/s4ns/ECXpj+ziez8QJemP7OJ7PxAl6Y/s4ns/ECXpj+ziez8QJemP7OJ7PxAl6Y/s4ns/ECXpj+ziez8QJemP7OJ7PxAl6Y/s4ns/ECXpj+ziez8QJemP7OJ7PxAl6Y/s4ns/ECXpj+ziez8QJemP7OJ7PxAl6Y/s4ns/ECXpj+ziez8QJemP7OJ7PxAl6Y/s4ns/ECXpj+ziez8QJemP7OJ7PxAl6Y/s4ns/ECXpj+ziez8QJemP7OJ7PxAl6Y/s4ns/ECXpj+ziez8QJemP7OJ7PxAl6Y/s4ns/ECXpj+ziez8QJemP7OJ7PxAl6Y/s4ns/ECXpj+ziez8QJemP7OJ7PxAl6Y/s4ns/ECXpj+ziez8QJemP7OJ7PxAl6Y/s4ns/ECXpj+ziez8QJemP7OJ7PxAl6Y/s4ns/ECXpj+ziez8QJemP7OJ7PxAl6Y/s4ns/ECXpj+ziez8QJemP7OJ7PxAl6Y/s4ns/ECXpj+ziez8QJemP7OJ7PxAl6Y/s4ns/ECXpj+ziez8QJemP7OJ7PxAl6Y/s4ns/ECXpj+ziez8QJemP7OJ7PxAl6Y/s4ns/ECXpj+ziez8QJemP7OJ7PxAl6Y/s4ns/ECXpj+ziez8QJemP7OJ7PxAl6Y/s4ns/ECXpj+ziez8QJemP7OJ7PxAl6Y/s4ns/ECXpj+ziez8QJemP7OJ7PxAl6Y/s4ns/ECXpj+ziez8QJemP7OJ7PxAl6Y/s4ns/ECXpj+ziez8QJemP7OJ7PxAl6Y/s4ns/ECXpj+ziez8QJemP7OJ7PxAl6Y/s4ns/ECXpj+ziez8QJemP7OJ7PxAl6Y/s4ns/ECXpj+ziez8QJemP7OJ7PxAl6Y/s4ns/ECXpj+ziez8QJemP7OJ7PxAl6Y/s4ns/ECXpj+ziez8QJemP7OJ7PxAl6Y/s4ns/ECXpj+ziez8QJemP7OJ7PxAl6Y/s4ns/ECXpj+ziez8QJemP7OJ7PxAl6Y/s4ns/ECXpj+ziez8QJemP7OJ7PxAl6Y/s4ns/ECXpj+ziez8QJemP7OJ7PxAl6Y/s4ns/ECXpj+ziez8QJemP7OJ7PxAl6Y/s4ns/ECXpj+ziez8QJemP7OJ7PxAl6Y/s4ns/ECXpj+ziez8QJemP7OJ7PxAl6Y/s4ns/ECXpj+ziez8QJemP7OJ7PxAl6Y/s4ns/ECXpj+ziez8QJemP7OJ7PxAl6Y/s4ns/ECXpj+ziez8QJemP7OJ7PxAl6Y/s4ns/ECXpj+ziez8QJemP7OJ7PxAl6Y/s4ns/ECXpj+ziez8QJemP7OJ7PxAl6Y/s4ns/ECXpj+ziez8QJemP7OJ7PxAl6Y/s4ns/ECXpj+ziez8QJemP7OJ7PxAl6Y/s4ns/ECXpj+ziez8QJemP7OJ7PxAl6Y/s4ns/ECXpj+ziez8QJemP7OJ7PxAl6Y/s4ns/ECXpj+ziez8QJemP7OJ7PxAl6Y/s4ns/ECXpj+ziez8QJemP7OJ7PxAl6Y/s4ns/ECXpj+ziez8QJemP7OJ7PxAl6Y/s4ns/ECXpj+ziez8QJemP7OJ7PxAl6Y/s4ns/ECXpj+ziez8QJemP7OJ7PxAl6Y/s4ns/ECXpj+ziez8QJemP7OJ7PxAl6Y/s4ns/ECXpj+ziez8QJemP7OJ7PxAl6Y/s4ns/ECXpj+ziez8QJemP7OJ7PxAl6Y/s4ns/ECXpj+ziez8QJemP7OJ7PxAl6Y/s4ns/ECXpj+ziez8QJemP7OJ7PxAl6Y/s4ns/ECXpj+ziez8QJemP7OJ7PxAl6Y/s4ns/ECXpj+ziez8QJemP7OJ7PxAl6Y/s4ns/ECXpj+ziez8QJemP7OJ7PxAl6Y/s4ns/ECXpj+ziez8QJemP7OJ7PxAl6Y/s4ns/ECXpj+ziez8QJemP7OJ7PxAl6Y/s4ns/ECXpj+ziez8QJemP7OJ7PxAl6Y/s4ns/ECXpj+ziez8QJemP7OJ7PxAl6Y/s4ns/ECXpj+ziez8QJemP7OJ7PxAl6Y/s4ns/ECXpj+ziez8QJemP7OJ7PxAl6Y/s4ns/ECXpj+ziez8QJemP7OJ7PxAl6Y/s4ns/ECXpj+ziez8QJemP7OJ7PxAl6Y/s4ns/ECXpj+ziez8QJemP7OJ7PxAl6Y/s4ns/ECXpj+ziez8QJemP7OJ7PxAl6Y/s4ns/ECXpj+ziez9u3rz06+J7P97kEvnp4ns/LNg5nObiez+kYjHe4eJ7P24L+b7b4ns/iDaQPtTiez/KJPZcy+J7P9zzKRrB4ns/RJ4qdrXiez9a+/ZwqOJ7P0q/jQqa4ns/GnvtQoriez+enBQaeeJ7P35uAZBm4ns/NhiypFLiez8WniRYPeJ7PzrhVqom4ns/jJ9Gmw7iez/Mc/Eq9eF7P3zVVFna4Xs/8hhuJr7hez9ObzqSoOF7P3TmtpyB4Xs/FGngRWHhez+kvrONP+F7P1iLLXQc4Xs/MFBK+ffgez/oagYd0uB7P/oVXt+q4Hs/nmhNQILgez/MVtA/WOB7PzCx4t0s4Hs/LiWAGgDgez/gPKT10d97PxRfSm+i33s/Rs9th3Hfez+krQk+P997PwL3GJML33s/4oSWhtbeez9sDX0YoN57P2wjx0ho3ns/TDZvFy/eez8Ykm+E9N17P3hfwo+43Xs/rKNhOXvdez+KQEeBPN17P3j0bGf83Hs/cFrM67rcez/26V4OeNx7Pxj3Hc8z3Hs/aLICLu7bez8AKQYrp9t7P3BEIcZe23s/yspM/xTbez+YXoHWydp7P9R+t0t92ns/7IbnXi/aez+4rgkQ4Nl7P34KFl+P2Xs/3ooETD3Zez/m/MzW6dh7P/QJZ/+U2Hs/yDfKxT7Yez9y6O0p59d7P1BaySuO13s/EqhTyzPXez+myIMI2NZ7P0KPUON61ns/WquwWxzWez+aqJpxvNV7P+TuBCVb1Xs/RMLldfjUez/6QjNklNR7P2Jt4+8u1Hs/ABrsGMjTez9w/ULfX9N7P2ao3UL20ns/poexQ4vSez8C5LPhHtJ7P1Di2Ryx0Xs/aIMY9UHRez8gpGRq0dB7Pz79snxf0Hs/gCP4K+zPez+Ghyh4d897P951OGEBz3s/7BYc54nOez/ybscJEc57PwReLsmWzXs/AqBEJRvNez+SzP0dnsx7Px5XTbMfzHs/wo4m5Z/Lez9WnnyzHst7P1iMQh6cyns/8jprJRjKez/sZ+nIksl7P6asrwgMyXs/FH6w5IPIez+yLN5c+sd7P4bkKnFvx3s/Dq2IIePGez9EaeltVcZ7P4zXPlbGxXs/tpF62jXFez/yDI76o8R7P8iZarYQxHs/FGQBDnzDez/6ckMB5sJ7P+SoIZBOwns/dMOMurXBez+EW3WAG8F7PxTly+F/wHs/Sq+A3uK/ez9s5IN2RL97P8yJxamkvns/zn81eAO+ez/WgcPhYL17P0QmX+a8vHs/bN73hRe8ez+K9nzAcLt7P7yV3ZXIuns/+r0IBh+6ez8QTO0QdLl7P4r3ebbHuHs/ulKd9hm4ez+mykXRard7P/ymYUa6tns/FgrfVQi2ez/m8Kv/VLV7P+oytkOgtHs/MoLrIeqzez9GazmaMrN7PyZVjax5sns/PoHUWL+xez9cC/yeA7F7P6bp8H5GsHs/kOyf+Ievez/YvvULyK57P3Ll3rgGrns/hr9H/0Otez9ehhzff6x7P2pNSVi6q3s/IgK6avOqez8QbFoWK6p7P7IsFlthqXs/hL/YOJaoez/geY2vyad7PwiLH7/7pns/Cvx5Zyymez++r4eoW6V7P7xiM4KJpHs/Tqtn9LWjez9m+Q7/4KJ7P4yWE6IKons/4qVf3TKhez8MJN2wWaB7PybndRx/n3s/vp4TIKOeez/E05+7xZ17P4DoA+/mnHs/iBgpugacez+sePgcJZt7P/j2WhdCmns/mFo5qV2Zez/aQ3zSd5h7PxosDJOQl3s/tmXR6qeWez8GHLTZvZV7P0xTnF/SlHs/puhxfOWTez8Gkhww95J7PyDeg3oHkns/ZjSPWxaRez/w1CXTI5B7P3bYLuEvj3s/QjCRhTqOez8gpjPAQ417P1bc/JBLjHs/kk3T91GLez/cTJ30Vop7P5AFQYdaiXs/RHukr1yIez/Kia1tXYd7PxLlQcFchns/KBlHqlqFez8giqIoV4R7Pwx0OTxSg3s/7Orw5EuCez+c2q0iRIF7P8oGVfU6gHs/6grLXDB/ez8iWvRYJH57Pz4/tekWfXs/oNzxDgh8ez82LI7I93p7P2L/bRbmeXs/9P50+NJ4ez8Yq4Zuvnd7P0Rbhniodns/Kj5XFpF1ez+uWdxHeHR7P86K+Axec3s/moWOZUJyez8e1YBRJXF7P1jbsdAGcHs/JNED4+Zuez8sxliIxW17P9ygksCibHs/UB6Ti35rez9E0jvpWGp7P/4mbtkxaXs/Rl0LXAloez9SjPRw32Z7P7ihChi0ZXs/VGEuUYdkez9EZUAcWWN7P9AdIXkpYns/VtGwZ/hgez9CnM/nxV97P/ZwXfmRXns/uBc6nFxdez+oLkXQJVx7P6QpXpXtWns/QFJk67NZez+uxzbSeFh7P7J+tEk8V3s/hkG8Uf5Vez/UryzqvlR7P5o+5BJ+U3s/IjjByztSez/ku6EU+FB7P3q+Y+2yT3s/kAnlVWxOez/OOwNOJE17P8DIm9XaS3s/zviL7I9Kez8g6bCSQ0l7P5CL58f1R3s/mKYMjKZGez801fzeVUV7P+CGlMADRHs/dP+vMLBCez8aVysvW0F7Pzp64rsEQHs/XCmx1qw+ez8k+XJ/Uz17PzRSA7b4O3s/FHE9epw6ez8sZvzLPjl7P6AVG6vfN3s/Rjd0F382ez+KVuIQHTV7P2LSP5e5M3s/MN1mqlQyez+0fDFK7jB7P/CJeXaGL3s/HLEYLx0uez+Kcehzsix7P4wdwkRGK3s/cNp+odgpez9UoPeJaSh7PyI6Bf74Jns/cEWA/YYlez9uMkGIEyR7P85DIJ6eIns/so71Pighez+O+phqsB97PxxB4iA3Hns/Nu6oYbwcez/QX8QsQBt7P9jFC4LCGXs/HiJWYUMYez9ESHrKwhZ7P6DdTr1AFXs/JlmqOb0Tez9UA2M/OBJ7PxT2Ts6xEHs/qhxE5ikPez+eMxiHoA17P5zIoLAVDHs/XjqzYokKez+euCSd+wh7P/BDyl9sB3s/rK14qtsFez/glwR9SQR7Pyx1Qte1Ans/rIgGuSABez/i5SQiiv96P5hwcRLy/Xo/zty/iVj8ej+WruOHvfp6PwY6sAwh+Xo/FqP4F4P3ej+K3Y+p4/V6P9asSMFC9Ho/BKT1XqDyej+gJWmC/PB6P5JjdStX73o/Dl/sWbDtej926J8NCOx6PzyfYUZe6no/zPECBLPoej9sHVVGBud6PyQuKQ1Y5Xo/qP5PWKjjej8uOJon9+F6P15S2HpE4Ho/OpPaUZDeej/0DnGs2tx6P9qna4oj23o/QA6a62rZej9UwMvPsNd6PxIK0Db11Xo/HgV2IDjUej+mmIyMedJ6P0554nq50Ho/CClG6/fOej8C94XdNM16P3z/b1Fwy3o/uCvSRqrJej/SMXq94sd6P6iUNbUZxno/uKPRLU/Eej8Cexsng8J6P/QC4KC1wHo/PvDrmua+ej+4wwsVFr16P0TKCw9Eu3o/tBy4iHC5ej+en9yBm7d6P0wDRfrEtXo/lsO88eyzej++Jw9oE7J6P1ZCB104sHo/IvFv0Fuuej/w3BPCfax6P4J5vTGeqno/ZAU3H72oej/UiUqK2qZ6P5jawXL2pHo/6pVm2BCjej9KJAK7KaF6P2K4XRpBn3o/7k5C9ladej+IrnhOa5t6P5RnySJ+mXo/HNT8co+Xej+sF9s+n5V6Py4fLIatk3o/zqC3SLqRej/SG0WGxY96P3rYmz7PjXo/3OeCcdeLej++I8Ee3ol6P3wuHUbjh3o/3HJd5+aFej/uI0gC6YN6P+Y8o5bpgXo//IA0pOh/ej9Ge8Eq5n16P5J+Dyrie3o/RKXjodx5ej8y0QKS1Xd6P3yrMfrMdXo/bKQ02sJzej9I888xt3F6PziWxwCqb3o/GFLfRpttej9YstoDi2t6P9IIfTd5aXo/pG2J4WVnej8Qv8IBUWV6P0qh65c6Y3o/XH7GoyJhej/6hRUlCV96P2CtmhvuXHo/Iq8Xh9Faej8MC05ns1h6P/gF/7uTVno/pKnrhHJUej+SxNTBT1J6P9LpenIrUHo/6HCelgVOej+Ydf8t3kt6P8jXXTi1SXo/Tjt5tYpHej/IBxGlXkV6P3ho5AYxQ3o/Fkyy2gFBej+mZDkg0T56P1AnONeePHo/NMxs/2o6ej9ETpWYNTh6Pw5rb6L+NXo/oKK4HMYzej9UNy4HjDF6P6YtjWFQL3o/BkySKxMtej+0Gvpk1Cp6P4rjgA2UKHo/3LHiJFImej8+UtuqDiR6P2RSJp/JIXo/6AB/AYMfej8obaDROh16PxZnRQ/xGno/Bn8ouqUYej+IBQTSWBZ6PzALklYKFHo/cmCMR7oRej9ulaykaA96P8D5q20VDXo/VpxDosAKej86SyxCagh6P26THk0SBno/rsDSwrgDej9K3QCjXQF6P/ixYO0A/3k/mMWpoaL8eT8MXZO/Qvp5Pwp71Ebh93k/4t8jN371eT9UCTiQGfN5P1gyx1Gz8Hk/9FKHe0vueT8GIC4N4ut5PxALcQZ36Xk/BkIFZwrneT8er58unOR5P5r49Fws4nk/moC58brfeT/eZKHsR915P5x+YE3T2nk/SmKqE13YeT9oXzI/5dV5P0SAq89r03k/2InIxPDQeT+E+zsedM55P9oOuNv1y3k/drfu/HXJeT+4opGB9MZ5P5Q3UmlxxHk/Xpbhs+zBeT+SmPBgZr95P5jQL3DevHk/lolP4VS6eT8wx/+zybd5P1RF8Oc8tXk/AHjQfK6yeT8Ii09yHrB5P+phHMiMrXk/gpflffmqeT/cfVmTZKh5P/gdJgjOpXk/jjf52zWjeT/cQIAOnKB5P15maJ8Annk/pIpejmObeT8CRg/bxJh5P2rmJoUklnk/Im9RjIKTeT+OmDrw3pB5P/TPjbA5jnk/Ojf2zJKLeT+ypB5F6oh5P9CisRhAhnk/AHBZR5SDeT9Q/r/Q5oB5P0jzjrQ3fnk/nKdv8oZ7eT/2JguK1Hh5P7IvCnsgdnk/ojIVxWpzeT/MUtRns3B5Py5l72L6bXk/cvANtj9reT/CLNdgg2h5P3ID8mLFZXk/yg4FvAVjeT++mbZrRGB5P7afrHGBXXk/QMyMzbxaeT/Sevx+9ld5P4y2oIUuVXk/7Dke4WRSeT+ObhmRmU95P+xsNpXMTHk/EPwY7f1JeT9WkWSYLUd5PypQvJZbRHk/ugnD54dBeT+0PBuLsj55PwAVZ4DbO3k/emtIxwI5eT+sxWBfKDZ5P4BVUUhMM3k/APm6gW4weT8MOj4Ljy15PxBOe+StKnk/uBUSDcsneT+wHKKE5iR5P1SZykoAInk/ZmwqXxgfeT/AIGDBLhx5PxTrCXFDGXk/mqnFbVYWeT/A4zC3ZxN5P+jJ6Ex3EHk/GDWKLoUNeT+mprFbkQp5P/RH+9ObB3k/IuoCl6QEeT+8BWSkqwF5P2q6ufuw/ng/qM6enLT7eD9wr62Gtvh4P/RvgLm29Xg/PsmwNLXyeD/yGdj3se94P/BljwKt7Hg/BFZvVKbpeD+eNxDtneZ4P3b8CcyT43g/Ojr08IfgeD9AKmZbet14PzCp9gpr2ng/tjY8/1nXeD8c9cw3R9R4PwqpPrQy0Xg/JLkmdBzOeD+6LRp3BMt4P2ywrbzqx3g/3ot1RM/EeD9YqwUOssF4P2ya8RiTvng/qITMZHK7eD82NSnxT7h4P4gWmr0rtXg/+DGxyQWyeD94LwAV3q54PypVGJ+0q3g/EoeKZ4moeD+2RudtXKV4P76yvrEtong/noagMv2eeD82Ghzwypt4P3ZhwOmWmHg//OsbH2GVeD+85LyPKZJ4P6ARMTvwjng/ItMFIbWLeD/yI8hAeIh4P5iYBJo5hXg/EF9HLPmBeD9iPhz3tn54P0iWDvpye3g/0l6pNC14eD/uJ3em5XR4PxgZAk+ccXg/8vDTLVFueD/WBHZCBGt4P3hAcYy1Z3g/hCVOC2VkeD8uy5S+EmF4P9LdzKW+XXg/jJ59wGhaeD/M4i0OEVd4P/ITZI63U3g/4i6mQFxQeD+cw3kk/0x4P870YzmgSXg/cnfpfj9GeD9Uko703EJ4P7Yd15l4P3g/2IJGbhI8eD+Qu19xqjh4P9RRpaJANXg/YF+ZAdUxeD8ojb2NZy54PwgTk0b4Kng/PLeaK4cneD/4zVQ8FCR4P/g4QXifIHg/Dmff3igdeD+sU65vsBl4P26GLCo2Fng/rhLYDboSeD8Gly4aPA94P+Q8rU68C3g/DrjQqjoIeD8mRhUutwR4P0Ku9tcxAXg/ZkDwp6r9dz8O1XydIfp3P7jMFriW9nc/ag849wnzdz82DFpae+93P7a49eDq63c/npCDiljodz88lXtWxOR3P+xMVUQu4Xc/rMKHU5bddz+YhYmD/Nl3P2Ko0NNg1nc/1sDSQ8PSdz9e5wTTI893P3i224CCy3c/OkrLTN/Hdz/KP0c2OsR3P9y0wjyTwHc/JkewX+q8dz/sE4KeP7l3P2S3qfiStXc/OkyYbeSxdz8Ma778M653P9QpjKWBqnc/ahtxZ82mdz/0TtxBF6N3P1xPPDRfn3c/xiL/PaWbdz/8SZJe6Zd3P+i/YpUrlHc/BPnc4WuQdz/K4mxDqox3PyDjfbnmiHc/ytd6QyGFdz/YFc7gWYF3Pxpp4ZCQfXc/ghMeU8V5dz+OzOwm+HV3P77AtQspcnc/+JDgAFhudz/sUdQFhWp3P4SL9xmwZnc/SjiwPNlidz/KxGNtAF93P/gOd6slW3c/lmVO9khXdz+ch01NalN3P46j16+JT3c/8FZPHadLdz+QrRaVwkd3P/ogjxbcQ3c/0JcZofM/dz8eZRY0CTx3P8pH5c4cOHc/2mnlcC40dz/kX3UZPjB3P1oo88dLLHc/5iq8e1codz/ENy00YSR3PxiHovBoIHc/QLh3sG4cdz840Qdzchh3P9Y9rTd0FHc/LM/B/XMQdz/aup7EcQx3P1qanIttCHc/UmoTUmcEdz/eiVoXXwB3P+i5yNpU/HY/Zhy0m0j4dj+2M3JZOvR2P9ThVxMq8HY/uGe5yBfsdj+QZOp4A+h2PwzVPSPt43Y/oBIGx9Tfdj/Q0pRjutt2P2wmO/id13Y/1HhJhH/Tdj8+jw8HX892P+yH3H88y3Y/etn+7RfHdj8GUsRQ8cJ2P4QWeqfIvnY/6KFs8Z26dj9ixOctcbZ2P6aiNlxCsnY/ELWjexGudj/gxniL3ql2P3b1/oqppXY/eq9+eXKhdj8ctD9WOZ12PzwSiSD+mHY/mCeh18CUdj8EoM16gZB2P4p0UwlAjHY/pup2gvyHdj9gk3vltoN2P4JKpDFvf3Y/uDUzZiV7dj++w2mC2XZ2P3iriIWLcnY/JOvPbjtudj92x3496Wl2P7TK0/CUZXY/4sMMiD5hdj/UxWYC5lx2P0wmHl+LWHY/IH1unS5Udj++kXYh21B2PwmFFMzPT3Y/0IhBXXBLdj+bjG7uEEd2P2WQm3+xQnY/MZTIEFI+dj/7l/Wh8jl2P8abIjOTNXY/kZ9PxDMxdj9co3xV1Cx2PyenqeZ0KHY/8qrWdxUkdj+9rgMJth92P4iyMJpWG3Y/U7ZdK/cWdj8duoq8lxJ2P+m9t004DnY/s8Hk3tgJdj9+xRFweQV2P0nJPgEaAXY/FM1rkrr8dT/f0JgjW/h1P6rUxbT783U/ddjyRZzvdT9A3B/XPOt1PwvgTGjd5nU/1eN5+X3idT+h56aKHt51P2fr0xu/2XU/Me8ArV/VdT/98i0+ANF1P8f2Ws+gzHU/kvqHYEHIdT9d/rTx4cN1PygC4oKCv3U/8wUPFCO7dT++CTylw7Z1P4kNaTZksnU/VBGWxwSudT8fFcNYpal1P+kY8OlFpXU/tRwde+agdT9/IEoMh5x1P0okd50nmHU/FSikLsiTdT/gK9G/aI91P6sv/lAJi3U/djMr4qmGdT9BN1hzSoJ1Pww7hQTrfXU/1z6ylYt5dT+hQt8mLHV1P21GDLjMcHU/M0o5SW1sdT/+TWbaDWh1P8lRk2uuY3U/k1XA/E5fdT9fWe2N71p1PyldGh+QVnU/9GBHsDBSdT+/ZHRB0U11P4poodJxSXU/VWzOYxJFdT8gcPv0skB1P+tzKIZTPHU/tndVF/Q3dT+Be4KolDN1P0t/rzk1L3U/FoPcytUqdT/hhglcdiZ1P6yKNu0WInU/d45jfrcddT9CkpAPWBl1Pw2WvaD4FHU/2JnqMZkQdT+jnRfDOQx1P22hRFTaB3U/OaVx5XoDdT//qJ52G/90P8qsywe8+nQ/lbD4mFz2dD9ftCUq/fF0Pyu4Urud7XQ/9bt/TD7pdD/Av6zd3uR0P4vD2W5/4HQ/VscGACDcdD8hyzORwNd0P+zOYCJh03Q/t9KNswHPdD+C1rpEosp0P03a59VCxnQ/F94UZ+PBdD/i4UH4g710P63lbokkuXQ/eOmbGsW0dD9D7cirZbB0Pw7x9TwGrHQ/2fQizqandD+k+E9fR6N0P2/8fPDnnnQ/OgCqgYiadD8FBNcSKZZ0P8sHBKTJkXQ/lgsxNWqNdD9hD17GCol0PywTi1erhHQ/9xa46EuAdD/BGuV57Ht0P4weEguNd3Q/VyI/nC1zdD8iJmwtzm50P+0pmb5uanQ/uC3GTw9mdD+DMfPgr2F0P041IHJQXXQ/GTlNA/FYdD/kPHqUkVR0P69ApyUyUHQ/eUTUttJLdD9ESAFIc0d0Pw9MLtkTQ3Q/2k9barQ+dD+lU4j7VDp0P3BXtYz1NXQ/O1viHZYxdD8GXw+vNi10P9FiPEDXKHQ/m2Zp0XckdD9iapZiGCB0Py1uw/O4G3Q/+HHwhFkXdD/DdR0W+hJ0P415SqeaDnQ/WH13ODsKdD8jgaTJ2wV0P+6E0Vp8AXQ/uYj+6xz9cz+EjCt9vfhzP0+QWA5e9HM/GpSFn/7vcz/ll7Iwn+tzP7Cb38E/53M/e58MU+Dicz9FoznkgN5zPxCnZnUh2nM/26qTBsLVcz+mrsCXYtFzP3Gy7SgDzXM/PLYauqPIcz8HukdLRMRzP9K9dNzkv3M/ncGhbYW7cz9oxc7+JbdzPy7J+4/GsnM/+cwoIWeucz/E0FWyB6pzP4/UgkOopXM/Wdiv1Eihcz8k3Nxl6ZxzP+/fCfeJmHM/uuM2iCqUcz+F52MZy49zP1DrkKpri3M/G++9OwyHcz/m8urMrIJzP7H2F15NfnM/fPpE7+15cz9H/nGAjnVzPxECnxEvcXM/3AXMos9scz+nCfkzcGhzP3INJsUQZHM/PRFTVrFfcz8IFYDnUVtzP9MYrXjyVnM/nhzaCZNScz9pIAebM05zPzQkNCzUSXM/+idhvXRFcz/FK45OFUFzP5Avu9+1PHM/WzPocFY4cz8mNxUC9zNzP/E6QpOXL3M/uz5vJDgrcz+GQpy12CZzP1FGyUZ5InM/HEr21xkecz/nTSNpuhlzP7JRUPpaFXM/fVV9i/sQcz9IWaocnAxzPxNd1608CHM/3WAEP90Dcz+pZDHQff9yP3NoXmEe+3I/PmyL8r72cj8JcLiDX/JyP9Rz5RQA7nI/n3cSpqDpcj9qez83QeVyPzV/bMjh4HI/AIOZWYLccj/LhsbqIthyP5GK83vD03I/XI4gDWTPcj8nkk2eBMtyP/GVei+lxnI/vJmnwEXCcj+HndRR5r1yP1KhAeOGuXI/HaUudCe1cj/oqFsFyLByP7OsiJZorHI/frC1Jwmocj9JtOK4qaNyPxS4D0pKn3I/3rs82+qacj+pv2lsi5ZyP3TDlv0rknI/P8fDjsyNcj8Ky/AfbYlyP9XOHbENhXI/oNJKQq6Acj9r1nfTTnxyPzbapGTvd3I/Ad7R9Y9zcj/M4f6GMG9yP5blKxjRanI/XelYqXFmcj8o7YU6EmJyP/PwssuyXXI/vfTfXFNZcj+I+Azu81RyP1P8OX+UUHI/HgBnEDVMcj/pA5Sh1UdyP7QHwTJ2Q3I/fwvuwxY/cj9KDxtVtzpyPxUTSOZXNnI/4BZ1d/gxcj+rGqIImS1yP3Uez5k5KXI/QCL8Ktokcj8LJim8eiByP9YpVk0bHHI/oS2D3rsXcj9sMbBvXBNyPzc13QD9DnI/AjkKkp0Kcj/NPDcjPgZyP5hAZLTeAXI/Y0SRRX/9cT8pSL7WH/lxP/RL62fA9HE/v08Y+WDwcT+KU0WKAexxP1RXchui53E/H1ufrELjcT/qXsw9495xP7Vi+c6D2nE/gGYmYCTWcT9LalPxxNFxPxZugIJlzXE/4XGtEwbJcT+sddqkpsRxP3d5BzZHwHE/QX00x+e7cT8MgWFYiLdxP9eEjukos3E/ooi7esmucT9tjOgLaqpxPziQFZ0KpnE/A5RCLquhcT/Ol2+/S51xP5mbnFDsmHE/ZJ/J4YyUcT8vo/ZyLZBxP/WmIwTOi3E/wKpQlW6HcT+Lrn0mD4NxP1ayqrevfnE/ILbXSFB6cT/ruQTa8HVxP7a9MWuRcXE/gcFe/DFtcT9MxYuN0mhxPxfJuB5zZHE/4szlrxNgcT+t0BJBtFtxP3jUP9JUV3E/Q9hsY/VScT8O3Jn0lU5xP9jfxoU2SnE/o+PzFtdFcT9u5yCod0FxPznrTTkYPXE/BO96yrg4cT/P8qdbWTRxP5r21Oz5L3E/ZfoBfporcT8w/i4POydxP/sBXKDbInE/xgWJMXwecT+MCbbCHBpxP1cN41O9FXE/IhEQ5V0RcT/tFD12/gxxP7cYagefCHE/ghyXmD8EcT9NIMQp4P9wPxgk8bqA+3A/4yceTCH3cD+uK0vdwfJwP3kveG5i7nA/RDOl/wLqcD8PN9KQo+VwP9o6/yFE4XA/pD4ss+TccD9vQllEhdhwPzpGhtUl1HA/BUqzZsbPcD/QTeD3ZstwP5tRDYkHx3A/ZlU6GqjCcD9t/gOzyb5wPxR8lbJIvnA/J+Mp3Ou5cD+W8Fw7k7VwPxkrKc0+sXA/xOOOju6scD9ZKJR8oqhwP4O1RJRapHA/fOmx0hagcD+8tvI015twP9qWI7ibl3A/m31mWWSTcD8jzOIVMY9wP1VExeoBi3A/VPw/1daGcD8yUorSr4JwP8Pf4N+MfnA/km6F+m16cD8H7L4fU3ZwP59d2Uw8cnA/YdUlfylucD9fZvqzGmpwP20ZsugPZnA/6+GsGglicD/Ekk9HBl5wP3zTA2wHWnA/ahU4hgxWcD8UiV+TFVJwP6QT8pAiTnA/gURsfDNKcD8MS09TSEZwP3zsIBNhQnA/xXlruX0+cD+7xb1DnjpwPzwbq6/CNnA/iTPL+uoycD+pLLoiFy9wP/t/GCVHK3A/1PiK/3oncD9Kq7qvsiNwPwXrVDPuH3A/QkILiC0ccD/eaJOrcBhwP4c7p5u3FHA/AbMEVgIRcD+F223YUA1wPz/MqCCjCXA/2p5/LPkFcD8yZ8D5UgJwPyJWegxh/W8/GrSXnyP2bz/0ioyo7e5vP+wwFCO/528/CKDxCpjgbz+WZu9beNlvP7qX3xFg0m8/NLybKE/Lbz92wwScRcRvP4r0AmhDvW8/ft+FiEi2bz/QToT5VK9vPwg5/LZoqG8/erLyvIOhbz8033MHpppvPxLlkpLPk28/9t1pWgCNbz8uyhlbOIZvP/qCypB3f28/OK2q9714bz82rO+LC3JvP6yU1Ulga28/2B+fLbxkbz+4npUzH15vP3LtCFiJV28/1mZPl/pQbz8G2MXtckpvP0J0z1fyQ28/1MjV0Xg9bz8WsUhYBjdvP6hKnueaMG8/tulSfDYqbz9kDekS2SNvP3RU6aeCHW8/ynHiNzMXbz9QIWm/6hBvP9wcGDupCm8/NBGQp24Ebz80k3cBO/5uPxIVe0UO+G4/uttMcOjxbj9Q9KR+yetuP7wpQW2x5W4/avrkOKDfbj8SjlneldluP6qrbVqS024/YK/1qZXNbj/EgMvJn8duPwCJzrawwW4/KKnjbci7bj+uMPXr5rVuP+TT8i0MsG4/oqLRMDiqbj/4/ovxaqRuPwSUIW2knm4/3kyXoOSYbj+SS/eIK5NuPzrgUCN5jW4/RoC4bM2Hbj+WvUdiKIJuPwQ+HQGKfG4/urJcRvJ2bj/Uzy4vYXFuP/JDwbjWa24/9q9G4FJmbj/Onvai1WBuP1p9Df5eW24/WpLM7u5Vbj+E9nlyhVBuP5yMYIYiS24/rvnPJ8ZFbj9WnRxUcEBuPxaKnwghO24/1H22Qtg1bj9K2sP/lTBuP7KdLj1aK24/Ylti+CQmbj+QNM8u9iBuPxjR6d3NG24/algrA6wWbj92ahGckBFuP7QYHqZ7DG4/ON/XHm0Hbj/snckDZQJuP7SRglJj/W0/xE2WCGj4bT8AtZwjc/NtP2jzMaGE7m0/lnf2fpzpbT9M7I66uuRtPxoypFHf320/AFnjQQrbbT8+mv2IO9ZtPxpSqCRz0W0/xPmcErHMbT88IZlQ9cdtP15pXtw/w20/3n2ys5C+bT96D1/U57ltPwzOMTxFtW0/3mL86KiwbT/YapTYEqxtP+5w0wiDp20/eOiWd/mibT+oJ8Aidp5tPwpiNAj5mW0/GqPcJYKVbT/WyKV5EZFtP25+gAGnjG0/Ajdhu0KIbT9aKECl5INtP8JFGb2Mf20/4jrsADt7bT+wZrxu73ZtP2zWkASqcm0/mEB0wGpubT8WAHWgMWptP0YPpaL+ZW0/KAMaxdFhbT+cBu0Fq11tP6LVOmOKWW0/qLgj229VbT/gf8trW1FtP7J+WRNNTW0/Jof4z0RJbT9e5dafQkVtPyhbJoFGQW0/jhscclA9bT90xvBwYDltPz5k4Ht2NW0/kmEqkZIxbT8MixGvtC1tPw4J3NPcKW0/klvT/QombT8UVkQrPyJtP3Ibf1p5Hm0/3BnXibkabT/oBqO3/xZtP4LbPOJLE20/EtABCJ4PbT+WWFIn9gttP74gkj5UCG0/KggoTLgEbT+eHn5OIgFtP0ygAUSS/Ww/GPIiKwj6bD/6nVUChPZsP1pPEMgF82w/ds/Meo3vbD/eAQgZG+xsP+rgQaGu6Gw/Rnr9EUjlbD9y68Bp5+FsP25eFaeM3mw/SgaHyDfbbD/UG6XM6NdsP07aAbKf1Gw/IHwyd1zRbD+eN88aH85sP+A7c5vnymw/gK2897XHbD+Ao0wuisRsPzAkxz1kwWw/GiLTJES+bD/2eBriKbtsP6bqSXQVuGw/NhwR2ga1bD/ykiIS/rFsP3axMxv7rmw/xrT88/2rbD94sTibBqlsP+CQpQ8Vpmw/Og4EUCmjbD/0sxdbQ6BsP+DYpi9jnWw/ip16zIiabD+E6V4wtJdsP8BoIlrllGw/7oiWSBySbD/kdo/6WI9sPwwc5G6bjGw/2htupOOJbD9I0QmaMYdsP1pMlk6FhGw/pE/1wN6BbD/mTQvwPX9sP5hnv9qifGw/imj7fw16bD+UxavefXdsPziav/XzdGw/WqYoxG9ybD/6S9tI8W9sP+6MzoJ4bWw/sgj8cAVrbD8s+l8SmGhsP4o1+WUwZmw/EibJas5jbD8GzNMfcmFsP466H4QbX2w/pBW2lspcbD/+j6JWf1psPxhp88I5WGw/Imu52vlVbD8W6Qedv1NsP7S89AiLUWw/okSYHVxPbD92Yg3aMk1sP+R4cT0PS2w/zmnkRvFIbD9+lIj12EZsP9LTgkjGRGw/ZHz6PrlCbD/YWhnYsUBsPw6yCxOwPmw/bjkA77M8bD86GyhrvTpsP87ytobMOGw/DsviQOE2bD+uHOSY+zRsP6LM9Y0bM2w/gipVH0ExbD/y7kFMbC9sPxw6/hOdLWw/KJLOddMrbD+u4flwDypsP0x2yQRRKGw/HP+IMJgmbD9Oi4bz5CRsP7KIEk03I2w/WMJ/PI8hbD8mXyPB7B9sP4DgVNpPHmw/6iBuh7gcbD+8UsvHJhtsP8z+ypqaGWw/LgPO/xMYbD/kkTf2khZsP6wvbX0XFWw/vLLWlKETbD+QQd47MRJsP75R8HHGEGw/xqZ7NmEPbD/wUPGIAQ5sPyasxGinDGw/3F5r1VILbD/2WF3OAwpsP7bSFFO6CGw/sksOY3YHbD/Eicj9NwZsPwqYxCL/BGw/6sWF0csDbD8MppEJngJsP3YNcMp1AWw/hhKrE1MAbD8YDM/kNf9rP5KQaj0e/ms/CHUOHQz9az9WzE2D//trP1DmvW/4+ms/5E724fb5az9QzZDZ+vhrP05jKVYE+Gs/WkxeVxP3az/c/M/cJ/ZrP3ohIeZB9Ws/Wp72cmH0az9mjveChvNrP6RCzRWx8ms/hEEjK+Hxaz86RqfCFvFrPxpACdxR8Gs/+lH7dpLvaz+a0TGT2O5rPwhHYzAk7ms/EGxITnXtaz+2K5zsy+xrP6ChGwso7Gs/oBmGqYnraz8oD53H8OprP9gsJGVd6ms/+kvhgc/paz8gdJwdR+lrP6raHzjE6Gs/WuI30Uboaz/2GrPozudrP+JAYn5c52s/xDwYku/maz8sI6ojiOZrPzo07zIm5ms/UtvAv8nlaz/SrvrJcuVrP8hvelEh5Ws/qgkgVtXkaz8gks3XjuRrP8JIZ9ZN5Gs/5JbTURLkaz9eD/tJ3ONrP2xuyL6r42s/dpkosIDjaz/ungoeW+NrPzK2Xwg742s/cD8bbyDjaz+EwzJSC+NrP/DznbH74ms/vqpWjfHiaz+G6ljl7OJrPxAl6Y/s4ms/rlD+IPHiaz88NO3sCeNrP14+yEM442s/RqCoJnzjaz+AbSqX1eNrP+DMbJdE5Gs/7jgSKsnkaz8a0EBSY+VrP5K0ohMT5ms/Dnxmctjmaz+Grz9zs+drPwpbZxuk6Gs/6q2ccKrpaz9CqyV5xuprPzLrzzv462s/+mzxvz/taz8eemkNne5rP/KaoSwQ8Gs/rpyOJpnxaz+IqbEEOPNrP+5yGdHs9Gs/YG5jlrf2az8wJb1fmPhrP5CX5TiP+ms/WrMuLpz8az8G335Mv/5rPyyZUqH4AGw/Ki2+OkgDbD9ufW8nrgVsP9zjr3YqCGw/7ChmOL0KbD8+khh9Zg1sPwgJ71UmEGw/Olm11PwSbD8Oit0L6hVsP5xQgg7uGGw/eJ1p8AgcbD/sRQfGOh9sP/LJf6SDImw/mDeroeMlbD/8LBjUWilsP8D5DlPpLGw/HuGUNo8wbD+yfW+XTDRsPyRIKI8hOGw//kEQOA48bD9IzejA2D9sPzzjxKMSQGw//lNysyFEbD+/xB/DMEhsP4A1zdI/TGw/QqZ64k5QbD8DFyjyXVRsP8WH1QFtWGw/hviCEXxcbD9IaTAhi2BsPw3a3TCaZGw/z0qLQKlobD+QuzhQuGxsP1Is5l/HcGw/E52Tb9Z0bD/VDUF/5XhsP5Z+7o70fGw/V++bngOBbD8ZYEmuEoVsP9rQ9r0hiWw/nEGkzTCNbD9dslHdP5FsPx8j/+xOlWw/4JOs/F2ZbD+iBFoMbZ1sP2N1Bxx8oWw/JOa0K4ulbD/mVmI7mqlsP6fHD0uprWw/aTi9WrixbD8qqWpqx7VsP+wZGHrWuWw/rYrFieW9bD9v+3KZ9MFsPzBsIKkDxmw/9tzNuBLKbD+3TXvIIc5sP3m+KNgw0mw/Oi/W5z/WbD/7n4P3TtpsP70QMQde3mw/foHeFm3ibD9A8osmfOZsPwFjOTaL6mw/w9PmRZrubD+ERJRVqfJsP0a1QWW49mw/BybvdMf6bD/IlpyE1v5sP4oHSpTlAm0/S3j3o/QGbT8N6aSzAwttP85ZUsMSD20/kMr/0iETbT9RO63iMBdtPxOsWvI/G20/1BwIAk8fbT+VjbURXiNtP1f+YiFtJ20/GG8QMXwrbT/e371Aiy9tP59Qa1CaM20/YcEYYKk3bT8iMsZvuDttP+Sic3/HP20/pRMhj9ZDbT9nhM6e5UdtPyj1e670S20/6mUpvgNQbT+r1tbNElRtP2xHhN0hWG0/Lrgx7TBcbT/vKN/8P2BtP7GZjAxPZG0/cgo6HF5obT80e+crbWxtP/XrlDt8cG0/t1xCS4t0bT94ze9amnhtPzk+nWqpfG0/+65KeriAbT+8H/iJx4RtP36QpZnWiG0/PwFTqeWMbT8BcgC59JBtP8bircgDlW0/iFNb2BKZbT9JxAjoIZ1tPws1tvcwoW0/zKVjB0ClbT+OFhEXT6ltP0+HviZerW0/EPhrNm2xbT/SaBlGfLVtP5PZxlWLuW0/VUp0ZZq9bT8WuyF1qcFtP9grz4S4xW0/mZx8lMfJbT9bDSqk1s1tPxx+17Pl0W0/3e6Ew/TVbT+fXzLTA9ptP2DQ3+IS3m0/IkGN8iHibT/jsToCMeZtP6Ui6BFA6m0/ZpOVIU/ubT8nBEMxXvJtP+l08EBt9m0/quWdUHz6bT9wVktgi/5tPzHH+G+aAm4/8zemf6kGbj+0qFOPuApuP3YZAZ/HDm4/N4qurtYSbj/5+lu+5RZuP7prCc70Gm4/fNy23QMfbj89TWTtEiNuP/+9Ef0hJ24/wC6/DDErbj+Bn2wcQC9uP0MQGixPM24/BIHHO143bj/G8XRLbTtuP4diIlt8P24/SdPPaotDbj8KRH16mkduP8u0KoqpS24/jSXYmbhPbj9OloWpx1NuPxAHM7nWV24/0XfgyOVbbj+T6I3Y9F9uP1hZO+gDZG4/Gsro9xJobj/bOpYHImxuP52rQxcxcG4/XhzxJkB0bj8gjZ42T3huP+H9S0ZefG4/o275VW2Abj9k36ZlfIRuPyVQVHWLiG4/58ABhZqMbj+oMa+UqZBuP2qiXKS4lG4/KxMKtMeYbj/tg7fD1pxuP670ZNPloG4/b2US4/Skbj8x1r/yA6luP/JGbQITrW4/tLcaEiKxbj91KMghMbVuPzeZdTFAuW4/+AkjQU+9bj+5etBQXsFuP3vrfWBtxW4/QVwrcHzJbj8Czdh/i81uP8M9ho+a0W4/ha4zn6nVbj9HH+GuuNluPwiQjr7H3W4/yQA8ztbhbj+Lcend5eVuP0zilu306W4/DlNE/QPubj/Pw/EME/JuP5E0nxwi9m4/UqVMLDH6bj8TFvo7QP5uP9WGp0tPAm8/lvdUW14Gbz9YaAJrbQpvPxnZr3p8Dm8/20ldiosSbz+cugqamhZvP10ruKmpGm8/H5xlubgebz/gDBPJxyJvP6J9wNjWJm8/Y+5t6OUqbz8lXxv49C5vP+rPyAcEM28/rEB2FxM3bz9tsSMnIjtvPy8i0TYxP28/8JJ+RkBDbz+yAyxWT0dvP3N02WVeS28/NeWGdW1Pbz/2VTSFfFNvP7fG4ZSLV28/eTePpJpbbz86qDy0qV9vP/wY6sO4Y28/vYmX08dnbz9/+kTj1mtvP0Br8vLlb28/AdyfAvVzbz/DTE0SBHhvP4S9+iETfG8/Ri6oMSKAbz8Hn1VBMYRvP8kPA1FAiG8/ioCwYE+Mbz9L8V1wXpBvPw1iC4BtlG8/09K4j3yYbz+UQ2afi5xvP1a0E6+aoG8/FyXBvqmkbz/ZlW7OuKhvP5oGHN7HrG8/W3fJ7dawbz8d6Hb95bRvP95YJA31uG8/oMnRHAS9bz9hOn8sE8FvPyOrLDwixW8/5BvaSzHJbz+ljIdbQM1vP2f9NGtP0W8/KG7iel7Vbz/q3o+KbdlvP6tPPZp83W8/bcDqqYvhbz8uMZi5muVvP++hRcmp6W8/sRLz2Ljtbz9yg6Dox/FvPzT0TfjW9W8/9WT7B+b5bz+71agX9f1vPz4jqxMCAXA/n9uBmwkDcD//k1gjEQVwP2BML6sYB3A/wQQGMyAJcD8ivdy6JwtwP4J1s0IvDXA/4y2KyjYPcD9E5mBSPhFwP6SeN9pFE3A/BVcOYk0VcD9mD+XpVBdwP8fHu3FcGXA/J4CS+WMbcD+IOGmBax1wP+nwPwlzH3A/SakWkXohcD+qYe0YgiNwPwsaxKCJJXA/bNKaKJEncD/MinGwmClwPy1DSDigK3A/jvsewKctcD/us/VHry9wP1FszM+2MXA/siSjV74zcD8T3XnfxTVwP3OVUGfNN3A/1E0n79Q5cD81Bv523DtwP5W+1P7jPXA/9narhus/cD9XL4IO80FwP7jnWJb6Q3A/GKAvHgJGcD95WAamCUhwP9oQ3S0RSnA/O8mztRhMcD+bgYo9IE5wP/w5YcUnUHA/XfI3TS9ScD+9qg7VNlRwPx5j5Vw+VnA/fxu85EVYcD/f05JsTVpwP0CMafRUXHA/oURAfFxecD8C/RYEZGBwP2O17YtrYnA/w23EE3NkcD8mJpubemZwP4fecSOCaHA/55ZIq4lqcD9ITx8zkWxwP6kH9rqYbnA/CsDMQqBwcD9qeKPKp3JwP8swelKvdHA/LOlQ2rZ2cD+NoSdivnhwP+1Z/unFenA/ThLVcc18cD+vyqv51H5wPw+DgoHcgHA/cDtZCeSCcD/R8y+R64RwPzGsBhnzhnA/kmTdoPqIcD/zHLQoAotwP1TVirAJjXA/tI1hOBGPcD8VRjjAGJFwP3b+Dkggk3A/17blzyeVcD83b7xXL5dwP5onk982mXA/+99pZz6bcD9cmEDvRZ1wP7xQF3dNn3A/HQnu/lShcD9+wcSGXKNwP995mw5kpXA/PzJylmuncD+g6kgec6lwPwGjH6Z6q3A/YVv2LYKtcD/CE821ia9wPyPMoz2RsXA/g4R6xZizcD/kPFFNoLVwP0X1J9Wnt3A/pq3+XK+5cD8GZtXktrtwP2cerGy+vXA/yNaC9MW/cD8pj1l8zcFwP4lHMATVw3A/6v8GjNzFcD9LuN0T5MdwP6twtJvryXA/DimLI/PLcD9v4WGr+s1wP9CZODMC0HA/MVIPuwnScD+RCuZCEdRwP/LCvMoY1nA/U3uTUiDYcD+zM2raJ9pwPxTsQGIv3HA/daQX6jbecD/VXO5xPuBwPzYVxflF4nA/l82bgU3kcD/4hXIJVeZwP1g+SZFc6HA/ufYfGWTqcD8ar/aga+xwP3tnzShz7nA/2x+ksHrwcD882Ho4gvJwP52QUcCJ9HA//UgoSJH2cD9eAf/PmPhwP7+51Veg+nA/IHKs36f8cD+DKoNnr/5wP+PiWe+2AHE/RJswd74CcT+lUwf/xQRxPwUM3obNBnE/ZsS0DtUIcT/HfIuW3ApxPyc1Yh7kDHE/iO04pusOcT/ppQ8u8xBxP0pe5rX6EnE/qha9PQIVcT8Lz5PFCRdxP2yHak0RGXE/zT9B1RgbcT8t+BddIB1xP46w7uQnH3E/72jFbC8hcT9PIZz0NiNxP7DZcnw+JXE/EZJJBEYncT9ySiCMTSlxP9IC9xNVK3E/M7vNm1wtcT+Uc6QjZC9xP/Ure6trMXE/V+RRM3MzcT+4nCi7ejVxPxlV/0KCN3E/eQ3Wyok5cT/axaxSkTtxPzt+g9qYPXE/nDZaYqA/cT/87jDqp0FxP12nB3KvQ3E/vl/e+bZFcT8fGLWBvkdxP3/QiwnGSXE/4Ihikc1LcT9BQTkZ1U1xP6H5D6HcT3E/ArLmKORRcT9jar2w61NxP8QilDjzVXE/JNtqwPpXcT+Fk0FIAlpxP+ZLGNAJXHE/RwTvVxFecT+nvMXfGGBxPwh1nGcgYnE/aS1z7ydkcT/L5Ul3L2ZxPyyeIP82aHE/jVb3hj5qcT/uDs4ORmxxP07HpJZNbnE/r397HlVwcT8QOFKmXHJxP3HwKC5kdHE/0aj/tWt2cT8yYdY9c3hxP5MZrcV6enE/89GDTYJ8cT9UilrViX5xP7VCMV2RgHE/FvsH5ZiCcT92s95soIRxP9drtfSnhnE/OCSMfK+IcT+Z3GIEt4pxP/mUOYy+jHE/Wk0QFMaOcT+7BeebzZBxPxu+vSPVknE/fHaUq9yUcT/dLmsz5JZxP0DnQbvrmHE/oJ8YQ/OacT8BWO/K+pxxP2IQxlICn3E/w8ic2gmhcT8jgXNiEaNxP4Q5SuoYpXE/5fEgciCncT9Fqvf5J6lxP6ZizoEvq3E/BxulCTetcT9o03uRPq9xP8iLUhlGsXE/KUQpoU2zcT+K/P8oVbVxP+u01rBct3E/S22tOGS5cT+sJYTAa7txPw3eWkhzvXE/bZYx0Hq/cT/OTghYgsFxPy8H39+Jw3E/j7+1Z5HFcT/wd4zvmMdxP1EwY3egyXE/sug5/6fLcT8VoRCHr81xP3VZ5w63z3E/1hG+lr7RcT83ypQextNxP5eCa6bN1XE/+DpCLtXXcT9Z8xi23NlxP7mr7z3k23E/GmTGxevdcT97HJ1N899xP9zUc9X64XE/PI1KXQLkcT+dRSHlCeZxP/7992wR6HE/X7bO9BjqcT+/bqV8IOxxPyAnfAQo7nE/gd9SjC/wcT/hlykUN/JxP0JQAJw+9HE/owjXI0b2cT8Ewa2rTfhxP2R5hDNV+nE/xTFbu1z8cT8m6jFDZP5xP4miCMtrAHI/6VrfUnMCcj9KE7baegRyP6vLjGKCBnI/C4Rj6okIcj9sPDpykQpyP830EPqYDHI/Lq3ngaAOcj+OZb4JqBByP+8dlZGvEnI/UNZrGbcUcj+xjkKhvhZyPxFHGSnGGHI/cv/vsM0acj/Tt8Y41RxyPzNwncDcHnI/lCh0SOQgcj/14ErQ6yJyP1WZIVjzJHI/tlH43/omcj8XCs9nAilyP3jCpe8JK3I/2Xp8dxEtcj85M1P/GC9yP5rrKYcgMXI//aMADygzcj9dXNeWLzVyP74Urh43N3I/H82Epj45cj+AhVsuRjtyP+E9MrZNPXI/QfYIPlU/cj+irt/FXEFyPwNntk1kQ3I/Yx+N1WtFcj/E12Ndc0dyPyWQOuV6SXI/hUgRbYJLcj/mAOj0iU1yP0e5vnyRT3I/p3GVBJlRcj8IKmyMoFNyP2niQhSoVXI/ypoZnK9Xcj8rU/Ajt1lyP4sLx6u+W3I/7MOdM8Zdcj9NfHS7zV9yP600S0PVYXI/Du0hy9xjcj9xpfhS5GVyP9Jdz9rrZ3I/MhamYvNpcj+Tznzq+mtyP/SGU3ICbnI/VT8q+glwcj+19wCCEXJyPxaw1wkZdHI/d2iukSB2cj/XIIUZKHhyPzjZW6EvenI/mZEyKTd8cj/5SQmxPn5yP1oC4DhGgHI/u7q2wE2Ccj8cc41IVYRyP3wrZNBchnI/3eM6WGSIcj8+nBHga4pyP59U6GdzjHI//wy/73qOcj9gxZV3gpByP8F9bP+JknI/ITZDh5GUcj+C7hkPmZZyP+Om8JagmHI/Rl/HHqiacj+nF56mr5xyPwfQdC63nnI/aIhLtr6gcj/JQCI+xqJyPyn5+MXNpHI/irHPTdWmcj/raabV3KhyP0sifV3kqnI/rNpT5euscj8Nkypt865yP21LAfX6sHI/zgPYfAKzcj8vvK4ECrVyP5B0hYwRt3I/8SxcFBm5cj9R5TKcILtyP7KdCSQovXI/E1bgqy+/cj9zDrczN8FyP9TGjbs+w3I/NX9kQ0bFcj+VNzvLTcdyP/bvEVNVyXI/V6jo2lzLcj+6YL9iZM1yPxsZluprz3I/e9FscnPRcj/ciUP6etNyPz1CGoKC1XI/nfrwCYrXcj/+sseRkdlyP19rnhmZ23I/vyN1oaDdcj8g3EspqN9yP4GUIrGv4XI/4kz5OLfjcj9DBdDAvuVyP6O9pkjG53I/BHZ90M3pcj9lLlRY1etyP8XmKuDc7XI/Jp8BaOTvcj+HV9jv6/FyP+cPr3fz83I/SMiF//r1cj+pgFyHAvhyPwo5Mw8K+nI/a/EJlxH8cj/LqeAeGf5yPy5it6YgAHM/jxqOLigCcz/v0mS2LwRzP1CLOz43BnM/sUMSxj4Icz8R/OhNRgpzP3K0v9VNDHM/02yWXVUOcz80JW3lXBBzP5XdQ21kEnM/9ZUa9WsUcz9WTvF8cxZzP7cGyAR7GHM/F7+ejIIacz94d3UUihxzP9kvTJyRHnM/OegiJJkgcz+aoPmroCJzP/tY0DOoJHM/XBGnu68mcz+9yX1DtyhzPx2CVMu+KnM/fjorU8Yscz/f8gHbzS5zPz+r2GLVMHM/oGOv6twycz8DHIZy5DRzP2PUXPrrNnM/xIwzgvM4cz8lRQoK+zpzP4b94JECPXM/57W3GQo/cz9Hbo6hEUFzP6gmZSkZQ3M/Cd87sSBFcz9plxI5KEdzP8pP6cAvSXM/KwjASDdLcz+LwJbQPk1zP+x4bVhGT3M/TTFE4E1Rcz+u6RpoVVNzPw+i8e9cVXM/b1rId2RXcz/QEp//a1lzPzHLdYdzW3M/kYNMD3tdcz/yOyOXgl9zP1P0+R6KYXM/s6zQppFjcz8UZacumWVzP3cdfragZ3M/2NVUPqhpcz85jivGr2tzP5lGAk63bXM/+v7Y1b5vcz9bt69dxnFzP7tvhuXNc3M/HChdbdV1cz994DP13HdzP92YCn3keXM/PlHhBOx7cz+fCbiM831zPwDCjhT7f3M/YHplnAKCcz/BMjwkCoRzPyLrEqwRhnM/g6PpMxmIcz/jW8C7IIpzP0QUl0MojHM/pcxtyy+Ocz8FhURTN5BzP2Y9G9s+knM/x/XxYkaUcz8nrsjqTZZzP4hmn3JVmHM/6x52+lyacz9M10yCZJxzP62PIwpsnnM/DUj6kXOgcz9uANEZe6JzP8+4p6GCpHM/L3F+KYqmcz+QKVWxkahzP/HhKzmZqnM/UpoCwaCscz+yUtlIqK5zPxMLsNCvsHM/dMOGWLeycz/Ve13gvrRzPzU0NGjGtnM/luwK8M24cz/3pOF31bpzP1dduP/cvHM/uBWPh+S+cz8ZzmUP7MBzP3mGPJfzwnM/2j4TH/vEcz879+mmAsdzP5yvwC4KyXM//WeXthHLcz9fIG4+Gc1zP8DYRMYgz3M/IZEbTijRcz+BSfLVL9NzP+IByV031XM/Q7qf5T7Xcz+kcnZtRtlzPwQrTfVN23M/ZeMjfVXdcz/Gm/oEXd9zPydU0Yxk4XM/hwyoFGzjcz/oxH6cc+VzP0l9VSR753M/qTUsrILpcz8K7gI0iutzP2um2buR7XM/y16wQ5nvcz8sF4fLoPFzP43PXVOo83M/7oc026/1cz9PQAtjt/dzP6/44eq++XM/ELG4csb7cz9xaY/6zf1zP9EhZoLV/3M/NNo8Ct0BdD+VkhOS5AN0P/VK6hnsBXQ/VgPBofMHdD+3u5cp+wl0Pxh0brECDHQ/eSxFOQoOdD/Z5BvBERB0Pzqd8kgZEnQ/m1XJ0CAUdD/7DaBYKBZ0P1zGduAvGHQ/vX5NaDcadD8dNyTwPhx0P37v+ndGHnQ/36fR/00gdD9AYKiHVSJ0P6EYfw9dJHQ/AdFVl2QmdD9iiSwfbCh0P8NBA6dzKnQ/I/rZLnssdD+EsrC2gi50P+Vqhz6KMHQ/RSNexpEydD+o2zROmTR0PwmUC9agNnQ/akziXag4dD/LBLnlrzp0Pyu9j223PHQ/jHVm9b4+dD/tLT19xkB0P03mEwXOQnQ/rp7qjNVEdD8PV8EU3UZ0P28PmJzkSHQ/0MduJOxKdD8xgEWs80x0P5I4HDT7TnQ/8/DyuwJRdD9TqclDClN0P7RhoMsRVXQ/FRp3UxlXdD910k3bIFl0P9aKJGMoW3Q/N0P76i9ddD+X+9FyN190P/izqPo+YXQ/WWx/gkZjdD+5JFYKTmV0Px3dLJJVZ3Q/fZUDGl1pdD/eTdqhZGt0Pz8GsSlsbXQ/n76HsXNvdD8Ad145e3F0P2EvNcGCc3Q/wecLSYp1dD8ioOLQkXd0P4NYuViZeXQ/5BCQ4KB7dD9FyWZoqH10P6WBPfCvf3Q/BjoUeLeBdD9n8ur/voN0P8eqwYfGhXQ/KGOYD86HdD+JG2+X1Yl0P+nTRR/di3Q/Sowcp+SNdD+rRPMu7I90Pwv9ybbzkXQ/bLWgPvuTdD/NbXfGApZ0Py4mTk4KmHQ/j94k1hGadD/xlvtdGZx0P1JP0uUgnnQ/swepbSigdD8TwH/1L6J0P3R4Vn03pHQ/1TAtBT+mdD826QONRqh0P5eh2hROqnQ/91mxnFWsdD9YEogkXa50P7nKXqxksHQ/GYM1NGyydD96Owy8c7R0P9vz4kN7tnQ/O6y5y4K4dD+cZJBTirp0P/0cZ9uRvHQ/XdU9Y5m+dD++jRTroMB0Px9G63KownQ/gP7B+q/EdD/htpiCt8Z0P0Fvbwq/yHQ/oidGksbKdD8D4Bwazsx0P2WY86HVznQ/xlDKKd3QdD8nCaGx5NJ0P4jBdzns1HQ/6XlOwfPWdD9JMiVJ+9h0P6rq+9AC23Q/C6PSWArddD9rW6ngEd90P8wTgGgZ4XQ/LcxW8CDjdD+NhC14KOV0P+48BAAw53Q/T/XahzfpdD+vrbEPP+t0PxBmiJdG7XQ/cR5fH07vdD/S1jWnVfF0PzOPDC9d83Q/k0fjtmT1dD/0/7k+bPd0P1W4kMZz+XQ/tXBnTnv7dD8WKT7Wgv10P3fhFF6K/3Q/2pnr5ZEBdT86UsJtmQN1P5sKmfWgBXU//MJvfagHdT9de0YFsAl1P70zHY23C3U/HuzzFL8NdT9/pMqcxg91P99coSTOEXU/QBV4rNUTdT+hzU403RV1PwGGJbzkF3U/Yj78Q+wZdT/D9tLL8xt1PySvqVP7HXU/hWeA2wIgdT/lH1djCiJ1P0bYLesRJHU/p5AEcxkmdT8HSdv6ICh1P2gBsoIoKnU/ybmICjAsdT8pcl+SNy51P4oqNho/MHU/6+IMokYydT9Om+MpTjR1P69TurFVNnU/DwyROV04dT9wxGfBZDp1P9F8PklsPHU/MTUV0XM+dT+S7etYe0B1P/OlwuCCQnU/U16ZaIpEdT+0FnDwkUZ1PxXPRniZSHU/docdAKFKdT/XP/SHqEx1Pzf4yg+wTnU/mLChl7dQdT/5aHgfv1J1P1khT6fGVHU/utklL85WdT8bkvy21Vh1P3tK0z7dWnU/3AKqxuRcdT89u4BO7F51P55zV9bzYHU//isuXvtidT9f5ATmAmV1P8Cc220KZ3U/I1Wy9RFpdT+DDYl9GWt1P+TFXwUhbXU/RX42jShvdT+lNg0VMHF1Pwbv45w3c3U/Z6e6JD91dT/IX5GsRnd1PykYaDROeXU/idA+vFV7dT/qiBVEXX11P0tB7Mtkf3U/q/nCU2yBdT8Mspnbc4N1P21qcGN7hXU/zSJH64KHdT8u2x1ziol1P4+T9PqRi3U/8EvLgpmNdT9QBKIKoY91P7G8eJKokXU/EnVPGrCTdT9zLSait5V1P9Pl/Cm/l3U/NJ7TscaZdT+XVqo5zpt1P/cOgcHVnXU/WMdXSd2fdT+5fy7R5KF1Pxo4BVnso3U/e/Db4POldT/bqLJo+6d1PzxhifACqnU/nRlgeAqsdT/90TYAEq51P16KDYgZsHU/v0LkDyGydT8f+7qXKLR1P4CzkR8wtnU/4Wtopze4dT9BJD8vP7p1P6LcFbdGvHU/A5XsPk6+dT9kTcPGVcB1P8UFmk5dwnU/Jb5w1mTEdT+GdkdebMZ1P+cuHuZzyHU/R+f0bXvKdT+on8v1gsx1PwtYon2KznU/bBB5BZLQdT/NyE+NmdJ1Py2BJhWh1HU/jjn9nKjWdT/v8dMksNh1P0+qqqy32nU/sGKBNL/cdT8RG1i8xt51P3HTLkTO4HU/0osFzNXidT8zRNxT3eR1P5P8stvk5nU/9LSJY+zodT9VbWDr8+p1P7YlN3P77HU/F94N+wLvdT93luSCCvF1P9hOuwoS83U/OQeSkhn1dT+Zv2gaIfd1P/p3P6Io+XU/WzAWKjD7dT+76OyxN/11Pxyhwzk//3U/fVmawUYBdj/gEXFJTgN2P0HKR9FVBXY/oYIeWV0Hdj8CO/XgZAl2P2Pzy2hsC3Y/w6ui8HMNdj8kZHl4ew92P4UcUACDEXY/5dQmiIoTdj9Gjf0PkhV2P6dF1JeZF3Y/CP6qH6EZdj9ptoGnqBt2P8luWC+wHXY/Kicvt7cfdj+L3wU/vyF2P+uX3MbGI3Y/TFCzTs4ldj+tCIrW1Sd2Pw3BYF7dKXY/bnk35uQrdj/PMQ5u7C12Py/q5PXzL3Y/kaK7ffsxdj/xWpIFAzR2P1QTaY0KNnY/tcs/FRI4dj8VhBadGTp2P3Y87SQhPHY/1/TDrCg+dj83rZo0MEB2P5llcbw3QnY/+R1IRD9Edj9Z1h7MRkZ2P7uO9VNOSHY/G0fM21VKdj98/6JjXUx2P923eetkTnY/PXBQc2xQdj+eKCf7c1J2P//g/YJ7VHY/X5nUCoNWdj/AUauSilh2PyEKghqSWnY/gcJYoplcdj/jei8qoV52P0MzBrKoYHY/pOvcObBidj8FpLPBt2R2P2Vcikm/ZnY/yBRh0cZodj8pzTdZzmp2P4mFDuHVbHY/6z3laN1udj9L9rvw5HB2P6uuknjscnY/DWdpAPR0dj9tH0CI+3Z2P87XFhADeXY/L5Dtlwp7dj+PSMQfEn12P/AAm6cZf3Y/UblxLyGBdj+xcUi3KIN2PxIqHz8whXY/c+L1xjeHdj/TmsxOP4l2PzVTo9ZGi3Y/lQt6Xk6Ndj/2w1DmVY92P1d8J25dkXY/tzT+9WSTdj8Y7dR9bJV2P3mlqwV0l3Y/2V2CjXuZdj89FlkVg5t2P53OL52KnXY//YYGJZKfdj9fP92smaF2P7/3szSho3Y/ILCKvKildj+BaGFEsKd2P+EgOMy3qXY/QtkOVL+rdj+jkeXbxq12PwNKvGPOr3Y/ZAKT69Wxdj/Fumlz3bN2PyVzQPvktXY/hysXg+y3dj/n4+0K9Ll2P0icxJL7u3Y/qVSbGgO+dj8JDXKiCsB2P2rFSCoSwnY/y30fshnEdj8rNvY5IcZ2P4zuzMEoyHY/7aajSTDKdj9NX3rRN8x2P68XUVk/znY/EdAn4UbQdj9yiP5oTtJ2P9NA1fBV1HY/M/mreF3Wdj+UsYIAZdh2P/VpWYhs2nY/VSIwEHTcdj+22gaYe952PxeT3R+D4HY/d0u0p4ridj/ZA4svkuR2Pzm8YbeZ5nY/mnQ4P6Hodj/7LA/HqOp2P1vl5U6w7HY/vJ281rfudj8dVpNev/B2P30OaubG8nY/3sZAbs70dj8/fxf21fZ2P5837n3d+HY/AfDEBeX6dj9hqJuN7Px2P8FgchX0/nY/IxlJnfsAdz+F0R8lAwN3P+aJ9qwKBXc/R0LNNBIHdz+n+qO8GQl3PwizekQhC3c/aWtRzCgNdz/JIyhUMA93Pyvc/ts3EXc/i5TVYz8Tdz/sTKzrRhV3P00Fg3NOF3c/rb1Z+1UZdz8OdjCDXRt3P28uBwtlHXc/z+bdkmwfdz8wn7QadCF3P5FXi6J7I3c/8Q9iKoMldz9TyDiyiid3P7OADzqSKXc/EznmwZkrdz918bxJoS13P9Wpk9GoL3c/NmJqWbAxdz+XGkHhtzN3P/nSF2m/NXc/Wovu8MY3dz+7Q8V4zjl3Pxv8mwDWO3c/fbRyiN09dz/dbEkQ5T93Pz4lIJjsQXc/n932H/RDdz//lc2n+0V3P2BOpC8DSHc/wQZ7twpKdz8hv1E/Ekx3P4J3KMcZTnc/4y//TiFQdz9D6NXWKFJ3P6WgrF4wVHc/BVmD5jdWdz9lEVpuP1h3P8fJMPZGWnc/J4IHfk5cdz+IOt4FVl53P+nytI1dYHc/SauLFWVidz+qY2KdbGR3PwscOSV0Znc/a9QPrXtodz/PjOY0g2p3Py9FvbyKbHc/kP2TRJJudz/xtWrMmXB3P1FuQVShcnc/siYY3Kh0dz8T3+5jsHZ3P3OXxeu3eHc/1E+cc796dz81CHP7xnx3P5XASYPOfnc/9nggC9aAdz9XMfeS3YJ3P7fpzRrlhHc/GaKkouyGdz95Wnsq9Ih3P9oSUrL7inc/O8soOgONdz+bg//BCo93P/w71kkSkXc/XfSs0RmTdz+9rINZIZV3Px5lWuEol3c/fx0xaTCZdz/f1QfxN5t3P0OO3ng/nXc/o0a1AEefdz8E/4uITqF3P2W3YhBWo3c/xW85mF2ldz8mKBAgZad3P4fg5qdsqXc/55i9L3Srdz9IUZS3e613P6kJaz+Dr3c/CcJBx4qxdz9rehhPkrN3P8sy79aZtXc/LOvFXqG3dz+No5zmqLl3P+1bc26wu3c/ThRK9re9dz+vzCB+v793Pw+F9wXHwXc/cD3Ojc7Ddz/R9aQV1sV3PzGue53dx3c/k2ZSJeXJdz/zHimt7Mt3P1TX/zT0zXc/t4/WvPvPdz8XSK1EA9J3P3gAhMwK1Hc/2bhaVBLWdz85cTHcGdh3P5opCGQh2nc/++He6yjcdz9bmrVzMN53P71SjPs34Hc/HQtjgz/idz9+wzkLR+R3P997EJNO5nc/PzTnGlbodz+g7L2iXep3PwGllCpl7Hc/YV1rsmzudz/CFUI6dPB3PyPOGMJ78nc/g4bvSYP0dz/lPsbRivZ3P0X3nFmS+Hc/pa9z4Zn6dz8HaEppofx3P2cgIfGo/nc/yNj3eLAAeD8rkc4AuAJ4P4tJpYi/BHg/7AF8EMcGeD9NulKYzgh4P61yKSDWCng/DysAqN0MeD9v49Yv5Q54P9CbrbfsEHg/MVSEP/QSeD+RDFvH+xR4P/LEMU8DF3g/U30I1woZeD+zNd9eEht4PxTuteYZHXg/daaMbiEfeD/VXmP2KCF4PzcXOn4wI3g/l88QBjgleD/3h+eNPyd4P1lAvhVHKXg/ufiUnU4reD8asWslVi14P3tpQq1dL3g/2yEZNWUxeD882u+8bDN4P52SxkR0NXg//0qdzHs3eD9hA3RUgzl4P8G7StyKO3g/InQhZJI9eD+DLPjrmT94P+PkznOhQXg/RJ2l+6hDeD+lVXyDsEV4PwUOUwu4R3g/ZsYpk79JeD/HfgAbx0t4Pyc316LOTXg/ie+tKtZPeD/pp4Sy3VF4P0lgWzrlU3g/qxgywuxVeD8L0QhK9Fd4P2yJ39H7WXg/zUG2WQNceD8t+ozhCl54P46yY2kSYHg/72o68RlieD9PIxF5IWR4P7Db5wApZng/EZS+iDBoeD90TJUQOGp4P9UEbJg/bHg/Nb1CIEdueD+WdRmoTnB4P/ct8C9Wcng/V+bGt110eD+4np0/ZXZ4PxlXdMdseHg/eQ9LT3R6eD/bxyHXe3x4PzuA+F6Dfng/mzjP5oqAeD/98KVukoJ4P12pfPaZhHg/vmFTfqGGeD8fGioGqYh4P3/SAI6wing/4IrXFbiMeD9BQ66dv454P6H7hCXHkHg/ArRbrc6SeD9jbDI11pR4P8MkCb3dlng/Jd3fROWYeD+FlbbM7Jp4P+hNjVT0nHg/SQZk3PueeD+pvjpkA6F4Pwp3EewKo3g/ay/ocxKleD/L5777Gad4Py2glYMhqXg/jVhsCymreD/tEEOTMK14P0/JGRs4r3g/r4Hwoj+xeD8QOscqR7N4P3HynbJOtXg/0ap0Ola3eD8yY0vCXbl4P5MbIkplu3g/89P40Wy9eD9UjM9ZdL94P7VEpuF7wXg/Ff18aYPDeD93tVPxisV4P9dtKnmSx3g/OCYBAZrJeD+Z3teIoct4P/mWrhCpzXg/Wk+FmLDPeD+9B1wguNF4Px3AMqi/03g/fngJMMfVeD/fMOC3ztd4Pz/ptj/W2Xg/oaGNx93beD8BWmRP5d14P2ISO9fs33g/w8oRX/TheD8jg+jm++N4P4Q7v24D5ng/5fOV9groeD9FrGx+Eup4P6ZkQwYa7Hg/Bx0ajiHueD9n1fAVKfB4P8mNx50w8ng/KUaeJTj0eD+K/nStP/Z4P+u2SzVH+Hg/S28ivU76eD+sJ/lEVvx4Pw3gz8xd/ng/bZimVGUAeT/OUH3cbAJ5PzEJVGR0BHk/kcEq7HsGeT/zeQF0gwh5P1My2PuKCnk/tOqug5IMeT8Vo4ULmg55P3VbXJOhEHk/1hMzG6kSeT83zAmjsBR5P5eE4Cq4Fnk/+Dy3sr8YeT9Z9Y06xxp5P7mtZMLOHHk/G2Y7StYeeT97HhLS3SB5P9zW6FnlInk/PY+/4ewkeT+dR5Zp9CZ5P/7/bPH7KHk/X7hDeQMreT+/cBoBCy15PyAp8YgSL3k/geHHEBoxeT/hmZ6YITN5P0JSdSApNXk/pQpMqDA3eT8GwyIwODl5P2d7+bc/O3k/xzPQP0c9eT8o7KbHTj95P4mkfU9WQXk/6VxU111DeT9KFStfZUV5P6vNAedsR3k/C4bYbnRJeT9tPq/2e0t5P832hX6DTXk/La9cBotPeT+PZzOOklF5P+8fChaaU3k/UNjgnaFVeT+xkLclqVd5PxFJjq2wWXk/cgFlNbhbeT/TuTu9v115PzNyEkXHX3k/lCrpzM5heT/14r9U1mN5P1WbltzdZXk/t1NtZOVneT8ZDETs7Gl5P3rEGnT0a3k/23zx+/tteT87NciDA3B5P5ztngsLcnk//aV1kxJ0eT9dXkwbGnZ5P78WI6MheHk/H8/5Kil6eT9/h9CyMHx5P+E/pzo4fnk/Qfh9wj+AeT+isFRKR4J5PwNpK9JOhHk/YyECWlaGeT/E2djhXYh5PyWSr2llink/hUqG8WyMeT/mAl15dI55P0e7MwF8kHk/p3MKiYOSeT8JLOEQi5R5P2nkt5iSlnk/ypyOIJqYeT8rVWWooZp5P4sNPDCpnHk/7sUSuLCeeT9Pfuk/uKB5P682wMe/onk/Ee+WT8ekeT9xp23XzqZ5P9FfRF/WqHk/Mxgb592qeT+T0PFu5ax5P/SIyPbsrnk/VUGffvSweT+1+XUG/LJ5PxayTI4DtXk/d2ojFgu3eT/XIvqdErl5Pzjb0CUau3k/mZOnrSG9eT/5S341Kb95P1sEVb0wwXk/u7wrRTjDeT8cdQLNP8V5P30t2VRHx3k/3eWv3E7JeT8+noZkVst5P59WXexdzXk//w40dGXPeT9jxwr8bNF5P8N/4YN003k/Izi4C3zVeT+F8I6Tg9d5P+WoZRuL2Xk/RmE8o5LbeT+nGRMrmt15PwfS6bKh33k/aIrAOqnheT/JQpfCsON5Pyn7bUq45Xk/irNE0r/neT/raxtax+l5P0sk8uHO63k/rdzIadbteT8NlZ/x3e95P25Ndnnl8Xk/zwVNAe3zeT8vviOJ9PV5P5B2+hD893k/8S7RmAP6eT9R56cgC/x5P7KffqgS/nk/E1hVMBoAej9zECy4IQJ6P9fIAkApBHo/N4HZxzAGej+YObBPOAh6P/nxhtc/Cno/WapdX0cMej+6YjTnTg56PxsbC29WEHo/e9Ph9l0Sej/ci7h+ZRR6Pz1EjwZtFno/nfxljnQYej//tDwWfBp6P19tE56DHHo/wCXqJYseej8h3sCtkiB6P4GWlzWaIno/4k5uvaEkej9DB0VFqSZ6P6O/G82wKHo/BHjyVLgqej9lMMncvyx6P8Xon2THLno/J6F27M4wej+HWU101jJ6P+cRJPzdNHo/Scr6g+U2ej+rgtEL7Th6Pww7qJP0Ono/bfN+G/w8ej/Nq1WjAz96Py5kLCsLQXo/jxwDsxJDej/v1Nk6GkV6P1GNsMIhR3o/sUWHSilJej8S/l3SMEt6P3O2NFo4TXo/024L4j9Pej80J+JpR1F6P5XfuPFOU3o/9ZePeVZVej9WUGYBXld6P7cIPYllWXo/F8ETEW1bej95eeqYdF16P9kxwSB8X3o/OeqXqINhej+bom4wi2N6P/taRbiSZXo/XBMcQJpnej+9y/LHoWl6Px+EyU+pa3o/gDyg17Btej/h9HZfuG96P0GtTee/cXo/o2Ukb8dzej8DHvv2znV6P2TW0X7Wd3o/xY6oBt55ej8lR3+O5Xt6P4b/VRbtfXo/57csnvR/ej9HcAMm/IF6P6go2q0DhHo/CeGwNQuGej9pmYe9Eoh6P8pRXkUaino/Kwo1zSGMej+LwgtVKY56P+164twwkHo/TTO5ZDiSej+u64/sP5R6Pw+kZnRHlno/b1w9/E6Yej/QFBSEVpp6PzHN6gtenHo/k4XBk2Weej/1PZgbbaB6P1X2bqN0ono/ta5FK3ykej8XZxyzg6Z6P3cf8zqLqHo/2NfJwpKqej85kKBKmqx6P5lId9Khrno/+gBOWqmwej9buSTisLJ6P7tx+2m4tHo/HCrS8b+2ej994qh5x7h6P92afwHPuno/P1NWida8ej+fCy0R3r56PwDEA5nlwHo/YXzaIO3Cej/BNLGo9MR6PyLthzD8xno/g6VeuAPJej/jXTVAC8t6P0QWDMgSzXo/pc7iTxrPej8Hh7nXIdF6P2k/kF8p03o/yfdm5zDVej8qsD1vONd6P4toFPc/2Xo/6yDrfkfbej9M2cEGT916P62RmI5W33o/DUpvFl7hej9uAkaeZeN6P8+6HCZt5Xo/L3PzrXTnej+RK8o1fOl6P/HjoL2D63o/Upx3RYvtej+zVE7Nku96PxMNJVWa8Xo/dMX73KHzej/VfdJkqfV6PzU2qeyw93o/lu5/dLj5ej/3plb8v/t6P1dfLYTH/Xo/uRcEDM//ej8Z0NqT1gF7P3mIsRveA3s/3UCIo+UFez89+V4r7Qd7P56xNbP0CXs//2kMO/wLez9fIuPCAw57P8DauUoLEHs/IZOQ0hISez+BS2daGhR7P+MDPuIhFns/Q7wUaikYez+kdOvxMBp7PwUtwnk4HHs/ZeWYAUAeez/GnW+JRyB7PydWRhFPIns/hw4dmVYkez/oxvMgXiZ7P0l/yqhlKHs/qTehMG0qez8L8He4dCx7P2uoTkB8Lns/y2AlyIMwez8tGfxPizJ7P43R0teSNHs/7ompX5o2ez9RQoDnoTh7P7H6Vm+pOns/ErMt97A8ez9zawR/uD57P9Mj2wbAQHs/NdyxjsdCez+VlIgWz0R7P/ZMX57WRns/VwU2Jt5Iez+3vQyu5Up7Pxh24zXtTHs/eS66vfROez/Z5pBF/FB7PzqfZ80DU3s/m1c+VQtVez/7DxXdEld7P13I62QaWXs/vYDC7CFbez8dOZl0KV17P3/xb/wwX3s/36lGhDhhez9AYh0MQGN7P6Ea9JNHZXs/AdPKG09nez9ii6GjVml7P8VDeCtea3s/JfxOs2Vtez+HtCU7bW97P+ds/MJ0cXs/SCXTSnxzez+p3anSg3V7PwmWgFqLd3s/ak5X4pJ5ez/LBi5qmnt7Pyu/BPKhfXs/jHfbeal/ez/tL7IBsYF7P03oiIm4g3s/r6BfEcCFez8PWTaZx4d7P28RDSHPiXs/0cnjqNaLez8xgrow3o17P5I6kbjlj3s/8/JnQO2Rez9Tqz7I9JN7P7RjFVD8lXs/FRzs1wOYez911MJfC5p7P9aMmecSnHs/N0Vwbxqeez+a/Ub3IaB7P/u1HX8pons/W270BjGkez+8JsuOOKZ7Px3foRZAqHs/fZd4nkeqez/eT08mT6x7Pz8IJq5Wrns/n8D8NV6wez8BedO9ZbJ7P2ExqkVttHs/wemAzXS2ez8joldVfLh7P4NaLt2Duns/5BIFZYu8ez9Fy9vskr57P6WDsnSawHs/BjyJ/KHCez9n9F+EqcR7P8esNgyxxns/KGUNlLjIez+JHeQbwMp7P+nVuqPHzHs/S46RK8/Oez+rRmiz1tB7Pw7/Pjve0ns/b7cVw+XUez/Pb+xK7dZ7PzAow9L02Hs/keCZWvzaez/xmHDiA917P1JRR2oL33s/swke8hLhez8TwvR5GuN7P3V6ywEi5Xs/1TKiiSnnez8263gRMel7P5ejT5k463s/91smIUDtez9YFP2oR+97P7nM0zBP8Xs/GYWquFbzez96PYFAXvV7P9v1V8hl93s/O64uUG35ez+dZgXYdPt7P/0e3F98/Xs/Xtey54P/ez+/j4lviwF8Px9IYPeSA3w/ggA3f5oFfD/juA0Hogd8P0Nx5I6pCXw/pCm7FrELfD8F4pGeuA18P2WaaCbAD3w/x1I/rscRfD8nCxY2zxN8P4jD7L3WFXw/6XvDRd4XfD9JNJrN5Rl8P6rscFXtG3w/C6VH3fQdfD9rXR5l/B98P8wV9ewDInw/Lc7LdAskfD+NhqL8EiZ8P+8+eYQaKHw/T/dPDCIqfD+wryaUKSx8PxFo/RsxLnw/cSDUozgwfD/S2KorQDJ8PzORgbNHNHw/k0lYO082fD/2AS/DVjh8P1e6BUteOnw/t3Lc0mU8fD8ZK7NabT58P3njieJ0QHw/2ptganxCfD87VDfyg0R8P5sMDnqLRnw//MTkAZNIfD9dfbuJmkp8P701khGiTHw/Hu5omalOfD9/pj8hsVB8P99eFqm4Unw/QRftMMBUfD+hz8O4x1Z8PwGImkDPWHw/Y0BxyNZafD/D+EdQ3lx8PySxHtjlXnw/hWn1X+1gfD/lIczn9GJ8P0baom/8ZHw/p5J59wNnfD8HS1B/C2l8P2gDJwcTa3w/y7v9jhptfD8sdNQWIm98P40sq54pcXw/7eSBJjFzfD9OnViuOHV8P69VLzZAd3w/Dw4Gvkd5fD9wxtxFT3t8P9F+s81WfXw/MTeKVV5/fD+T72DdZYF8P/OnN2Vtg3w/U2AO7XSFfD+1GOV0fId8PxXRu/yDiXw/domShIuLfD/XQWkMk418Pzf6P5Saj3w/mLIWHKKRfD/5au2jqZN8P1kjxCuxlXw/utuas7iXfD8blHE7wJl8P3tMSMPHm3w/3QQfS8+dfD8/vfXS1p98P6B1zFreoXw/AS6j4uWjfD9h5nlq7aV8P8KeUPL0p3w/I1cnevypfD+DD/4BBKx8P+XH1IkLrnw/RYCrEROwfD+lOIKZGrJ8PwfxWCEitHw/Z6kvqSm2fD/IYQYxMbh8Pyka3bg4unw/idKzQEC8fD/qiorIR758P0tDYVBPwHw/q/s32FbCfD8MtA5gXsR8P21s5edlxnw/zSS8b23IfD8v3ZL3dMp8P4+VaX98zHw/8E1AB4TOfD9RBhePi9B8P7G+7RaT0nw/EnfEnprUfD9zL5smotZ8P9Pnca6p2Hw/NKBINrHafD+VWB++uNx8P/UQ9kXA3nw/V8nMzcfgfD+3gaNVz+J8Pxc6et3W5Hw/efJQZd7mfD/Zqift5eh8Pzpj/nTt6nw/nxvV/PTsfD//06uE/O58P2GMggwE8Xw/wURZlAvzfD8i/S8cE/V8P4O1BqQa93w/423dKyL5fD9EJrSzKft8P6Xeijsx/Xw/BZdhwzj/fD9mTzhLQAF9P8cHD9NHA30/J8DlWk8FfT+JeLziVgd9P+kwk2peCX0/Selp8mULfT+roUB6bQ19PwtaFwJ1D30/bBLuiXwRfT/NysQRhBN9Py2Dm5mLFX0/jjtyIZMXfT/v80ipmhl9P0+sHzGiG30/sGT2uKkdfT8RHc1AsR99P3HVo8i4IX0/0416UMAjfT8zRlHYxyV9P5T+J2DPJ30/9bb+59YpfT9Vb9Vv3it9P7YnrPflLX0/F+CCf+0vfT93mFkH9TF9P9hQMI/8M30/OQkHFwQ2fT+Zwd2eCzh9P/t5tCYTOn0/WzKLrho8fT+76mE2Ij59Px2jOL4pQH0/fVsPRjFCfT/eE+bNOER9Pz/MvFVARn0/n4ST3UdIfT8APWplT0p9P2H1QO1WTH0/wa0XdV5OfT8iZu78ZVB9P4cexYRtUn0/6NabDHVUfT9Jj3KUfFZ9P6lHSRyEWH0/CgAgpItafT9ruPYrk1x9P8twzbOaXn0/LCmkO6JgfT+N4XrDqWJ9P+2ZUUuxZH0/T1Io07hmfT+vCv9awGh9PxDD1eLHan0/cXusas9sfT/RM4Py1m59PzLsWXrecH0/k6QwAuZyfT/zXAeK7XR9P1QV3hH1dn0/tc20mfx4fT8VhoshBHt9P3c+YqkLfX0/1/Y4MRN/fT84rw+5GoF9P5ln5kAig30/+R+9yCmFfT9a2JNQMYd9P7uQatg4iX0/G0lBYECLfT98ARjoR419P9257m9Pj30/PXLF91aRfT+eKpx/XpN9P//icgdmlX0/X5tJj22XfT/BUyAXdZl9PyEM9558m30/gsTNJoSdfT/jfKSui599P0M1ezaToX0/pO1RvpqjfT8FpihGoqV9P2Ve/82pp30/xhbWVbGpfT8nz6zduKt9P4eHg2XArX0/6T9a7cevfT9J+DB1z7F9P6qwB/3Ws30/C2nehN61fT9rIbUM5rd9P9DZi5TtuX0/MZJiHPW7fT+RSjmk/L19P/MCECwEwH0/U7vmswvCfT+0c707E8R9PxUslMMaxn0/deRqSyLIfT/WnEHTKcp9PzdVGFsxzH0/lw3v4jjOfT/4xcVqQNB9P1l+nPJH0n0/uTZzek/UfT8b70kCV9Z9P3unIIpe2H0/21/3EWbafT89GM6Zbdx9P53QpCF13n0//oh7qXzgfT9fQVIxhOJ9P7/5KLmL5H0/ILL/QJPmfT+BatbImuh9P+EirVCi6n0/QtuD2KnsfT+jk1pgse59PwNMMei48H0/ZQQIcMDyfT/FvN73x/R9PyZ1tX/P9n0/hy2MB9f4fT/n5WKP3vp9P0ieORfm/H0/qVYQn+3+fT8JD+cm9QB+P2rHva78An4/y3+UNgQFfj8rOGu+Cwd+P43wQUYTCX4/7agYzhoLfj9NYe9VIg1+P68Zxt0pD34/D9KcZTERfj9winPtOBN+P9FCSnVAFX4/Mfsg/UcXfj+Ss/eETxl+P/NrzgxXG34/UySllF4dfj+03HscZh9+PxmVUqRtIX4/ek0pLHUjfj/bBQC0fCV+Pzu+1juEJ34/nHatw4spfj/9LoRLkyt+P17nWtOaLX4/vp8xW6Ivfj8fWAjjqTF+P4AQ32qxM34/4Mi18rg1fj9BgYx6wDd+P6I5YwLIOX4/A/I5is87fj9jqhAS1z1+P8Ri55neP34/JRu+IeZBfj+F05Sp7UN+P+aLazH1RX4/R0RCufxHfj+o/BhBBEp+Pwi178gLTH4/aW3GUBNOfj/KJZ3YGlB+Pyvec2AiUn4/i5ZK6ClUfj/sTiFwMVZ+P00H+Pc4WH4/rb/Of0Bafj8OeKUHSFx+P28wfI9PXn4/0OhSF1dgfj8woSmfXmJ+P5FZACdmZH4/8hHXrm1mfj9Syq02dWh+P7OChL58an4/FDtbRoRsfj918zHOi25+P9WrCFaTcH4/NmTf3Zpyfj+XHLZlonR+P/fUjO2pdn4/WI1jdbF4fj+5RTr9uHp+Pxr+EIXAfH4/erbnDMh+fj/bbr6Uz4B+PzwnlRzXgn4/nd9rpN6Efj8CmEIs5oZ+P2JQGbTtiH4/wwjwO/WKfj8kwcbD/Ix+P4R5nUsEj34/5TF00wuRfj9G6kpbE5N+P6eiIeMalX4/B1v4aiKXfj9oE8/yKZl+P8nLpXoxm34/KYR8Ajmdfj+KPFOKQJ9+P+v0KRJIoX4/TK0Amk+jfj+sZdchV6V+Pw0erqlep34/btaEMWapfj/Ojlu5bat+Py9HMkF1rX4/kP8IyXyvfj/xt99QhLF+P1FwttiLs34/siiNYJO1fj8T4WPomrd+P3SZOnCiuX4/1FER+Km7fj81Cuh/sb1+P5bCvge5v34/9nqVj8DBfj9XM2wXyMN+P7jrQp/PxX4/GaQZJ9fHfj95XPCu3sl+P9oUxzbmy34/O82dvu3Nfj+bhXRG9c9+P/w9S8780X4/XfYhVgTUfj++rvjdC9Z+Px5nz2UT2H4/fx+m7Rrafj/g13x1Itx+P0GQU/0p3n4/oUgqhTHgfj8CAQENOeJ+P2O515RA5H4/w3GuHEjmfj8kKoWkT+h+P4XiWyxX6n4/5poytF7sfj9LUwk8Zu5+P6sL4MNt8H4/DMS2S3Xyfj9tfI3TfPR+P800ZFuE9n4/Lu0644v4fj+PpRFrk/p+P/Bd6PKa/H4/UBa/eqL+fj+xzpUCqgB/PxKHbIqxAn8/cj9DErkEfz/T9xmawAZ/PzSw8CHICH8/lWjHqc8Kfz/1IJ4x1wx/P1bZdLneDn8/t5FLQeYQfz8YSiLJ7RJ/P3gC+VD1FH8/2brP2PwWfz86c6ZgBBl/P5orfegLG38/++NTcBMdfz9cnCr4Gh9/P71UAYAiIX8/HQ3YByojfz9+xa6PMSV/P999hRc5J38/PzZcn0Apfz+g7jInSCt/PwGnCa9PLX8/Yl/gNlcvfz/CF7e+XjF/PyPQjUZmM38/hIhkzm01fz/kQDtWdTd/P0X5Ed58OX8/prHoZYQ7fz8Har/tiz1/P2cilnWTP38/yNps/ZpBfz8pk0OFokN/P4pLGg2qRX8/6gPxlLFHfz9LvMccuUl/P6x0nqTAS38/DC11LMhNfz9t5Uu0z09/P86dIjzXUX8/M1b5w95Tfz+UDtBL5lV/P/TGptPtV38/VX99W/VZfz+2N1Tj/Ft/PxbwKmsEXn8/d6gB8wtgfz/YYNh6E2J/PzkZrwIbZH8/mdGFiiJmfz/6iVwSKmh/P1tCM5oxan8/u/oJIjlsfz8cs+CpQG5/P31rtzFIcH8/3iOOuU9yfz8+3GRBV3R/P5+UO8ledn8/AE0SUWZ4fz9hBenYbXp/P8G9v2B1fH8/InaW6Hx+fz+DLm1whIB/P+PmQ/iLgn8/RJ8agJOEfz+lV/EHm4Z/PwYQyI+iiH8/ZsieF6qKfz/HgHWfsYx/Pyg5TCe5jn8/iPEir8CQfz/pqfk2yJJ/P0pi0L7PlH8/qxqnRteWfz8L033O3ph/P2yLVFbmmn8/zUMr3u2cfz8t/AFm9Z5/P4602O38oH8/72yvdQSjfz9QJYb9C6V/P7DdXIUTp38/EZYzDRupfz9yTgqVIqt/P9MG4RwqrX8/M7+3pDGvfz+Ud44sObF/P/UvZbRAs38/Veg7PEi1fz+2oBLET7d/PxdZ6UtXuX8/fBHA0167fz/dyZZbZr1/Pz2CbeNtv38/njpEa3XBfz//8hrzfMN/P1+r8XqExX8/wGPIAozHfz8hHJ+Kk8l/P4LUdRKby38/4oxMmqLNfz9DRSMiqs9/P6T9+amx0X8/BbbQMbnTfz9lbqe5wNV/P8YmfkHI138/J99Uyc/Zfz+HlytR19t/P+hPAtne3X8/SQjZYObffz+qwK/o7eF/Pwp5hnD1438/azFd+Pzlfz/M6TOABOh/PyyiCggM6n8/jVrhjxPsfz/uErgXG+5/P0/Ljp8i8H8/r4NlJyryfz8QPDyvMfR/P3H0Ejc59n8/0azpvkD4fz8yZcBGSPp/P5Mdl85P/H8/9NVtVlf+fz8qRyJvLwCAP1ujDTMzAYA/i//49jYCgD+8W+S6OgOAP+y3z34+BIA/HBS7QkIFgD9NcKYGRgaAP33MkcpJB4A/rSh9jk0IgD/ehGhSUQmAPw7hUxZVCoA/Pj0/2lgLgD9vmSqeXAyAP5/1FWJgDYA/z1EBJmQOgD8AruzpZw+APzIK2K1rEIA/Y2bDcW8RgD+Twq41cxKAP8Memvl2E4A/9HqFvXoUgD8k13CBfhWAP1QzXEWCFoA/hY9HCYYXgD+26zLNiRiAP+ZHHpGNGYA/FqQJVZEagD9GAPUYlRuAP3dc4NyYHIA/qLjLoJwdgD/YFLdkoB6APwhxoiikH4A/OM2N7KcggD9oKXmwqyGAP5mFZHSvIoA/yuFPOLMjgD/6PTv8tiSAPyqaJsC6JYA/WvYRhL4mgD+LUv1HwieAP7uu6AvGKIA/7ArUz8kpgD8cZ7+TzSqAP0zDqlfRK4A/fB+WG9UsgD+te4Hf2C2AP97XbKPcLoA/DjRYZ+AvgD8+kEMr5DCAP27sLu/nMYA/n0gas+sygD/PpAV37zOAPwAB8TrzNIA/MF3c/vY1gD9gucfC+jaAP5AVs4b+N4A/wXGeSgI5gD/yzYkOBjqAPyIqddIJO4A/UoZglg08gD+C4ktaET2AP7M+Nx4VPoA/45oi4hg/gD8U9w2mHECAP0RT+WkgQYA/dK/kLSRCgD+kC9DxJ0OAP9dnu7UrRIA/CMSmeS9FgD84IJI9M0aAP2h8fQE3R4A/mNhoxTpIgD/JNFSJPkmAP/qQP01CSoA/Ku0qEUZLgD9aSRbVSUyAP4qlAZlNTYA/ugHtXFFOgD/rXdggVU+APxy6w+RYUIA/TBavqFxRgD98cppsYFKAP6zOhTBkU4A/3Spx9GdUgD8Nh1y4a1WAPz7jR3xvVoA/bj8zQHNXgD+emx4Ed1iAP873Cch6WYA//1P1i35agD8wsOBPgluAP2AMzBOGXIA/kGi314ldgD/AxKKbjV6AP/Egjl+RX4A/IX15I5VggD9S2WTnmGGAP4I1UKucYoA/spE7b6BjgD/i7SYzpGSAPxNKEvenZYA/RKb9uqtmgD90Aul+r2eAP6Re1EKzaIA/1Lq/BrdpgD8FF6vKumqAPzVzlo6+a4A/Zs+BUsJsgD+WK20Wxm2AP8aHWNrJboA/9uNDns1vgD8nQC9i0XCAP1icGibVcYA/iPgF6thygD+4VPGt3HOAP+iw3HHgdIA/GA3INeR1gD9JabP553aAP3zFnr3rd4A/rCGKge94gD/cfXVF83mAPwzaYAn3eoA/PTZMzfp7gD9ukjeR/nyAP57uIlUCfoA/zkoOGQZ/gD/+pvncCYCAPy8D5aANgYA/X1/QZBGCgD+Qu7soFYOAP8AXp+wYhIA/8HOSsByFgD8g0H10IIaAP1EsaTgkh4A/gohU/CeIgD+y5D/AK4mAP+JAK4QvioA/Ep0WSDOLgD9D+QEMN4yAP3NV7c86jYA/pLHYkz6OgD/UDcRXQo+APwRqrxtGkIA/NMaa30mRgD9lIoajTZKAP5Z+cWdRk4A/xtpcK1WUgD/2NkjvWJWAPyaTM7NcloA/V+8ed2CXgD+HSwo7ZJiAP7in9f5nmYA/6APhwmuagD8YYMyGb5uAP0i8t0pznIA/eRijDnedgD+qdI7Sep6AP9rQeZZ+n4A/Ci1lWoKggD86iVAehqGAP2rlO+KJooA/m0Enpo2jgD/MnRJqkaSAP/z5/S2VpYA/LFbp8ZimgD9cstS1nKeAP40OwHmgqIA/vWqrPaSpgD/wxpYBqKqAPyAjgsWrq4A/UH9tia+sgD+B21hNs62AP7E3RBG3roA/4pMv1bqvgD8S8BqZvrCAP0JMBl3CsYA/cqjxIMaygD+jBN3kybOAP9RgyKjNtIA/BL2zbNG1gD80GZ8w1baAP2R1ivTYt4A/ldF1uNy4gD/FLWF84LmAP/aJTEDkuoA/JuY3BOi7gD9WQiPI67yAP4aeDozvvYA/t/r5T/O+gD/oVuUT97+APxiz0Nf6wIA/SA+8m/7BgD94a6dfAsOAP6nHkiMGxIA/2SN+5wnFgD8KgGmrDcaAPzrcVG8Rx4A/ajhAMxXIgD+alCv3GMmAP8vwFrscyoA//EwCfyDLgD8sqe1CJMyAP1wF2QYozYA/jGHEyivOgD+8va+OL8+AP+0Zm1Iz0IA/HnaGFjfRgD9O0nHaOtKAP34uXZ4+04A/ropIYkLUgD/f5jMmRtWAPw9DH+pJ1oA/QJ8Krk3XgD9w+/VxUdiAP6BX4TVV2YA/0LPM+VjagD8BELi9XNuAPzJso4Fg3IA/YsiORWTdgD+UJHoJaN6AP8SAZc1r34A/9dxQkW/ggD8mOTxVc+GAP1aVJxl34oA/hvES3XrjgD+2Tf6gfuSAP+ep6WSC5YA/FwbVKIbmgD9IYsDsieeAP3i+q7CN6IA/qBqXdJHpgD/YdoI4leqAPwnTbfyY64A/Oi9ZwJzsgD9qi0SEoO2AP5rnL0ik7oA/ykMbDKjvgD/6nwbQq/CAPyv88ZOv8YA/XFjdV7PygD+MtMgbt/OAP7wQtN+69IA/7Gyfo771gD8dyYpnwvaAP04ldivG94A/foFh78n4gD+u3UyzzfmAP945OHfR+oA/DpYjO9X7gD8/8g7/2PyAP3BO+sLc/YA/oKrlhuD+gD/QBtFK5P+APwBjvA7oAIE/Mb+n0usBgT9hG5OW7wKBP5J3flrzA4E/wtNpHvcEgT/yL1Xi+gWBPyKMQKb+BoE/U+gragIIgT+ERBcuBgmBP7SgAvIJCoE/5PzttQ0LgT8UWdl5EQyBP0W1xD0VDYE/dRGwARkOgT+mbZvFHA+BP9bJhokgEIE/CCZyTSQRgT85gl0RKBKBP2neSNUrE4E/mjo0mS8UgT/Klh9dMxWBP/ryCiE3FoE/Kk/25DoXgT9bq+GoPhiBP4wHzWxCGYE/vGO4MEYagT/sv6P0SRuBPxwcj7hNHIE/THh6fFEdgT991GVAVR6BP64wUQRZH4E/3ow8yFwggT8O6SeMYCGBPz5FE1BkIoE/b6H+E2gjgT+g/enXaySBP9BZ1ZtvJYE/ALbAX3MmgT8wEqwjdyeBP2Bul+d6KIE/kcqCq34pgT/CJm5vgiqBP/KCWTOGK4E/It9E94ksgT9SOzC7jS2BP4OXG3+RLoE/s/MGQ5UvgT/kT/IGmTCBPxSs3cqcMYE/RAjJjqAygT90ZLRSpDOBP6XAnxaoNIE/1hyL2qs1gT8GeXaerzaBPzbVYWKzN4E/ZjFNJrc4gT+XjTjqujmBP8fpI66+OoE/+EUPcsI7gT8oovo1xjyBP1j+5fnJPYE/iFrRvc0+gT+5tryB0T+BP+oSqEXVQIE/Gm+TCdlBgT9Ky37N3EKBP3onapHgQ4E/rYNVVeREgT/e30AZ6EWBPw48LN3rRoE/PpgXoe9HgT9u9AJl80iBP55Q7ij3SYE/z6zZ7PpKgT8ACcWw/kuBPzBlsHQCTYE/YMGbOAZOgT+QHYf8CU+BP8F5csANUIE/8dVdhBFRgT8iMklIFVKBP1KONAwZU4E/guof0BxUgT+yRguUIFWBP+Oi9lckVoE/FP/hGyhXgT9EW83fK1iBP3S3uKMvWYE/pBOkZzNagT/Vb48rN1uBPwXMeu86XIE/Nihmsz5dgT9mhFF3Ql6BP5bgPDtGX4E/xjwo/0lggT/3mBPDTWGBPyj1/oZRYoE/WFHqSlVjgT+IrdUOWWSBP7gJwdJcZYE/6WWslmBmgT8ZwpdaZGeBP0oegx5oaIE/enpu4mtpgT+q1lmmb2qBP9oyRWpza4E/C48wLndsgT886xvyem2BP2xHB7Z+boE/nKPyeYJvgT/M/909hnCBP/1byQGKcYE/Lbi0xY1ygT9eFKCJkXOBP45wi02VdIE/vsx2EZl1gT/uKGLVnHaBPyGFTZmgd4E/UuE4XaR4gT+CPSQhqHmBP7KZD+WreoE/4vX6qK97gT8TUuZss3yBP0Ou0TC3fYE/dAq99Lp+gT+kZqi4vn+BP9TCk3zCgIE/BB9/QMaBgT81e2oEyoKBP2bXVcjNg4E/ljNBjNGEgT/GjyxQ1YWBP/brFxTZhoE/J0gD2NyHgT9XpO6b4IiBP4gA2l/kiYE/uFzFI+iKgT/ouLDn64uBPxgVnKvvjIE/SXGHb/ONgT96zXIz946BP6opXvf6j4E/2oVJu/6QgT8K4jR/ApKBPzs+IEMGk4E/a5oLBwqUgT+c9vbKDZWBP8xS4o4RloE//K7NUhWXgT8sC7kWGZiBP11npNocmYE/jsOPniCagT++H3tiJJuBP+57ZiYonIE/HthR6iudgT9PND2uL56BP3+QKHIzn4E/sOwTNjeggT/gSP/5OqGBPxCl6r0+ooE/QAHWgUKjgT9xXcFFRqSBP6K5rAlKpYE/0hWYzU2mgT8CcoORUaeBPzLOblVVqIE/YipaGVmpgT+ThkXdXKqBP8biMKFgq4E/9j4cZWSsgT8mmwcpaK2BP1b38uxrroE/h1PesG+vgT+4r8l0c7CBP+gLtTh3sYE/GGig/HqygT9IxIvAfrOBP3kgd4SCtIE/qXxiSIa1gT/a2E0MiraBPwo1OdCNt4E/OpEklJG4gT9q7Q9YlbmBP5tJ+xuZuoE/zKXm35y7gT/8AdKjoLyBPyxevWekvYE/XLqoK6i+gT+NFpTvq7+BP71yf7OvwIE/7s5qd7PBgT8eK1Y7t8KBP06HQf+6w4E/fuMsw77EgT+vPxiHwsWBP+CbA0vGxoE/EPjuDsrHgT9AVNrSzciBP3CwxZbRyYE/oAyxWtXKgT/RaJwe2cuBPwLFh+LczIE/MiFzpuDNgT9ifV5q5M6BP5LZSS7oz4E/wzU18uvQgT/0kSC279GBPyTuC3rz0oE/VEr3PffTgT+EpuIB+9SBP7QCzsX+1YE/5V65iQLXgT8Wu6RNBtiBP0YXkBEK2YE/dnN71Q3agT+mz2aZEduBP9crUl0V3IE/B4g9IRndgT845CjlHN6BP2pAFKkg34E/mpz/bCTggT/L+OowKOGBP/tU1vQr4oE/LLHBuC/jgT9cDa18M+SBP4xpmEA35YE/vMWDBDvmgT/tIW/IPueBPx5+WoxC6IE/TtpFUEbpgT9+NjEUSuqBP66SHNhN64E/3+4HnFHsgT8PS/NfVe2BP0Cn3iNZ7oE/cAPK51zvgT+gX7WrYPCBP9C7oG9k8YE/ARiMM2jygT8ydHf3a/OBP2LQYrtv9IE/kixOf3P1gT/CiDlDd/aBP/LkJAd794E/I0EQy374gT9UnfuOgvmBP4T55lKG+oE/tFXSFor7gT/ksb3ajfyBPxUOqZ6R/YE/RmqUYpX+gT92xn8mmf+BP6Yia+qcAII/1n5WrqABgj8G20FypAKCPzc3LTaoA4I/aJMY+qsEgj+Y7wO+rwWCP8hL74GzBoI/+KfaRbcHgj8pBMYJuwiCP1lgsc2+CYI/iryckcIKgj+6GIhVxguCP+p0cxnKDII/GtFe3c0Ngj9LLUqh0Q6CP3yJNWXVD4I/rOUgKdkQgj/eQQzt3BGCPw6e97DgEoI/P/ridOQTgj9wVs446BSCP6CyufzrFYI/0A6lwO8Wgj8Aa5CE8xeCPzHHe0j3GII/YSNnDPsZgj+Sf1LQ/hqCP8LbPZQCHII/8jcpWAYdgj8ilBQcCh6CP1Pw/98NH4I/hEzroxEggj+0qNZnFSGCP+QEwisZIoI/FGGt7xwjgj9EvZizICSCP3UZhHckJYI/pnVvOygmgj/W0Vr/KyeCPwYuRsMvKII/NooxhzMpgj9n5hxLNyqCP5dCCA87K4I/yJ7z0j4sgj/4+t6WQi2CPyhXylpGLoI/WLO1Hkovgj+JD6HiTTCCP7prjKZRMYI/6sd3alUygj8aJGMuWTOCP0qATvJcNII/e9w5tmA1gj+rOCV6ZDaCP9yUED5oN4I/DPH7AWw4gj88TefFbzmCP2yp0olzOoI/nQW+TXc7gj/OYakRezyCP/69lNV+PYI/LhqAmYI+gj9edmtdhj+CP4/SViGKQII/vy5C5Y1Bgj/wii2pkUKCPyDnGG2VQ4I/UEMEMZlEgj+Cn+/0nEWCP7P72rigRoI/5FfGfKRHgj8UtLFAqEiCP0QQnQSsSYI/dGyIyK9Kgj+lyHOMs0uCP9YkX1C3TII/BoFKFLtNgj823TXYvk6CP2Y5IZzCT4I/lpUMYMZQgj/H8fcjylGCP/hN4+fNUoI/KKrOq9FTgj9YBrpv1VSCP4hipTPZVYI/ub6Q99xWgj/pGny74FeCPxp3Z3/kWII/StNSQ+hZgj96Lz4H7FqCP6qLKcvvW4I/2+cUj/Ncgj8MRABT912CPzyg6xb7XoI/bPzW2v5fgj+cWMKeAmGCP820rWIGYoI//RCZJgpjgj8ubYTqDWSCP17Jb64RZYI/jiVbchVmgj++gUY2GWeCP+/dMfocaII/IDodviBpgj9QlgiCJGqCP4Dy80Uoa4I/sE7fCSxsgj/hqsrNL22CPxEHtpEzboI/QmOhVTdvgj9yv4wZO3CCP6IbeN0+cYI/0ndjoUJygj8D1E5lRnOCPzQwOilKdII/ZIwl7U11gj+U6BCxUXaCP8RE/HRVd4I/96DnOFl4gj8o/dL8XHmCP1hZvsBgeoI/iLWphGR7gj+4EZVIaHyCP+htgAxsfYI/Gcpr0G9+gj9KJleUc3+CP3qCQlh3gII/qt4tHHuBgj/aOhngfoKCPwuXBKSCg4I/O/PvZ4aEgj9sT9srioWCP5yrxu+NhoI/zAeys5GHgj/8Y513lYiCPy3AiDuZiYI/Xhx0/5yKgj+OeF/DoIuCP77USoekjII/7jA2S6iNgj8fjSEPrI6CP0/pDNOvj4I/gEX4lrOQgj+woeNat5GCP+D9zh67koI/EFq64r6Tgj9BtqWmwpSCP3ISkWrGlYI/om58LsqWgj/SymfyzZeCPwInU7bRmII/M4M+etWZgj9j3yk+2ZqCP5Q7FQLdm4I/xJcAxuCcgj/08+uJ5J2CPyRQ103onoI/VazCEeyfgj+GCK7V76CCP7ZkmZnzoYI/5sCEXfeigj8WHXAh+6OCP0Z5W+X+pII/d9VGqQKmgj+oMTJtBqeCP9iNHTEKqII/COoI9Q2pgj84RvS4EaqCP2mi33wVq4I/nP7KQBmsgj/MWrYEHa2CP/y2ocggroI/LBONjCSvgj9db3hQKLCCP43LYxQssYI/vidP2C+ygj/ugzqcM7OCPx7gJWA3tII/TjwRJDu1gj9/mPznPraCP7D056tCt4I/4FDTb0a4gj8Qrb4zSrmCP0AJqvdNuoI/cWWVu1G7gj+hwYB/VbyCP9IdbENZvYI/AnpXB12+gj8y1kLLYL+CP2IyLo9kwII/k44ZU2jBgj/E6gQXbMKCP/RG8Npvw4I/JKPbnnPEgj9U/8Zid8WCP4VbsiZ7xoI/tbed6n7Hgj/mE4mugsiCPxZwdHKGyYI/RsxfNorKgj92KEv6jcuCP6eENr6RzII/2OAhgpXNgj8IPQ1Gmc6CPziZ+Amdz4I/aPXjzaDQgj+YUc+RpNGCP8mtulWo0oI/+gmmGazTgj8qZpHdr9SCP1rCfKGz1YI/ih5oZbfWgj+7elMpu9eCP+zWPu2+2II/HDMqscLZgj9MjxV1xtqCP3zrADnK24I/rEfs/M3cgj/do9fA0d2CPxAAw4TV3oI/QFyuSNnfgj9wuJkM3eCCP6AUhdDg4YI/0XBwlOTigj8CzVtY6OOCPzIpRxzs5II/YoUy4O/lgj+S4R2k8+aCP8M9CWj354I/85n0K/vogj8k9t/v/umCP1RSy7MC64I/hK62dwbsgj+0CqI7Cu2CP+Vmjf8N7oI/FsN4wxHvgj9GH2SHFfCCP3Z7T0sZ8YI/ptc6Dx3ygj/XMybTIPOCPweQEZck9II/OOz8Wij1gj9oSOgeLPaCP5ik0+Iv94I/yAC/pjP4gj/5XKpqN/mCPyq5lS47+oI/WhWB8j77gj+KcWy2QvyCP7rNV3pG/YI/6ilDPkr+gj8bhi4CTv+CP0ziGcZRAIM/fD4FilUBgz+smvBNWQKDP9z22xFdA4M/DVPH1WAEgz89r7KZZAWDP24Lnl1oBoM/nmeJIWwHgz/Ow3TlbwiDP/4fYKlzCYM/L3xLbXcKgz9g2DYxewuDP5A0IvV+DIM/wJANuYINgz/w7Ph8hg6DPyFJ5ECKD4M/UaXPBI4Qgz+CAbvIkRGDP7RdpoyVEoM/5LmRUJkTgz8VFn0UnRSDP0VyaNigFYM/ds5TnKQWgz+mKj9gqBeDP9aGKiSsGIM/BuMV6K8Zgz83PwGssxqDP2ib7G+3G4M/mPfXM7scgz/IU8P3vh2DP/ivrrvCHoM/KAyaf8Yfgz9ZaIVDyiCDP4rEcAfOIYM/uiBcy9Eigz/qfEeP1SODPxrZMlPZJIM/SzUeF90lgz98kQnb4CaDP6zt9J7kJ4M/3EngYugogz8Mpssm7CmDPzwCt+rvKoM/bV6irvMrgz+euo1y9yyDP84WeTb7LYM//nJk+v4ugz8uz0++AjCDP18rO4IGMYM/j4cmRgoygz/A4xEKDjODP/A//c0RNIM/IJzokRU1gz9Q+NNVGTaDP4FUvxkdN4M/srCq3SA4gz/iDJahJDmDPxJpgWUoOoM/QsVsKSw7gz9zIVjtLzyDP6N9Q7EzPYM/1NkudTc+gz8ENho5Oz+DPzSSBf0+QIM/ZO7wwEJBgz+VStyERkKDP8amx0hKQ4M/9gKzDE5Egz8mX57QUUWDP1i7iZRVRoM/iRd1WFlHgz+6c2AcXUiDP+rPS+BgSYM/Giw3pGRKgz9KiCJoaEuDP3rkDSxsTIM/q0D5729Ngz/cnOSzc06DPwz5z3d3T4M/PFW7O3tQgz9ssab/flGDP50NksOCUoM/zml9h4ZTgz/+xWhLilSDPy4iVA+OVYM/Xn4/05FWgz+O2iqXlVeDP782FluZWIM/8JIBH51Zgz8g7+zioFqDP1BL2KakW4M/gKfDaqhcgz+xA68urF2DP+FfmvKvXoM/EryFtrNfgz9CGHF6t2CDP3J0XD67YYM/otBHAr9igz/TLDPGwmODPwSJHorGZIM/NOUJTsplgz9kQfURzmaDP5Sd4NXRZ4M/xfnLmdVogz/1Vbdd2WmDPyayoiHdaoM/Vg6O5eBrgz+Ganmp5GyDP7bGZG3obYM/5yJQMexugz8Yfzv172+DP0jbJrnzcIM/eDcSffdxgz+ok/1A+3KDP9nv6AT/c4M/CUzUyAJ1gz86qL+MBnaDP2oEq1AKd4M/mmCWFA54gz/MvIHYEXmDP/0YbZwVeoM/LnVYYBl7gz9e0UMkHXyDP44tL+ggfYM/vokarCR+gz/v5QVwKH+DPx9C8TMsgIM/UJ7c9y+Bgz+A+se7M4KDP7BWs383g4M/4LKeQzuEgz8RD4oHP4WDP0JrdctChoM/csdgj0aHgz+iI0xTSoiDP9J/NxdOiYM/A9wi21GKgz8zOA6fVYuDP2SU+WJZjIM/lPDkJl2Ngz/ETNDqYI6DP/Sou65kj4M/JQWncmiQgz9WYZI2bJGDP4a9ffpvkoM/thlpvnOTgz/mdVSCd5SDPxfSP0Z7lYM/Ry4rCn+Wgz94ihbOgpeDP6jmAZKGmIM/2ELtVYqZgz8In9gZjpqDPzn7w92Rm4M/alevoZWcgz+as5plmZ2DP8oPhimdnoM/+mtx7aCfgz8ryFyxpKCDP1skSHWooYM/jIAzOayigz+83B79r6ODP+w4CsGzpIM/HJX1hLelgz9N8eBIu6aDP35NzAy/p4M/rqm30MKogz/eBaOUxqmDPw5ijljKqoM/Pr55HM6rgz9xGmXg0ayDP6J2UKTVrYM/0tI7aNmugz8CLycs3a+DPzKLEvDgsIM/Y+f9s+Sxgz+UQ+l36LKDP8Sf1Dvss4M/9Pu//++0gz8kWKvD87WDP1W0lof3toM/hhCCS/u3gz+GEIJL+7eDPw==",
          "dtype": "f8"
         },
         "yaxis": "y"
        }
       ],
       "layout": {
        "legend": {
         "tracegroupgap": 0
        },
        "margin": {
         "t": 60
        },
        "template": {
         "data": {
          "bar": [
           {
            "error_x": {
             "color": "#2a3f5f"
            },
            "error_y": {
             "color": "#2a3f5f"
            },
            "marker": {
             "line": {
              "color": "#E5ECF6",
              "width": 0.5
             },
             "pattern": {
              "fillmode": "overlay",
              "size": 10,
              "solidity": 0.2
             }
            },
            "type": "bar"
           }
          ],
          "barpolar": [
           {
            "marker": {
             "line": {
              "color": "#E5ECF6",
              "width": 0.5
             },
             "pattern": {
              "fillmode": "overlay",
              "size": 10,
              "solidity": 0.2
             }
            },
            "type": "barpolar"
           }
          ],
          "carpet": [
           {
            "aaxis": {
             "endlinecolor": "#2a3f5f",
             "gridcolor": "white",
             "linecolor": "white",
             "minorgridcolor": "white",
             "startlinecolor": "#2a3f5f"
            },
            "baxis": {
             "endlinecolor": "#2a3f5f",
             "gridcolor": "white",
             "linecolor": "white",
             "minorgridcolor": "white",
             "startlinecolor": "#2a3f5f"
            },
            "type": "carpet"
           }
          ],
          "choropleth": [
           {
            "colorbar": {
             "outlinewidth": 0,
             "ticks": ""
            },
            "type": "choropleth"
           }
          ],
          "contour": [
           {
            "colorbar": {
             "outlinewidth": 0,
             "ticks": ""
            },
            "colorscale": [
             [
              0,
              "#0d0887"
             ],
             [
              0.1111111111111111,
              "#46039f"
             ],
             [
              0.2222222222222222,
              "#7201a8"
             ],
             [
              0.3333333333333333,
              "#9c179e"
             ],
             [
              0.4444444444444444,
              "#bd3786"
             ],
             [
              0.5555555555555556,
              "#d8576b"
             ],
             [
              0.6666666666666666,
              "#ed7953"
             ],
             [
              0.7777777777777778,
              "#fb9f3a"
             ],
             [
              0.8888888888888888,
              "#fdca26"
             ],
             [
              1,
              "#f0f921"
             ]
            ],
            "type": "contour"
           }
          ],
          "contourcarpet": [
           {
            "colorbar": {
             "outlinewidth": 0,
             "ticks": ""
            },
            "type": "contourcarpet"
           }
          ],
          "heatmap": [
           {
            "colorbar": {
             "outlinewidth": 0,
             "ticks": ""
            },
            "colorscale": [
             [
              0,
              "#0d0887"
             ],
             [
              0.1111111111111111,
              "#46039f"
             ],
             [
              0.2222222222222222,
              "#7201a8"
             ],
             [
              0.3333333333333333,
              "#9c179e"
             ],
             [
              0.4444444444444444,
              "#bd3786"
             ],
             [
              0.5555555555555556,
              "#d8576b"
             ],
             [
              0.6666666666666666,
              "#ed7953"
             ],
             [
              0.7777777777777778,
              "#fb9f3a"
             ],
             [
              0.8888888888888888,
              "#fdca26"
             ],
             [
              1,
              "#f0f921"
             ]
            ],
            "type": "heatmap"
           }
          ],
          "histogram": [
           {
            "marker": {
             "pattern": {
              "fillmode": "overlay",
              "size": 10,
              "solidity": 0.2
             }
            },
            "type": "histogram"
           }
          ],
          "histogram2d": [
           {
            "colorbar": {
             "outlinewidth": 0,
             "ticks": ""
            },
            "colorscale": [
             [
              0,
              "#0d0887"
             ],
             [
              0.1111111111111111,
              "#46039f"
             ],
             [
              0.2222222222222222,
              "#7201a8"
             ],
             [
              0.3333333333333333,
              "#9c179e"
             ],
             [
              0.4444444444444444,
              "#bd3786"
             ],
             [
              0.5555555555555556,
              "#d8576b"
             ],
             [
              0.6666666666666666,
              "#ed7953"
             ],
             [
              0.7777777777777778,
              "#fb9f3a"
             ],
             [
              0.8888888888888888,
              "#fdca26"
             ],
             [
              1,
              "#f0f921"
             ]
            ],
            "type": "histogram2d"
           }
          ],
          "histogram2dcontour": [
           {
            "colorbar": {
             "outlinewidth": 0,
             "ticks": ""
            },
            "colorscale": [
             [
              0,
              "#0d0887"
             ],
             [
              0.1111111111111111,
              "#46039f"
             ],
             [
              0.2222222222222222,
              "#7201a8"
             ],
             [
              0.3333333333333333,
              "#9c179e"
             ],
             [
              0.4444444444444444,
              "#bd3786"
             ],
             [
              0.5555555555555556,
              "#d8576b"
             ],
             [
              0.6666666666666666,
              "#ed7953"
             ],
             [
              0.7777777777777778,
              "#fb9f3a"
             ],
             [
              0.8888888888888888,
              "#fdca26"
             ],
             [
              1,
              "#f0f921"
             ]
            ],
            "type": "histogram2dcontour"
           }
          ],
          "mesh3d": [
           {
            "colorbar": {
             "outlinewidth": 0,
             "ticks": ""
            },
            "type": "mesh3d"
           }
          ],
          "parcoords": [
           {
            "line": {
             "colorbar": {
              "outlinewidth": 0,
              "ticks": ""
             }
            },
            "type": "parcoords"
           }
          ],
          "pie": [
           {
            "automargin": true,
            "type": "pie"
           }
          ],
          "scatter": [
           {
            "fillpattern": {
             "fillmode": "overlay",
             "size": 10,
             "solidity": 0.2
            },
            "type": "scatter"
           }
          ],
          "scatter3d": [
           {
            "line": {
             "colorbar": {
              "outlinewidth": 0,
              "ticks": ""
             }
            },
            "marker": {
             "colorbar": {
              "outlinewidth": 0,
              "ticks": ""
             }
            },
            "type": "scatter3d"
           }
          ],
          "scattercarpet": [
           {
            "marker": {
             "colorbar": {
              "outlinewidth": 0,
              "ticks": ""
             }
            },
            "type": "scattercarpet"
           }
          ],
          "scattergeo": [
           {
            "marker": {
             "colorbar": {
              "outlinewidth": 0,
              "ticks": ""
             }
            },
            "type": "scattergeo"
           }
          ],
          "scattergl": [
           {
            "marker": {
             "colorbar": {
              "outlinewidth": 0,
              "ticks": ""
             }
            },
            "type": "scattergl"
           }
          ],
          "scattermap": [
           {
            "marker": {
             "colorbar": {
              "outlinewidth": 0,
              "ticks": ""
             }
            },
            "type": "scattermap"
           }
          ],
          "scattermapbox": [
           {
            "marker": {
             "colorbar": {
              "outlinewidth": 0,
              "ticks": ""
             }
            },
            "type": "scattermapbox"
           }
          ],
          "scatterpolar": [
           {
            "marker": {
             "colorbar": {
              "outlinewidth": 0,
              "ticks": ""
             }
            },
            "type": "scatterpolar"
           }
          ],
          "scatterpolargl": [
           {
            "marker": {
             "colorbar": {
              "outlinewidth": 0,
              "ticks": ""
             }
            },
            "type": "scatterpolargl"
           }
          ],
          "scatterternary": [
           {
            "marker": {
             "colorbar": {
              "outlinewidth": 0,
              "ticks": ""
             }
            },
            "type": "scatterternary"
           }
          ],
          "surface": [
           {
            "colorbar": {
             "outlinewidth": 0,
             "ticks": ""
            },
            "colorscale": [
             [
              0,
              "#0d0887"
             ],
             [
              0.1111111111111111,
              "#46039f"
             ],
             [
              0.2222222222222222,
              "#7201a8"
             ],
             [
              0.3333333333333333,
              "#9c179e"
             ],
             [
              0.4444444444444444,
              "#bd3786"
             ],
             [
              0.5555555555555556,
              "#d8576b"
             ],
             [
              0.6666666666666666,
              "#ed7953"
             ],
             [
              0.7777777777777778,
              "#fb9f3a"
             ],
             [
              0.8888888888888888,
              "#fdca26"
             ],
             [
              1,
              "#f0f921"
             ]
            ],
            "type": "surface"
           }
          ],
          "table": [
           {
            "cells": {
             "fill": {
              "color": "#EBF0F8"
             },
             "line": {
              "color": "white"
             }
            },
            "header": {
             "fill": {
              "color": "#C8D4E3"
             },
             "line": {
              "color": "white"
             }
            },
            "type": "table"
           }
          ]
         },
         "layout": {
          "annotationdefaults": {
           "arrowcolor": "#2a3f5f",
           "arrowhead": 0,
           "arrowwidth": 1
          },
          "autotypenumbers": "strict",
          "coloraxis": {
           "colorbar": {
            "outlinewidth": 0,
            "ticks": ""
           }
          },
          "colorscale": {
           "diverging": [
            [
             0,
             "#8e0152"
            ],
            [
             0.1,
             "#c51b7d"
            ],
            [
             0.2,
             "#de77ae"
            ],
            [
             0.3,
             "#f1b6da"
            ],
            [
             0.4,
             "#fde0ef"
            ],
            [
             0.5,
             "#f7f7f7"
            ],
            [
             0.6,
             "#e6f5d0"
            ],
            [
             0.7,
             "#b8e186"
            ],
            [
             0.8,
             "#7fbc41"
            ],
            [
             0.9,
             "#4d9221"
            ],
            [
             1,
             "#276419"
            ]
           ],
           "sequential": [
            [
             0,
             "#0d0887"
            ],
            [
             0.1111111111111111,
             "#46039f"
            ],
            [
             0.2222222222222222,
             "#7201a8"
            ],
            [
             0.3333333333333333,
             "#9c179e"
            ],
            [
             0.4444444444444444,
             "#bd3786"
            ],
            [
             0.5555555555555556,
             "#d8576b"
            ],
            [
             0.6666666666666666,
             "#ed7953"
            ],
            [
             0.7777777777777778,
             "#fb9f3a"
            ],
            [
             0.8888888888888888,
             "#fdca26"
            ],
            [
             1,
             "#f0f921"
            ]
           ],
           "sequentialminus": [
            [
             0,
             "#0d0887"
            ],
            [
             0.1111111111111111,
             "#46039f"
            ],
            [
             0.2222222222222222,
             "#7201a8"
            ],
            [
             0.3333333333333333,
             "#9c179e"
            ],
            [
             0.4444444444444444,
             "#bd3786"
            ],
            [
             0.5555555555555556,
             "#d8576b"
            ],
            [
             0.6666666666666666,
             "#ed7953"
            ],
            [
             0.7777777777777778,
             "#fb9f3a"
            ],
            [
             0.8888888888888888,
             "#fdca26"
            ],
            [
             1,
             "#f0f921"
            ]
           ]
          },
          "colorway": [
           "#636efa",
           "#EF553B",
           "#00cc96",
           "#ab63fa",
           "#FFA15A",
           "#19d3f3",
           "#FF6692",
           "#B6E880",
           "#FF97FF",
           "#FECB52"
          ],
          "font": {
           "color": "#2a3f5f"
          },
          "geo": {
           "bgcolor": "white",
           "lakecolor": "white",
           "landcolor": "#E5ECF6",
           "showlakes": true,
           "showland": true,
           "subunitcolor": "white"
          },
          "hoverlabel": {
           "align": "left"
          },
          "hovermode": "closest",
          "mapbox": {
           "style": "light"
          },
          "paper_bgcolor": "white",
          "plot_bgcolor": "#E5ECF6",
          "polar": {
           "angularaxis": {
            "gridcolor": "white",
            "linecolor": "white",
            "ticks": ""
           },
           "bgcolor": "#E5ECF6",
           "radialaxis": {
            "gridcolor": "white",
            "linecolor": "white",
            "ticks": ""
           }
          },
          "scene": {
           "xaxis": {
            "backgroundcolor": "#E5ECF6",
            "gridcolor": "white",
            "gridwidth": 2,
            "linecolor": "white",
            "showbackground": true,
            "ticks": "",
            "zerolinecolor": "white"
           },
           "yaxis": {
            "backgroundcolor": "#E5ECF6",
            "gridcolor": "white",
            "gridwidth": 2,
            "linecolor": "white",
            "showbackground": true,
            "ticks": "",
            "zerolinecolor": "white"
           },
           "zaxis": {
            "backgroundcolor": "#E5ECF6",
            "gridcolor": "white",
            "gridwidth": 2,
            "linecolor": "white",
            "showbackground": true,
            "ticks": "",
            "zerolinecolor": "white"
           }
          },
          "shapedefaults": {
           "line": {
            "color": "#2a3f5f"
           }
          },
          "ternary": {
           "aaxis": {
            "gridcolor": "white",
            "linecolor": "white",
            "ticks": ""
           },
           "baxis": {
            "gridcolor": "white",
            "linecolor": "white",
            "ticks": ""
           },
           "bgcolor": "#E5ECF6",
           "caxis": {
            "gridcolor": "white",
            "linecolor": "white",
            "ticks": ""
           }
          },
          "title": {
           "x": 0.05
          },
          "xaxis": {
           "automargin": true,
           "gridcolor": "white",
           "linecolor": "white",
           "ticks": "",
           "title": {
            "standoff": 15
           },
           "zerolinecolor": "white",
           "zerolinewidth": 2
          },
          "yaxis": {
           "automargin": true,
           "gridcolor": "white",
           "linecolor": "white",
           "ticks": "",
           "title": {
            "standoff": 15
           },
           "zerolinecolor": "white",
           "zerolinewidth": 2
          }
         }
        },
        "xaxis": {
         "anchor": "y",
         "domain": [
          0,
          1
         ],
         "title": {
          "text": "x"
         }
        },
        "yaxis": {
         "anchor": "x",
         "domain": [
          0,
          1
         ],
         "range": [
          0,
          0.01
         ],
         "title": {
          "text": "y"
         }
        }
       }
      }
     },
     "metadata": {},
     "output_type": "display_data"
    }
   ],
   "source": [
    "contour_list = example.conical_contour(0.01, 4, length_parameter=\"chamber length\", fidelity=10000)\n",
    "contour_df = pd.DataFrame(contour_list, columns=[\"x\", \"y\"])\n",
    "px.line(contour_df, x=\"x\", y=\"y\", range_y=[0,.01])"
   ]
  },
  {
   "cell_type": "code",
   "execution_count": null,
   "metadata": {},
   "outputs": [
    {
     "name": "stdout",
     "output_type": "stream",
     "text": [
      "r_t: 0.0037059193263977216, r_c: 0.007411838652795443, r_tin: 0.005558878989596582, r_nin = 0.011051239720069442\n",
      "throat_inlet: -0.0027794394947982907, nozzle_inlet: -0.005343888596477657, chamber_end: -0.010869508456512376, x_inj: -0.02086950845651238\n",
      "volume_throat_inlet: -8.379056384277666e-07, volume_nozzle_line: 2.1856153518365758e-07, volume_nozzle_inlet: 8.37549356374521e-07, volume_converging: 2.1820525313041192e-07, volume_chamber: 1.7258449894123976e-06, volume_total: 1.9440502425428095e-06\n"
     ]
    },
    {
     "data": {
      "application/vnd.plotly.v1+json": {
       "config": {
        "plotlyServerURL": "https://plot.ly"
       },
       "data": [
        {
         "hovertemplate": "x=%{x}<br>y=%{y}<extra></extra>",
         "legendgroup": "",
         "line": {
          "color": "#636efa",
          "dash": "solid"
         },
         "marker": {
          "symbol": "circle"
         },
         "mode": "lines",
         "name": "",
         "orientation": "v",
         "showlegend": false,
         "type": "scatter",
         "x": {
          "bdata": "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",
          "dtype": "f8"
         },
         "xaxis": "x",
         "y": {
          "bdata": "zCvfSeBbfj/MK99J4Ft+P8wr30ngW34/zCvfSeBbfj/MK99J4Ft+P8wr30ngW34/zCvfSeBbfj/MK99J4Ft+P8wr30ngW34/zCvfSeBbfj/MK99J4Ft+P8wr30ngW34/zCvfSeBbfj/MK99J4Ft+P8wr30ngW34/zCvfSeBbfj/MK99J4Ft+P8wr30ngW34/zCvfSeBbfj/MK99J4Ft+P8wr30ngW34/zCvfSeBbfj/MK99J4Ft+P8wr30ngW34/zCvfSeBbfj/MK99J4Ft+P8wr30ngW34/zCvfSeBbfj/MK99J4Ft+P8wr30ngW34/zCvfSeBbfj/MK99J4Ft+P8wr30ngW34/zCvfSeBbfj/MK99J4Ft+P8wr30ngW34/zCvfSeBbfj/MK99J4Ft+P8wr30ngW34/zCvfSeBbfj/MK99J4Ft+P8wr30ngW34/zCvfSeBbfj/MK99J4Ft+P8wr30ngW34/zCvfSeBbfj/MK99J4Ft+P8wr30ngW34/zCvfSeBbfj/MK99J4Ft+P8wr30ngW34/zCvfSeBbfj/MK99J4Ft+P8wr30ngW34/zCvfSeBbfj/MK99J4Ft+P8wr30ngW34/zCvfSeBbfj/MK99J4Ft+P8wr30ngW34/zCvfSeBbfj/MK99J4Ft+P8wr30ngW34/zCvfSeBbfj/MK99J4Ft+P8wr30ngW34/zCvfSeBbfj/MK99J4Ft+P8wr30ngW34/zCvfSeBbfj/MK99J4Ft+P8wr30ngW34/zCvfSeBbfj/MK99J4Ft+P8wr30ngW34/zCvfSeBbfj/MK99J4Ft+P8wr30ngW34/zCvfSeBbfj/MK99J4Ft+P8wr30ngW34/zCvfSeBbfj/MK99J4Ft+P8wr30ngW34/zCvfSeBbfj/MK99J4Ft+P8wr30ngW34/zCvfSeBbfj/MK99J4Ft+P8wr30ngW34/zCvfSeBbfj/MK99J4Ft+P8wr30ngW34/zCvfSeBbfj/MK99J4Ft+P8wr30ngW34/zCvfSeBbfj/MK99J4Ft+P8wr30ngW34/zCvfSeBbfj/MK99J4Ft+P8wr30ngW34/zCvfSeBbfj/MK99J4Ft+P8wr30ngW34/zCvfSeBbfj/MK99J4Ft+P8wr30ngW34/zCvfSeBbfj/MK99J4Ft+P8wr30ngW34/zCvfSeBbfj/MK99J4Ft+P8wr30ngW34/zCvfSeBbfj/MK99J4Ft+P8wr30ngW34/zCvfSeBbfj/MK99J4Ft+P8wr30ngW34/zCvfSeBbfj/MK99J4Ft+P8wr30ngW34/zCvfSeBbfj/MK99J4Ft+P8wr30ngW34/zCvfSeBbfj/MK99J4Ft+P8wr30ngW34/zCvfSeBbfj/MK99J4Ft+P8wr30ngW34/zCvfSeBbfj/MK99J4Ft+P8wr30ngW34/zCvfSeBbfj/MK99J4Ft+P8wr30ngW34/zCvfSeBbfj/MK99J4Ft+P8wr30ngW34/zCvfSeBbfj/MK99J4Ft+P8wr30ngW34/zCvfSeBbfj/MK99J4Ft+P8wr30ngW34/zCvfSeBbfj/MK99J4Ft+P8wr30ngW34/zCvfSeBbfj/MK99J4Ft+P8wr30ngW34/zCvfSeBbfj/MK99J4Ft+P8wr30ngW34/zCvfSeBbfj/MK99J4Ft+P8wr30ngW34/zCvfSeBbfj/MK99J4Ft+P8wr30ngW34/zCvfSeBbfj/MK99J4Ft+P8wr30ngW34/zCvfSeBbfj/MK99J4Ft+P8wr30ngW34/zCvfSeBbfj/MK99J4Ft+P8wr30ngW34/zCvfSeBbfj/MK99J4Ft+P8wr30ngW34/zCvfSeBbfj/MK99J4Ft+P8wr30ngW34/zCvfSeBbfj/MK99J4Ft+P8wr30ngW34/zCvfSeBbfj/MK99J4Ft+P8wr30ngW34/zCvfSeBbfj/MK99J4Ft+P8wr30ngW34/zCvfSeBbfj/MK99J4Ft+P8wr30ngW34/zCvfSeBbfj/MK99J4Ft+P8wr30ngW34/zCvfSeBbfj/MK99J4Ft+P8wr30ngW34/zCvfSeBbfj/MK99J4Ft+P8wr30ngW34/zCvfSeBbfj/MK99J4Ft+P8wr30ngW34/zCvfSeBbfj/MK99J4Ft+P8wr30ngW34/zCvfSeBbfj/MK99J4Ft+P8wr30ngW34/zCvfSeBbfj/MK99J4Ft+P8wr30ngW34/zCvfSeBbfj/MK99J4Ft+P8wr30ngW34/zCvfSeBbfj/MK99J4Ft+P8wr30ngW34/zCvfSeBbfj/MK99J4Ft+P8wr30ngW34/zCvfSeBbfj/MK99J4Ft+P8wr30ngW34/zCvfSeBbfj/MK99J4Ft+P8wr30ngW34/zCvfSeBbfj/MK99J4Ft+P8wr30ngW34/zCvfSeBbfj/MK99J4Ft+P8wr30ngW34/zCvfSeBbfj/MK99J4Ft+P8wr30ngW34/zCvfSeBbfj/MK99J4Ft+P8wr30ngW34/zCvfSeBbfj/MK99J4Ft+P8wr30ngW34/vnXfQ89bfj9M/NH8k1t+P7xBUDguW34/Zqk79Z1afj+e1/0x41l+P2CbiOz9WH4/UNFVIu5Xfj8sQGfQs1Z+P45uRvNOVX4/BHIEh79Tfj+QtzmHBVJ+P0jFBe8gUH4/avUOuRFOfj9+KoLf10t+P7h8ElxzSX4/kOD4J+RGfj9KxvM7KkR+P7KyRpBFQX4/xtC5HDY+fj9CfJnY+zp+PzDFtbqWN34/IuxhuQY0fj9K13PKSzB+Py6AQ+NlLH4/9Fmq+FQofj9IsAL/GCR+P5D+JuqxH34/nj9xrR8bfj+CNbo7YhZ+P6KpWId5EX4/yKQggmUMfj84n2IdJgd+P5Co6km7AX4/aIf/9yT8fT+M0GEXY/Z9P7b1Spd18H0/lEtsZlzqfT8cB+5yF+R9P9wxbqqm3X0/SpX/+QnXfT/MnChOQdB9P2wu4pJMyX0/+nmWsyvCfT9yvh+b3rp9P4oFxzNls30/JNVCZ7+rfT961rUe7aN9P95yrULum30/zGUgu8KTfT8YRG1vaot9PwL4WEblgn0/DDINJjN6fT8ezhb0U3F9PwgtZJVHaH0/0IFD7g1ffT/QEmHiplV9Py5uxVQSTH0/fJHTJ1BCfT88BEc9YDh9P+LkMXZCLn0/Iuj6svYjfT8qSlvTfBl9P26xXLbUDn0/ugJXOv4DfT8oJu48+fh8P6K8D5vF7Xw/gsXwMGPifD/+Mwva0dZ8P+pzG3ERy3w/Yt0d0CG/fD8AF0zQArN8PxBmGkq0pnw/Wuw0FTaafD8I03wIiI18PyZiBfqpgHw/IAQRv5tzfD/gNA4sXWZ8P9hblBTuWHw/cpBgS05LfD9WSFKifT18P9LuZ+p7L3w/0mS780ghfD+2aH6N5BJ8P1bl9oVOBHw/fid7qob1ez8e+W3HjOZ7P3qhOqhg13s/cMlQFwLIez8kQyDecLh7Pxa0FMWsqHs/1iCRk7WYez9MWesPi4h7P85EZ/8seHs/ygwyJptnez8gJV1H1VZ7Px4x2STbRXs/3sNwf6w0ez/2+sIWSSN7P0ryPamwEXs/mg8Z9OL/ej+yJE+z3+16P7ZmmKGm23o/LDlkeDfJej9ey9LvkbZ6P2qGrr61o3o/jEplmqKQej/oeQE3WH16PwrPIkfWaXo/dP32exxWej9CGjKFKkJ6P+7KBhEALno/ODgezJwZej8Ow49hAAV6PzR52Hoq8Hk/bEfSvxrbeT+m5qrW0MV5P76B2mNMsHk/LBEaCo2aeT/OaVlqkoR5Pwz8tCNcbnk/VEBr0+lXeT+qzdEUO0F5PzIXSoFPKnk/PM01sCYTeT8a3uo2wPt4PzATp6gb5Hg/PkaDljjMeD+2KmaPFrR4P/Km9h+1m3g/mriN0hODeD+83ycvMmp4P1YLVrsPUXg/IKRQqL83eD/1p3ntbR54P8yrojIcBXg/o6/Ld8rrdz95s/S8eNJ3P1C3HQInuXc/JbtGR9Wfdz/6vm+Mg4Z3P9HCmNExbXc/p8bBFuBTdz9+yupbjjp3P1POE6E8IXc/K9I85uoHdz8A1mUrme52P9fZjnBH1XY/rd23tfW7dj+E4eD6o6J2P1nlCUBSiXY/LukyhQBwdj8G7VvKrlZ2P9vwhA9dPXY/svStVAskdj+H+NaZuQp2P1/8/95n8XU/NAApJBbYdT8LBFJpxL51P+EHe65ypXU/uAuk8yCMdT+ND804z3J1P2IT9n19WXU/OhcfwytAdT8PG0gI2iZ1P+YecU2IDXU/uyKakjb0dD+TJsPX5Np0P2gq7ByTwXQ/QC4VYkGodD8VMj6n7450P+w1Z+yddXQ/wTmQMUxcdD+XPbl2+kJ0P25B4ruoKXQ/Q0ULAVcQdD8bSTRGBfdzP/BMXYuz3XM/x1CG0GHEcz+cVK8VEKtzP3RY2Fq+kXM/SVwBoGx4cz8gYCrlGl9zP/VjUyrJRXM/y2d8b3cscz+ia6W0JRNzP3dvzvnT+XI/T3P3PoLgcj8kdyCEMMdyP/t6ScnerXI/0X5yDo2Ucj+ogptTO3tyP32GxJjpYXI/VYrt3ZdIcj/TPre6Uy9yP1ETx5R9FnI/+9fOtSb+cT+//UNOTeZxP6Aib6DvznE/47uX/wu4cT+UCT3PoKFxP5FWW4Ksi3E/pp68mi12cT/ex1OoImFxP2auoUiKTHE/R1IjJmM4cT9Ahcj3qyRxP+WDcoBjEXE/n/F5joj+cD+4uTv7GexwP8xhrKoW2nA/CWPxin3IcD+ZJwCUTbdwP5VRQseFpnA/P/c+LyWWcD/7hkjfKoZwP+QKL/OVdnA/d4n2jmVncD9SRZHemFhwP8+inRUvSnA/Bn4nbyc8cD/Jv2wtgS5wP4UDpZk7IXA/KSPMA1YUcD87gW/CzwdwP6bX+2RQ928/IOwzbr3fbz/4Tt1y5chvPwTHDFHHsm8/PtlH8mGdbz+i0jpLtIhvPyakclu9dG8/UGMaLXxhbz+yRLzU705vP0boBXEXPW8/mtKPKvIrbz/e76czfxtvP2wAH8i9C28/ctAYLa38bj+AHt+wTO5uP34Wt6qb4G4/oEi5epnTbj86BayJRcduP1oI4Eifu24/UGEPMqawbj+ygz7HWaZuP/Zwn5K5nG4/5up2JsWTbj90oAMdfItuP4pHZxjeg24/yJeRwup8bj/yGi3NoXZuPxrJjfECcW4/RGeh8A1sbj+goOGSwmduP+7SR6ggZG4/5IdCCChhbj80lqyR2F5uP4jlxSoyXW4/+NEtwTRcbj/MK99J4FtuPw==",
          "dtype": "f8"
         },
         "yaxis": "y"
        }
       ],
       "layout": {
        "legend": {
         "tracegroupgap": 0
        },
        "margin": {
         "t": 60
        },
        "template": {
         "data": {
          "bar": [
           {
            "error_x": {
             "color": "#2a3f5f"
            },
            "error_y": {
             "color": "#2a3f5f"
            },
            "marker": {
             "line": {
              "color": "#E5ECF6",
              "width": 0.5
             },
             "pattern": {
              "fillmode": "overlay",
              "size": 10,
              "solidity": 0.2
             }
            },
            "type": "bar"
           }
          ],
          "barpolar": [
           {
            "marker": {
             "line": {
              "color": "#E5ECF6",
              "width": 0.5
             },
             "pattern": {
              "fillmode": "overlay",
              "size": 10,
              "solidity": 0.2
             }
            },
            "type": "barpolar"
           }
          ],
          "carpet": [
           {
            "aaxis": {
             "endlinecolor": "#2a3f5f",
             "gridcolor": "white",
             "linecolor": "white",
             "minorgridcolor": "white",
             "startlinecolor": "#2a3f5f"
            },
            "baxis": {
             "endlinecolor": "#2a3f5f",
             "gridcolor": "white",
             "linecolor": "white",
             "minorgridcolor": "white",
             "startlinecolor": "#2a3f5f"
            },
            "type": "carpet"
           }
          ],
          "choropleth": [
           {
            "colorbar": {
             "outlinewidth": 0,
             "ticks": ""
            },
            "type": "choropleth"
           }
          ],
          "contour": [
           {
            "colorbar": {
             "outlinewidth": 0,
             "ticks": ""
            },
            "colorscale": [
             [
              0,
              "#0d0887"
             ],
             [
              0.1111111111111111,
              "#46039f"
             ],
             [
              0.2222222222222222,
              "#7201a8"
             ],
             [
              0.3333333333333333,
              "#9c179e"
             ],
             [
              0.4444444444444444,
              "#bd3786"
             ],
             [
              0.5555555555555556,
              "#d8576b"
             ],
             [
              0.6666666666666666,
              "#ed7953"
             ],
             [
              0.7777777777777778,
              "#fb9f3a"
             ],
             [
              0.8888888888888888,
              "#fdca26"
             ],
             [
              1,
              "#f0f921"
             ]
            ],
            "type": "contour"
           }
          ],
          "contourcarpet": [
           {
            "colorbar": {
             "outlinewidth": 0,
             "ticks": ""
            },
            "type": "contourcarpet"
           }
          ],
          "heatmap": [
           {
            "colorbar": {
             "outlinewidth": 0,
             "ticks": ""
            },
            "colorscale": [
             [
              0,
              "#0d0887"
             ],
             [
              0.1111111111111111,
              "#46039f"
             ],
             [
              0.2222222222222222,
              "#7201a8"
             ],
             [
              0.3333333333333333,
              "#9c179e"
             ],
             [
              0.4444444444444444,
              "#bd3786"
             ],
             [
              0.5555555555555556,
              "#d8576b"
             ],
             [
              0.6666666666666666,
              "#ed7953"
             ],
             [
              0.7777777777777778,
              "#fb9f3a"
             ],
             [
              0.8888888888888888,
              "#fdca26"
             ],
             [
              1,
              "#f0f921"
             ]
            ],
            "type": "heatmap"
           }
          ],
          "histogram": [
           {
            "marker": {
             "pattern": {
              "fillmode": "overlay",
              "size": 10,
              "solidity": 0.2
             }
            },
            "type": "histogram"
           }
          ],
          "histogram2d": [
           {
            "colorbar": {
             "outlinewidth": 0,
             "ticks": ""
            },
            "colorscale": [
             [
              0,
              "#0d0887"
             ],
             [
              0.1111111111111111,
              "#46039f"
             ],
             [
              0.2222222222222222,
              "#7201a8"
             ],
             [
              0.3333333333333333,
              "#9c179e"
             ],
             [
              0.4444444444444444,
              "#bd3786"
             ],
             [
              0.5555555555555556,
              "#d8576b"
             ],
             [
              0.6666666666666666,
              "#ed7953"
             ],
             [
              0.7777777777777778,
              "#fb9f3a"
             ],
             [
              0.8888888888888888,
              "#fdca26"
             ],
             [
              1,
              "#f0f921"
             ]
            ],
            "type": "histogram2d"
           }
          ],
          "histogram2dcontour": [
           {
            "colorbar": {
             "outlinewidth": 0,
             "ticks": ""
            },
            "colorscale": [
             [
              0,
              "#0d0887"
             ],
             [
              0.1111111111111111,
              "#46039f"
             ],
             [
              0.2222222222222222,
              "#7201a8"
             ],
             [
              0.3333333333333333,
              "#9c179e"
             ],
             [
              0.4444444444444444,
              "#bd3786"
             ],
             [
              0.5555555555555556,
              "#d8576b"
             ],
             [
              0.6666666666666666,
              "#ed7953"
             ],
             [
              0.7777777777777778,
              "#fb9f3a"
             ],
             [
              0.8888888888888888,
              "#fdca26"
             ],
             [
              1,
              "#f0f921"
             ]
            ],
            "type": "histogram2dcontour"
           }
          ],
          "mesh3d": [
           {
            "colorbar": {
             "outlinewidth": 0,
             "ticks": ""
            },
            "type": "mesh3d"
           }
          ],
          "parcoords": [
           {
            "line": {
             "colorbar": {
              "outlinewidth": 0,
              "ticks": ""
             }
            },
            "type": "parcoords"
           }
          ],
          "pie": [
           {
            "automargin": true,
            "type": "pie"
           }
          ],
          "scatter": [
           {
            "fillpattern": {
             "fillmode": "overlay",
             "size": 10,
             "solidity": 0.2
            },
            "type": "scatter"
           }
          ],
          "scatter3d": [
           {
            "line": {
             "colorbar": {
              "outlinewidth": 0,
              "ticks": ""
             }
            },
            "marker": {
             "colorbar": {
              "outlinewidth": 0,
              "ticks": ""
             }
            },
            "type": "scatter3d"
           }
          ],
          "scattercarpet": [
           {
            "marker": {
             "colorbar": {
              "outlinewidth": 0,
              "ticks": ""
             }
            },
            "type": "scattercarpet"
           }
          ],
          "scattergeo": [
           {
            "marker": {
             "colorbar": {
              "outlinewidth": 0,
              "ticks": ""
             }
            },
            "type": "scattergeo"
           }
          ],
          "scattergl": [
           {
            "marker": {
             "colorbar": {
              "outlinewidth": 0,
              "ticks": ""
             }
            },
            "type": "scattergl"
           }
          ],
          "scattermap": [
           {
            "marker": {
             "colorbar": {
              "outlinewidth": 0,
              "ticks": ""
             }
            },
            "type": "scattermap"
           }
          ],
          "scattermapbox": [
           {
            "marker": {
             "colorbar": {
              "outlinewidth": 0,
              "ticks": ""
             }
            },
            "type": "scattermapbox"
           }
          ],
          "scatterpolar": [
           {
            "marker": {
             "colorbar": {
              "outlinewidth": 0,
              "ticks": ""
             }
            },
            "type": "scatterpolar"
           }
          ],
          "scatterpolargl": [
           {
            "marker": {
             "colorbar": {
              "outlinewidth": 0,
              "ticks": ""
             }
            },
            "type": "scatterpolargl"
           }
          ],
          "scatterternary": [
           {
            "marker": {
             "colorbar": {
              "outlinewidth": 0,
              "ticks": ""
             }
            },
            "type": "scatterternary"
           }
          ],
          "surface": [
           {
            "colorbar": {
             "outlinewidth": 0,
             "ticks": ""
            },
            "colorscale": [
             [
              0,
              "#0d0887"
             ],
             [
              0.1111111111111111,
              "#46039f"
             ],
             [
              0.2222222222222222,
              "#7201a8"
             ],
             [
              0.3333333333333333,
              "#9c179e"
             ],
             [
              0.4444444444444444,
              "#bd3786"
             ],
             [
              0.5555555555555556,
              "#d8576b"
             ],
             [
              0.6666666666666666,
              "#ed7953"
             ],
             [
              0.7777777777777778,
              "#fb9f3a"
             ],
             [
              0.8888888888888888,
              "#fdca26"
             ],
             [
              1,
              "#f0f921"
             ]
            ],
            "type": "surface"
           }
          ],
          "table": [
           {
            "cells": {
             "fill": {
              "color": "#EBF0F8"
             },
             "line": {
              "color": "white"
             }
            },
            "header": {
             "fill": {
              "color": "#C8D4E3"
             },
             "line": {
              "color": "white"
             }
            },
            "type": "table"
           }
          ]
         },
         "layout": {
          "annotationdefaults": {
           "arrowcolor": "#2a3f5f",
           "arrowhead": 0,
           "arrowwidth": 1
          },
          "autotypenumbers": "strict",
          "coloraxis": {
           "colorbar": {
            "outlinewidth": 0,
            "ticks": ""
           }
          },
          "colorscale": {
           "diverging": [
            [
             0,
             "#8e0152"
            ],
            [
             0.1,
             "#c51b7d"
            ],
            [
             0.2,
             "#de77ae"
            ],
            [
             0.3,
             "#f1b6da"
            ],
            [
             0.4,
             "#fde0ef"
            ],
            [
             0.5,
             "#f7f7f7"
            ],
            [
             0.6,
             "#e6f5d0"
            ],
            [
             0.7,
             "#b8e186"
            ],
            [
             0.8,
             "#7fbc41"
            ],
            [
             0.9,
             "#4d9221"
            ],
            [
             1,
             "#276419"
            ]
           ],
           "sequential": [
            [
             0,
             "#0d0887"
            ],
            [
             0.1111111111111111,
             "#46039f"
            ],
            [
             0.2222222222222222,
             "#7201a8"
            ],
            [
             0.3333333333333333,
             "#9c179e"
            ],
            [
             0.4444444444444444,
             "#bd3786"
            ],
            [
             0.5555555555555556,
             "#d8576b"
            ],
            [
             0.6666666666666666,
             "#ed7953"
            ],
            [
             0.7777777777777778,
             "#fb9f3a"
            ],
            [
             0.8888888888888888,
             "#fdca26"
            ],
            [
             1,
             "#f0f921"
            ]
           ],
           "sequentialminus": [
            [
             0,
             "#0d0887"
            ],
            [
             0.1111111111111111,
             "#46039f"
            ],
            [
             0.2222222222222222,
             "#7201a8"
            ],
            [
             0.3333333333333333,
             "#9c179e"
            ],
            [
             0.4444444444444444,
             "#bd3786"
            ],
            [
             0.5555555555555556,
             "#d8576b"
            ],
            [
             0.6666666666666666,
             "#ed7953"
            ],
            [
             0.7777777777777778,
             "#fb9f3a"
            ],
            [
             0.8888888888888888,
             "#fdca26"
            ],
            [
             1,
             "#f0f921"
            ]
           ]
          },
          "colorway": [
           "#636efa",
           "#EF553B",
           "#00cc96",
           "#ab63fa",
           "#FFA15A",
           "#19d3f3",
           "#FF6692",
           "#B6E880",
           "#FF97FF",
           "#FECB52"
          ],
          "font": {
           "color": "#2a3f5f"
          },
          "geo": {
           "bgcolor": "white",
           "lakecolor": "white",
           "landcolor": "#E5ECF6",
           "showlakes": true,
           "showland": true,
           "subunitcolor": "white"
          },
          "hoverlabel": {
           "align": "left"
          },
          "hovermode": "closest",
          "mapbox": {
           "style": "light"
          },
          "paper_bgcolor": "white",
          "plot_bgcolor": "#E5ECF6",
          "polar": {
           "angularaxis": {
            "gridcolor": "white",
            "linecolor": "white",
            "ticks": ""
           },
           "bgcolor": "#E5ECF6",
           "radialaxis": {
            "gridcolor": "white",
            "linecolor": "white",
            "ticks": ""
           }
          },
          "scene": {
           "xaxis": {
            "backgroundcolor": "#E5ECF6",
            "gridcolor": "white",
            "gridwidth": 2,
            "linecolor": "white",
            "showbackground": true,
            "ticks": "",
            "zerolinecolor": "white"
           },
           "yaxis": {
            "backgroundcolor": "#E5ECF6",
            "gridcolor": "white",
            "gridwidth": 2,
            "linecolor": "white",
            "showbackground": true,
            "ticks": "",
            "zerolinecolor": "white"
           },
           "zaxis": {
            "backgroundcolor": "#E5ECF6",
            "gridcolor": "white",
            "gridwidth": 2,
            "linecolor": "white",
            "showbackground": true,
            "ticks": "",
            "zerolinecolor": "white"
           }
          },
          "shapedefaults": {
           "line": {
            "color": "#2a3f5f"
           }
          },
          "ternary": {
           "aaxis": {
            "gridcolor": "white",
            "linecolor": "white",
            "ticks": ""
           },
           "baxis": {
            "gridcolor": "white",
            "linecolor": "white",
            "ticks": ""
           },
           "bgcolor": "#E5ECF6",
           "caxis": {
            "gridcolor": "white",
            "linecolor": "white",
            "ticks": ""
           }
          },
          "title": {
           "x": 0.05
          },
          "xaxis": {
           "automargin": true,
           "gridcolor": "white",
           "linecolor": "white",
           "ticks": "",
           "title": {
            "standoff": 15
           },
           "zerolinecolor": "white",
           "zerolinewidth": 2
          },
          "yaxis": {
           "automargin": true,
           "gridcolor": "white",
           "linecolor": "white",
           "ticks": "",
           "title": {
            "standoff": 15
           },
           "zerolinecolor": "white",
           "zerolinewidth": 2
          }
         }
        },
        "xaxis": {
         "anchor": "y",
         "domain": [
          0,
          1
         ],
         "title": {
          "text": "x"
         }
        },
        "yaxis": {
         "anchor": "x",
         "domain": [
          0,
          1
         ],
         "range": [
          0,
          0.01
         ],
         "title": {
          "text": "y"
         }
        }
       }
      }
     },
     "metadata": {},
     "output_type": "display_data"
    }
   ],
   "source": [
    "contour, x_dict = example._chamber_contour(0.01, 4, length_parameter=\"chamber length\")\n",
    "\n",
    "x_coords = np.linspace(x_dict[\"x_inj\"], 0, 500)\n",
    "contour_list = []\n",
    "\n",
    "for x in x_coords:\n",
    "    contour_list.append([x,contour(x)])\n",
    "\n",
    "contour_df = pd.DataFrame(contour_list, columns=[\"x\", \"y\"])\n",
    "px.line(contour_df, x=\"x\", y=\"y\", range_y=[0,.01])"
   ]
  },
  {
   "cell_type": "code",
   "execution_count": null,
   "metadata": {},
   "outputs": [],
   "source": [
    "def area(x, fcontour):\n",
    "    return np.pi * fcontour(x)**2"
   ]
  },
  {
   "cell_type": "code",
   "execution_count": null,
   "metadata": {},
   "outputs": [
    {
     "data": {
      "text/plain": [
       "(1.3646096205884657e-07, 1.5150210204023136e-21)"
      ]
     },
     "execution_count": 401,
     "metadata": {},
     "output_type": "execute_result"
    }
   ],
   "source": [
    "sp.integrate.quad(area, x_dict[\"x_tin\"], 0, contour)"
   ]
  },
  {
   "cell_type": "code",
   "execution_count": null,
   "metadata": {},
   "outputs": [
    {
     "data": {
      "text/html": [
       "<div>\n",
       "<style scoped>\n",
       "    .dataframe tbody tr th:only-of-type {\n",
       "        vertical-align: middle;\n",
       "    }\n",
       "\n",
       "    .dataframe tbody tr th {\n",
       "        vertical-align: top;\n",
       "    }\n",
       "\n",
       "    .dataframe thead th {\n",
       "        text-align: right;\n",
       "    }\n",
       "</style>\n",
       "<table border=\"1\" class=\"dataframe\">\n",
       "  <thead>\n",
       "    <tr style=\"text-align: right;\">\n",
       "      <th></th>\n",
       "      <th>pressure</th>\n",
       "      <th>temperature</th>\n",
       "      <th>density</th>\n",
       "      <th>specific volume</th>\n",
       "      <th>enthalpy</th>\n",
       "      <th>internal energy</th>\n",
       "      <th>gibbs</th>\n",
       "      <th>entropy</th>\n",
       "      <th>molar mass</th>\n",
       "      <th>c_p</th>\n",
       "      <th>...</th>\n",
       "      <th>dlnV_dlnT_P</th>\n",
       "      <th>dlnV_dlnP_T</th>\n",
       "      <th>thrust</th>\n",
       "      <th>mass flow</th>\n",
       "      <th>area</th>\n",
       "      <th>diameter</th>\n",
       "      <th>area 2</th>\n",
       "      <th>area 3</th>\n",
       "      <th>diameter 2</th>\n",
       "      <th>diameter 3</th>\n",
       "    </tr>\n",
       "  </thead>\n",
       "  <tbody>\n",
       "    <tr>\n",
       "      <th>chamber</th>\n",
       "      <td>4.136854e+06</td>\n",
       "      <td>2495.928409</td>\n",
       "      <td>3.543840</td>\n",
       "      <td>0.282180</td>\n",
       "      <td>-9.687127e+05</td>\n",
       "      <td>-2.136049e+06</td>\n",
       "      <td>-3.218453e+07</td>\n",
       "      <td>12506.695445</td>\n",
       "      <td>17.777482</td>\n",
       "      <td>2376.738384</td>\n",
       "      <td>...</td>\n",
       "      <td>1.013933</td>\n",
       "      <td>-2.001037</td>\n",
       "      <td>NaN</td>\n",
       "      <td>1.304995</td>\n",
       "      <td>inf</td>\n",
       "      <td>inf</td>\n",
       "      <td>NaN</td>\n",
       "      <td>NaN</td>\n",
       "      <td>NaN</td>\n",
       "      <td>NaN</td>\n",
       "    </tr>\n",
       "    <tr>\n",
       "      <th>throat</th>\n",
       "      <td>3.155108e+06</td>\n",
       "      <td>2363.234702</td>\n",
       "      <td>2.855967</td>\n",
       "      <td>0.350144</td>\n",
       "      <td>-1.276427e+06</td>\n",
       "      <td>-2.381169e+06</td>\n",
       "      <td>-3.083268e+07</td>\n",
       "      <td>12506.695446</td>\n",
       "      <td>17.786069</td>\n",
       "      <td>2315.661766</td>\n",
       "      <td>...</td>\n",
       "      <td>1.008978</td>\n",
       "      <td>-2.000665</td>\n",
       "      <td>NaN</td>\n",
       "      <td>1.304995</td>\n",
       "      <td>0.000582</td>\n",
       "      <td>0.006808</td>\n",
       "      <td>0.000148</td>\n",
       "      <td>0.00054</td>\n",
       "      <td>0.003431</td>\n",
       "      <td>0.006556</td>\n",
       "    </tr>\n",
       "    <tr>\n",
       "      <th>exit</th>\n",
       "      <td>5.032995e+04</td>\n",
       "      <td>997.227443</td>\n",
       "      <td>0.109030</td>\n",
       "      <td>9.171805</td>\n",
       "      <td>-4.312971e+06</td>\n",
       "      <td>-4.774588e+06</td>\n",
       "      <td>-1.678499e+07</td>\n",
       "      <td>12506.695438</td>\n",
       "      <td>17.961687</td>\n",
       "      <td>3909.784301</td>\n",
       "      <td>...</td>\n",
       "      <td>1.247324</td>\n",
       "      <td>-1.956364</td>\n",
       "      <td>3375.0</td>\n",
       "      <td>1.304995</td>\n",
       "      <td>0.004660</td>\n",
       "      <td>0.019257</td>\n",
       "      <td>NaN</td>\n",
       "      <td>NaN</td>\n",
       "      <td>NaN</td>\n",
       "      <td>NaN</td>\n",
       "    </tr>\n",
       "  </tbody>\n",
       "</table>\n",
       "<p>3 rows × 36 columns</p>\n",
       "</div>"
      ],
      "text/plain": [
       "             pressure  temperature   density  specific volume      enthalpy  \\\n",
       "chamber  4.136854e+06  2495.928409  3.543840         0.282180 -9.687127e+05   \n",
       "throat   3.155108e+06  2363.234702  2.855967         0.350144 -1.276427e+06   \n",
       "exit     5.032995e+04   997.227443  0.109030         9.171805 -4.312971e+06   \n",
       "\n",
       "         internal energy         gibbs       entropy  molar mass          c_p  \\\n",
       "chamber    -2.136049e+06 -3.218453e+07  12506.695445   17.777482  2376.738384   \n",
       "throat     -2.381169e+06 -3.083268e+07  12506.695446   17.786069  2315.661766   \n",
       "exit       -4.774588e+06 -1.678499e+07  12506.695438   17.961687  3909.784301   \n",
       "\n",
       "         ...  dlnV_dlnT_P  dlnV_dlnP_T  thrust  mass flow      area  diameter  \\\n",
       "chamber  ...     1.013933    -2.001037     NaN   1.304995       inf       inf   \n",
       "throat   ...     1.008978    -2.000665     NaN   1.304995  0.000582  0.006808   \n",
       "exit     ...     1.247324    -1.956364  3375.0   1.304995  0.004660  0.019257   \n",
       "\n",
       "           area 2   area 3  diameter 2  diameter 3  \n",
       "chamber       NaN      NaN         NaN         NaN  \n",
       "throat   0.000148  0.00054    0.003431    0.006556  \n",
       "exit          NaN      NaN         NaN         NaN  \n",
       "\n",
       "[3 rows x 36 columns]"
      ]
     },
     "execution_count": 402,
     "metadata": {},
     "output_type": "execute_result"
    }
   ],
   "source": [
    "example.size_engine(600*4.5/0.8)\n",
    "example()"
   ]
  },
  {
   "cell_type": "code",
   "execution_count": null,
   "metadata": {},
   "outputs": [
    {
     "name": "stdout",
     "output_type": "stream",
     "text": [
      "CPU times: total: 0 ns\n",
      "Wall time: 0 ns\n"
     ]
    }
   ],
   "source": [
    "%time\n",
    "lol = pd.DataFrame([example.chamber, example.throat, example.exit], index=[\"chamber\", \"throat\", \"exit\"])\n"
   ]
  },
  {
   "cell_type": "code",
   "execution_count": null,
   "metadata": {},
   "outputs": [
    {
     "name": "stdout",
     "output_type": "stream",
     "text": [
      "CPU times: total: 0 ns\n",
      "Wall time: 0 ns\n"
     ]
    }
   ],
   "source": [
    "%%time\n",
    "lol.loc[\"chamber\", 'pressure'] = 100"
   ]
  },
  {
   "cell_type": "code",
   "execution_count": null,
   "metadata": {},
   "outputs": [
    {
     "data": {
      "text/html": [
       "<div>\n",
       "<style scoped>\n",
       "    .dataframe tbody tr th:only-of-type {\n",
       "        vertical-align: middle;\n",
       "    }\n",
       "\n",
       "    .dataframe tbody tr th {\n",
       "        vertical-align: top;\n",
       "    }\n",
       "\n",
       "    .dataframe thead th {\n",
       "        text-align: right;\n",
       "    }\n",
       "</style>\n",
       "<table border=\"1\" class=\"dataframe\">\n",
       "  <thead>\n",
       "    <tr style=\"text-align: right;\">\n",
       "      <th></th>\n",
       "      <th>pressure</th>\n",
       "      <th>temperature</th>\n",
       "      <th>density</th>\n",
       "      <th>specific volume</th>\n",
       "      <th>enthalpy</th>\n",
       "      <th>internal energy</th>\n",
       "      <th>gibbs</th>\n",
       "      <th>entropy</th>\n",
       "      <th>molar mass</th>\n",
       "      <th>c_p</th>\n",
       "      <th>...</th>\n",
       "      <th>dlnV_dlnP_T</th>\n",
       "      <th>thrust</th>\n",
       "      <th>mass flow</th>\n",
       "      <th>area</th>\n",
       "      <th>diameter</th>\n",
       "      <th>area 2</th>\n",
       "      <th>area 3</th>\n",
       "      <th>diameter 2</th>\n",
       "      <th>diameter 3</th>\n",
       "      <th>example</th>\n",
       "    </tr>\n",
       "  </thead>\n",
       "  <tbody>\n",
       "    <tr>\n",
       "      <th>chamber</th>\n",
       "      <td>1.000000e+02</td>\n",
       "      <td>2495.928409</td>\n",
       "      <td>3.543840</td>\n",
       "      <td>0.282180</td>\n",
       "      <td>-9.687127e+05</td>\n",
       "      <td>-2.136049e+06</td>\n",
       "      <td>-3.218453e+07</td>\n",
       "      <td>12506.695445</td>\n",
       "      <td>17.777482</td>\n",
       "      <td>2376.738384</td>\n",
       "      <td>...</td>\n",
       "      <td>-2.001037</td>\n",
       "      <td>NaN</td>\n",
       "      <td>1.304995</td>\n",
       "      <td>inf</td>\n",
       "      <td>inf</td>\n",
       "      <td>NaN</td>\n",
       "      <td>NaN</td>\n",
       "      <td>NaN</td>\n",
       "      <td>NaN</td>\n",
       "      <td>1</td>\n",
       "    </tr>\n",
       "    <tr>\n",
       "      <th>throat</th>\n",
       "      <td>3.155108e+06</td>\n",
       "      <td>2363.234702</td>\n",
       "      <td>2.855967</td>\n",
       "      <td>0.350144</td>\n",
       "      <td>-1.276427e+06</td>\n",
       "      <td>-2.381169e+06</td>\n",
       "      <td>-3.083268e+07</td>\n",
       "      <td>12506.695446</td>\n",
       "      <td>17.786069</td>\n",
       "      <td>2315.661766</td>\n",
       "      <td>...</td>\n",
       "      <td>-2.000665</td>\n",
       "      <td>NaN</td>\n",
       "      <td>1.304995</td>\n",
       "      <td>0.000582</td>\n",
       "      <td>0.006808</td>\n",
       "      <td>0.000148</td>\n",
       "      <td>0.00054</td>\n",
       "      <td>0.003431</td>\n",
       "      <td>0.006556</td>\n",
       "      <td>1</td>\n",
       "    </tr>\n",
       "    <tr>\n",
       "      <th>exit</th>\n",
       "      <td>5.032995e+04</td>\n",
       "      <td>997.227443</td>\n",
       "      <td>0.109030</td>\n",
       "      <td>9.171805</td>\n",
       "      <td>-4.312971e+06</td>\n",
       "      <td>-4.774588e+06</td>\n",
       "      <td>-1.678499e+07</td>\n",
       "      <td>12506.695438</td>\n",
       "      <td>17.961687</td>\n",
       "      <td>3909.784301</td>\n",
       "      <td>...</td>\n",
       "      <td>-1.956364</td>\n",
       "      <td>3375.0</td>\n",
       "      <td>1.304995</td>\n",
       "      <td>0.004660</td>\n",
       "      <td>0.019257</td>\n",
       "      <td>NaN</td>\n",
       "      <td>NaN</td>\n",
       "      <td>NaN</td>\n",
       "      <td>NaN</td>\n",
       "      <td>1</td>\n",
       "    </tr>\n",
       "  </tbody>\n",
       "</table>\n",
       "<p>3 rows × 37 columns</p>\n",
       "</div>"
      ],
      "text/plain": [
       "             pressure  temperature   density  specific volume      enthalpy  \\\n",
       "chamber  1.000000e+02  2495.928409  3.543840         0.282180 -9.687127e+05   \n",
       "throat   3.155108e+06  2363.234702  2.855967         0.350144 -1.276427e+06   \n",
       "exit     5.032995e+04   997.227443  0.109030         9.171805 -4.312971e+06   \n",
       "\n",
       "         internal energy         gibbs       entropy  molar mass          c_p  \\\n",
       "chamber    -2.136049e+06 -3.218453e+07  12506.695445   17.777482  2376.738384   \n",
       "throat     -2.381169e+06 -3.083268e+07  12506.695446   17.786069  2315.661766   \n",
       "exit       -4.774588e+06 -1.678499e+07  12506.695438   17.961687  3909.784301   \n",
       "\n",
       "         ...  dlnV_dlnP_T  thrust  mass flow      area  diameter    area 2  \\\n",
       "chamber  ...    -2.001037     NaN   1.304995       inf       inf       NaN   \n",
       "throat   ...    -2.000665     NaN   1.304995  0.000582  0.006808  0.000148   \n",
       "exit     ...    -1.956364  3375.0   1.304995  0.004660  0.019257       NaN   \n",
       "\n",
       "          area 3  diameter 2  diameter 3  example  \n",
       "chamber      NaN         NaN         NaN        1  \n",
       "throat   0.00054    0.003431    0.006556        1  \n",
       "exit         NaN         NaN         NaN        1  \n",
       "\n",
       "[3 rows x 37 columns]"
      ]
     },
     "execution_count": 405,
     "metadata": {},
     "output_type": "execute_result"
    }
   ],
   "source": [
    "lol.loc[: , \"example\"] = 1\n",
    "lol"
   ]
  },
  {
   "cell_type": "code",
   "execution_count": null,
   "metadata": {},
   "outputs": [
    {
     "data": {
      "text/plain": [
       "np.float64(-0.017452406437283477)"
      ]
     },
     "execution_count": 406,
     "metadata": {},
     "output_type": "execute_result"
    }
   ],
   "source": [
    "np.cos(np.radians(91))"
   ]
  }
 ],
 "metadata": {
  "kernelspec": {
   "display_name": ".venv",
   "language": "python",
   "name": "python3"
  },
  "language_info": {
   "codemirror_mode": {
    "name": "ipython",
    "version": 3
   },
   "file_extension": ".py",
   "mimetype": "text/x-python",
   "name": "python",
   "nbconvert_exporter": "python",
   "pygments_lexer": "ipython3",
   "version": "3.9.0"
  }
 },
 "nbformat": 4,
 "nbformat_minor": 2
}
